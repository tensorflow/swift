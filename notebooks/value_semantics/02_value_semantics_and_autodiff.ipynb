{
 "cells": [
  {
   "cell_type": "markdown",
   "metadata": {},
   "source": [
    "# Differentiable Programming In Swift Intro\n",
    "\n",
    "This section gives a brief background into the vector-Jacobian product formulation for automatic differentiation, and how it works in Swift. Feel free to sim this section if you already have a good understanding of similar automatic differentiation systems, such as [JAX](https://github.com/google/jax). If you would like a lecture covering these materials, please check out the Fast.AI series (TODO: insert link).\n",
    "\n",
    "In order to understand how automatic differentiation works, we assume relatively little calculus background. The key pieces of information to know are:\n",
    "\n",
    " - The derivative of $x^2$, which is: $\\frac{d}{dx} x^2 = 2x \\frac{d}{dx}$\n",
    " - The derivative of $sin(x)$, which is: $\\frac{d}{dx} \\sin(x) = \\cos(x) \\frac{d}{dx}$\n",
    " - The derivative of $x + x$, which is $\\frac{d}{dx}(x + x) = 2\\frac{d}{dx}$.\n",
    " - The chain rule, which allows composition of differentiable functions: $$\\frac{d}{dx}\\sin(x^2) = \\cos(x^2) \\cdot 2x \\cdot \\frac{d}{dx}$$ and in its general form can be written as: $$\\frac{d}{dx}\\left[ f(g(x)) \\right] = f'(g(x))g'(x) \\frac{d}{dx}$$ where $f'$ and $g'$ correspond to the derivatives of functions $f$ and $g$ respectively with respect to their arguments."
   ]
  },
  {
   "cell_type": "markdown",
   "metadata": {},
   "source": [
    "## A trivial example\n",
    "\n",
    "S4TF's automatic differentiation system is a \"source-to-source\" system, where source code for the function to be differentiated will be transformed (by the compiler) into the source code that computes the derivative. In order to understand what's going on, we're going to start by writing everything out explicitly.\n",
    "\n",
    "As a warm up, we start with the trivial example: $x^2$. We can represent this in code as follows:\n",
    "\n",
    "> Note: recall that $\\frac{d}{dx} x^2 = 2x$"
   ]
  },
  {
   "cell_type": "code",
   "execution_count": 1,
   "metadata": {},
   "outputs": [],
   "source": [
    "func square(_ x: Float) -> Float {\n",
    "    return x * x\n",
    "}\n",
    "\n",
    "func squareDerivative(_ x: Float) -> Float {\n",
    "    return 2 * x\n",
    "}"
   ]
  },
  {
   "cell_type": "markdown",
   "metadata": {},
   "source": [
    "## Compositions of functions\n",
    "\n",
    "Simple polynomials are the easy case. Let's take the derivative of a more complicated function: $\\sin(x^2)$, whose derivative is $\\cos(x^2) \\cdot 2x$ (recall the chain rule). We can write this in code as follows:"
   ]
  },
  {
   "cell_type": "code",
   "execution_count": 2,
   "metadata": {},
   "outputs": [],
   "source": [
    "import Glibc\n",
    "\n",
    "func myFunc(_ x: Float) -> Float {\n",
    "    return sin(x * x)\n",
    "}\n",
    "func myFuncDerivative(_ x: Float) -> Float {\n",
    "    return 2 * x * cos(x * x)\n",
    "}"
   ]
  },
  {
   "cell_type": "markdown",
   "metadata": {},
   "source": [
    "## A slightly more efficient implementation\n",
    "\n",
    "Looking at the chain rule and our derivative implementation above, we notice that there's redundant computation going on. Concretely, in both `myFunc` and `myFuncDerivative`, we compute `x * x`. (From the chain rule definition, this is $g(x)$.) In the general case, `x * x` could be extremely expensive and we often want to only do this computation once.\n",
    "\n",
    "We can thus rewrite our function and its derivative as follows and use a closure to capture the intermediates:"
   ]
  },
  {
   "cell_type": "code",
   "execution_count": 3,
   "metadata": {},
   "outputs": [],
   "source": [
    "func myFuncBetter(_ x: Float) -> (value: Float, backward: () -> Float) {\n",
    "    let xSquared = x * x\n",
    "    let value = sin(xSquared)\n",
    "    let backwards = { 2 * x * cos(xSquared) }  // A closure that captures `xSquared`\n",
    "    return (value, backwards)\n",
    "}"
   ]
  },
  {
   "cell_type": "markdown",
   "metadata": {},
   "source": [
    "## Fully general derivatives\n",
    "\n",
    "We've been a bit sloppy in our mathematics, but we're getting away with it because `Float` is a scalar. But if we were to generalize to more complicated types, we have to remember the $\\frac{d}{dx}$ part of our derivatives.\n",
    "\n",
    "The following leap allows us to \"multiply\" by the $\\frac{d}{dx}$ correctly:"
   ]
  },
  {
   "cell_type": "code",
   "execution_count": 4,
   "metadata": {},
   "outputs": [],
   "source": [
    "func myFuncCorrect(_ x: Float) -> (value: Float, deriv: (Float) -> Float) {\n",
    "    let xSquared = x * x\n",
    "    let value = sin(xSquared)\n",
    "    let deriv = { (v: Float) -> Float in\n",
    "        let gradXSquared = v * cos(xSquared)\n",
    "        let gradX = gradXSquared * 2 * x\n",
    "        return gradX\n",
    "    }\n",
    "    return (value: value, deriv: deriv)\n",
    "}"
   ]
  },
  {
   "cell_type": "markdown",
   "metadata": {},
   "source": [
    "In this formulation, the `deriv` function is technically a [\"pullback\" from differential geometry](https://en.wikipedia.org/wiki/Pullback_(differential_geometry)). We will use that term-of-art for the remainder of this tutorial."
   ]
  },
  {
   "cell_type": "markdown",
   "metadata": {},
   "source": [
    "## Rewrite using pullbacks\n",
    "\n",
    "This pullback formulation is convenient, because we can now compose it together in a very regular (read automatable) manner."
   ]
  },
  {
   "cell_type": "code",
   "execution_count": 5,
   "metadata": {},
   "outputs": [],
   "source": [
    "\n",
    "func sinWithPullback(_ x: Float) -> (value: Float, pullback: (Float) -> Float) {\n",
    "    return (sin(x), { dx in cos(x) * dx })\n",
    "}\n",
    "\n",
    "func squareWithPullback(_ x: Float) -> (value: Float, pullback: (Float) -> Float) {\n",
    "    return (x * x, { dx in 2 * x * dx })\n",
    "}\n",
    "\n",
    "func myFuncPullbacks(_ x: Float) -> (value: Float, pullback: (Float) -> Float) {\n",
    "    let (xSquared, pb1) = squareWithPullback(x)\n",
    "    let (value, pb2) = sinWithPullback(xSquared)\n",
    "    return (value, { dx in\n",
    "        let gradXSquared = pb2(dx)\n",
    "        let gradX = pb1(gradXSquared)\n",
    "        return gradX\n",
    "    })\n",
    "}"
   ]
  },
  {
   "cell_type": "markdown",
   "metadata": {},
   "source": [
    "Note: be sure to carefully read through the code to convince yourself that this new structure results in the exact same computation!"
   ]
  },
  {
   "cell_type": "markdown",
   "metadata": {},
   "source": [
    "> Recall that in the end: $\\frac{d}{dx}$ of the scalar $x$ is just 1, which is what we use to feed into the pullback.\n",
    "\n",
    "We can use this new formulation as follows:"
   ]
  },
  {
   "cell_type": "code",
   "execution_count": 6,
   "metadata": {},
   "outputs": [
    {
     "name": "stdout",
     "output_type": "stream",
     "text": [
      "The value of the function at 1.3 is: 0.99290365\r\n",
      "The derivative at 1.3 is: -0.3091956\r\n"
     ]
    }
   ],
   "source": [
    "let x: Float = 1.3\n",
    "let (value, pb) = myFuncPullbacks(x)\n",
    "print(\"The value of the function at \\(x) is: \\(value)\")\n",
    "print(\"The derivative at \\(x) is: \\(pb(1))\")"
   ]
  },
  {
   "cell_type": "markdown",
   "metadata": {},
   "source": [
    "## Generalizing to arbitrary expressions\n",
    "\n",
    "Up until this point, we've been handwriting the derivatives for specific functions. But we now have a formulation that is regular and composible. (In fact, it is so regular, we can make the computer write the backwards pass for us! aka automatic differentiation.) The rules are:\n",
    "\n",
    "1. Rewrite every expression in the forward pass into a form that computes the value like normal, and also produces an additional deriv function.\n",
    "2. Construct a backwards pass that threads the derivs together in the reverse order.\n",
    "\n",
    "In an abstract form, we transform a function that looks like:\n",
    "\n",
    "```swift\n",
    "func myFunction(_ arg: Float) -> Float {\n",
    "    let tmp1 = expression1(arg)\n",
    "    let tmp2 = expression2(tmp1)\n",
    "    let tmp3 = expression3(tmp2)\n",
    "    return tmp3\n",
    "}\n",
    "```\n",
    "\n",
    "into a function that looks like this:\n",
    "\n",
    "```swift\n",
    "func myFunctionValueWithPullback(_ arg: Float) -> (value: Float, pullback: (Float) -> Float) {\n",
    "    let (tmp1, pb1) = expression1ValueWithPullback(arg)\n",
    "    let (tmp2, pb2) = expression2ValueWithPullback(tmp1)\n",
    "    let (tmp3, pb3) = expression3ValueWithPullback(tmp2)\n",
    "    return (value: tmp3,\n",
    "            pullback: { dArg in\n",
    "                let grad2 = pb3(dArg)\n",
    "                let grad1 = pb2(grad2)\n",
    "                let gradArg = pb1(grad1)\n",
    "                return gradArg\n",
    "    })\n",
    "}\n",
    "```\n",
    "\n",
    "The Swift compiler does this exact transformation to all functions marked with `@differentiable` (when an explicit derivative is not specified)!"
   ]
  },
  {
   "cell_type": "markdown",
   "metadata": {},
   "source": [
    "## Generalizing beyond unary functions\n",
    "\n",
    "Up until now, we have been using functions that don't \"reuse\" values in their computation. Our running example of $\\frac{d}{dx}\\sin(x^2)$ is too simple. Let's make it a bit more complicated and use $\\frac{d}{dx}\\sin(x^2) + x$ as our motivating expression going forward. The new additional function `+` is a binary function (whereas all our previous functions were unary functions).\n",
    "\n",
    "From mathematics, we know the derivative should be: $$\\frac{d}{dx} \\sin(x^2) + x = (2x \\cos(x^2) + 1)\\frac{d}{dx}$$\n",
    "\n",
    "We will now write out the pullbacks by hand for illustrative purposes (pay attention to the pullback for the `+` function)!"
   ]
  },
  {
   "cell_type": "code",
   "execution_count": 7,
   "metadata": {},
   "outputs": [],
   "source": [
    "func myComplexFunction(_ x: Float) -> Float {\n",
    "    let tmp1 = square(x)\n",
    "    let tmp2 = sin(tmp1)\n",
    "    let tmp3 = tmp2 + x\n",
    "    return tmp3\n",
    "}\n",
    "\n",
    "func plusWithPullback(_ x: Float, _ y: Float) -> (value: Float, pullback: (Float) -> (Float, Float)) {\n",
    "    return (x + y, { d in (d, d) })  // Value semantics are great! ;-)\n",
    "}"
   ]
  },
  {
   "cell_type": "code",
   "execution_count": 8,
   "metadata": {},
   "outputs": [],
   "source": [
    "func myComplexFunctionWithPullback(_ x: Float) -> (value: Float, pullback: (Float) -> Float) {\n",
    "    let (tmp1, pb1) = squareWithPullback(x)\n",
    "    let (tmp2, pb2) = sinWithPullback(tmp1)\n",
    "    let (tmp3, pb3) = plusWithPullback(tmp2, x)  // pb3 has type (Float) -> (Float, Float)\n",
    "    return (tmp3, { dx in\n",
    "        // Initialize all the gradients for all values at zero.\n",
    "        var gradX = Float(0.0)\n",
    "        var grad1 = Float(0.0)\n",
    "        var grad2 = Float(0.0)\n",
    "        var grad3 = Float(0.0)\n",
    "        \n",
    "        // Add the temporaries to the gradients as we run the backwards pass.\n",
    "        grad3 += dx\n",
    "        let (tmp2, tmpXa) = pb3(grad3)\n",
    "        grad2 += tmp2\n",
    "        gradX += tmpXa\n",
    "        let tmp1 = pb2(grad2)\n",
    "        grad1 += tmp1\n",
    "        let tmpXb = pb1(grad1)\n",
    "        gradX += tmpXb\n",
    "\n",
    "        // Return the computed gradient.\n",
    "        return gradX\n",
    "    })\n",
    "}"
   ]
  },
  {
   "cell_type": "code",
   "execution_count": 9,
   "metadata": {},
   "outputs": [
    {
     "name": "stdout",
     "output_type": "stream",
     "text": [
      "1.2431974\r\n",
      "1.2431974\r\n",
      "-1.6145744\r\n",
      "-1.6145109\r\n"
     ]
    }
   ],
   "source": [
    "// Test it out:\n",
    "print(myComplexFunction(2.0))  // Print the value of our function.\n",
    "let (tmp, pb) = myComplexFunctionWithPullback(2.0)\n",
    "print(tmp)  // Expect the same value as the first print!\n",
    "print(pb(1)) // Print the derivative of the function at 2.000\n",
    "print((myComplexFunction(2.001) - myComplexFunction(1.999)) / 0.002)  // Approximate the derivative at 2.0"
   ]
  },
  {
   "cell_type": "markdown",
   "metadata": {},
   "source": [
    "Note: Swift's automatic differentiation system is more sophisticated, because we want to handle non-scalar values and beyond. As a result, we have separate types to represent the `Tangent` and `Cotangent` which I'm not covering here, but is important when not everything is a `Tensor`!"
   ]
  },
  {
   "cell_type": "markdown",
   "metadata": {},
   "source": [
    "# AD of Array Access\n",
    "\n",
    "This section explores how Swift's value semantics enable efficient differentiation of array indexing.\n",
    "\n",
    "We will use the following program as a representative example:"
   ]
  },
  {
   "cell_type": "code",
   "execution_count": 10,
   "metadata": {},
   "outputs": [],
   "source": [
    "// Forward:\n",
    "func myOp(values: [Float], a: Int, b: Int) -> Float {\n",
    "    return values[a] + values[b]\n",
    "}"
   ]
  },
  {
   "cell_type": "markdown",
   "metadata": {},
   "source": [
    "## A functional representation (idealized)\n",
    "\n",
    "We will now write out an idealized version of a pullback for `myOp`:"
   ]
  },
  {
   "cell_type": "code",
   "execution_count": 11,
   "metadata": {},
   "outputs": [],
   "source": [
    "// Pullback, functional style (idealized)\n",
    "func myOpWithPullback(values: [Float], a: Int, b: Int) -> (value: Float, pullback: (Float) -> [Float]) {\n",
    "    return (values[a] + values[b], { dx in\n",
    "        var zeros = Array(repeating: Float(0), count: values.count)\n",
    "        // Note: must += instead of assign to handle aliasing!\n",
    "        zeros[a] += dx\n",
    "        zeros[b] += dx\n",
    "        return zeros\n",
    "    })\n",
    "}"
   ]
  },
  {
   "cell_type": "markdown",
   "metadata": {},
   "source": [
    "## Reality Check\n",
    "\n",
    "The above is exactly what you'd want to have happen. Unfortunately, that doesn't work with our _functional_ automatic differentiation formulation. Below is what actually would execute in a functional formulation:"
   ]
  },
  {
   "cell_type": "code",
   "execution_count": 12,
   "metadata": {},
   "outputs": [],
   "source": [
    "func subscriptWithPullback(_ values: [Float], at index: Int) -> (value: Float, pullback: (Float) -> [Float]) {\n",
    "    let size = values.count  // Optimization: capture only the size necessary instead of the whole array.\n",
    "    return (values[index], { dx in\n",
    "        var tmp = Array(repeating: Float(0), count: size)\n",
    "        tmp[index] = dx\n",
    "        return tmp\n",
    "    })\n",
    "}\n",
    "\n",
    "func sumArraysHelper(_ a: [Float], _ b: [Float]) -> [Float] {\n",
    "    // Written out explicitly\n",
    "    precondition(a.count == b.count)\n",
    "    var result = Array(repeating: Float(0), count: a.count)\n",
    "    for i in 0..<a.count {\n",
    "        result[i] = a[i] + b[i]\n",
    "    }\n",
    "    return result\n",
    "}\n",
    "\n",
    "func myOpWithPullbackFunctional(values: [Float], a: Int, b: Int) -> (value: Float, pullback: (Float) -> [Float]) {\n",
    "    let (aVal, pbA) = subscriptWithPullback(values, at: a)\n",
    "    let (bVal, pbB) = subscriptWithPullback(values, at: b)\n",
    "    let result = aVal + bVal\n",
    "    return (result, { dx in\n",
    "        var dValues = Array(repeating: Float(0), count: values.count)\n",
    "        let dA = pbA(dx)\n",
    "        dValues = sumArraysHelper(dValues, dA)\n",
    "        let dB = pbB(dx)\n",
    "        dValues = sumArraysHelper(dValues, dB)\n",
    "        return dValues\n",
    "    })\n",
    "}"
   ]
  },
  {
   "cell_type": "markdown",
   "metadata": {},
   "source": [
    "The end result is that in the functional formulation, we create 3 arrays of zero's, and we have to do an expensive sum across whole arrays that could be very expensive. As Dougal highlights effectively in his presentation, a functional approach to automatic differention of array subscripts violates the principle of reverse mode AD that the backwards pass should have approximately the same cost as the forwards pass.\n",
    "\n",
    "> Note: with careful optimization, you can avoid one of the zero materializations, and one of the calls to `sumArraysHelper`, but the fundamental principles remain."
   ]
  },
  {
   "cell_type": "markdown",
   "metadata": {},
   "source": [
    "## A value-semantic formulation\n",
    "\n",
    "We now see how applying the principles of value semantics allow us an efficient formulation of the backwards pass!"
   ]
  },
  {
   "cell_type": "code",
   "execution_count": 13,
   "metadata": {},
   "outputs": [],
   "source": [
    "func subscriptWithPullbackValueSemantics(\n",
    "    _ values: [Float],\n",
    "    at index: Int\n",
    ") -> (value: Float, pullback: (Float, inout [Float]) -> Void) {\n",
    "    (values[index], { dx, dValues in\n",
    "        dValues[index] += dx\n",
    "    })\n",
    "}\n",
    "\n",
    "func myOpWithPullback(values: [Float], a: Int, b: Int) -> (value: Float, pullback: (Float, inout [Float]) -> Void) {\n",
    "    let (aVal, pbA) = subscriptWithPullbackValueSemantics(values, at: a)\n",
    "    let (bVal, pbB) = subscriptWithPullbackValueSemantics(values, at: b)\n",
    "    let result = aVal + bVal\n",
    "    return (result, { dx, dValues in\n",
    "        pbA(dx, &dValues)\n",
    "        pbB(dx, &dValues)\n",
    "    })\n",
    "}"
   ]
  },
  {
   "cell_type": "markdown",
   "metadata": {},
   "source": [
    "## Composing value semantics\n",
    "\n",
    "An astute reader will note that our type signature for the pullback of `myOpWithPullback` could be improved. In particular, we should further take the `dValues` array as `inout` instead of allocating and returning the zeros. This composes perfectly and would yield an efficient derivative of a following hypothetical function (although writing out the proper pullback for both `myOp` and `myCompositeOp` is left as an exercise for the reader)."
   ]
  },
  {
   "cell_type": "code",
   "execution_count": 14,
   "metadata": {},
   "outputs": [],
   "source": [
    "func myCompositeOp(_ values: [Float]) -> Float {\n",
    "    var pairSum: Float = 0\n",
    "    for i in 0..<(values.count / 2) {\n",
    "        pairSum += myOp(values: values, a: i, b: i + 1)\n",
    "    }\n",
    "    return pairSum\n",
    "}"
   ]
  },
  {
   "cell_type": "markdown",
   "metadata": {},
   "source": [
    "_But aren't you just pushing the problem elsewhere instead of actually solving it?_ Of course a data structure to hold the derivative must be allocated at some point. But ideally it is allocated exactly once. Yes, somewhere some function must allocate the value that kicks things off, but everything else simply accumulates into it efficiently."
   ]
  },
  {
   "cell_type": "markdown",
   "metadata": {},
   "source": [
    "## Applications beyond array indexing\n",
    "\n",
    "Leveraging `inout` for in-place mutation applies not just to the problem of array indexing, but also to slicing out views into tensors, and even accessing subcomponents of larger differentiable types (if the automatic differentiation system is general purpose enough to support non-hyper-rectangular differentiable data types) such as graphs, trees, or other data structures.\n",
    "\n",
    "Further examples are left as an exercise to the reader. ;-)"
   ]
  },
  {
   "cell_type": "code",
   "execution_count": null,
   "metadata": {},
   "outputs": [],
   "source": []
  }
 ],
 "metadata": {
  "kernelspec": {
   "display_name": "Swift",
   "language": "swift",
   "name": "swift"
  },
  "language_info": {
   "file_extension": ".swift",
   "mimetype": "text/x-swift",
   "name": "swift",
   "version": ""
  },
  "toc": {
   "base_numbering": 1,
   "nav_menu": {},
   "number_sections": true,
   "sideBar": true,
   "skip_h1_title": false,
   "title_cell": "Table of Contents",
   "title_sidebar": "Contents",
   "toc_cell": false,
   "toc_position": {},
   "toc_section_display": true,
   "toc_window_display": true
  }
 },
 "nbformat": 4,
 "nbformat_minor": 4
}
