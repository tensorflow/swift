{
 "cells": [
  {
   "cell_type": "markdown",
   "metadata": {},
   "source": [
    "# Swift & Value Semantics\n",
    "\n",
    "This notebook walks through a few small examples to get a feel for consuming and producing value-semantic APIs (in the small)."
   ]
  },
  {
   "cell_type": "markdown",
   "metadata": {},
   "source": [
    "## Unary functions\n",
    "\n",
    "We begin with two functions that are approximately equal to increment an integer by `1`."
   ]
  },
  {
   "cell_type": "code",
   "execution_count": 1,
   "metadata": {},
   "outputs": [],
   "source": [
    "func foo1(_ x: Int) -> Int {\n",
    "    return x + 1\n",
    "}"
   ]
  },
  {
   "cell_type": "code",
   "execution_count": 2,
   "metadata": {},
   "outputs": [],
   "source": [
    "func foo2(_ x: inout Int) {\n",
    "    x += 1\n",
    "}"
   ]
  },
  {
   "cell_type": "markdown",
   "metadata": {},
   "source": [
    "Note: `inout` should be thought of as _semantically_ \"copy-in-copy-out\", but is implemented more efficiently."
   ]
  },
  {
   "cell_type": "code",
   "execution_count": 3,
   "metadata": {},
   "outputs": [
    {
     "name": "stdout",
     "output_type": "stream",
     "text": [
      "1\r\n",
      "2\r\n",
      "3\r\n"
     ]
    }
   ],
   "source": [
    "var x = 1\n",
    "// We now demonstrate their usage\n",
    "print(x)\n",
    "x = foo1(x)\n",
    "print(x)\n",
    "foo2(&x)  // The & helps you see where mutations are happening!\n",
    "print(x)"
   ]
  },
  {
   "cell_type": "code",
   "execution_count": 4,
   "metadata": {},
   "outputs": [],
   "source": [
    "// Of course, you can make an immutable variable, which will (as expected) not be allowed to mutate.\n",
    "let y = 0"
   ]
  },
  {
   "cell_type": "code",
   "execution_count": 5,
   "metadata": {},
   "outputs": [
    {
     "ename": "",
     "evalue": "",
     "output_type": "error",
     "traceback": [
      "error: <Cell 5>:1:1: error: cannot assign to value: 'y' is a 'let' constant\ny = foo1(y)  // Compile error\n^\n\n"
     ]
    }
   ],
   "source": [
    "y = foo1(y)  // Compile error"
   ]
  },
  {
   "cell_type": "code",
   "execution_count": 6,
   "metadata": {},
   "outputs": [
    {
     "ename": "",
     "evalue": "",
     "output_type": "error",
     "traceback": [
      "error: <Cell 6>:1:6: error: cannot pass immutable value as inout argument: 'y' is a 'let' constant\nfoo2(&y)  // Compile error\n     ^~\n\n"
     ]
    }
   ],
   "source": [
    "foo2(&y)  // Compile error"
   ]
  },
  {
   "cell_type": "markdown",
   "metadata": {},
   "source": [
    "## Higher-airity functions\n",
    "\n",
    "They work exactly as you'd expect."
   ]
  },
  {
   "cell_type": "code",
   "execution_count": 7,
   "metadata": {},
   "outputs": [
    {
     "name": "stdout",
     "output_type": "stream",
     "text": [
      "1\r\n",
      "2\r\n"
     ]
    }
   ],
   "source": [
    "func incrementTwoInts(_ a: inout Int, _ b: inout Int) {\n",
    "    a += 1\n",
    "    b += 1\n",
    "}\n",
    "\n",
    "var a = 0\n",
    "var b = 1\n",
    "incrementTwoInts(&a, &b)\n",
    "print(a)\n",
    "print(b)"
   ]
  },
  {
   "cell_type": "markdown",
   "metadata": {},
   "source": [
    "## Mutating Functions\n",
    "\n",
    "Object-oriented programming taught us that we often want to group data and operations together. For example, we often like to write:\n",
    "\n",
    "```python\n",
    "myType.method()\n",
    "```\n",
    "\n",
    "instead of\n",
    "\n",
    "```python\n",
    "top_level_function(myType)\n",
    "```\n",
    "\n",
    "The extension for `inout` to \"methods\" is spelled `mutating`."
   ]
  },
  {
   "cell_type": "code",
   "execution_count": 8,
   "metadata": {},
   "outputs": [],
   "source": [
    "struct Foo {\n",
    "    var x: Int = 0\n",
    "}"
   ]
  },
  {
   "cell_type": "code",
   "execution_count": 9,
   "metadata": {},
   "outputs": [],
   "source": [
    "extension Foo {\n",
    "    mutating func incrementByOne() {\n",
    "        x += 1\n",
    "    }\n",
    "}"
   ]
  },
  {
   "cell_type": "code",
   "execution_count": 10,
   "metadata": {},
   "outputs": [
    {
     "name": "stdout",
     "output_type": "stream",
     "text": [
      "Foo(x: 0)\r\n",
      "Foo(x: 1)\r\n"
     ]
    }
   ],
   "source": [
    "func testFunction() {\n",
    "    var f = Foo()\n",
    "    print(f)\n",
    "    f.incrementByOne()\n",
    "    print(f)\n",
    "}\n",
    "testFunction()"
   ]
  },
  {
   "cell_type": "markdown",
   "metadata": {},
   "source": [
    "Naturally, mutating functions can't be called on immutable values."
   ]
  },
  {
   "cell_type": "code",
   "execution_count": 11,
   "metadata": {},
   "outputs": [
    {
     "ename": "",
     "evalue": "",
     "output_type": "error",
     "traceback": [
      "error: <Cell 11>:4:7: error: cannot use mutating member on immutable value: 'f' is a 'let' constant\n    f.incrementByOne()  // Compile error\n    ~ ^\n\n<Cell 11>:2:5: note: change 'let' to 'var' to make it mutable\n    let f = Foo()\n    ^~~\n    var\n\n"
     ]
    }
   ],
   "source": [
    "func testFunc2() {\n",
    "    let f = Foo()\n",
    "    print(f)\n",
    "    f.incrementByOne()  // Compile error\n",
    "}\n",
    "testFunc2()"
   ]
  },
  {
   "cell_type": "markdown",
   "metadata": {},
   "source": [
    "Mutating functions are convenient in a variety of circumstances. For example, when using an iterator."
   ]
  },
  {
   "cell_type": "code",
   "execution_count": 12,
   "metadata": {},
   "outputs": [
    {
     "name": "stdout",
     "output_type": "stream",
     "text": [
      "Optional(0)\r\n",
      "Optional(1)\r\n",
      "Optional(4)\r\n",
      "Optional(8)\r\n",
      "Optional(9)\r\n",
      "nil\r\n"
     ]
    }
   ],
   "source": [
    "// Silly implementation to skip 2 values\n",
    "func skip2<Itr: IteratorProtocol>(_ itr: inout Itr) {\n",
    "    _ = itr.next()\n",
    "    _ = itr.next()\n",
    "}\n",
    "\n",
    "extension IteratorProtocol {\n",
    "    // Silly implementation to skip 3 values.\n",
    "    mutating func skip3() {\n",
    "        skip2(&self)\n",
    "        _ = next()\n",
    "    }\n",
    "}\n",
    "\n",
    "func doSomeIteration() {\n",
    "    let r = 0...9  // Int's from 0 to 9, inclusive.\n",
    "    var itr = r.makeIterator()\n",
    "    print(itr.next())\n",
    "    print(itr.next())\n",
    "    skip2(&itr)\n",
    "    print(itr.next())\n",
    "    itr.skip3()\n",
    "    print(itr.next())\n",
    "    print(itr.next())\n",
    "    print(itr.next())  // End of sequence\n",
    "}\n",
    "doSomeIteration()"
   ]
  },
  {
   "cell_type": "markdown",
   "metadata": {},
   "source": [
    "## Compositions\n",
    "\n",
    "Value semantics composes exactly as you'd expect, and continue to maintain the efficiency of in-place operations without allowing spooky-action-at-a-distance."
   ]
  },
  {
   "cell_type": "code",
   "execution_count": 13,
   "metadata": {},
   "outputs": [],
   "source": [
    "// Declare another struct composed of two additional value-semantic types.\n",
    "struct Bar {\n",
    "    var f: Foo\n",
    "    var y: Int\n",
    "}"
   ]
  },
  {
   "cell_type": "code",
   "execution_count": 14,
   "metadata": {},
   "outputs": [],
   "source": [
    "extension Bar {\n",
    "    init() {\n",
    "        self.init(f: Foo(), y: 0)\n",
    "    }\n",
    "}"
   ]
  },
  {
   "cell_type": "code",
   "execution_count": 15,
   "metadata": {},
   "outputs": [],
   "source": [
    "extension Bar {\n",
    "    mutating func baz() {\n",
    "        f.incrementByOne()\n",
    "        y += 1\n",
    "    }\n",
    "}"
   ]
  },
  {
   "cell_type": "code",
   "execution_count": 16,
   "metadata": {},
   "outputs": [],
   "source": [
    "extension Bar: CustomStringConvertible {\n",
    "    public var description: String {\n",
    "        \"Bar(f: \\(f), y: \\(y))\"\n",
    "    }\n",
    "}"
   ]
  },
  {
   "cell_type": "code",
   "execution_count": 17,
   "metadata": {},
   "outputs": [
    {
     "name": "stdout",
     "output_type": "stream",
     "text": [
      "b: Bar(f: Foo(x: 0), y: 0)\r\n",
      "b: Bar(f: Foo(x: 1), y: 1) (post-baz())\r\n",
      "c: Bar(f: Foo(x: 1), y: 1) (create copy)\r\n",
      "b: Bar(f: Foo(x: 1), y: 1) (should be equivalent to above)\r\n",
      "b: Bar(f: Foo(x: 2), y: 1) (f should be incremented)\r\n",
      "c: Bar(f: Foo(x: 1), y: 1) (should be the same as original c value)\r\n",
      "b: Bar(f: Foo(x: 3), y: 2) (more changes)\r\n",
      "c: Bar(f: Foo(x: 1), y: 1) (more sames)\r\n"
     ]
    }
   ],
   "source": [
    "func testFunc3() {\n",
    "    var b = Bar()\n",
    "    print(\"b: \\(b)\")\n",
    "    b.baz()\n",
    "    print(\"b: \\(b) (post-baz())\")\n",
    "    let c = b\n",
    "    print(\"c: \\(c) (create copy)\")\n",
    "    print(\"b: \\(b) (should be equivalent to above)\")\n",
    "    b.f.incrementByOne()\n",
    "    print(\"b: \\(b) (f should be incremented)\")\n",
    "    print(\"c: \\(c) (should be the same as original c value)\")\n",
    "    b.baz()\n",
    "    print(\"b: \\(b) (more changes)\")\n",
    "    print(\"c: \\(c) (more sames)\")\n",
    "//     c.baz() // Compile error\n",
    "//     c.f.incrementByOne()  // Also compile error\n",
    "}\n",
    "testFunc3()"
   ]
  },
  {
   "cell_type": "markdown",
   "metadata": {},
   "source": [
    "# Swift's non-obvious properties\n",
    "\n",
    "I've collected a few nice features of Swift that aren't apparent by reading [the language guide](https://docs.swift.org/swift-book/LanguageGuide/TheBasics.html).\n",
    "\n",
    "Said another way, these properties of Swift enable high performance execution without sacrificing value semantics.\n"
   ]
  },
  {
   "cell_type": "markdown",
   "metadata": {},
   "source": [
    "## Early dropping of references\n",
    "\n",
    "Unlike C++ Swift does not mandate that local variables live until the end of their scope, so the compiler is free to destroy variables when they are no longer used.  That helps preserve the uniqueness property that allows efficient in-place mutation. Also, swift doesn't specify the memory layout of a local stack frame, which allows for a variety of optimizations, such as hoisting values to registers or tearing them apart. A few examples:"
   ]
  },
  {
   "cell_type": "code",
   "execution_count": 18,
   "metadata": {},
   "outputs": [],
   "source": [
    "/// An Int, but implemented using the same lazy copy-on-write techniques as\n",
    "/// arrays (and Tensors) for demonstration purposes (makes copies explicit).\n",
    "public struct CoWInt {\n",
    "    /// We use a class to leverage reference semantics to implement our\n",
    "    /// copy-on-write type.\n",
    "    ///\n",
    "    /// We also keep track of the copy count for illustrative purposes.\n",
    "    final class HeapStorage {\n",
    "        var value: Int\n",
    "        let copyCount: Int\n",
    "\n",
    "        /// Creates a HeapStorage instance.\n",
    "        init(value: Int, copyCount: Int = 0) {\n",
    "            self.value = value\n",
    "            self.copyCount = copyCount\n",
    "        }\n",
    "\n",
    "        /// Returns a copy of `self`, with the copyCount incremented by 1.\n",
    "        func copy() -> HeapStorage {\n",
    "            HeapStorage(value: value, copyCount: copyCount + 1)\n",
    "        }\n",
    "    }\n",
    "\n",
    "    /// Create a CoWInt.\n",
    "    public init(_ value: Int) { self.heapStorage = HeapStorage(value: value) }\n",
    "    \n",
    "    /// Accesses the value stored in a CoWInt.\n",
    "    var value: Int {\n",
    "        get { heapStorage.value }\n",
    "\n",
    "        // Note: if we were implementing this \"for real\", we'd want to use\n",
    "        // Swift's support for coroutines, and implement `_modify` instead.\n",
    "        set {\n",
    "            ensureUnique()\n",
    "            heapStorage.value = newValue\n",
    "        }\n",
    "    }\n",
    "\n",
    "    /// Returns the copy count of the backing storage.\n",
    "    var copyCount: Int { heapStorage.copyCount }\n",
    "\n",
    "    /// Internals below that are not marked private for demonstration purposes.\n",
    "    \n",
    "    /// Helper \n",
    "    /* private */\n",
    "    mutating func ensureUnique() {\n",
    "        if !isKnownUniquelyReferenced(&heapStorage) {\n",
    "            heapStorage = heapStorage.copy()\n",
    "        }\n",
    "    }\n",
    "\n",
    "    /* private */\n",
    "    init(storage: HeapStorage) {\n",
    "        self.heapStorage = storage\n",
    "    }\n",
    "\n",
    "    /// A handle to our heap storage.\n",
    "    /* private */\n",
    "    var heapStorage: HeapStorage\n",
    "}\n",
    "\n",
    "public func += (lhs: inout CoWInt, rhs: Int) {\n",
    "    lhs.value += rhs\n",
    "}\n"
   ]
  },
  {
   "cell_type": "code",
   "execution_count": 19,
   "metadata": {},
   "outputs": [],
   "source": [
    "extension CoWInt: CustomStringConvertible {\n",
    "    public var description: String { \"CoWInt(\\(value), copyCount: \\(copyCount))\" }\n",
    "}\n"
   ]
  },
  {
   "cell_type": "code",
   "execution_count": 20,
   "metadata": {},
   "outputs": [
    {
     "name": "stdout",
     "output_type": "stream",
     "text": [
      "CoWInt(3, copyCount: 0)\r\n",
      "CoWInt(9, copyCount: 0)\r\n"
     ]
    }
   ],
   "source": [
    "func myFunc() {\n",
    "    var a = CoWInt(3)\n",
    "    print(a)\n",
    "    a += 6\n",
    "    print(a)\n",
    "}\n",
    "myFunc()"
   ]
  },
  {
   "cell_type": "code",
   "execution_count": 21,
   "metadata": {},
   "outputs": [
    {
     "name": "stdout",
     "output_type": "stream",
     "text": [
      "CoWInt(3, copyCount: 0)\r\n",
      "CoWInt(3, copyCount: 0)\r\n",
      "CoWInt(3, copyCount: 0)\r\n",
      "CoWInt(6, copyCount: 1)\r\n",
      "CoWInt(3, copyCount: 0)\r\n"
     ]
    }
   ],
   "source": [
    "func myFunc2() {\n",
    "    var a = CoWInt(3)\n",
    "    print(a)\n",
    "    let b = a  // Make a logical copy.\n",
    "    print(a)\n",
    "    print(b)\n",
    "    a += 3  // Actual copy happens here.\n",
    "    print(a)\n",
    "    print(b)\n",
    "}\n",
    "myFunc2()"
   ]
  },
  {
   "cell_type": "code",
   "execution_count": 22,
   "metadata": {},
   "outputs": [
    {
     "name": "stdout",
     "output_type": "stream",
     "text": [
      "CoWInt(3, copyCount: 0)\r\n",
      "CoWInt(13, copyCount: 0)\r\n"
     ]
    }
   ],
   "source": [
    "func myFunc3() {\n",
    "    var a = CoWInt(3)\n",
    "    var b = a\n",
    "    print(a)\n",
    "    a += 10\n",
    "    print(a)  // Note: copy count stays zero!\n",
    "}\n",
    "myFunc3()"
   ]
  },
  {
   "cell_type": "code",
   "execution_count": 23,
   "metadata": {},
   "outputs": [
    {
     "name": "stdout",
     "output_type": "stream",
     "text": [
      "CoWInt(3, copyCount: 0)\r\n",
      "CoWInt(13, copyCount: 0)\r\n",
      "CoWInt(13, copyCount: 0)\r\n"
     ]
    }
   ],
   "source": [
    "// Can always assign to an immutable binding if that's preferred.\n",
    "func myFunc4() {\n",
    "    var a = CoWInt(3)\n",
    "    print(a)\n",
    "    a += 10\n",
    "    print(a)\n",
    "    let b = a  // Assign to immutable binding... no actual data copy is made.\n",
    "    print(b)\n",
    "}\n",
    "myFunc4()"
   ]
  },
  {
   "cell_type": "code",
   "execution_count": 24,
   "metadata": {},
   "outputs": [
    {
     "name": "stdout",
     "output_type": "stream",
     "text": [
      "CoWInt(3, copyCount: 0)\r\n",
      "CoWInt(3, copyCount: 0)\r\n",
      "CoWInt(13, copyCount: 1)\r\n",
      "CoWInt(3, copyCount: 0)\r\n"
     ]
    }
   ],
   "source": [
    "// If mutation is desired, you can always reassign to a new mutable variable.\n",
    "func myFunc5() {\n",
    "    var a = CoWInt(3)\n",
    "    var b = a\n",
    "    print(a)\n",
    "    print(b)\n",
    "    b += 10\n",
    "    print(b)\n",
    "    print(a) // Not changed!\n",
    "}\n",
    "myFunc5()"
   ]
  },
  {
   "cell_type": "code",
   "execution_count": 25,
   "metadata": {},
   "outputs": [
    {
     "name": "stdout",
     "output_type": "stream",
     "text": [
      "CoWInt(3, copyCount: 0)\r\n",
      "CoWInt(6, copyCount: 1)\r\n"
     ]
    }
   ],
   "source": [
    "// `inout` and `mutation` help avoid copies.\n",
    "\n",
    "extension CoWInt {\n",
    "    // Functional-style update where `self` is not modified, and a new value is returned.\n",
    "    func incrementedBy(_ value: Int) -> CoWInt {\n",
    "        let newStorage = heapStorage.copy()\n",
    "        newStorage.value += value\n",
    "        return Self(storage: newStorage)\n",
    "    }\n",
    "}\n",
    "\n",
    "func myFunc6() {\n",
    "    var a = CoWInt(3)\n",
    "    print(a)\n",
    "    a = a.incrementedBy(3)  // Forces a copy!\n",
    "//     a += 3\n",
    "    print(a)\n",
    "}\n",
    "myFunc6()"
   ]
  },
  {
   "cell_type": "markdown",
   "metadata": {},
   "source": [
    "## Tuple Destructuring\n",
    "\n",
    "Swift's value semantic types (`struct`s, `enum`s, and tuples) can be freely torn apart by the compiler during optimizations."
   ]
  },
  {
   "cell_type": "code",
   "execution_count": 26,
   "metadata": {},
   "outputs": [
    {
     "name": "stdout",
     "output_type": "stream",
     "text": [
      "(CoWInt(3, copyCount: 0), CoWInt(5, copyCount: 0))\r\n",
      "(CoWInt(13, copyCount: 0), CoWInt(5, copyCount: 0))\r\n"
     ]
    }
   ],
   "source": [
    "func myFunc7() {\n",
    "    var t = (CoWInt(3), CoWInt(5))\n",
    "    print(t)\n",
    "    t.0 += 10\n",
    "    print(t)\n",
    "}\n",
    "myFunc7()"
   ]
  },
  {
   "cell_type": "code",
   "execution_count": 27,
   "metadata": {},
   "outputs": [
    {
     "name": "stdout",
     "output_type": "stream",
     "text": [
      "(a: CoWInt(3, copyCount: 0), b: CoWInt(5, copyCount: 0))\r\n",
      "(a: CoWInt(3, copyCount: 0), b: CoWInt(5, copyCount: 0))\r\n",
      "(a: CoWInt(3, copyCount: 0), b: CoWInt(10, copyCount: 1))\r\n",
      "(a: CoWInt(3, copyCount: 0), b: CoWInt(5, copyCount: 0))\r\n"
     ]
    }
   ],
   "source": [
    "func myFunc8() {\n",
    "    var t = (a: CoWInt(3), b: CoWInt(5))\n",
    "    print(t)\n",
    "    var copy = t\n",
    "    print(copy)\n",
    "    t.1 += 5\n",
    "    print(t)\n",
    "    print(copy)\n",
    "}\n",
    "myFunc8()"
   ]
  },
  {
   "cell_type": "markdown",
   "metadata": {},
   "source": [
    "## Swift's Law of Exclusivity\n",
    "\n",
    "As detailed in the [ownership manifesto](https://github.com/apple/swift/blob/main/docs/OwnershipManifesto.md), Swift has a \"law of exclusivity\" that allows the compiler to make aggressive optimizations. Below are some examples showing how to violate Swift's law of exlusivity, and the resulting aftermath."
   ]
  },
  {
   "cell_type": "code",
   "execution_count": 28,
   "metadata": {},
   "outputs": [],
   "source": [
    "func incrementTwoInts(_ x: inout Int, _ y: inout Int) {\n",
    "    x += 1\n",
    "    y += 1\n",
    "}"
   ]
  },
  {
   "cell_type": "code",
   "execution_count": 29,
   "metadata": {},
   "outputs": [
    {
     "name": "stdout",
     "output_type": "stream",
     "text": [
      "a: 2, b: 3\r\n"
     ]
    }
   ],
   "source": [
    "var a = 1\n",
    "var b = 2\n",
    "incrementTwoInts(&a, &b)\n",
    "print(\"a: \\(a), b: \\(b)\")"
   ]
  },
  {
   "cell_type": "code",
   "execution_count": 30,
   "metadata": {},
   "outputs": [
    {
     "ename": "",
     "evalue": "",
     "output_type": "error",
     "traceback": [
      "error: <Cell 30>:1:22: error: inout arguments are not allowed to alias each other\nincrementTwoInts(&a, &a) // Compile error!\n                     ^~\n\n<Cell 30>:1:18: note: previous aliasing argument\nincrementTwoInts(&a, &a) // Compile error!\n                 ^~\n\n"
     ]
    }
   ],
   "source": [
    "incrementTwoInts(&a, &a) // Compile error!"
   ]
  },
  {
   "cell_type": "code",
   "execution_count": 31,
   "metadata": {},
   "outputs": [],
   "source": [
    "extension Int {\n",
    "    // Define a silly function that allows us to play around with closures.\n",
    "    mutating func increment(by amount: (Self) -> Self) {\n",
    "        let amt = amount(self)\n",
    "        self += amt\n",
    "    }\n",
    "}"
   ]
  },
  {
   "cell_type": "code",
   "execution_count": 32,
   "metadata": {},
   "outputs": [
    {
     "name": "stdout",
     "output_type": "stream",
     "text": [
      "2\r\n",
      "4\r\n"
     ]
    }
   ],
   "source": [
    "// Example usage of the API defined above.\n",
    "print(a)\n",
    "a.increment { $0 }  // equivalent to a + a\n",
    "print(a)"
   ]
  },
  {
   "cell_type": "code",
   "execution_count": 33,
   "metadata": {},
   "outputs": [
    {
     "ename": "",
     "evalue": "",
     "output_type": "error",
     "traceback": [
      "error: <Cell 33>:3:5: error: overlapping accesses to 'b', but modification requires exclusive access; consider copying to a local variable\n    b.increment { bCopy in\n    ^\n\n<Cell 33>:4:9: note: conflicting access is here\n      b = 0  // Exclusivity violation detected @ compile time!\n      ~~^~~\n\n"
     ]
    }
   ],
   "source": [
    "func exclusivityViolationAtCompileTime() {\n",
    "    var b = 3\n",
    "    b.increment { bCopy in\n",
    "      b = 0  // Exclusivity violation detected @ compile time!\n",
    "      return bCopy\n",
    "    }\n",
    "}\n"
   ]
  },
  {
   "cell_type": "code",
   "execution_count": 34,
   "metadata": {},
   "outputs": [
    {
     "name": "stdout",
     "output_type": "stream",
     "text": [
      "Simultaneous accesses to 0x7fc44a77c420, but modification requires exclusive access.\r\n",
      "Previous access (a modification) started at  (0x7fc44a7729ed).\r\n",
      "Current access (a modification) started at:\r\n",
      "0    libswiftCore.so                    0x00007fc449bf04a0 swift_beginAccess + 479\r\n",
      "Fatal access conflict detected.\r\n"
     ]
    },
    {
     "ename": "",
     "evalue": "",
     "output_type": "error",
     "traceback": [
      "Current stack trace:",
      "\tframe #4: \u001b[33m0x00007fc44a772a7c\u001b[0m $__lldb_expr199`closure #1 in (aCopy=<unavailable>) at \u001b[36m<Cell 34>\u001b[0m:\u001b[33m3\u001b[0m:\u001b[33m7\u001b[0m",
      "\tframe #5: \u001b[33m0x00007fc44a791fac\u001b[0m $__lldb_expr184`Int.increment(amount=0x0000000000000000, self=4) at \u001b[36m<Cell 31>\u001b[0m:\u001b[33m4\u001b[0m:\u001b[33m19\u001b[0m",
      "\tframe #6: \u001b[33m0x00007fc44a772a09\u001b[0m $__lldb_expr199`main at \u001b[36m<Cell 34>\u001b[0m:\u001b[33m2\u001b[0m:\u001b[33m3\u001b[0m"
     ]
    }
   ],
   "source": [
    "// Mutable globals are shared mutable state, so exclusivity detected at runtime.\n",
    "a.increment { aCopy in\n",
    "    a = 0  // Exlusivity violation!\n",
    "    return aCopy\n",
    "}"
   ]
  },
  {
   "cell_type": "code",
   "execution_count": null,
   "metadata": {},
   "outputs": [],
   "source": []
  }
 ],
 "metadata": {
  "kernelspec": {
   "display_name": "Swift",
   "language": "swift",
   "name": "swift"
  },
  "language_info": {
   "file_extension": ".swift",
   "mimetype": "text/x-swift",
   "name": "swift",
   "version": ""
  },
  "toc": {
   "base_numbering": 1,
   "nav_menu": {},
   "number_sections": true,
   "sideBar": true,
   "skip_h1_title": false,
   "title_cell": "Table of Contents",
   "title_sidebar": "Contents",
   "toc_cell": false,
   "toc_position": {
    "height": "calc(100% - 180px)",
    "left": "10px",
    "top": "150px",
    "width": "170.857px"
   },
   "toc_section_display": true,
   "toc_window_display": true
  }
 },
 "nbformat": 4,
 "nbformat_minor": 4
}
