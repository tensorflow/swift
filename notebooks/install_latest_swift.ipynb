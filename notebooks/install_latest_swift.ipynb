{
  "nbformat": 4,
  "nbformat_minor": 0,
  "metadata": {
    "colab": {
      "name": "install_latest_swift.ipynb",
      "version": "0.3.2",
      "provenance": [],
      "collapsed_sections": [],
      "private_outputs": true
    },
    "kernelspec": {
      "name": "python2",
      "display_name": "Python 2"
    }
  },
  "cells": [
    {
      "metadata": {
        "id": "gulRnqbf5lP2",
        "colab_type": "code",
        "colab": {}
      },
      "cell_type": "code",
      "source": [
        "!echo \"The currently installed Swift build is:\"\n",
        "!/swift/toolchain/usr/bin/swift --version\n",
        "!echo \"\"\n",
        "!echo \"Installing the latest Swift build...\"\n",
        "!echo \"\"\n",
        "\n",
        "# Delete the current Swift installation\n",
        "!rm -rf /swift\n",
        "\n",
        "# Download and extract the swift toolchain\n",
        "!mkdir -p /swift/toolchain\n",
        "!wget -nv -O- https://storage.googleapis.com/swift-tensorflow-artifacts/nightlies/latest/swift-tensorflow-DEVELOPMENT-cuda10.0-cudnn7-ubuntu18.04.tar.gz | tar xzf - -C /swift/toolchain\n",
        "\n",
        "# Download and register the swift kernel\n",
        "!wget -nv -O- https://storage.googleapis.com/swift-tensorflow-artifacts/nightlies/latest/swift-jupyter.tar.gz | tar xzf - -C /swift\n",
        "!python3 /swift/swift-jupyter/register.py --swift-toolchain /swift/toolchain\n",
        "\n",
        "# Need to install libblocksruntime-dev for package installation to work\n",
        "!sudo apt-get install libblocksruntime-dev\n",
        "\n",
        "!echo \"\"\n",
        "!echo \"The newly installed Swift build is:\"\n",
        "!/swift/toolchain/usr/bin/swift --version"
      ],
      "execution_count": 0,
      "outputs": []
    }
  ]
}
