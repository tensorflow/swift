{
 "cells": [
  {
   "cell_type": "markdown",
   "metadata": {
    "colab_type": "text",
    "id": "rwxGnsA92emp"
   },
   "source": [
    "##### Copyright 2018 The TensorFlow Authors."
   ]
  },
  {
   "cell_type": "code",
   "execution_count": 1,
   "metadata": {
    "cellView": "form",
    "colab": {
     "autoexec": {
      "startup": false,
      "wait_interval": 0
     }
    },
    "colab_type": "code",
    "id": "CPII1rGR2rF9"
   },
   "outputs": [
    {
     "name": "stdout",
     "output_type": "stream",
     "text": []
    }
   ],
   "source": [
    "// Licensed under the Apache License, Version 2.0 (the \"License\");\n",
    "// you may not use this file except in compliance with the License.\n",
    "// You may obtain a copy of the License at\n",
    "//\n",
    "// https://www.apache.org/licenses/LICENSE-2.0\n",
    "//\n",
    "// Unless required by applicable law or agreed to in writing, software\n",
    "// distributed under the License is distributed on an \"AS IS\" BASIS,\n",
    "// WITHOUT WARRANTIES OR CONDITIONS OF ANY KIND, either express or implied.\n",
    "// See the License for the specific language governing permissions and\n",
    "// limitations under the License."
   ]
  },
  {
   "cell_type": "markdown",
   "metadata": {},
   "source": [
    "## Swift for TensorFlow is a work-in-progress\n",
    "\n",
    "Swift for TensorFlow is still a work-in-progress. If you modify the code in this tutorial, you will frequently get unexepcted error messages and kernel crashes. Restarting the kernel might occasionally help (Kernel > Restart in the Jupyter toolbar).\n",
    "\n",
    "We are working on stabilizing the compiler. You can help us by filing bugs on https://bugs.swift.org (set the \"Component\" field to \"Swift for TensorFlow\") or by emailing the swift@tensorflow.org mailing list when you encounter unexpected error messages and kernel crashes."
   ]
  },
  {
   "cell_type": "markdown",
   "metadata": {
    "colab_type": "text",
    "id": "JtEZ1pCPn--z"
   },
   "source": [
    "# Swift for TensorFlow: walkthrough"
   ]
  },
  {
   "cell_type": "markdown",
   "metadata": {
    "colab_type": "text",
    "id": "LDrzLFXE8T1l"
   },
   "source": [
    "This guide introduces Swift for TensorFlow by using Swift for TensorFlow to build a machine learning model that categorizes iris flowers by species. It uses Swift for TensorFlow to:\n",
    "1. Build a model,\n",
    "2. Train this model on example data, and\n",
    "3. Use the model to make predictions about unknown data.\n",
    "\n",
    "This guide is a Swift port of the [TensorFlow custom training walkthrough](https://www.tensorflow.org/tutorials/eager/custom_training_walkthrough).\n",
    "\n",
    "## TensorFlow programming\n",
    "\n",
    "This guide uses these high-level Swift for TensorFlow concepts:\n",
    "\n",
    "* Import data with the Datasets API.\n",
    "* Build models and layers using Swift abstractions.\n",
    "* Use Python libraries using Swift's Python interoperability when pure Swift libraries are not available.\n",
    "\n",
    "This tutorial is structured like many TensorFlow programs:\n",
    "\n",
    "1. Import and parse the data sets.\n",
    "2. Select the type of model.\n",
    "3. Train the model.\n",
    "4. Evaluate the model's effectiveness.\n",
    "5. Use the trained model to make predictions."
   ]
  },
  {
   "cell_type": "markdown",
   "metadata": {
    "colab_type": "text",
    "id": "yNr7H-AIoLOR"
   },
   "source": [
    "## Setup program"
   ]
  },
  {
   "cell_type": "markdown",
   "metadata": {
    "colab_type": "text",
    "id": "1J3AuPBT9gyR"
   },
   "source": [
    "### Configure imports\n",
    "\n",
    "Import TensorFlow and some useful Python modules."
   ]
  },
  {
   "cell_type": "code",
   "execution_count": 2,
   "metadata": {
    "colab": {
     "autoexec": {
      "startup": false,
      "wait_interval": 0
     }
    },
    "colab_type": "code",
    "id": "g4Wzg69bnwK2"
   },
   "outputs": [
    {
     "name": "stdout",
     "output_type": "stream",
     "text": []
    }
   ],
   "source": [
    "import TensorFlow\n",
    "\n",
    "import Python\n",
    "%include \"EnableIPythonDisplay.swift\"\n",
    "IPythonDisplay.shell.enable_matplotlib(\"inline\")\n",
    "let plt = Python.import(\"matplotlib.pyplot\")"
   ]
  },
  {
   "cell_type": "markdown",
   "metadata": {
    "colab_type": "text",
    "id": "Zx7wc0LuuxaJ"
   },
   "source": [
    "## The iris classification problem\n",
    "\n",
    "Imagine you are a botanist seeking an automated way to categorize each iris flower you find. Machine learning provides many algorithms to classify flowers statistically. For instance, a sophisticated machine learning program could classify flowers based on photographs. Our ambitions are more modest—we're going to classify iris flowers based on the length and width measurements of their [sepals](https://en.wikipedia.org/wiki/Sepal) and [petals](https://en.wikipedia.org/wiki/Petal).\n",
    "\n",
    "The Iris genus entails about 300 species, but our program will only classify the following three:\n",
    "\n",
    "* Iris setosa\n",
    "* Iris virginica\n",
    "* Iris versicolor\n",
    "\n",
    "<table>\n",
    "  <tr><td>\n",
    "    <img src=\"https://www.tensorflow.org/images/iris_three_species.jpg\"\n",
    "         alt=\"Petal geometry compared for three iris species: Iris setosa, Iris virginica, and Iris versicolor\">\n",
    "  </td></tr>\n",
    "  <tr><td align=\"center\">\n",
    "    <b>Figure 1.</b> <a href=\"https://commons.wikimedia.org/w/index.php?curid=170298\">Iris setosa</a> (by <a href=\"https://commons.wikimedia.org/wiki/User:Radomil\">Radomil</a>, CC BY-SA 3.0), <a href=\"https://commons.wikimedia.org/w/index.php?curid=248095\">Iris versicolor</a>, (by <a href=\"https://commons.wikimedia.org/wiki/User:Dlanglois\">Dlanglois</a>, CC BY-SA 3.0), and <a href=\"https://www.flickr.com/photos/33397993@N05/3352169862\">Iris virginica</a> (by <a href=\"https://www.flickr.com/photos/33397993@N05\">Frank Mayfield</a>, CC BY-SA 2.0).<br/>&nbsp;\n",
    "  </td></tr>\n",
    "</table>\n",
    "\n",
    "Fortunately, someone has already created a [data set of 120 iris flowers](https://en.wikipedia.org/wiki/Iris_flower_data_set) with the sepal and petal measurements. This is a classic dataset that is popular for beginner machine learning classification problems."
   ]
  },
  {
   "cell_type": "markdown",
   "metadata": {
    "colab_type": "text",
    "id": "3Px6KAg0Jowz"
   },
   "source": [
    "## Import and parse the training dataset\n",
    "\n",
    "Download the dataset file and convert it into a structure that can be used by this Swift program.\n",
    "\n",
    "### Download the dataset\n",
    "\n",
    "Download the training dataset file from http://download.tensorflow.org/data/iris_training.csv. We use a Python library to do this because Swift doesn't yet have easy-to-use cross-platform I/O libraries. Swift's Python interoperability makes it easy and natrual to import and use Python libraries from Swift code."
   ]
  },
  {
   "cell_type": "code",
   "execution_count": 3,
   "metadata": {},
   "outputs": [
    {
     "name": "stdout",
     "output_type": "stream",
     "text": []
    },
    {
     "data": {
      "text/plain": [
       "\"iris_training.csv\"\n"
      ]
     },
     "execution_count": 3,
     "metadata": {},
     "output_type": "execute_result"
    }
   ],
   "source": [
    "let urllib = Python.import(\"urllib\")\n",
    "let downloadResult = urllib.urlretrieve(\"http://download.tensorflow.org/data/iris_training.csv\", \"iris_training.csv\")\n",
    "let trainDataFilename = String(downloadResult[0])!\n",
    "trainDataFilename"
   ]
  },
  {
   "cell_type": "markdown",
   "metadata": {
    "colab_type": "text",
    "id": "qnX1-aLors4S"
   },
   "source": [
    "### Inspect the data\n",
    "\n",
    "This dataset, `iris_training.csv`, is a plain text file that stores tabular data formatted as comma-separated values (CSV). Let's look a the first 5 entries. Again, we use Python because Swift doesn't yet have easy-to-use cross-platform I/O libraries."
   ]
  },
  {
   "cell_type": "code",
   "execution_count": 4,
   "metadata": {
    "colab": {
     "autoexec": {
      "startup": false,
      "wait_interval": 0
     }
    },
    "colab_type": "code",
    "id": "FQvb_JYdrpPm"
   },
   "outputs": [
    {
     "name": "stdout",
     "output_type": "stream",
     "text": [
      "120,4,setosa,versicolor,virginica\r\n",
      "6.4,2.8,5.6,2.2,2\r\n",
      "5.0,2.3,3.3,1.0,1\r\n",
      "4.9,2.5,4.5,1.7,2\r\n",
      "4.9,3.1,1.5,0.1,0\r\n"
     ]
    },
    {
     "data": {
      "text/plain": [
       "None\n"
      ]
     },
     "execution_count": 4,
     "metadata": {},
     "output_type": "execute_result"
    }
   ],
   "source": [
    "let f = Python.open(trainDataFilename)\n",
    "for _ in 0..<5 {\n",
    "    print(Python.next(f).strip())\n",
    "}\n",
    "f.close()"
   ]
  },
  {
   "cell_type": "markdown",
   "metadata": {
    "colab_type": "text",
    "id": "kQhzD6P-uBoq"
   },
   "source": [
    "From this view of the dataset, notice the following:\n",
    "\n",
    "1. The first line is a header containing information about the dataset:\n",
    "  * There are 120 total examples. Each example has four features and one of three possible label names. \n",
    "2. Subsequent rows are data records, one *[example](https://developers.google.com/machine-learning/glossary/#example)* per line, where:\n",
    "  * The first four fields are *[features](https://developers.google.com/machine-learning/glossary/#feature)*: these are characteristics of an example. Here, the fields hold float numbers representing flower measurements.\n",
    "  * The last column is the *[label](https://developers.google.com/machine-learning/glossary/#label)*: this is the value we want to predict. For this dataset, it's an integer value of 0, 1, or 2 that corresponds to a flower name.\n",
    "\n",
    "Let's write that out in code:"
   ]
  },
  {
   "cell_type": "code",
   "execution_count": 5,
   "metadata": {
    "colab": {
     "autoexec": {
      "startup": false,
      "wait_interval": 0
     }
    },
    "colab_type": "code",
    "id": "9Edhevw7exl6"
   },
   "outputs": [
    {
     "name": "stdout",
     "output_type": "stream",
     "text": [
      "Features: [\"sepal_length\", \"sepal_width\", \"petal_length\", \"petal_width\"]\r\n",
      "Label: species\r\n"
     ]
    }
   ],
   "source": [
    "let featureNames = [\"sepal_length\", \"sepal_width\", \"petal_length\", \"petal_width\"]\n",
    "let labelName = \"species\"\n",
    "let columnNames = featureNames + [labelName]\n",
    "\n",
    "print(\"Features: \\(featureNames)\")\n",
    "print(\"Label: \\(labelName)\")"
   ]
  },
  {
   "cell_type": "markdown",
   "metadata": {
    "colab_type": "text",
    "id": "CCtwLoJhhDNc"
   },
   "source": [
    "Each label is associated with string name (for example, \"setosa\"), but machine learning typically relies on numeric values. The label numbers are mapped to a named representation, such as:\n",
    "\n",
    "* `0`: Iris setosa\n",
    "* `1`: Iris versicolor\n",
    "* `2`: Iris virginica\n",
    "\n",
    "For more information about features and labels, see the [ML Terminology section of the Machine Learning Crash Course](https://developers.google.com/machine-learning/crash-course/framing/ml-terminology)."
   ]
  },
  {
   "cell_type": "code",
   "execution_count": 6,
   "metadata": {
    "colab": {
     "autoexec": {
      "startup": false,
      "wait_interval": 0
     }
    },
    "colab_type": "code",
    "id": "sVNlJlUOhkoX"
   },
   "outputs": [
    {
     "name": "stdout",
     "output_type": "stream",
     "text": []
    }
   ],
   "source": [
    "let classNames = [\"Iris setosa\", \"Iris versicolor\", \"Iris virginica\"]"
   ]
  },
  {
   "cell_type": "markdown",
   "metadata": {
    "colab_type": "text",
    "id": "dqPkQExM2Pwt"
   },
   "source": [
    "### Create a Dataset\n",
    "\n",
    "Swift for TensorFlow's Dataset API handles loading data into a model. This is a high-level API for reading data and transforming it into a form used for training. Currently, Swift's Dataset API supports loading data only from CSV files, but we indend to extend it to handle many more types of data, like [TensorFlow's Dataset API](https://www.tensorflow.org/guide/datasets).\n",
    "\n",
    "Use the `Dataset(contentsOfCSVFile:hasHeader:featureColumns:labelColumns:)` initializer to initialize a `Dataset` with training data. Also batch the data into batches using the `.batched()` function.\n",
    "\n",
    "Some temporary limitations in Swift for TensorFlow make dataset initialization a bit unwieldy:\n",
    "\n",
    "* you must initialize your dataset in an inlinable function,\n",
    "* you must never store your dataset in an intermediate variable,\n",
    "* you must `%include \"TutorialDatasetCSVAPI.swift\"` in every Jupyter cell where you initialize a dataset, and\n",
    "* you must copy your dataset initialization function to every Jupyter cell where you use it.\n",
    "\n",
    "We intend to eliminate these limitations soon."
   ]
  },
  {
   "cell_type": "code",
   "execution_count": 7,
   "metadata": {},
   "outputs": [
    {
     "name": "stdout",
     "output_type": "stream",
     "text": []
    }
   ],
   "source": [
    "public let batchSize = Int64(32)\n",
    "\n",
    "%include \"TutorialDatasetCSVAPI.swift\"\n",
    "@inlinable @inline(__always)\n",
    "func trainDataset() -> Dataset<(Tensor<Float>, Tensor<Int32>)> {\n",
    "    return Dataset(\n",
    "        contentsOfCSVFile: trainDataFilename, hasHeader: true,\n",
    "        featureColumns: [0, 1, 2, 3], labelColumns: [4]\n",
    "    ).batched(batchSize)\n",
    "}"
   ]
  },
  {
   "cell_type": "markdown",
   "metadata": {
    "colab_type": "text",
    "id": "gB_RSn62c-3G"
   },
   "source": [
    "This returns a `Dataset` of `(features, labels)` pairs, where `feature` is a `Tensor<Float>` with shape `(batchSize, featureColumns.count)` and where `labels` is a `Tensor<Int32>` with shape `(batchSize, labelColumns.count)`\n",
    "\n",
    "These `Dataset` values are iterable. Let's look at the first element of the dataset."
   ]
  },
  {
   "cell_type": "code",
   "execution_count": 8,
   "metadata": {
    "colab": {
     "autoexec": {
      "startup": false,
      "wait_interval": 0
     }
    },
    "colab_type": "code",
    "id": "iDuG94H-C122"
   },
   "outputs": [
    {
     "name": "stdout",
     "output_type": "stream",
     "text": [
      "2018-09-09 21:15:06.657226: I tensorflow/core/platform/cpu_feature_guard.cc:141] Your CPU supports instructions that this TensorFlow binary was not compiled to use: SSE4.1 SSE4.2 AVX AVX2 FMA\r\n"
     ]
    },
    {
     "data": {
      "text/plain": [
       "[[6.4, 2.8, 5.6, 2.2], [5.0, 2.3, 3.3, 1.0], [4.9, 2.5, 4.5, 1.7], [4.9, 3.1, 1.5, 0.1], [5.7, 3.8, 1.7, 0.3], [4.4, 3.2, 1.3, 0.2], [5.4, 3.4, 1.5, 0.4], [6.9, 3.1, 5.1, 2.3], [6.7, 3.1, 4.4, 1.4], [5.1, 3.7, 1.5, 0.4], [5.2, 2.7, 3.9, 1.4], [6.9, 3.1, 4.9, 1.5], [5.8, 4.0, 1.2, 0.2], [5.4, 3.9, 1.7, 0.4], [7.7, 3.8, 6.7, 2.2], [6.3, 3.3, 4.7, 1.6], [6.8, 3.2, 5.9, 2.3], [7.6, 3.0, 6.6, 2.1], [6.4, 3.2, 5.3, 2.3], [5.7, 4.4, 1.5, 0.4], [6.7, 3.3, 5.7, 2.1], [6.4, 2.8, 5.6, 2.1], [5.4, 3.9, 1.3, 0.4], [6.1, 2.6, 5.6, 1.4], [7.2, 3.0, 5.8, 1.6], [5.2, 3.5, 1.5, 0.2], [5.8, 2.6, 4.0, 1.2], [5.9, 3.0, 5.1, 1.8], [5.4, 3.0, 4.5, 1.5], [6.7, 3.0, 5.0, 1.7], [6.3, 2.3, 4.4, 1.3], [5.1, 2.5, 3.0, 1.1]]\n"
      ]
     },
     "execution_count": 8,
     "metadata": {},
     "output_type": "execute_result"
    }
   ],
   "source": [
    "%include \"TutorialDatasetCSVAPI.swift\"\n",
    "@inlinable @inline(__always)\n",
    "func trainDataset() -> Dataset<(Tensor<Float>, Tensor<Int32>)> {\n",
    "    return Dataset(\n",
    "        contentsOfCSVFile: trainDataFilename, hasHeader: true,\n",
    "        featureColumns: [0, 1, 2, 3], labelColumns: [4]\n",
    "    ).batched(batchSize)\n",
    "}\n",
    "\n",
    "let (firstTrainFeatures, firstTrainLabels) = trainDataset().first()!\n",
    "\n",
    "firstTrainFeatures"
   ]
  },
  {
   "cell_type": "markdown",
   "metadata": {
    "colab_type": "text",
    "id": "E63mArnQaAGz"
   },
   "source": [
    "Notice that like-features are grouped together, or *batched*. Each example row's fields are appended to the corresponding feature array. Change the `batchSize` to set the number of examples stored in these feature arrays.\n",
    "\n",
    "You can start to see some clusters by plotting a few features from the batch, using Python's matplotlib:"
   ]
  },
  {
   "cell_type": "code",
   "execution_count": 9,
   "metadata": {
    "colab": {
     "autoexec": {
      "startup": false,
      "wait_interval": 0
     }
    },
    "colab_type": "code",
    "id": "me5Wn-9FcyyO",
    "scrolled": true
   },
   "outputs": [
    {
     "data": {
      "image/png": "[encoded data removed]",
      "text/plain": [
       "<Figure size 432x288 with 1 Axes>"
      ]
     },
     "metadata": {},
     "output_type": "display_data"
    },
    {
     "name": "stdout",
     "output_type": "stream",
     "text": []
    },
    {
     "data": {
      "text/plain": [
       "None\n"
      ]
     },
     "execution_count": 9,
     "metadata": {},
     "output_type": "execute_result"
    }
   ],
   "source": [
    "let firstTrainFeaturesTransposed = firstTrainFeatures.transposed()\n",
    "let petalLengths = firstTrainFeaturesTransposed[3].scalars\n",
    "let sepalLengths = firstTrainFeaturesTransposed[0].scalars\n",
    "\n",
    "plt.scatter(petalLengths, sepalLengths, c: firstTrainLabels.array.scalars)\n",
    "plt.xlabel(\"Petal length\")\n",
    "plt.ylabel(\"Sepal length\")\n",
    "plt.show()"
   ]
  },
  {
   "cell_type": "markdown",
   "metadata": {
    "colab_type": "text",
    "id": "LsaVrtNM3Tx5"
   },
   "source": [
    "## Select the type of model\n",
    "\n",
    "### Why model?\n",
    "\n",
    "A *[model](https://developers.google.com/machine-learning/crash-course/glossary#model)* is a relationship between features and the label.  For the iris classification problem, the model defines the relationship between the sepal and petal measurements and the predicted iris species. Some simple models can be described with a few lines of algebra, but complex machine learning models have a large number of parameters that are difficult to summarize.\n",
    "\n",
    "Could you determine the relationship between the four features and the iris species *without* using machine learning?  That is, could you use traditional programming techniques (for example, a lot of conditional statements) to create a model?  Perhaps—if you analyzed the dataset long enough to determine the relationships between petal and sepal measurements to a particular species. And this becomes difficult—maybe impossible—on more complicated datasets. A good machine learning approach *determines the model for you*. If you feed enough representative examples into the right machine learning model type, the program will figure out the relationships for you.\n",
    "\n",
    "### Select the model\n",
    "\n",
    "We need to select the kind of model to train. There are many types of models and picking a good one takes experience. This tutorial uses a neural network to solve the iris classification problem. *[Neural networks](https://developers.google.com/machine-learning/glossary/#neural_network)* can find complex relationships between features and the label. It is a highly-structured graph, organized into one or more *[hidden layers](https://developers.google.com/machine-learning/glossary/#hidden_layer)*. Each hidden layer consists of one or more *[neurons](https://developers.google.com/machine-learning/glossary/#neuron)*. There are several categories of neural networks and this program uses a dense, or *[fully-connected neural network](https://developers.google.com/machine-learning/glossary/#fully_connected_layer)*: the neurons in one layer receive input connections from *every* neuron in the previous layer. For example, Figure 2 illustrates a dense neural network consisting of an input layer, two hidden layers, and an output layer:\n",
    "\n",
    "<table>\n",
    "  <tr><td>\n",
    "    <img src=\"https://www.tensorflow.org/images/custom_estimators/full_network.png\"\n",
    "         alt=\"A diagram of the network architecture: Inputs, 2 hidden layers, and outputs\">\n",
    "  </td></tr>\n",
    "  <tr><td align=\"center\">\n",
    "    <b>Figure 2.</b> A neural network with features, hidden layers, and predictions.<br/>&nbsp;\n",
    "  </td></tr>\n",
    "</table>\n",
    "\n",
    "When the model from Figure 2 is trained and fed an unlabeled example, it yields three predictions: the likelihood that this flower is the given iris species. This prediction is called *[inference](https://developers.google.com/machine-learning/crash-course/glossary#inference)*. For this example, the sum of the output predictions is 1.0. In Figure 2, this prediction breaks down as: `0.02` for *Iris setosa*, `0.95` for *Iris versicolor*, and `0.03` for *Iris virginica*. This means that the model predicts—with 95% probability—that an unlabeled example flower is an *Iris versicolor*."
   ]
  },
  {
   "cell_type": "markdown",
   "metadata": {
    "colab_type": "text",
    "id": "W23DIMVPQEBt"
   },
   "source": [
    "### Create a model using Swift abstractions\n",
    "\n",
    "Swift for TensorFlow doesn't yet have high-level model APIs like Keras, so we will build a model from scratch using low-level TensorFlow APIs.\n",
    "\n",
    "We also work around some temporary limitations in the compiler:\n",
    "\n",
    "* You must define the entire model and loss function in a single Jupyter cell in order to train it. This is because Swift's Automatic Differentiation cannot yet take gradients of functions that call functions defined in other Jupyter cells.\n",
    "* You must mark all `struct`s and `var`s with the `@usableFromInline` annotation, and all functions with the `@inlinable` annotation.\n",
    "* There are a few other workarounds described inline in the comments.\n",
    "\n",
    "We indend to eliminate these limitations soon."
   ]
  },
  {
   "cell_type": "code",
   "execution_count": 10,
   "metadata": {},
   "outputs": [
    {
     "name": "stdout",
     "output_type": "stream",
     "text": []
    }
   ],
   "source": [
    "import TensorFlow\n",
    "\n",
    "%include \"TutorialModelHelpers.swift\"\n",
    "\n",
    "// ==== Define a dense neural network layer ====\n",
    "// Let's start by defining a dense neural network layer as a Swift `struct`:\n",
    "\n",
    "@usableFromInline struct DenseLayer : ParameterAggregate {\n",
    "    @usableFromInline var w: Tensor<Float>\n",
    "    @usableFromInline var b: Tensor<Float>\n",
    "\n",
    "    @inlinable\n",
    "    init(w: Tensor<Float>, b: Tensor<Float>) {\n",
    "        self.w = w\n",
    "        self.b = b\n",
    "    }\n",
    "\n",
    "    @inlinable\n",
    "    init(inputSize: Int32, outputSize: Int32) {\n",
    "        self.init(w: glorotUniform(inputSize, outputSize),\n",
    "                  b: Tensor(zeros: [outputSize]))\n",
    "    }\n",
    "}\n",
    "\n",
    "@inlinable\n",
    "func denseLayerPredictions(for input: Tensor<Float>, using model: DenseLayer) -> Tensor<Float> {\n",
    "    return input • model.w + model.b\n",
    "}\n",
    "\n",
    "// The `ParameterAggregate` in the `DenseLayer` declaration tells Swift that that `DenseLayer` is\n",
    "// made of parameters that should be updated during training. See the\n",
    "// [Parameter Update Design](https://github.com/tensorflow/swift/blob/master/proposals/ParameterUpdate.md)\n",
    "// for more information.\n",
    "\n",
    "// ==== Define a neural network model ====\n",
    "// Next, let's use `DenseLayer` to define a nerual network model for the iris classification problem:\n",
    "\n",
    "@usableFromInline let hiddenSize: Int32 = 10\n",
    "\n",
    "@usableFromInline struct IrisModel : ParameterAggregate {\n",
    "    @usableFromInline var layer1 = DenseLayer(inputSize: 4, outputSize: hiddenSize)\n",
    "    @usableFromInline var layer2 = DenseLayer(inputSize: hiddenSize, outputSize: hiddenSize)\n",
    "    @usableFromInline var layer3 = DenseLayer(inputSize: hiddenSize, outputSize: 3)\n",
    "}\n",
    "\n",
    "@inlinable\n",
    "func irisModelPredictionsInlinable(for input: Tensor<Float>, using model: IrisModel) -> Tensor<Float> {\n",
    "    let l1 = relu(denseLayerPredictions(for: input, using: model.layer1))\n",
    "    let l2 = relu(denseLayerPredictions(for: l1, using: model.layer2))\n",
    "    return denseLayerPredictions(for: l2, using: model.layer3)\n",
    "}\n",
    "\n",
    "// WORKAROUND: `@inlinable` functions can't be called from other Jupyter cells, so wrap\n",
    "// `irisModelPredictionsInlinable` in a non-`@inlinable` function to make it available to other Jupyter cells.\n",
    "func irisModelPredictions(for input: Tensor<Float>, using model: IrisModel) -> Tensor<Float> {\n",
    "    return irisModelPredictionsInlinable(for: input, using: model)\n",
    "}\n",
    "\n",
    "var model = IrisModel()\n",
    "\n",
    "// ==== Define a loss function ====\n",
    "// See the loss function section later in the tutorial for a description of the loss function.\n",
    "\n",
    "@inlinable\n",
    "func irisModelLossInlinable(for input: Tensor<Float>, using model: IrisModel, labels: Tensor<Int32>) -> Float {\n",
    "    let logits = irisModelPredictionsInlinable(for: input, using: model)\n",
    "    return softmaxCrossEntropy(logits: logits, categoricalLabels: labels)\n",
    "}\n",
    "\n",
    "// WORKAROUND: `@inlinable` functions can't be called from other Jupyter cells, so wrap `irisModelLossInlinable`\n",
    "// in a non-`@inlinable` function to make it available to other Jupyter cells.\n",
    "func irisModelLoss(for input: Tensor<Float>, using model: IrisModel, labels: Tensor<Int32>) -> Float {\n",
    "    return irisModelLossInlinable(for: input, using: model, labels: labels)\n",
    "}\n",
    "\n",
    "// ==== Take the gradient of the loss function ===\n",
    "// Use Swift's Automatic Differentiation to calculate the\n",
    "// [*gradients*](https://developers.google.com/machine-learning/glossary/#gradient) used to optimize our model.\n",
    "\n",
    "func dLoss(for input: Tensor<Float>, using model: IrisModel, labels: Tensor<Int32>) -> (Float, IrisModel) {\n",
    "    // WORKAROUND: Differentiate with respect to `input` and `model` to work around a compiler limitation.\n",
    "    // Throw away the gradient with respect to `input` because we don't need it.\n",
    "    let (loss, (_, modelGrad)) = #valueAndGradient(irisModelLossInlinable, wrt: .0, .1)(input, model, labels)\n",
    "    return (loss, modelGrad)\n",
    "}"
   ]
  },
  {
   "cell_type": "markdown",
   "metadata": {
    "colab_type": "text",
    "id": "2wFKnhWCpDSS"
   },
   "source": [
    "### Using the model\n",
    "\n",
    "Let's have a quick look at what this model does to a batch of features:"
   ]
  },
  {
   "cell_type": "code",
   "execution_count": 11,
   "metadata": {},
   "outputs": [
    {
     "name": "stdout",
     "output_type": "stream",
     "text": []
    },
    {
     "data": {
      "text/plain": [
       "[[0.70986426, -1.3503987, 1.2387767], [0.89523935, -1.1926055, 0.33550358], [0.63401747, -1.1041569, 0.8639784], [1.6950065, -1.5359433, -0.9202814], [2.045364, -1.8309946, -1.1025294]]\n"
      ]
     },
     "execution_count": 11,
     "metadata": {},
     "output_type": "execute_result"
    }
   ],
   "source": [
    "let firstTrainPredictions = irisModelPredictions(for: firstTrainFeatures, using: model)\n",
    "firstTrainPredictions[0..<5]"
   ]
  },
  {
   "cell_type": "markdown",
   "metadata": {
    "colab_type": "text",
    "id": "wxyXOhwVr5S3"
   },
   "source": [
    "Here, each example returns a [logit](https://developers.google.com/machine-learning/crash-course/glossary#logit) for each class. \n",
    "\n",
    "To convert these logits to a probability for each class, use the [softmax](https://developers.google.com/machine-learning/crash-course/glossary#softmax) function:"
   ]
  },
  {
   "cell_type": "code",
   "execution_count": 12,
   "metadata": {
    "colab": {
     "autoexec": {
      "startup": false,
      "wait_interval": 0
     }
    },
    "colab_type": "code",
    "id": "_tRwHZmTNTX2"
   },
   "outputs": [
    {
     "name": "stdout",
     "output_type": "stream",
     "text": []
    },
    {
     "data": {
      "text/plain": [
       "[[0.07069348, 0.009007796, 0.119972885], [0.08509161, 0.010547444, 0.048617944], [0.0655299, 0.011522853, 0.08247271], [0.18933076, 0.0074823415, 0.013848926], [0.26876917, 0.0055705537, 0.01154162]]\n"
      ]
     },
     "execution_count": 12,
     "metadata": {},
     "output_type": "execute_result"
    }
   ],
   "source": [
    "softmax(firstTrainPredictions[0..<5])"
   ]
  },
  {
   "cell_type": "markdown",
   "metadata": {
    "colab_type": "text",
    "id": "uRZmchElo481"
   },
   "source": [
    "Taking the `argmax` across classes gives us the predicted class index. But, the model hasn't been trained yet, so these aren't good predictions."
   ]
  },
  {
   "cell_type": "code",
   "execution_count": 13,
   "metadata": {
    "colab": {
     "autoexec": {
      "startup": false,
      "wait_interval": 0
     }
    },
    "colab_type": "code",
    "id": "-Jzm_GoErz8B"
   },
   "outputs": [
    {
     "name": "stdout",
     "output_type": "stream",
     "text": [
      "Prediction: [2, 0, 2, 0, 0, 0, 0, 0, 0, 0, 0, 0, 0, 0, 2, 0, 2, 2, 0, 0, 2, 2, 0, 2, 2, 0, 0, 2, 0, 0, 2, 0]\r\n",
      "    Labels: [2, 1, 2, 0, 0, 0, 0, 2, 1, 0, 1, 1, 0, 0, 2, 1, 2, 2, 2, 0, 2, 2, 0, 2, 2, 0, 1, 2, 1, 1, 1, 1]\r\n"
     ]
    }
   ],
   "source": [
    "print(\"Prediction: \\(firstTrainPredictions.argmax(squeezingAxis: 1))\")\n",
    "print(\"    Labels: \\(firstTrainLabels)\")"
   ]
  },
  {
   "cell_type": "markdown",
   "metadata": {
    "colab_type": "text",
    "id": "Vzq2E5J2QMtw"
   },
   "source": [
    "## Train the model\n",
    "\n",
    "*[Training](https://developers.google.com/machine-learning/crash-course/glossary#training)* is the stage of machine learning when the model is gradually optimized, or the model *learns* the dataset. The goal is to learn enough about the structure of the training dataset to make predictions about unseen data. If you learn *too much* about the training dataset, then the predictions only work for the data it has seen and will not be generalizable. This problem is called *[overfitting](https://developers.google.com/machine-learning/crash-course/glossary#overfitting)*—it's like memorizing the answers instead of understanding how to solve a problem.\n",
    "\n",
    "The iris classification problem is an example of *[supervised machine learning](https://developers.google.com/machine-learning/glossary/#supervised_machine_learning)*: the model is trained from examples that contain labels. In *[unsupervised machine learning](https://developers.google.com/machine-learning/glossary/#unsupervised_machine_learning)*, the examples don't contain labels. Instead, the model typically finds patterns among the features."
   ]
  },
  {
   "cell_type": "markdown",
   "metadata": {
    "colab_type": "text",
    "id": "RaKp8aEjKX6B"
   },
   "source": [
    "### Define the loss and gradient function\n",
    "\n",
    "Both training and evaluation stages need to calculate the model's *[loss](https://developers.google.com/machine-learning/crash-course/glossary#loss)*. This measures how off a model's predictions are from the desired label, in other words, how bad the model is performing. We want to minimize, or optimize, this value.\n",
    "\n",
    "Our model will calculate its loss using the `softmaxCrossEntropy` function which takes the model's class probability predictions and the desired label, and returns the average loss across the examples. See the definition of `irisModelLoss` in the model section above.\n",
    "\n",
    "Let's calculate the loss for the current untrained model:"
   ]
  },
  {
   "cell_type": "code",
   "execution_count": 14,
   "metadata": {
    "colab": {
     "autoexec": {
      "startup": false,
      "wait_interval": 0
     }
    },
    "colab_type": "code",
    "id": "tMAT4DcMPwI-"
   },
   "outputs": [
    {
     "name": "stdout",
     "output_type": "stream",
     "text": [
      "Loss test: 1.173676\r\n"
     ]
    }
   ],
   "source": [
    "print(\"Loss test: \\(irisModelLoss(for: firstTrainFeatures, using: model, labels: firstTrainLabels))\")"
   ]
  },
  {
   "cell_type": "markdown",
   "metadata": {
    "colab_type": "text",
    "id": "lOxFimtlKruu"
   },
   "source": [
    "### Gradient descent\n",
    "\n",
    "Gradient descent applies the computed gradients to the model's variables to minimize the `loss` function. You can think of the loss function as a curved surface (see Figure 3) and we want to find its lowest point by walking around. The gradients point in the direction of steepest ascent—so we'll travel the opposite way and move down the hill. By iteratively calculating the loss and gradient for each batch, we'll adjust the model during training. Gradually, the model will find the best combination of weights and bias to minimize loss. And the lower the loss, the better the model's predictions.\n",
    "\n",
    "<table>\n",
    "  <tr><td>\n",
    "    <img src=\"https://cs231n.github.io/assets/nn3/opt1.gif\" width=\"70%\"\n",
    "         alt=\"Optimization algorithms visualized over time in 3D space.\">\n",
    "  </td></tr>\n",
    "  <tr><td align=\"center\">\n",
    "    <b>Figure 3.</b> Optimization algorithms visualized over time in 3D space. (Source: <a href=\"http://cs231n.github.io/neural-networks-3/\">Stanford class CS231n</a>, MIT License)<br/>&nbsp;\n",
    "  </td></tr>\n",
    "</table>"
   ]
  },
  {
   "cell_type": "markdown",
   "metadata": {
    "colab_type": "text",
    "id": "XkUd6UiZa_dF"
   },
   "source": [
    "Let's set a learning rate for gradient descent:"
   ]
  },
  {
   "cell_type": "code",
   "execution_count": 15,
   "metadata": {
    "colab": {
     "autoexec": {
      "startup": false,
      "wait_interval": 0
     }
    },
    "colab_type": "code",
    "id": "8xxi2NNGKwG_"
   },
   "outputs": [
    {
     "name": "stdout",
     "output_type": "stream",
     "text": []
    }
   ],
   "source": [
    "let learningRate: Float = 0.001"
   ]
  },
  {
   "cell_type": "markdown",
   "metadata": {
    "colab_type": "text",
    "id": "pJVRZ0hP52ZB"
   },
   "source": [
    "We'll use this to calculate a single gradient descent step:"
   ]
  },
  {
   "cell_type": "code",
   "execution_count": 16,
   "metadata": {
    "colab": {
     "autoexec": {
      "startup": false,
      "wait_interval": 0
     }
    },
    "colab_type": "code",
    "id": "rxRNTFVe56RG"
   },
   "outputs": [
    {
     "name": "stdout",
     "output_type": "stream",
     "text": [
      "Initial Loss: 1.173676\r\n",
      "Next    Loss: 0.9020331\r\n"
     ]
    }
   ],
   "source": [
    "print(\"Initial Loss: \\(irisModelLoss(for: firstTrainFeatures, using: model, labels: firstTrainLabels))\")\n",
    "model.update(withGradients: dLoss(for: firstTrainFeatures, using: model, labels: firstTrainLabels).1) {\n",
    "    $0 -= learningRate * $1\n",
    "}\n",
    "print(\"Next    Loss: \\(irisModelLoss(for: firstTrainFeatures, using: model, labels: firstTrainLabels))\")"
   ]
  },
  {
   "cell_type": "markdown",
   "metadata": {},
   "source": [
    "If you run the above step repeatedly, you should expect the loss to go down gradually.\n",
    "\n",
    "The `model.update(withGradients:)` method iterates over all the model parameters and applies `{ $0 -= learningRate * $1}` to them, where `$0` is the parameter and where `$1` is the gradient along that parameter."
   ]
  },
  {
   "cell_type": "markdown",
   "metadata": {
    "colab_type": "text",
    "id": "7Y2VSELvwAvW"
   },
   "source": [
    "### Training loop\n",
    "\n",
    "With all the pieces in place, the model is ready for training! A training loop feeds the dataset examples into the model to help it make better predictions. The following code block sets up these training steps:\n",
    "\n",
    "1. Iterate each *epoch*. An epoch is one pass through the dataset.\n",
    "2. Within an epoch, iterate over each example in the training `Dataset` grabbing its *features* (`x`) and *label* (`y`).\n",
    "3. Using the example's features, make a prediction and compare it with the label. Measure the inaccuracy of the prediction and use that to calculate the model's loss and gradients.\n",
    "4. Use gradient descent to update the model's variables.\n",
    "5. Keep track of some stats for visualization.\n",
    "6. Repeat for each epoch.\n",
    "\n",
    "The `numEpochs` variable is the number of times to loop over the dataset collection. Counter-intuitively, training a model longer does not guarantee a better model. `numEpochs` is a *[hyperparameter](https://developers.google.com/machine-learning/glossary/#hyperparameter)* that you can tune. Choosing the right number usually requires both experience and experimentation."
   ]
  },
  {
   "cell_type": "code",
   "execution_count": 17,
   "metadata": {
    "colab": {
     "autoexec": {
      "startup": false,
      "wait_interval": 0
     }
    },
    "colab_type": "code",
    "id": "AIgulGRUhpto"
   },
   "outputs": [
    {
     "name": "stdout",
     "output_type": "stream",
     "text": []
    }
   ],
   "source": [
    "let numEpochs = 201\n",
    "var trainAccuracyResults: [Float] = []\n",
    "var trainLossResults: [Float] = []"
   ]
  },
  {
   "cell_type": "code",
   "execution_count": 18,
   "metadata": {},
   "outputs": [
    {
     "name": "stdout",
     "output_type": "stream",
     "text": [
      "Epoch 0: Loss: 0.7668862, Accuracy: 0.7916667\r\n",
      "Epoch 50: Loss: 0.22469647, Accuracy: 0.8880208\r\n",
      "Epoch 100: Loss: 0.17057407, Accuracy: 0.9270833\r\n",
      "Epoch 150: Loss: 0.135658, Accuracy: 0.9583333\r\n",
      "Epoch 200: Loss: 0.11663158, Accuracy: 0.9583333\r\n"
     ]
    }
   ],
   "source": [
    "%include \"TutorialDatasetCSVAPI.swift\"\n",
    "@inlinable @inline(__always)\n",
    "func trainDataset() -> Dataset<(Tensor<Float>, Tensor<Int32>)> {\n",
    "    return Dataset(\n",
    "        contentsOfCSVFile: trainDataFilename, hasHeader: true,\n",
    "        featureColumns: [0, 1, 2, 3], labelColumns: [4]\n",
    "    ).batched(batchSize)\n",
    "}\n",
    "\n",
    "func accuracy(predictions: Tensor<Int32>, truths: Tensor<Int32>) -> Float {\n",
    "    return Tensor<Float>(predictions.elementsEqual(truths)).mean()\n",
    "}\n",
    "\n",
    "for epoch in 0..<numEpochs {\n",
    "    var epochLoss: Float = 0\n",
    "    var epochAccuracy: Float = 0\n",
    "    var batchCount: Int = 0\n",
    "    for (x, y) in trainDataset() {       \n",
    "        let (loss, grad) = dLoss(for: x, using: model, labels: y)\n",
    "        model.update(withGradients: grad) { $0 -= learningRate * $1 }\n",
    "        \n",
    "        let logits = irisModelPredictions(for: x, using: model)\n",
    "        epochAccuracy += accuracy(predictions: logits.argmax(squeezingAxis: 1), truths: y)\n",
    "        epochLoss += loss\n",
    "        batchCount += 1\n",
    "    }\n",
    "    epochAccuracy /= Float(batchCount)\n",
    "    epochLoss /= Float(batchCount)\n",
    "    trainAccuracyResults.append(epochAccuracy)\n",
    "    trainLossResults.append(epochLoss)\n",
    "    if (epoch % 50 == 0) {\n",
    "        print(\"Epoch \\(epoch): Loss: \\(epochLoss), Accuracy: \\(epochAccuracy)\")\n",
    "    }\n",
    "}"
   ]
  },
  {
   "cell_type": "markdown",
   "metadata": {
    "colab_type": "text",
    "id": "2FQHVUnm_rjw"
   },
   "source": [
    "### Visualize the loss function over time"
   ]
  },
  {
   "cell_type": "markdown",
   "metadata": {
    "colab_type": "text",
    "id": "j3wdbmtLVTyr"
   },
   "source": [
    "While it's helpful to print out the model's training progress, it's often *more* helpful to see this progress. We can create basic charts using Python's `matplotlib` module.\n",
    "\n",
    "Interpreting these charts takes some experience, but you really want to see the *loss* go down and the *accuracy* go up."
   ]
  },
  {
   "cell_type": "code",
   "execution_count": 19,
   "metadata": {
    "colab": {
     "autoexec": {
      "startup": false,
      "wait_interval": 0
     }
    },
    "colab_type": "code",
    "id": "agjvNd2iUGFn"
   },
   "outputs": [
    {
     "data": {
      "image/png": "[encoded data removed]",
      "text/plain": [
       "<Figure size 864x576 with 2 Axes>"
      ]
     },
     "metadata": {},
     "output_type": "display_data"
    },
    {
     "name": "stdout",
     "output_type": "stream",
     "text": []
    },
    {
     "data": {
      "text/plain": [
       "None\n"
      ]
     },
     "execution_count": 19,
     "metadata": {},
     "output_type": "execute_result"
    }
   ],
   "source": [
    "plt.figure(figsize: [12, 8])\n",
    "\n",
    "let accuracyAxes = plt.subplot(2, 1, 1)\n",
    "accuracyAxes.set_ylabel(\"Accuracy\")\n",
    "accuracyAxes.plot(trainAccuracyResults)\n",
    "\n",
    "let lossAxes = plt.subplot(2, 1, 2)\n",
    "lossAxes.set_ylabel(\"Loss\")\n",
    "lossAxes.set_xlabel(\"Epoch\")\n",
    "lossAxes.plot(trainLossResults)\n",
    "\n",
    "plt.show()"
   ]
  },
  {
   "cell_type": "markdown",
   "metadata": {},
   "source": [
    "Note that the y-axes of the graphs are not zero-based."
   ]
  },
  {
   "cell_type": "markdown",
   "metadata": {
    "colab_type": "text",
    "id": "Zg8GoMZhLpGH"
   },
   "source": [
    "## Evaluate the model's effectiveness\n",
    "\n",
    "Now that the model is trained, we can get some statistics on its performance.\n",
    "\n",
    "*Evaluating* means determining how effectively the model makes predictions. To determine the model's effectiveness at iris classification, pass some sepal and petal measurements to the model and ask the model to predict what iris species they represent. Then compare the model's prediction against the actual label.  For example, a model that picked the correct species on half the input examples has an *[accuracy](https://developers.google.com/machine-learning/glossary/#accuracy)* of `0.5`. Figure 4 shows a slightly more effective model, getting 4 out of 5 predictions correct at 80% accuracy:\n",
    "\n",
    "<table cellpadding=\"8\" border=\"0\">\n",
    "  <colgroup>\n",
    "    <col span=\"4\" >\n",
    "    <col span=\"1\" bgcolor=\"lightblue\">\n",
    "    <col span=\"1\" bgcolor=\"lightgreen\">\n",
    "  </colgroup>\n",
    "  <tr bgcolor=\"lightgray\">\n",
    "    <th colspan=\"4\">Example features</th>\n",
    "    <th colspan=\"1\">Label</th>\n",
    "    <th colspan=\"1\" >Model prediction</th>\n",
    "  </tr>\n",
    "  <tr>\n",
    "    <td>5.9</td><td>3.0</td><td>4.3</td><td>1.5</td><td align=\"center\">1</td><td align=\"center\">1</td>\n",
    "  </tr>\n",
    "  <tr>\n",
    "    <td>6.9</td><td>3.1</td><td>5.4</td><td>2.1</td><td align=\"center\">2</td><td align=\"center\">2</td>\n",
    "  </tr>\n",
    "  <tr>\n",
    "    <td>5.1</td><td>3.3</td><td>1.7</td><td>0.5</td><td align=\"center\">0</td><td align=\"center\">0</td>\n",
    "  </tr>\n",
    "  <tr>\n",
    "    <td>6.0</td> <td>3.4</td> <td>4.5</td> <td>1.6</td> <td align=\"center\">1</td><td align=\"center\" bgcolor=\"red\">2</td>\n",
    "  </tr>\n",
    "  <tr>\n",
    "    <td>5.5</td><td>2.5</td><td>4.0</td><td>1.3</td><td align=\"center\">1</td><td align=\"center\">1</td>\n",
    "  </tr>\n",
    "  <tr><td align=\"center\" colspan=\"6\">\n",
    "    <b>Figure 4.</b> An iris classifier that is 80% accurate.<br/>&nbsp;\n",
    "  </td></tr>\n",
    "</table>"
   ]
  },
  {
   "cell_type": "markdown",
   "metadata": {
    "colab_type": "text",
    "id": "z-EvK7hGL0d8"
   },
   "source": [
    "### Setup the test dataset\n",
    "\n",
    "Evaluating the model is similar to training the model. The biggest difference is the examples come from a separate *[test set](https://developers.google.com/machine-learning/crash-course/glossary#test_set)* rather than the training set. To fairly assess a model's effectiveness, the examples used to evaluate a model must be different from the examples used to train the model.\n",
    "\n",
    "The setup for the test `Dataset` is similar to the setup for training `Dataset`. Download the test set from http://download.tensorflow.org/data/iris_training.csv:"
   ]
  },
  {
   "cell_type": "code",
   "execution_count": 20,
   "metadata": {
    "colab": {
     "autoexec": {
      "startup": false,
      "wait_interval": 0
     }
    },
    "colab_type": "code",
    "id": "SRMWCu30bnxH"
   },
   "outputs": [
    {
     "name": "stdout",
     "output_type": "stream",
     "text": []
    },
    {
     "data": {
      "text/plain": [
       "\"iris_test.csv\"\n"
      ]
     },
     "execution_count": 20,
     "metadata": {},
     "output_type": "execute_result"
    }
   ],
   "source": [
    "let urllib = Python.import(\"urllib\")\n",
    "let downloadResult = urllib.urlretrieve(\"http://download.tensorflow.org/data/iris_test.csv\", \"iris_test.csv\")\n",
    "let testDataFilename = String(downloadResult[0])!\n",
    "testDataFilename"
   ]
  },
  {
   "cell_type": "markdown",
   "metadata": {},
   "source": [
    " Now load it into a `Dataset`:"
   ]
  },
  {
   "cell_type": "code",
   "execution_count": 21,
   "metadata": {},
   "outputs": [
    {
     "name": "stdout",
     "output_type": "stream",
     "text": []
    }
   ],
   "source": [
    "%include \"TutorialDatasetCSVAPI.swift\"\n",
    "@inlinable @inline(__always)\n",
    "func testDataset() -> Dataset<(Tensor<Float>, Tensor<Int32>)> {\n",
    "    return Dataset(\n",
    "        contentsOfCSVFile: testDataFilename, hasHeader: true,\n",
    "        featureColumns: [0, 1, 2, 3], labelColumns: [4]\n",
    "    ).batched(batchSize)\n",
    "}"
   ]
  },
  {
   "cell_type": "markdown",
   "metadata": {
    "colab_type": "text",
    "id": "HFuOKXJdMAdm"
   },
   "source": [
    "### Evaluate the model on the test dataset\n",
    "\n",
    "Unlike the training stage, the model only evaluates a single [epoch](https://developers.google.com/machine-learning/glossary/#epoch) of the test data. In the following code cell, we iterate over each example in the test set and compare the model's prediction against the actual label. This is used to measure the model's accuracy across the entire test set."
   ]
  },
  {
   "cell_type": "code",
   "execution_count": 22,
   "metadata": {},
   "outputs": [
    {
     "name": "stdout",
     "output_type": "stream",
     "text": [
      "Test batch accuracy: 0.96666664\r\n"
     ]
    }
   ],
   "source": [
    "%include \"TutorialDatasetCSVAPI.swift\"\n",
    "@inlinable @inline(__always)\n",
    "func testDataset() -> Dataset<(Tensor<Float>, Tensor<Int32>)> {\n",
    "    return Dataset(\n",
    "        contentsOfCSVFile: testDataFilename, hasHeader: true,\n",
    "        featureColumns: [0, 1, 2, 3], labelColumns: [4]\n",
    "    ).batched(batchSize)\n",
    "}\n",
    "\n",
    "for (testFeatures, testLabels) in testDataset() {\n",
    "    let logits = irisModelPredictions(for: testFeatures, using: model)\n",
    "    let predictions = logits.argmax(squeezingAxis: 1)\n",
    "    print(\"Test batch accuracy: \\(accuracy(predictions: predictions, truths: testLabels))\")\n",
    "}"
   ]
  },
  {
   "cell_type": "markdown",
   "metadata": {
    "colab_type": "text",
    "id": "HcKEZMtCOeK-"
   },
   "source": [
    "We can see on the first batch, for example, the model is usually correct:"
   ]
  },
  {
   "cell_type": "code",
   "execution_count": 23,
   "metadata": {
    "colab": {
     "autoexec": {
      "startup": false,
      "wait_interval": 0
     }
    },
    "colab_type": "code",
    "id": "uNwt2eMeOane"
   },
   "outputs": [
    {
     "name": "stdout",
     "output_type": "stream",
     "text": [
      "[1, 2, 0, 1, 1, 1, 0, 1, 1, 2, 2, 0, 2, 1, 1, 0, 1, 0, 0, 2, 0, 1, 2, 1, 1, 1, 0, 1, 2, 1]\r\n",
      "[1, 2, 0, 1, 1, 1, 0, 2, 1, 2, 2, 0, 2, 1, 1, 0, 1, 0, 0, 2, 0, 1, 2, 1, 1, 1, 0, 1, 2, 1]\r\n"
     ]
    }
   ],
   "source": [
    "%include \"TutorialDatasetCSVAPI.swift\"\n",
    "@inlinable @inline(__always)\n",
    "func testDataset() -> Dataset<(Tensor<Float>, Tensor<Int32>)> {\n",
    "    return Dataset(\n",
    "        contentsOfCSVFile: testDataFilename, hasHeader: true,\n",
    "        featureColumns: [0, 1, 2, 3], labelColumns: [4]\n",
    "    ).batched(batchSize)\n",
    "}\n",
    "\n",
    "let (firstTestBatchFeatures, firstTestBatchLabels) = testDataset().first()!\n",
    "let firstTestBatchLogits = irisModelPredictions(for: firstTestBatchFeatures, using: model)\n",
    "let firstTestBatchPredictions = firstTestBatchLogits.argmax(squeezingAxis: 1)\n",
    "\n",
    "print(firstTestBatchPredictions)\n",
    "print(firstTestBatchLabels)"
   ]
  },
  {
   "cell_type": "markdown",
   "metadata": {
    "colab_type": "text",
    "id": "7Li2r1tYvW7S"
   },
   "source": [
    "## Use the trained model to make predictions\n",
    "\n",
    "We've trained a model and demonstrated that it's good—but not perfect—at classifying iris species. Now let's use the trained model to make some predictions on [unlabeled examples](https://developers.google.com/machine-learning/glossary/#unlabeled_example); that is, on examples that contain features but not a label.\n",
    "\n",
    "In real-life, the unlabeled examples could come from lots of different sources including apps, CSV files, and data feeds. For now, we're going to manually provide three unlabeled examples to predict their labels. Recall, the label numbers are mapped to a named representation as:\n",
    "\n",
    "* `0`: Iris setosa\n",
    "* `1`: Iris versicolor\n",
    "* `2`: Iris virginica"
   ]
  },
  {
   "cell_type": "code",
   "execution_count": 24,
   "metadata": {},
   "outputs": [
    {
     "name": "stdout",
     "output_type": "stream",
     "text": [
      "Example 0 prediction: Iris setosa ([0.9954676, 0.004532405, 8.213291e-11])\r\n",
      "Example 1 prediction: Iris versicolor ([0.0012373406, 0.99360734, 0.0051552807])\r\n",
      "Example 2 prediction: Iris virginica ([3.6137847e-06, 0.4319605, 0.5680359])\r\n"
     ]
    }
   ],
   "source": [
    "let unlabeledDataset: Tensor<Float> =\n",
    "    [[5.1, 3.3, 1.7, 0.5],\n",
    "     [5.9, 3.0, 4.2, 1.5],\n",
    "     [6.9, 3.1, 5.4, 2.1]]\n",
    "\n",
    "let unlabeledDatasetPredictions = irisModelPredictions(for: unlabeledDataset, using: model)\n",
    "\n",
    "for i in 0..<unlabeledDatasetPredictions.shape[0] {\n",
    "    let logits = unlabeledDatasetPredictions[i]\n",
    "    let classIdx = logits.argmax()\n",
    "    print(\"Example \\(i) prediction: \\(classNames[Int(classIdx)]) (\\(softmax(logits)))\")\n",
    "}"
   ]
  },
  {
   "cell_type": "code",
   "execution_count": null,
   "metadata": {},
   "outputs": [],
   "source": []
  }
 ],
 "metadata": {
  "colab": {
   "collapsed_sections": [],
   "default_view": {},
   "name": "Custom training: walkthrough",
   "private_outputs": true,
   "provenance": [],
   "toc_visible": true,
   "version": "0.3.2",
   "views": {}
  },
  "kernelspec": {
   "display_name": "Swift",
   "language": "swift",
   "name": "swift"
  },
  "language_info": {
   "file_extension": ".swift",
   "mimetype": "text/x-swift",
   "name": "swift"
  }
 },
 "nbformat": 4,
 "nbformat_minor": 1
}
