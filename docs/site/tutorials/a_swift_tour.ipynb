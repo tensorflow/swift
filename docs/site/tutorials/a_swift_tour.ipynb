{
  "nbformat": 4,
  "nbformat_minor": 0,
  "metadata": {
    "colab": {
      "name": "A Swift Tour.ipynb",
      "version": "0.3.2",
      "provenance": [],
      "collapsed_sections": []
    },
    "kernelspec": {
      "display_name": "Swift",
      "language": "swift",
      "name": "swift"
    }
  },
  "cells": [
    {
      "metadata": {
        "id": "QdsgF9Mxj0gr",
        "colab_type": "text"
      },
      "cell_type": "markdown",
      "source": [
        "##### Adapted from the original [*A Swift Tour*](https://docs.swift.org/swift-book/GuidedTour/GuidedTour.html) on [Swift.org](https://swift.org) with modifications. The original content was authored by Apple Inc. Licensed under the [Creative Commons Attribution 4.0 International (CC BY 4.0) License](https://creativecommons.org/licenses/by/4.0/)."
      ]
    },
    {
      "metadata": {
        "id": "pJNp_GAv9LAh",
        "colab_type": "text"
      },
      "cell_type": "markdown",
      "source": [
        "<table class=\"tfo-notebook-buttons\" align=\"left\">\n",
        "  <td>\n",
        "    <a target=\"_blank\" href=\"https://www.tensorflow.org/swift/tutorials/a_swift_tour\"><img src=\"https://www.tensorflow.org/images/tf_logo_32px.png\" />View on TensorFlow.org</a>\n",
        "  </td>\n",
        "  <td>\n",
        "    <a target=\"_blank\" href=\"https://colab.research.google.com/github/tensorflow/swift/blob/master/docs/site/tutorials/a_swift_tour.ipynb\"><img src=\"https://www.tensorflow.org/images/colab_logo_32px.png\" />Run in Google Colab</a>\n",
        "  </td>\n",
        "  <td>\n",
        "    <a target=\"_blank\" href=\"https://github.com/tensorflow/swift/blob/master/docs/site/tutorials/a_swift_tour.ipynb\"><img src=\"https://www.tensorflow.org/images/GitHub-Mark-32px.png\" />View source on GitHub</a>\n",
        "  </td>\n",
        "</table>"
      ]
    },
    {
      "metadata": {
        "id": "673eaebJdE12",
        "colab_type": "text"
      },
      "cell_type": "markdown",
      "source": [
        "# A Swift Tour\n",
        "\n",
        "Tradition suggests that the first program in a new language should print the words \"Hello, world!\" on the screen. In Swift, this can be done in a single line:"
      ]
    },
    {
      "metadata": {
        "id": "iNHY9-pzdE13",
        "colab_type": "code",
        "outputId": "8319f4a0-0f0c-440a-d547-89c4c30e205d",
        "colab": {
          "base_uri": "https://localhost:8080/",
          "height": 34
        }
      },
      "cell_type": "code",
      "source": [
        "print(\"Hello, world!\")"
      ],
      "execution_count": 1,
      "outputs": [
        {
          "output_type": "stream",
          "text": [
            "Hello, world!\r\n"
          ],
          "name": "stdout"
        }
      ]
    },
    {
      "metadata": {
        "id": "jdHsgXTYdE17",
        "colab_type": "text"
      },
      "cell_type": "markdown",
      "source": [
        "If you have written code in C or Objective-C, this syntax looks familiar to you—in Swift, this line of code is a complete program. You don’t need to import a separate library for functionality like input/output or string handling. Code written at global scope is used as the entry point for the program, so you don’t need a `main()` function. You also don’t need to write semicolons at the end of every statement.\n",
        "\n",
        "This tour gives you enough information to start writing code in Swift by showing you how to accomplish a variety of programming tasks. Don’t worry if you don’t understand something—everything introduced in this tour is explained in detail in the rest of this book."
      ]
    },
    {
      "metadata": {
        "id": "OihtZA6QhEZS",
        "colab_type": "text"
      },
      "cell_type": "markdown",
      "source": [
        "## Simple Values\n",
        "\n",
        "Use `let` to make a constant and `var` to make a variable. The value of a constant doesn’t need to be known at compile time, but you must assign it a value exactly once. This means you can use constants to name a value that you determine once but use in many places."
      ]
    },
    {
      "metadata": {
        "id": "p_pjyevTdE18",
        "colab_type": "code",
        "colab": {}
      },
      "cell_type": "code",
      "source": [
        "var myVariable = 42\n",
        "myVariable = 50\n",
        "let myConstant = 42"
      ],
      "execution_count": 0,
      "outputs": []
    },
    {
      "metadata": {
        "id": "A7S47TpWdE1-",
        "colab_type": "text"
      },
      "cell_type": "markdown",
      "source": [
        "A constant or variable must have the same type as the value you want to assign to it. However, you don’t always have to write the type explicitly. Providing a value when you create a constant or variable lets the compiler infer its type. In the example above, the compiler infers that `myVariable` is an integer because its initial value is an integer.\n",
        "\n",
        "If the initial value doesn’t provide enough information (or if there is no initial value), specify the type by writing it after the variable, separated by a colon. Note: using `Double` instead of `Float` for floating point numbers gives you more precision, and is the default floating point type in Swift."
      ]
    },
    {
      "metadata": {
        "id": "RDo7IwtmdE1_",
        "colab_type": "code",
        "colab": {}
      },
      "cell_type": "code",
      "source": [
        "let implicitInteger = 70\n",
        "let implicitDouble = 70.0\n",
        "let explicitDouble: Double = 70"
      ],
      "execution_count": 0,
      "outputs": []
    },
    {
      "metadata": {
        "id": "9jZ0Hccqhlil",
        "colab_type": "code",
        "colab": {}
      },
      "cell_type": "code",
      "source": [
        "// Experiment:\n",
        "// Create a constant with an explicit type of `Float` and a value of 4."
      ],
      "execution_count": 0,
      "outputs": []
    },
    {
      "metadata": {
        "id": "N1PqnuLFXR4L",
        "colab_type": "text"
      },
      "cell_type": "markdown",
      "source": [
        "Values are never implicitly converted to another type. If you need to convert a value to a different type, explicitly make an instance of the desired type."
      ]
    },
    {
      "metadata": {
        "id": "rPuJLYsHdE2C",
        "colab_type": "code",
        "outputId": "b71227f4-2f81-4fdc-ec72-bb53da731e8c",
        "colab": {
          "base_uri": "https://localhost:8080/",
          "height": 34
        }
      },
      "cell_type": "code",
      "source": [
        "let label = \"The width is \"\n",
        "let width = 94\n",
        "label + String(width)"
      ],
      "execution_count": 5,
      "outputs": [
        {
          "output_type": "execute_result",
          "data": {
            "text/plain": [
              "\"The width is 94\"\n"
            ]
          },
          "metadata": {
            "tags": []
          },
          "execution_count": 5
        }
      ]
    },
    {
      "metadata": {
        "id": "QuQ7-JoOhNY9",
        "colab_type": "code",
        "colab": {}
      },
      "cell_type": "code",
      "source": [
        "// Experiment:\n",
        "// Try removing the conversion to `String` from the last line. What error do you get?"
      ],
      "execution_count": 0,
      "outputs": []
    },
    {
      "metadata": {
        "id": "7cwpu6_3YYKX",
        "colab_type": "text"
      },
      "cell_type": "markdown",
      "source": [
        "There’s an even simpler way to include values in strings: Write the value in parentheses, and write a backslash (`\\`) before the parentheses. For example:"
      ]
    },
    {
      "metadata": {
        "id": "j-W3HyT9ZBOF",
        "colab_type": "code",
        "outputId": "fc70e6e3-7ab3-4ec4-94a7-1d3d0ae45e47",
        "colab": {
          "base_uri": "https://localhost:8080/",
          "height": 34
        }
      },
      "cell_type": "code",
      "source": [
        "let apples = 3\n",
        "\"I have \\(apples) apples.\""
      ],
      "execution_count": 7,
      "outputs": [
        {
          "output_type": "execute_result",
          "data": {
            "text/plain": [
              "\"I have 3 apples.\"\n"
            ]
          },
          "metadata": {
            "tags": []
          },
          "execution_count": 7
        }
      ]
    },
    {
      "metadata": {
        "id": "kd1WEYjwZCXx",
        "colab_type": "code",
        "outputId": "ae89a8c0-3e31-4723-e65e-bff549454047",
        "colab": {
          "base_uri": "https://localhost:8080/",
          "height": 34
        }
      },
      "cell_type": "code",
      "source": [
        "let oranges = 5\n",
        "\"I have \\(apples + oranges) pieces of fruit.\""
      ],
      "execution_count": 8,
      "outputs": [
        {
          "output_type": "execute_result",
          "data": {
            "text/plain": [
              "\"I have 8 pieces of fruit.\"\n"
            ]
          },
          "metadata": {
            "tags": []
          },
          "execution_count": 8
        }
      ]
    },
    {
      "metadata": {
        "id": "3avZRAzlguOQ",
        "colab_type": "code",
        "colab": {}
      },
      "cell_type": "code",
      "source": [
        "// Experiment:\n",
        "// Use `\\()` to include a floating-point calculation in a string and to include someone's name in a\n",
        "// greeting."
      ],
      "execution_count": 0,
      "outputs": []
    },
    {
      "metadata": {
        "id": "4T6rPJ6tWaKu",
        "colab_type": "text"
      },
      "cell_type": "markdown",
      "source": [
        "Use three double quotation marks (`\"\"\"`) for strings that take up multiple lines. Indentation at the start of each quoted line is removed, as long as it matches the indentation of the closing quotation marks. For example:"
      ]
    },
    {
      "metadata": {
        "id": "_5RJZBV1Webt",
        "colab_type": "code",
        "outputId": "8723eb4b-431b-4dcb-bc8c-002c7edc8555",
        "colab": {
          "base_uri": "https://localhost:8080/",
          "height": 54
        }
      },
      "cell_type": "code",
      "source": [
        "let quotation = \"\"\"\n",
        "    Even though there's whitespace to the left,\n",
        "    the actual lines aren't indented.\n",
        "        Except for this line.\n",
        "    Double quotes (\") can appear without being escaped.\n",
        "\n",
        "    I still have \\(apples + oranges) pieces of fruit.\n",
        "    \"\"\"\n",
        "print(quotation)"
      ],
      "execution_count": 10,
      "outputs": [
        {
          "output_type": "execute_result",
          "data": {
            "text/plain": [
              "\"Even though there\\'s whitespace to the left,\\nthe actual lines aren\\'t indented.\\nExcept for this line.\\nDouble quotes (\\\") can appear without being escaped.\\n\\nI still have 8 pieces of fruit.\"\n"
            ]
          },
          "metadata": {
            "tags": []
          },
          "execution_count": 10
        }
      ]
    },
    {
      "metadata": {
        "id": "AuhL5LMzVr-T",
        "colab_type": "text"
      },
      "cell_type": "markdown",
      "source": [
        "Create arrays and dictionaries using brackets (`[]`), and access their elements by writing the index or key in brackets. A comma is allowed after the last element."
      ]
    },
    {
      "metadata": {
        "id": "BI46PGfQdE2I",
        "colab_type": "code",
        "outputId": "c6df9fda-7777-43bc-b807-df9f374c1da5",
        "colab": {
          "base_uri": "https://localhost:8080/",
          "height": 187
        }
      },
      "cell_type": "code",
      "source": [
        "var shoppingList = [\"catfish\", \"water\", \"tulips\", \"blue paint\"]\n",
        "shoppingList[1] = \"bottle of water\"\n",
        " \n",
        "var occupations = [\n",
        "    \"Malcolm\": \"Captain\",\n",
        "    \"Kaylee\": \"Mechanic\",\n",
        "]\n",
        "occupations[\"Jayne\"] = \"Public Relations\"\n",
        "occupations"
      ],
      "execution_count": 11,
      "outputs": [
        {
          "output_type": "execute_result",
          "data": {
            "text/plain": [
              "▿ 3 elements\n",
              "  ▿ 0 : 2 elements\n",
              "    - key : \"Malcolm\"\n",
              "    - value : \"Captain\"\n",
              "  ▿ 1 : 2 elements\n",
              "    - key : \"Kaylee\"\n",
              "    - value : \"Mechanic\"\n",
              "  ▿ 2 : 2 elements\n",
              "    - key : \"Jayne\"\n",
              "    - value : \"Public Relations\"\n"
            ]
          },
          "metadata": {
            "tags": []
          },
          "execution_count": 11
        }
      ]
    },
    {
      "metadata": {
        "id": "HpaZFmGhYmW-",
        "colab_type": "text"
      },
      "cell_type": "markdown",
      "source": [
        "Arrays automatically grow as you add elements."
      ]
    },
    {
      "metadata": {
        "id": "vVgbHKpaYpPX",
        "colab_type": "code",
        "outputId": "7bc9b6b1-4d05-41f1-cf2a-e9d3f9047876",
        "colab": {
          "base_uri": "https://localhost:8080/",
          "height": 119
        }
      },
      "cell_type": "code",
      "source": [
        "shoppingList.append(\"blue paint\")\n",
        "shoppingList"
      ],
      "execution_count": 12,
      "outputs": [
        {
          "output_type": "execute_result",
          "data": {
            "text/plain": [
              "▿ 5 elements\n",
              "  - 0 : \"catfish\"\n",
              "  - 1 : \"bottle of water\"\n",
              "  - 2 : \"tulips\"\n",
              "  - 3 : \"blue paint\"\n",
              "  - 4 : \"blue paint\"\n"
            ]
          },
          "metadata": {
            "tags": []
          },
          "execution_count": 12
        }
      ]
    },
    {
      "metadata": {
        "id": "P_F6ODC6dE2L",
        "colab_type": "text"
      },
      "cell_type": "markdown",
      "source": [
        "To create an empty array or dictionary, use the initializer syntax."
      ]
    },
    {
      "metadata": {
        "id": "pZ0hFNzXdE2M",
        "colab_type": "code",
        "colab": {}
      },
      "cell_type": "code",
      "source": [
        "let emptyArray = [String]()\n",
        "let emptyDictionary = [String: Float]()"
      ],
      "execution_count": 0,
      "outputs": []
    },
    {
      "metadata": {
        "id": "r88SNR3mdE2Q",
        "colab_type": "text"
      },
      "cell_type": "markdown",
      "source": [
        "If type information can be inferred, you can write an empty array as `[]` and an empty dictionary as `[:]` — for example, when you set a new value for a variable or pass an argument to a function."
      ]
    },
    {
      "metadata": {
        "id": "LrmOoh8HdE2R",
        "colab_type": "code",
        "colab": {}
      },
      "cell_type": "code",
      "source": [
        "shoppingList = []\n",
        "occupations = [:]"
      ],
      "execution_count": 0,
      "outputs": []
    },
    {
      "metadata": {
        "id": "IcyJIWOqdE2T",
        "colab_type": "text"
      },
      "cell_type": "markdown",
      "source": [
        "## Control Flow\n",
        "\n",
        "Use `if` and `switch` to make conditionals, and use `for`-`in`, `for`, `while`, and `repeat`-`while` to make loops. Parentheses around the condition or loop variable are optional. Braces around the body are required."
      ]
    },
    {
      "metadata": {
        "id": "QhcmCbQydE2U",
        "colab_type": "code",
        "outputId": "7c50964f-0283-4959-a9aa-da02d694031c",
        "colab": {
          "base_uri": "https://localhost:8080/",
          "height": 34
        }
      },
      "cell_type": "code",
      "source": [
        "let individualScores = [75, 43, 103, 87, 12]\n",
        "var teamScore = 0\n",
        "for score in individualScores {\n",
        "    if score > 50 {\n",
        "        teamScore += 3\n",
        "    } else {\n",
        "        teamScore += 1\n",
        "    }\n",
        "}\n",
        "teamScore"
      ],
      "execution_count": 15,
      "outputs": [
        {
          "output_type": "execute_result",
          "data": {
            "text/plain": [
              "11\n"
            ]
          },
          "metadata": {
            "tags": []
          },
          "execution_count": 15
        }
      ]
    },
    {
      "metadata": {
        "id": "VfEX-a-JdE2W",
        "colab_type": "text"
      },
      "cell_type": "markdown",
      "source": [
        "In an `if` statement, the conditional must be a Boolean expression—this means that code such as `if score { ... }` is an error, not an implicit comparison to zero.\n",
        "\n",
        "You can use `if` and `let` together to work with values that might be missing. These values are represented as optionals. An optional value either contains a value or contains `nil` to indicate that a value is missing. Write a question mark (`?`) after the type of a value to mark the value as optional."
      ]
    },
    {
      "metadata": {
        "id": "fCqYihmIdE2X",
        "colab_type": "code",
        "outputId": "8c3a7e14-f483-44ad-fe67-8172c4318732",
        "colab": {
          "base_uri": "https://localhost:8080/",
          "height": 34
        }
      },
      "cell_type": "code",
      "source": [
        "var optionalString: String? = \"Hello\"\n",
        "optionalString == nil"
      ],
      "execution_count": 16,
      "outputs": [
        {
          "output_type": "execute_result",
          "data": {
            "text/plain": [
              "false\n"
            ]
          },
          "metadata": {
            "tags": []
          },
          "execution_count": 16
        }
      ]
    },
    {
      "metadata": {
        "id": "3GcY1w13hv82",
        "colab_type": "code",
        "outputId": "a71724c0-3c5d-42ce-9f07-6f3ccde153f0",
        "colab": {
          "base_uri": "https://localhost:8080/",
          "height": 34
        }
      },
      "cell_type": "code",
      "source": [
        "var optionalName: String? = \"John Appleseed\"\n",
        "var greeting = \"Hello!\"\n",
        "if let name = optionalName {\n",
        "    greeting = \"Hello, \\(name)\"\n",
        "}\n",
        "greeting"
      ],
      "execution_count": 17,
      "outputs": [
        {
          "output_type": "execute_result",
          "data": {
            "text/plain": [
              "\"Hello, John Appleseed\"\n"
            ]
          },
          "metadata": {
            "tags": []
          },
          "execution_count": 17
        }
      ]
    },
    {
      "metadata": {
        "id": "0dJr-IC8giJL",
        "colab_type": "code",
        "colab": {}
      },
      "cell_type": "code",
      "source": [
        "// Experiment:\n",
        "// Change `optionalName` to `nil`. What greeting do you get?\n",
        "// Add an `else` clause that sets a different greeting if `optionalName` is `nil`."
      ],
      "execution_count": 0,
      "outputs": []
    },
    {
      "metadata": {
        "id": "ZZWOeB3ve-jm",
        "colab_type": "text"
      },
      "cell_type": "markdown",
      "source": [
        "If the optional value is `nil`, the conditional is `false` and the code in braces is skipped. Otherwise, the optional value is unwrapped and assigned to the constant after `let`, which makes the unwrapped value available inside the block of code.\n",
        "\n",
        "Another way to handle optional values is to provide a default value using the `??` operator. If the optional value is missing, the default value is used instead."
      ]
    },
    {
      "metadata": {
        "id": "UqstABf4dE2b",
        "colab_type": "code",
        "outputId": "8e3df8c1-50fd-4443-a70f-9adb53cc41c3",
        "colab": {
          "base_uri": "https://localhost:8080/",
          "height": 34
        }
      },
      "cell_type": "code",
      "source": [
        "let nickName: String? = nil\n",
        "let fullName: String = \"John Appleseed\"\n",
        "\"Hi \\(nickName ?? fullName)\""
      ],
      "execution_count": 19,
      "outputs": [
        {
          "output_type": "execute_result",
          "data": {
            "text/plain": [
              "\"Hi John Appleseed\"\n"
            ]
          },
          "metadata": {
            "tags": []
          },
          "execution_count": 19
        }
      ]
    },
    {
      "metadata": {
        "id": "l_3enGZldE2d",
        "colab_type": "text"
      },
      "cell_type": "markdown",
      "source": [
        "Switches support any kind of data and a wide variety of comparison operations—they aren’t limited to integers and tests for equality."
      ]
    },
    {
      "metadata": {
        "id": "AXTHsCcedE2e",
        "colab_type": "code",
        "outputId": "b340fbfb-98c0-49ca-eeec-b6c178cc3957",
        "colab": {
          "base_uri": "https://localhost:8080/",
          "height": 34
        }
      },
      "cell_type": "code",
      "source": [
        "let vegetable = \"red pepper\"\n",
        "switch vegetable {\n",
        "case \"celery\":\n",
        "    print(\"Add some raisins and make ants on a log.\")\n",
        "case \"cucumber\", \"watercress\":\n",
        "    print(\"That would make a good tea sandwich.\")\n",
        "case let x where x.hasSuffix(\"pepper\"):\n",
        "    print(\"Is it a spicy \\(x)?\")\n",
        "default:\n",
        "    print(\"Everything tastes good in soup.\")\n",
        "}"
      ],
      "execution_count": 20,
      "outputs": [
        {
          "output_type": "stream",
          "text": [
            "Is it a spicy red pepper?\r\n"
          ],
          "name": "stdout"
        }
      ]
    },
    {
      "metadata": {
        "id": "e-FK9XcGga0O",
        "colab_type": "code",
        "colab": {}
      },
      "cell_type": "code",
      "source": [
        "// Experiment:\n",
        "// Try removing the default case. What error do you get?"
      ],
      "execution_count": 0,
      "outputs": []
    },
    {
      "metadata": {
        "id": "AXaHBPiidE2g",
        "colab_type": "text"
      },
      "cell_type": "markdown",
      "source": [
        "Notice how `let` can be used in a pattern to assign the value that matched that part of a pattern to a constant.\n",
        "\n",
        "After executing the code inside the switch case that matched, the program exits from the switch statement. Execution doesn’t continue to the next case, so there is no need to explicitly break out of the switch at the end of each case’s code.\n",
        "\n",
        "You use `for`-`in` to iterate over items in a dictionary by providing a pair of names to use for each key-value pair. Dictionaries are an unordered collection, so their keys and values are iterated over in an arbitrary order."
      ]
    },
    {
      "metadata": {
        "id": "nJHpFEDPdE2h",
        "colab_type": "code",
        "outputId": "9abf7ff9-8830-4ef9-cd41-203a30bdbc23",
        "colab": {
          "base_uri": "https://localhost:8080/",
          "height": 34
        }
      },
      "cell_type": "code",
      "source": [
        "let interestingNumbers = [\n",
        "    \"Prime\": [2, 3, 5, 7, 11, 13],\n",
        "    \"Fibonacci\": [1, 1, 2, 3, 5, 8],\n",
        "    \"Square\": [1, 4, 9, 16, 25],\n",
        "]\n",
        "var largest = 0\n",
        "for (kind, numbers) in interestingNumbers {\n",
        "    for number in numbers {\n",
        "        if number > largest {\n",
        "            largest = number\n",
        "        }\n",
        "    }\n",
        "}\n",
        "largest"
      ],
      "execution_count": 22,
      "outputs": [
        {
          "output_type": "execute_result",
          "data": {
            "text/plain": [
              "25\n"
            ]
          },
          "metadata": {
            "tags": []
          },
          "execution_count": 22
        }
      ]
    },
    {
      "metadata": {
        "id": "UKKf8zkRgWUq",
        "colab_type": "code",
        "colab": {}
      },
      "cell_type": "code",
      "source": [
        "// Experiment:\n",
        "// Add another variable to keep track of which kind of number was the largest, as well as what that\n",
        "// largest number was."
      ],
      "execution_count": 0,
      "outputs": []
    },
    {
      "metadata": {
        "id": "or2W6kbyfuXu",
        "colab_type": "text"
      },
      "cell_type": "markdown",
      "source": [
        "Use `while` to repeat a block of code until a condition changes. The condition of a loop can be at the end instead, ensuring that the loop is run at least once."
      ]
    },
    {
      "metadata": {
        "id": "tt54-NuJdE2m",
        "colab_type": "code",
        "outputId": "9cf8b5a5-dc0e-4198-d582-0b49f663bae8",
        "colab": {
          "base_uri": "https://localhost:8080/",
          "height": 34
        }
      },
      "cell_type": "code",
      "source": [
        "var n = 2\n",
        "while n < 100 {\n",
        "    n = n * 2\n",
        "}\n",
        "\n",
        "n"
      ],
      "execution_count": 24,
      "outputs": [
        {
          "output_type": "execute_result",
          "data": {
            "text/plain": [
              "128\n"
            ]
          },
          "metadata": {
            "tags": []
          },
          "execution_count": 24
        }
      ]
    },
    {
      "metadata": {
        "id": "adAijrWkiAGF",
        "colab_type": "code",
        "outputId": "1a8e59eb-29e3-4b2a-9095-85e7eebf4a65",
        "colab": {
          "base_uri": "https://localhost:8080/",
          "height": 34
        }
      },
      "cell_type": "code",
      "source": [
        "var m = 2\n",
        "repeat {\n",
        "    m = m * 2\n",
        "} while m < 100\n",
        "\n",
        "m"
      ],
      "execution_count": 25,
      "outputs": [
        {
          "output_type": "execute_result",
          "data": {
            "text/plain": [
              "128\n"
            ]
          },
          "metadata": {
            "tags": []
          },
          "execution_count": 25
        }
      ]
    },
    {
      "metadata": {
        "id": "DqEff6OfdE2q",
        "colab_type": "text"
      },
      "cell_type": "markdown",
      "source": [
        "You can keep an index in a loop—either by using `..<` to make a range of indexes or by writing an explicit initialization, condition, and increment. These two loops do the same thing:"
      ]
    },
    {
      "metadata": {
        "id": "LKkJ4co_dE2r",
        "colab_type": "code",
        "outputId": "b2deec61-5688-4029-c72e-d04fe08c13e3",
        "colab": {
          "base_uri": "https://localhost:8080/",
          "height": 34
        }
      },
      "cell_type": "code",
      "source": [
        "var total = 0\n",
        "for i in 0..<4 {\n",
        "    total += i\n",
        "}\n",
        "\n",
        "total"
      ],
      "execution_count": 26,
      "outputs": [
        {
          "output_type": "execute_result",
          "data": {
            "text/plain": [
              "6\n"
            ]
          },
          "metadata": {
            "tags": []
          },
          "execution_count": 26
        }
      ]
    },
    {
      "metadata": {
        "id": "HKgeaTprdE2t",
        "colab_type": "text"
      },
      "cell_type": "markdown",
      "source": [
        "Use `..<` to make a range that omits its upper value, and use `...` to make a range that includes both values."
      ]
    },
    {
      "metadata": {
        "id": "W7H3ptGaiEcB",
        "colab_type": "text"
      },
      "cell_type": "markdown",
      "source": [
        "## Functions and Closures\n",
        "\n",
        "Use `func` to declare a function. Call a function by following its name with a list of arguments in parentheses. Use `->` to separate the parameter names and types from the function’s return type."
      ]
    },
    {
      "metadata": {
        "id": "6u_fX5SwdE2t",
        "colab_type": "code",
        "outputId": "55a45bef-60de-4419-cd6d-385a0e2dfd4d",
        "colab": {
          "base_uri": "https://localhost:8080/",
          "height": 34
        }
      },
      "cell_type": "code",
      "source": [
        "func greet(name: String, day: String) -> String {\n",
        "    return \"Hello \\(name), today is \\(day).\"\n",
        "}\n",
        "greet(name: \"Bob\", day: \"Tuesday\")"
      ],
      "execution_count": 27,
      "outputs": [
        {
          "output_type": "execute_result",
          "data": {
            "text/plain": [
              "\"Hello Bob, today is Tuesday.\"\n"
            ]
          },
          "metadata": {
            "tags": []
          },
          "execution_count": 27
        }
      ]
    },
    {
      "metadata": {
        "id": "sgYex6gigH87",
        "colab_type": "code",
        "colab": {}
      },
      "cell_type": "code",
      "source": [
        "// Experiment:\n",
        "// Remove the `day` parameter. Add a parameter to include today’s lunch special in the greeting."
      ],
      "execution_count": 0,
      "outputs": []
    },
    {
      "metadata": {
        "id": "Mo9D_hc0jfkF",
        "colab_type": "text"
      },
      "cell_type": "markdown",
      "source": [
        "By default, functions use their parameter names as labels for their arguments. Write a custom argument label before the parameter name, or write `_` to use no argument label."
      ]
    },
    {
      "metadata": {
        "id": "8Dkx71QUjisV",
        "colab_type": "code",
        "outputId": "61839711-9d43-496a-c5bb-229f7060b8d4",
        "colab": {
          "base_uri": "https://localhost:8080/",
          "height": 34
        }
      },
      "cell_type": "code",
      "source": [
        "func greet(_ person: String, on day: String) -> String {\n",
        "    return \"Hello \\(person), today is \\(day).\"\n",
        "}\n",
        "greet(\"John\", on: \"Wednesday\")"
      ],
      "execution_count": 29,
      "outputs": [
        {
          "output_type": "execute_result",
          "data": {
            "text/plain": [
              "\"Hello John, today is Wednesday.\"\n"
            ]
          },
          "metadata": {
            "tags": []
          },
          "execution_count": 29
        }
      ]
    },
    {
      "metadata": {
        "id": "71qFe0AWjd9F",
        "colab_type": "text"
      },
      "cell_type": "markdown",
      "source": [
        "Use a tuple to make a compound value—for example, to return multiple values from a function. The elements of a tuple can be referred to either by name or by number."
      ]
    },
    {
      "metadata": {
        "id": "5cDR7-TydE2w",
        "colab_type": "code",
        "outputId": "54c6fb9b-7645-4247-9256-7da826f3e8d1",
        "colab": {
          "base_uri": "https://localhost:8080/",
          "height": 51
        }
      },
      "cell_type": "code",
      "source": [
        "func calculateStatistics(scores: [Int]) -> (min: Int, max: Int, sum: Int) {\n",
        "    var min = scores[0]\n",
        "    var max = scores[0]\n",
        "    var sum = 0\n",
        "    \n",
        "    for score in scores {\n",
        "        if score > max {\n",
        "            max = score\n",
        "        } else if score < min {\n",
        "            min = score\n",
        "        }\n",
        "        sum += score\n",
        "    }\n",
        "    \n",
        "    return (min, max, sum)\n",
        "}\n",
        "let statistics = calculateStatistics(scores: [5, 3, 100, 3, 9])\n",
        "print(statistics.sum)\n",
        "print(statistics.2)"
      ],
      "execution_count": 30,
      "outputs": [
        {
          "output_type": "stream",
          "text": [
            "120\r\n",
            "120\r\n"
          ],
          "name": "stdout"
        }
      ]
    },
    {
      "metadata": {
        "id": "hHUWHaH-jwmx",
        "colab_type": "text"
      },
      "cell_type": "markdown",
      "source": [
        "Functions can be nested. Nested functions have access to variables that were declared in the outer function. You can use nested functions to organize the code in a function that is long or complex."
      ]
    },
    {
      "metadata": {
        "id": "K094099VdE21",
        "colab_type": "code",
        "outputId": "53918e22-3008-4532-b77f-38857f8f6729",
        "colab": {
          "base_uri": "https://localhost:8080/",
          "height": 34
        }
      },
      "cell_type": "code",
      "source": [
        "func returnFifteen() -> Int {\n",
        "    var y = 10\n",
        "    func add() {\n",
        "        y += 5\n",
        "    }\n",
        "    add()\n",
        "    return y\n",
        "}\n",
        "returnFifteen()"
      ],
      "execution_count": 31,
      "outputs": [
        {
          "output_type": "execute_result",
          "data": {
            "text/plain": [
              "15\n"
            ]
          },
          "metadata": {
            "tags": []
          },
          "execution_count": 31
        }
      ]
    },
    {
      "metadata": {
        "id": "s8hfkf4HdE24",
        "colab_type": "text"
      },
      "cell_type": "markdown",
      "source": [
        "Functions are a first-class type. This means that a function can return another function as its value."
      ]
    },
    {
      "metadata": {
        "id": "sV33PIdsdE26",
        "colab_type": "code",
        "outputId": "27ff3fcd-dfcd-4e45-cbfe-1801f06781ce",
        "colab": {
          "base_uri": "https://localhost:8080/",
          "height": 34
        }
      },
      "cell_type": "code",
      "source": [
        "func makeIncrementer() -> ((Int) -> Int) {\n",
        "    func addOne(number: Int) -> Int {\n",
        "        return 1 + number\n",
        "    }\n",
        "    return addOne\n",
        "}\n",
        "var increment = makeIncrementer()\n",
        "increment(7)"
      ],
      "execution_count": 32,
      "outputs": [
        {
          "output_type": "execute_result",
          "data": {
            "text/plain": [
              "8\n"
            ]
          },
          "metadata": {
            "tags": []
          },
          "execution_count": 32
        }
      ]
    },
    {
      "metadata": {
        "id": "J6-9e3godE29",
        "colab_type": "text"
      },
      "cell_type": "markdown",
      "source": [
        "A function can take another function as one of its arguments."
      ]
    },
    {
      "metadata": {
        "id": "nOwBtGWLdE2-",
        "colab_type": "code",
        "outputId": "f06ff19a-a10b-48ab-9a64-771fda2306dd",
        "colab": {
          "base_uri": "https://localhost:8080/",
          "height": 34
        }
      },
      "cell_type": "code",
      "source": [
        "func hasAnyMatches(list: [Int], condition: (Int) -> Bool) -> Bool {\n",
        "    for item in list {\n",
        "        if condition(item) {\n",
        "            return true\n",
        "        }\n",
        "    }\n",
        "    return false\n",
        "}\n",
        "func lessThanTen(number: Int) -> Bool {\n",
        "    return number < 10\n",
        "}\n",
        "var numbers = [20, 19, 7, 12]\n",
        "hasAnyMatches(list: numbers, condition: lessThanTen)"
      ],
      "execution_count": 33,
      "outputs": [
        {
          "output_type": "execute_result",
          "data": {
            "text/plain": [
              "true\n"
            ]
          },
          "metadata": {
            "tags": []
          },
          "execution_count": 33
        }
      ]
    },
    {
      "metadata": {
        "id": "u9uVmoK6dE3B",
        "colab_type": "text"
      },
      "cell_type": "markdown",
      "source": [
        "Functions are actually a special case of closures: blocks of code that can be called later. The code in a closure has access to things like variables and functions that were available in the scope where the closure was created, even if the closure is in a different scope when it is executed—you saw an example of this already with nested functions. You can write a closure without a name by surrounding code with braces (`{}`). Use `in` to separate the arguments and return type from the body."
      ]
    },
    {
      "metadata": {
        "id": "qWTL5QMKdE3C",
        "colab_type": "code",
        "outputId": "9bb61550-ce76-4b0a-e0b9-dbd1e4a5957f",
        "colab": {
          "base_uri": "https://localhost:8080/",
          "height": 102
        }
      },
      "cell_type": "code",
      "source": [
        "numbers.map({ (number: Int) -> Int in\n",
        "    let result = 3 * number\n",
        "    return result\n",
        "})"
      ],
      "execution_count": 34,
      "outputs": [
        {
          "output_type": "execute_result",
          "data": {
            "text/plain": [
              "▿ 4 elements\n",
              "  - 0 : 60\n",
              "  - 1 : 57\n",
              "  - 2 : 21\n",
              "  - 3 : 36\n"
            ]
          },
          "metadata": {
            "tags": []
          },
          "execution_count": 34
        }
      ]
    },
    {
      "metadata": {
        "id": "aTZoZCybf2uG",
        "colab_type": "code",
        "colab": {}
      },
      "cell_type": "code",
      "source": [
        "// Experiment:\n",
        "// Rewrite the closure to return zero for all odd numbers."
      ],
      "execution_count": 0,
      "outputs": []
    },
    {
      "metadata": {
        "id": "NapuA70Qj8QF",
        "colab_type": "text"
      },
      "cell_type": "markdown",
      "source": [
        "You have several options for writing closures more concisely. When a closure’s type is already known, such as the callback for a delegate, you can omit the type of its parameters, its return type, or both. Single statement closures implicitly return the value of their only statement."
      ]
    },
    {
      "metadata": {
        "id": "wNcmSyFodE3F",
        "colab_type": "code",
        "outputId": "06a606e2-564c-46d5-c243-f8ce6fed8da5",
        "colab": {
          "base_uri": "https://localhost:8080/",
          "height": 34
        }
      },
      "cell_type": "code",
      "source": [
        "let mappedNumbers = numbers.map({ number in 3 * number })\n",
        "print(mappedNumbers)"
      ],
      "execution_count": 36,
      "outputs": [
        {
          "output_type": "stream",
          "text": [
            "[60, 57, 21, 36]\r\n"
          ],
          "name": "stdout"
        }
      ]
    },
    {
      "metadata": {
        "id": "6MxBFQjRdE3I",
        "colab_type": "text"
      },
      "cell_type": "markdown",
      "source": [
        "You can refer to parameters by number instead of by name—this approach is especially useful in very short closures. A closure passed as the last argument to a function can appear immediately after the parentheses. When a closure is the only argument to a function, you can omit the parentheses entirely."
      ]
    },
    {
      "metadata": {
        "id": "6Ecv1ethdE3I",
        "colab_type": "code",
        "outputId": "7b28c295-c236-435e-9805-f877e828cf62",
        "colab": {
          "base_uri": "https://localhost:8080/",
          "height": 34
        }
      },
      "cell_type": "code",
      "source": [
        "let sortedNumbers = numbers.sorted { $0 > $1 }\n",
        "print(sortedNumbers)"
      ],
      "execution_count": 37,
      "outputs": [
        {
          "output_type": "stream",
          "text": [
            "[20, 19, 12, 7]\r\n"
          ],
          "name": "stdout"
        }
      ]
    },
    {
      "metadata": {
        "id": "BfV1d5HpdE3K",
        "colab_type": "text"
      },
      "cell_type": "markdown",
      "source": [
        "## Objects and Classes\n",
        "\n",
        "Use `class` followed by the class’s name to create a class. A property declaration in a class is written the same way as a constant or variable declaration, except that it is in the context of a class. Likewise, method and function declarations are written the same way."
      ]
    },
    {
      "metadata": {
        "id": "SycTCbxadE3L",
        "colab_type": "code",
        "colab": {}
      },
      "cell_type": "code",
      "source": [
        "class Shape {\n",
        "    var numberOfSides = 0\n",
        "    func simpleDescription() -> String {\n",
        "        return \"A shape with \\(numberOfSides) sides.\"\n",
        "    }\n",
        "}"
      ],
      "execution_count": 0,
      "outputs": []
    },
    {
      "metadata": {
        "id": "i-oNcgg4h-wm",
        "colab_type": "code",
        "colab": {}
      },
      "cell_type": "code",
      "source": [
        "// Experiment:\n",
        "// Add a constant property with `let`, and add another method that takes an argument."
      ],
      "execution_count": 0,
      "outputs": []
    },
    {
      "metadata": {
        "id": "NDuIuzgUkAEY",
        "colab_type": "text"
      },
      "cell_type": "markdown",
      "source": [
        "Create an instance of a class by putting parentheses after the class name. Use dot syntax to access the properties and methods of the instance."
      ]
    },
    {
      "metadata": {
        "id": "y1_AYUbidE3O",
        "colab_type": "code",
        "colab": {}
      },
      "cell_type": "code",
      "source": [
        "var shape = Shape()\n",
        "shape.numberOfSides = 7\n",
        "var shapeDescription = shape.simpleDescription()"
      ],
      "execution_count": 0,
      "outputs": []
    },
    {
      "metadata": {
        "id": "id0q1vIfdE3Q",
        "colab_type": "text"
      },
      "cell_type": "markdown",
      "source": [
        "This version of the `Shape` class is missing something important: an initializer to set up the class when an instance is created. Use `init` to create one."
      ]
    },
    {
      "metadata": {
        "id": "lboFcMVtdE3Q",
        "colab_type": "code",
        "colab": {}
      },
      "cell_type": "code",
      "source": [
        "class NamedShape {\n",
        "    var numberOfSides: Int = 0\n",
        "    var name: String\n",
        "    \n",
        "    init(name: String) {\n",
        "        self.name = name\n",
        "    }\n",
        "    \n",
        "    func simpleDescription() -> String {\n",
        "        return \"A shape with \\(numberOfSides) sides.\"\n",
        "    }\n",
        "}"
      ],
      "execution_count": 0,
      "outputs": []
    },
    {
      "metadata": {
        "id": "h06b-4fKdE3S",
        "colab_type": "text"
      },
      "cell_type": "markdown",
      "source": [
        "Notice how `self` is used to distinguish the `name` property from the `name` argument to the initializer. The arguments to the initializer are passed like a function call when you create an instance of the class. Every property needs a value assigned—either in its declaration (as with `numberOfSides`) or in the initializer (as with `name`).\n",
        "\n",
        "Use `deinit` to create a deinitializer if you need to perform some cleanup before the object is deallocated.\n",
        "\n",
        "Subclasses include their superclass name after their class name, separated by a colon. There is no requirement for classes to subclass any standard root class, so you can include or omit a superclass as needed.\n",
        "\n",
        "Methods on a subclass that override the superclass’s implementation are marked with `override`—overriding a method by accident, without `override`, is detected by the compiler as an error. The compiler also detects methods with `override` that don’t actually override any method in the superclass."
      ]
    },
    {
      "metadata": {
        "id": "VHT1Lpz8dE3S",
        "colab_type": "code",
        "outputId": "daa4415a-6cda-4efd-e462-2c52834a19a1",
        "colab": {
          "base_uri": "https://localhost:8080/",
          "height": 34
        }
      },
      "cell_type": "code",
      "source": [
        "class Square: NamedShape {\n",
        "    var sideLength: Double\n",
        "    \n",
        "    init(sideLength: Double, name: String) {\n",
        "        self.sideLength = sideLength\n",
        "        super.init(name: name)\n",
        "        numberOfSides = 4\n",
        "    }\n",
        "    \n",
        "    func area() -> Double {\n",
        "        return sideLength * sideLength\n",
        "    }\n",
        "    \n",
        "    override func simpleDescription() -> String {\n",
        "        return \"A square with sides of length \\(sideLength).\"\n",
        "    }\n",
        "}\n",
        "let test = Square(sideLength: 5.2, name: \"my test square\")\n",
        "test.area()\n",
        "test.simpleDescription()"
      ],
      "execution_count": 42,
      "outputs": [
        {
          "output_type": "execute_result",
          "data": {
            "text/plain": [
              "\"A square with sides of length 5.2.\"\n"
            ]
          },
          "metadata": {
            "tags": []
          },
          "execution_count": 42
        }
      ]
    },
    {
      "metadata": {
        "id": "SIoEXii5iDA3",
        "colab_type": "code",
        "colab": {}
      },
      "cell_type": "code",
      "source": [
        "// Experiment:\n",
        "// - Make another subclass of `NamedShape` called `Circle` that takes a radius and a name as\n",
        "//   arguments to its initializer.\n",
        "// - Implement an `area()` and a `simpleDescription()` method on the `Circle` class."
      ],
      "execution_count": 0,
      "outputs": []
    },
    {
      "metadata": {
        "id": "-jWyfN7KkDqR",
        "colab_type": "text"
      },
      "cell_type": "markdown",
      "source": [
        "In addition to simple properties that are stored, properties can have a getter and a setter."
      ]
    },
    {
      "metadata": {
        "id": "QaqZC56MdE3V",
        "colab_type": "code",
        "outputId": "9b3443c9-c6f6-48ea-e328-3390c80738ae",
        "colab": {
          "base_uri": "https://localhost:8080/",
          "height": 51
        }
      },
      "cell_type": "code",
      "source": [
        "class EquilateralTriangle: NamedShape {\n",
        "    var sideLength: Double = 0.0\n",
        "    \n",
        "    init(sideLength: Double, name: String) {\n",
        "        self.sideLength = sideLength\n",
        "        super.init(name: name)\n",
        "        numberOfSides = 3\n",
        "    }\n",
        "    \n",
        "    var perimeter: Double {\n",
        "        get {\n",
        "            return 3.0 * sideLength\n",
        "        }\n",
        "        set {\n",
        "            sideLength = newValue / 3.0\n",
        "        }\n",
        "    }\n",
        "    \n",
        "    override func simpleDescription() -> String {\n",
        "        return \"An equilateral triangle with sides of length \\(sideLength).\"\n",
        "    }\n",
        "}\n",
        "var triangle = EquilateralTriangle(sideLength: 3.1, name: \"a triangle\")\n",
        "print(triangle.perimeter)\n",
        "triangle.perimeter = 9.9\n",
        "print(triangle.sideLength)"
      ],
      "execution_count": 44,
      "outputs": [
        {
          "output_type": "stream",
          "text": [
            "9.3\r\n",
            "3.3000000000000003\r\n"
          ],
          "name": "stdout"
        }
      ]
    },
    {
      "metadata": {
        "id": "CK3s64WhdE3W",
        "colab_type": "text"
      },
      "cell_type": "markdown",
      "source": [
        "In the setter for `perimeter`, the new value has the implicit name `newValue`. You can provide an explicit name in parentheses after `set`.\n",
        "\n",
        "Notice that the initializer for the `EquilateralTriangle` class has three different steps:\n",
        "\n",
        "1.  Setting the value of properties that the subclass declares.\n",
        "\n",
        "2.  Calling the superclass’s initializer.\n",
        "\n",
        "3.  Changing the value of properties defined by the superclass. Any additional setup work that uses methods, getters, or setters can also be done at this point.\n",
        "\n",
        "If you don’t need to compute the property but still need to provide code that is run before and after setting a new value, use `willSet` and `didSet`. The code you provide is run any time the value changes outside of an initializer. For example, the class below ensures that the side length of its triangle is always the same as the side length of its square."
      ]
    },
    {
      "metadata": {
        "id": "VSPCTz5mdE3a",
        "colab_type": "code",
        "outputId": "b1a47683-042e-44b2-e9c0-d220d601d29d",
        "colab": {
          "base_uri": "https://localhost:8080/",
          "height": 68
        }
      },
      "cell_type": "code",
      "source": [
        "class TriangleAndSquare {\n",
        "    var triangle: EquilateralTriangle {\n",
        "        willSet {\n",
        "            square.sideLength = newValue.sideLength\n",
        "        }\n",
        "    }\n",
        "    var square: Square {\n",
        "        willSet {\n",
        "            triangle.sideLength = newValue.sideLength\n",
        "        }\n",
        "    }\n",
        "    init(size: Double, name: String) {\n",
        "        square = Square(sideLength: size, name: name)\n",
        "        triangle = EquilateralTriangle(sideLength: size, name: name)\n",
        "    }\n",
        "}\n",
        "var triangleAndSquare = TriangleAndSquare(size: 10, name: \"another test shape\")\n",
        "print(triangleAndSquare.square.sideLength)\n",
        "print(triangleAndSquare.triangle.sideLength)\n",
        "triangleAndSquare.square = Square(sideLength: 50, name: \"larger square\")\n",
        "print(triangleAndSquare.triangle.sideLength)"
      ],
      "execution_count": 45,
      "outputs": [
        {
          "output_type": "stream",
          "text": [
            "10.0\r\n",
            "10.0\r\n",
            "50.0\r\n"
          ],
          "name": "stdout"
        }
      ]
    },
    {
      "metadata": {
        "id": "ygWAN55xdE3b",
        "colab_type": "text"
      },
      "cell_type": "markdown",
      "source": [
        "When working with optional values, you can write `?` before operations like methods, properties, and subscripting. If the value before the `?` is `nil`, everything after the `?` is ignored and the value of the whole expression is `nil`. Otherwise, the optional value is unwrapped, and everything after the `?` acts on the unwrapped value. In both cases, the value of the whole expression is an optional value."
      ]
    },
    {
      "metadata": {
        "id": "pmXsLt_gdE3c",
        "colab_type": "code",
        "outputId": "a0b7304a-a5ca-415a-dc40-dd2aab51db9f",
        "colab": {
          "base_uri": "https://localhost:8080/",
          "height": 51
        }
      },
      "cell_type": "code",
      "source": [
        "let optionalSquare: Square? = Square(sideLength: 2.5, name: \"optional square\")\n",
        "optionalSquare?.sideLength"
      ],
      "execution_count": 46,
      "outputs": [
        {
          "output_type": "execute_result",
          "data": {
            "text/plain": [
              "▿ Optional<Double>\n",
              "  - some : 2.5\n"
            ]
          },
          "metadata": {
            "tags": []
          },
          "execution_count": 46
        }
      ]
    },
    {
      "metadata": {
        "id": "0yaZFHMRdE3d",
        "colab_type": "text"
      },
      "cell_type": "markdown",
      "source": [
        "## Enumerations and Structures\n",
        "\n",
        "Use `enum` to create an enumeration. Like classes and all other named types, enumerations can have methods associated with them."
      ]
    },
    {
      "metadata": {
        "id": "Btg1_6rXdE3e",
        "colab_type": "code",
        "outputId": "d6b41207-e8fd-4ec0-b969-5e1505cf4ab6",
        "colab": {
          "base_uri": "https://localhost:8080/",
          "height": 51
        }
      },
      "cell_type": "code",
      "source": [
        "enum Rank: Int {\n",
        "    case ace = 1\n",
        "    case two, three, four, five, six, seven, eight, nine, ten\n",
        "    case jack, queen, king\n",
        "\n",
        "    func simpleDescription() -> String {\n",
        "        switch self {\n",
        "        case .ace:\n",
        "            return \"ace\"\n",
        "        case .jack:\n",
        "            return \"jack\"\n",
        "        case .queen:\n",
        "            return \"queen\"\n",
        "        case .king:\n",
        "            return \"king\"\n",
        "        default:\n",
        "            return String(self.rawValue)\n",
        "        }\n",
        "    }\n",
        "}\n",
        "let ace = Rank.ace\n",
        "print(ace)\n",
        "let aceRawValue = ace.rawValue\n",
        "print(aceRawValue)"
      ],
      "execution_count": 47,
      "outputs": [
        {
          "output_type": "stream",
          "text": [
            "ace\r\n",
            "1\r\n"
          ],
          "name": "stdout"
        }
      ]
    },
    {
      "metadata": {
        "id": "34Ba8HGwin9n",
        "colab_type": "code",
        "colab": {}
      },
      "cell_type": "code",
      "source": [
        "// Experiment:\n",
        "// Write a function that compares two `Rank` values by comparing their raw values."
      ],
      "execution_count": 0,
      "outputs": []
    },
    {
      "metadata": {
        "id": "0R1w6q3KkIH1",
        "colab_type": "text"
      },
      "cell_type": "markdown",
      "source": [
        "By default, Swift assigns the raw values starting at zero and incrementing by one each time, but you can change this behavior by explicitly specifying values. In the example above, Ace is explicitly given a raw value of `1`, and the rest of the raw values are assigned in order. You can also use strings or floating-point numbers as the raw type of an enumeration. Use the `rawValue` property to access the raw value of an enumeration case."
      ]
    },
    {
      "metadata": {
        "id": "zgtd86KUp5qa",
        "colab_type": "text"
      },
      "cell_type": "markdown",
      "source": [
        "Use the `init?(rawValue:)` initializer to make an instance of an enumeration from a raw value. It returns either the enumeration case matching the raw value or `nil` if there is no matching `Rank`."
      ]
    },
    {
      "metadata": {
        "id": "7SUCN4Nip-FK",
        "colab_type": "code",
        "colab": {}
      },
      "cell_type": "code",
      "source": [
        ""
      ],
      "execution_count": 0,
      "outputs": []
    },
    {
      "metadata": {
        "id": "BjzxKC67dE3h",
        "colab_type": "code",
        "colab": {}
      },
      "cell_type": "code",
      "source": [
        "if let convertedRank = Rank(rawValue: 3) {\n",
        "    let threeDescription = convertedRank.simpleDescription()\n",
        "}"
      ],
      "execution_count": 0,
      "outputs": []
    },
    {
      "metadata": {
        "id": "aViNXJOWdE3k",
        "colab_type": "text"
      },
      "cell_type": "markdown",
      "source": [
        "The case values of an enumeration are actual values, not just another way of writing their raw values. In fact, in cases where there isn’t a meaningful raw value, you don’t have to provide one."
      ]
    },
    {
      "metadata": {
        "id": "i9fKzaQzdE3k",
        "colab_type": "code",
        "colab": {}
      },
      "cell_type": "code",
      "source": [
        "enum Suit {\n",
        "    case spades, hearts, diamonds, clubs\n",
        "\n",
        "    func simpleDescription() -> String {\n",
        "        switch self {\n",
        "        case .spades:\n",
        "            return \"spades\"\n",
        "        case .hearts:\n",
        "            return \"hearts\"\n",
        "        case .diamonds:\n",
        "            return \"diamonds\"\n",
        "        case .clubs:\n",
        "            return \"clubs\"\n",
        "        }\n",
        "    }\n",
        "}\n",
        "let hearts = Suit.hearts\n",
        "let heartsDescription = hearts.simpleDescription()"
      ],
      "execution_count": 0,
      "outputs": []
    },
    {
      "metadata": {
        "id": "H-38gQ27isHk",
        "colab_type": "code",
        "colab": {}
      },
      "cell_type": "code",
      "source": [
        "// Experiment:\n",
        "// Add a `color()` method to `Suit` that returns \"black\" for spades and clubs, and returns \"red\" for\n",
        "// hearts and diamonds."
      ],
      "execution_count": 0,
      "outputs": []
    },
    {
      "metadata": {
        "id": "H1B0m_prdE3m",
        "colab_type": "text"
      },
      "cell_type": "markdown",
      "source": [
        "Notice the two ways that the `Hearts` case of the enumeration is referred to above: When assigning a value to the `hearts` constant, the enumeration case `Suit.Hearts` is referred to by its full name because the constant doesn’t have an explicit type specified. Inside the switch, the enumeration case is referred to by the abbreviated form `.Hearts` because the value of `self` is already known to be a suit. You can use the abbreviated form anytime the value’s type is already known."
      ]
    },
    {
      "metadata": {
        "id": "fCDHUHBHdE3o",
        "colab_type": "text"
      },
      "cell_type": "markdown",
      "source": [
        "If an enumeration has raw values, those values are determined as part of the declaration, which means every instance of a particular enumeration case always has the same raw value. Another choice for enumeration cases is to have values associated with the case—these values are determined when you make the instance, and they can be different for each instance of an enumeration case. You can think of the associated values as behaving like stored properties of the enumeration case instance.\n",
        "\n",
        "For example, consider the case of requesting the sunrise and sunset times from a server. The server either responds with the requested information, or it responds with a description of what went wrong."
      ]
    },
    {
      "metadata": {
        "id": "v7CDdsdydE3o",
        "colab_type": "code",
        "outputId": "0b1589dc-64c6-43a5-ea3e-eb822e5cf0c0",
        "colab": {
          "base_uri": "https://localhost:8080/",
          "height": 34
        }
      },
      "cell_type": "code",
      "source": [
        "enum ServerResponse {\n",
        "    case result(String, String)\n",
        "    case failure(String)\n",
        "}\n",
        "\n",
        "let success = ServerResponse.result(\"6:00 am\", \"8:09 pm\")\n",
        "let failure = ServerResponse.failure(\"Out of cheese.\")\n",
        "\n",
        "switch success {\n",
        "case let .result(sunrise, sunset):\n",
        "    print(\"Sunrise is at \\(sunrise) and sunset is at \\(sunset).\")\n",
        "case let .failure(message):\n",
        "    print(\"Failure...  \\(message)\")\n",
        "}"
      ],
      "execution_count": 53,
      "outputs": [
        {
          "output_type": "stream",
          "text": [
            "Sunrise is at 6:00 am and sunset is at 8:09 pm.\r\n"
          ],
          "name": "stdout"
        }
      ]
    },
    {
      "metadata": {
        "id": "6KxPZi0ii4Jj",
        "colab_type": "code",
        "colab": {}
      },
      "cell_type": "code",
      "source": [
        "// Experiment:\n",
        "// Add a third case to `ServerResponse` and to the switch."
      ],
      "execution_count": 0,
      "outputs": []
    },
    {
      "metadata": {
        "id": "BCjUxgx0iKDh",
        "colab_type": "text"
      },
      "cell_type": "markdown",
      "source": [
        "Notice how the sunrise and sunset times are extracted from the `ServerResponse` value as part of matching the value against the switch cases."
      ]
    },
    {
      "metadata": {
        "id": "FonxodFmpPXv",
        "colab_type": "text"
      },
      "cell_type": "markdown",
      "source": [
        "Use `struct` to create a structure. Structures support many of the same behaviors as classes, including methods and initializers. One of the most important differences between structures and classes is that structures are always copied when they are passed around in your code, but classes are passed by reference."
      ]
    },
    {
      "metadata": {
        "id": "tsTnhpukpTF1",
        "colab_type": "code",
        "colab": {}
      },
      "cell_type": "code",
      "source": [
        "struct Card {\n",
        "    var rank: Rank\n",
        "    var suit: Suit\n",
        "    func simpleDescription() -> String {\n",
        "        return \"The \\(rank.simpleDescription()) of \\(suit.simpleDescription())\"\n",
        "    }\n",
        "}\n",
        "let threeOfSpades = Card(rank: .three, suit: .spades)\n",
        "let threeOfSpadesDescription = threeOfSpades.simpleDescription()"
      ],
      "execution_count": 0,
      "outputs": []
    },
    {
      "metadata": {
        "id": "FM1U4SqwpUp6",
        "colab_type": "code",
        "colab": {}
      },
      "cell_type": "code",
      "source": [
        "// Experiment:\n",
        "// Write a function that returns an array containing a full deck of cards, with one card of each\n",
        "// combination of rank and suit."
      ],
      "execution_count": 0,
      "outputs": []
    },
    {
      "metadata": {
        "id": "jUBjQqUhdE3p",
        "colab_type": "text"
      },
      "cell_type": "markdown",
      "source": [
        "## Protocols and Extensions\n",
        "\n",
        "Use `protocol` to declare a protocol."
      ]
    },
    {
      "metadata": {
        "id": "vVEIH7WhdE3q",
        "colab_type": "code",
        "colab": {}
      },
      "cell_type": "code",
      "source": [
        "protocol ExampleProtocol {\n",
        "    var simpleDescription: String { get }\n",
        "    mutating func adjust()\n",
        "}"
      ],
      "execution_count": 0,
      "outputs": []
    },
    {
      "metadata": {
        "id": "GSV2yv6SdE3r",
        "colab_type": "text"
      },
      "cell_type": "markdown",
      "source": [
        "Classes, enumerations, and structs can all adopt protocols."
      ]
    },
    {
      "metadata": {
        "id": "Lgf8If-0dE3r",
        "colab_type": "code",
        "outputId": "11282413-31fb-4c49-c493-98d73e93a2df",
        "colab": {
          "base_uri": "https://localhost:8080/",
          "height": 34
        }
      },
      "cell_type": "code",
      "source": [
        "class SimpleClass: ExampleProtocol {\n",
        "    var simpleDescription: String = \"A very simple class.\"\n",
        "    var anotherProperty: Int = 69105\n",
        "    func adjust() {\n",
        "        simpleDescription += \"  Now 100% adjusted.\"\n",
        "    }\n",
        "}\n",
        "var a = SimpleClass()\n",
        "a.adjust()\n",
        "let aDescription = a.simpleDescription\n",
        " \n",
        "struct SimpleStructure: ExampleProtocol {\n",
        "    var simpleDescription: String = \"A simple structure\"\n",
        "    mutating func adjust() {\n",
        "        simpleDescription += \" (adjusted)\"\n",
        "    }\n",
        "}\n",
        "var b = SimpleStructure()\n",
        "b.adjust()\n",
        "b.simpleDescription"
      ],
      "execution_count": 58,
      "outputs": [
        {
          "output_type": "execute_result",
          "data": {
            "text/plain": [
              "\"A simple structure (adjusted)\"\n"
            ]
          },
          "metadata": {
            "tags": []
          },
          "execution_count": 58
        }
      ]
    },
    {
      "metadata": {
        "id": "OvDuEwsYi-ZN",
        "colab_type": "code",
        "colab": {}
      },
      "cell_type": "code",
      "source": [
        "// Experiment:\n",
        "// Add another requirement to `ExampleProtocol`.\n",
        "// What changes do you need to make to `SimpleClass` and `SimpleStructure` so that they still\n",
        "// conform to the protocol?"
      ],
      "execution_count": 0,
      "outputs": []
    },
    {
      "metadata": {
        "id": "Is_xfbNXdE3t",
        "colab_type": "text"
      },
      "cell_type": "markdown",
      "source": [
        "Notice the use of the `mutating` keyword in the declaration of `SimpleStructure` to mark a method that modifies the structure. The declaration of `SimpleClass` doesn’t need any of its methods marked as mutating because methods on a class can always modify the class.\n",
        "\n",
        "Use `extension` to add functionality to an existing type, such as new methods and computed properties. You can use an extension to add protocol conformance to a type that is declared elsewhere, or even to a type that you imported from a library or framework."
      ]
    },
    {
      "metadata": {
        "id": "w5Hde1HwdE3u",
        "colab_type": "code",
        "outputId": "94273e93-905b-42da-e001-fe9799f66fae",
        "colab": {
          "base_uri": "https://localhost:8080/",
          "height": 34
        }
      },
      "cell_type": "code",
      "source": [
        "extension Int: ExampleProtocol {\n",
        "    public var simpleDescription: String {\n",
        "        return \"The number \\(self)\"\n",
        "    }\n",
        "    public mutating func adjust() {\n",
        "        self += 42\n",
        "    }\n",
        "}\n",
        "7.simpleDescription"
      ],
      "execution_count": 60,
      "outputs": [
        {
          "output_type": "execute_result",
          "data": {
            "text/plain": [
              "\"The number 7\"\n"
            ]
          },
          "metadata": {
            "tags": []
          },
          "execution_count": 60
        }
      ]
    },
    {
      "metadata": {
        "id": "fdY5CdWjjCRI",
        "colab_type": "code",
        "colab": {}
      },
      "cell_type": "code",
      "source": [
        "// Experiment:\n",
        "// Write an extension for the `Double` type that adds an `absoluteValue` property."
      ],
      "execution_count": 0,
      "outputs": []
    },
    {
      "metadata": {
        "id": "EoOPuRjZntCx",
        "colab_type": "text"
      },
      "cell_type": "markdown",
      "source": [
        "You can use a protocol name just like any other named type—for example, to create a collection of objects that have different types but that all conform to a single protocol. When you work with values whose type is a protocol type, methods outside the protocol definition are not available."
      ]
    },
    {
      "metadata": {
        "id": "OghTVgiRnvgA",
        "colab_type": "code",
        "colab": {
          "base_uri": "https://localhost:8080/",
          "height": 34
        },
        "outputId": "b6f05af2-da76-4211-a929-70a8a53987d2"
      },
      "cell_type": "code",
      "source": [
        "let protocolValue: ExampleProtocol = a\n",
        "protocolValue.simpleDescription"
      ],
      "execution_count": 62,
      "outputs": [
        {
          "output_type": "execute_result",
          "data": {
            "text/plain": [
              "\"A very simple class.  Now 100% adjusted.\"\n"
            ]
          },
          "metadata": {
            "tags": []
          },
          "execution_count": 62
        }
      ]
    },
    {
      "metadata": {
        "id": "Xad6Z5Nrn34O",
        "colab_type": "code",
        "colab": {}
      },
      "cell_type": "code",
      "source": [
        "// Uncomment to see the error.\n",
        "// protocolValue.anotherProperty"
      ],
      "execution_count": 0,
      "outputs": []
    },
    {
      "metadata": {
        "id": "92wBiymPn3HE",
        "colab_type": "text"
      },
      "cell_type": "markdown",
      "source": [
        "Even though the variable `protocolValue` has a runtime type of `SimpleClass`, the compiler treats it as the given type of `ExampleProtocol`. This means that you can't accidentally access methods or properties that the class implements in addition to its protocol conformance."
      ]
    },
    {
      "metadata": {
        "id": "6Z9Y-fWGjxsn",
        "colab_type": "text"
      },
      "cell_type": "markdown",
      "source": [
        "## Error Handling\n",
        "\n",
        "You represent errors using any type that adopts the `Error` protocol."
      ]
    },
    {
      "metadata": {
        "id": "PiENY4W2kA2t",
        "colab_type": "code",
        "colab": {}
      },
      "cell_type": "code",
      "source": [
        "enum PrinterError: Error {\n",
        "    case outOfPaper\n",
        "    case noToner\n",
        "    case onFire\n",
        "}"
      ],
      "execution_count": 0,
      "outputs": []
    },
    {
      "metadata": {
        "id": "Tu7q13kSkCad",
        "colab_type": "text"
      },
      "cell_type": "markdown",
      "source": [
        "Use `throw` to throw an error and `throws` to mark a function that can throw an error. If you throw an error in a function, the function returns immediately and the code that called the function handles the error."
      ]
    },
    {
      "metadata": {
        "id": "rY7yWs_nkFbM",
        "colab_type": "code",
        "colab": {}
      },
      "cell_type": "code",
      "source": [
        "func send(job: Int, toPrinter printerName: String) throws -> String {\n",
        "    if printerName == \"Never Has Toner\" {\n",
        "        throw PrinterError.noToner\n",
        "    }\n",
        "    return \"Job sent\"\n",
        "}"
      ],
      "execution_count": 0,
      "outputs": []
    },
    {
      "metadata": {
        "id": "uVh7tkr-kPKV",
        "colab_type": "text"
      },
      "cell_type": "markdown",
      "source": [
        "There are several ways to handle errors. One way is to use `do-catch`. Inside the `do` block, you mark code that can throw an error by writing try in front of it. Inside the `catch` block, the error is automatically given the name `error` unless you give it a different name."
      ]
    },
    {
      "metadata": {
        "id": "YejV2PLLkIPA",
        "colab_type": "code",
        "colab": {
          "base_uri": "https://localhost:8080/",
          "height": 34
        },
        "outputId": "8dee4ce7-83ae-4a0c-8d5a-09d9bf1f1fb1"
      },
      "cell_type": "code",
      "source": [
        "do {\n",
        "    let printerResponse = try send(job: 1040, toPrinter: \"Bi Sheng\")\n",
        "    print(printerResponse)\n",
        "} catch {\n",
        "    print(error)\n",
        "}"
      ],
      "execution_count": 66,
      "outputs": [
        {
          "output_type": "stream",
          "text": [
            "Job sent\r\n"
          ],
          "name": "stdout"
        }
      ]
    },
    {
      "metadata": {
        "id": "UJBF1XzdkWjL",
        "colab_type": "code",
        "colab": {}
      },
      "cell_type": "code",
      "source": [
        "// Experiment:\n",
        "// Change the printer name to `\"Never Has Toner\"`, so that the `send(job:toPrinter:)` function\n",
        "// throws an error."
      ],
      "execution_count": 0,
      "outputs": []
    },
    {
      "metadata": {
        "id": "occBM2Cekddc",
        "colab_type": "text"
      },
      "cell_type": "markdown",
      "source": [
        "You can provide multiple `catch` blocks that handle specific errors. You write a pattern after `catch` just as you do after `case` in a switch."
      ]
    },
    {
      "metadata": {
        "id": "eUhzxcUEkjV-",
        "colab_type": "code",
        "colab": {
          "base_uri": "https://localhost:8080/",
          "height": 34
        },
        "outputId": "5ca5bd3b-ca0d-4a4c-a1aa-7748a3f894cb"
      },
      "cell_type": "code",
      "source": [
        "do {\n",
        "    let printerResponse = try send(job: 1440, toPrinter: \"Gutenberg\")\n",
        "    print(printerResponse)\n",
        "} catch PrinterError.onFire {\n",
        "    print(\"I'll just put this over here, with the rest of the fire.\")\n",
        "} catch let printerError as PrinterError {\n",
        "    print(\"Printer error: \\(printerError).\")\n",
        "} catch {\n",
        "    print(error)\n",
        "}"
      ],
      "execution_count": 68,
      "outputs": [
        {
          "output_type": "stream",
          "text": [
            "Job sent\r\n"
          ],
          "name": "stdout"
        }
      ]
    },
    {
      "metadata": {
        "id": "-qpkCM8NnXie",
        "colab_type": "code",
        "colab": {}
      },
      "cell_type": "code",
      "source": [
        "// Experiment:\n",
        "// Add code to throw an error inside the `do` block.\n",
        "// What kind of error do you need to throw so that the error is handled by the first `catch` block?\n",
        "// What about the second and third blocks?"
      ],
      "execution_count": 0,
      "outputs": []
    },
    {
      "metadata": {
        "id": "JOwTXVWbnAup",
        "colab_type": "text"
      },
      "cell_type": "markdown",
      "source": [
        "Another way to handle errors is to use `try?` to convert the result to an optional. If the function throws an error, the specific error is discarded and the result is `nil`. Otherwise, the result is an optional containing the value that the function returned."
      ]
    },
    {
      "metadata": {
        "id": "2ifK6Lyom-9Q",
        "colab_type": "code",
        "colab": {}
      },
      "cell_type": "code",
      "source": [
        "let printerSuccess = try? send(job: 1884, toPrinter: \"Mergenthaler\")\n",
        "let printerFailure = try? send(job: 1885, toPrinter: \"Never Has Toner\")"
      ],
      "execution_count": 0,
      "outputs": []
    },
    {
      "metadata": {
        "id": "SmSiz49knFZY",
        "colab_type": "text"
      },
      "cell_type": "markdown",
      "source": [
        "Use `defer` to write a block of code that is executed after all other code in the function, just before the function returns. The code is executed regardless of whether the function throws an error. You can use `defer` to write setup and cleanup code next to each other, even though they need to be executed at different times."
      ]
    },
    {
      "metadata": {
        "id": "tMdhw71anJbP",
        "colab_type": "code",
        "colab": {
          "base_uri": "https://localhost:8080/",
          "height": 34
        },
        "outputId": "c4cf15bf-b819-48a5-8cf5-01fe9599a762"
      },
      "cell_type": "code",
      "source": [
        "var fridgeIsOpen = false\n",
        "let fridgeContent = [\"milk\", \"eggs\", \"leftovers\"]\n",
        "\n",
        "func fridgeContains(_ food: String) -> Bool {\n",
        "    fridgeIsOpen = true\n",
        "    defer {\n",
        "        fridgeIsOpen = false\n",
        "    }\n",
        "\n",
        "    let result = fridgeContent.contains(food)\n",
        "    return result\n",
        "}\n",
        "fridgeContains(\"banana\")\n",
        "fridgeIsOpen"
      ],
      "execution_count": 71,
      "outputs": [
        {
          "output_type": "execute_result",
          "data": {
            "text/plain": [
              "false\n"
            ]
          },
          "metadata": {
            "tags": []
          },
          "execution_count": 71
        }
      ]
    },
    {
      "metadata": {
        "id": "g0wCWqNMiOv-",
        "colab_type": "text"
      },
      "cell_type": "markdown",
      "source": [
        "## Generics\n",
        "\n",
        "Write a name inside angle brackets to make a generic function or type."
      ]
    },
    {
      "metadata": {
        "id": "sMyq1uQsdE3y",
        "colab_type": "code",
        "outputId": "1c328bc0-d437-4717-da44-6831206040b8",
        "colab": {
          "base_uri": "https://localhost:8080/",
          "height": 102
        }
      },
      "cell_type": "code",
      "source": [
        "func makeArray<Item>(repeating item: Item, numberOfTimes: Int) -> [Item] {\n",
        "    var result = [Item]()\n",
        "    for _ in 0..<numberOfTimes {\n",
        "        result.append(item)\n",
        "    }\n",
        "    return result\n",
        "}\n",
        "makeArray(repeating: \"knock\", numberOfTimes: 4)"
      ],
      "execution_count": 72,
      "outputs": [
        {
          "output_type": "execute_result",
          "data": {
            "text/plain": [
              "▿ 4 elements\n",
              "  - 0 : \"knock\"\n",
              "  - 1 : \"knock\"\n",
              "  - 2 : \"knock\"\n",
              "  - 3 : \"knock\"\n"
            ]
          },
          "metadata": {
            "tags": []
          },
          "execution_count": 72
        }
      ]
    },
    {
      "metadata": {
        "id": "If8pw1_7dE3z",
        "colab_type": "text"
      },
      "cell_type": "markdown",
      "source": [
        "You can make generic forms of functions and methods, as well as classes, enumerations, and structures."
      ]
    },
    {
      "metadata": {
        "id": "PrhmI6iNdE30",
        "colab_type": "code",
        "outputId": "a221fca0-3a7b-4201-dc80-5b793a0261af",
        "colab": {
          "base_uri": "https://localhost:8080/",
          "height": 34
        }
      },
      "cell_type": "code",
      "source": [
        "// Reimplement the Swift standard library's optional type\n",
        "enum OptionalValue<Wrapped> {\n",
        "    case none\n",
        "    case some(Wrapped)\n",
        "}\n",
        "var possibleInteger: OptionalValue<Int> = .none\n",
        "possibleInteger = .some(100)\n",
        "print(possibleInteger)"
      ],
      "execution_count": 73,
      "outputs": [
        {
          "output_type": "stream",
          "text": [
            "some(100)\r\n"
          ],
          "name": "stdout"
        }
      ]
    },
    {
      "metadata": {
        "id": "NXhFj_GCdE31",
        "colab_type": "text"
      },
      "cell_type": "markdown",
      "source": [
        "Use `where` after the type name to specify a list of requirements — for example, to require the type to implement a protocol, to require two types to be the same, or to require a class to have a particular superclass."
      ]
    },
    {
      "metadata": {
        "id": "EkXn4tmhdE32",
        "colab_type": "code",
        "outputId": "45f50fc3-9683-4c54-e8fd-f677bb6b5565",
        "colab": {
          "base_uri": "https://localhost:8080/",
          "height": 34
        }
      },
      "cell_type": "code",
      "source": [
        "func anyCommonElements<T: Sequence, U: Sequence>(_ lhs: T, _ rhs: U) -> Bool\n",
        "    where T.Element: Equatable, T.Element == U.Element\n",
        "{\n",
        "    for lhsItem in lhs {\n",
        "        for rhsItem in rhs {\n",
        "            if lhsItem == rhsItem {\n",
        "                return true\n",
        "            }\n",
        "        }\n",
        "    }\n",
        "    return false\n",
        "}\n",
        "anyCommonElements([1, 2, 3], [3])"
      ],
      "execution_count": 74,
      "outputs": [
        {
          "output_type": "execute_result",
          "data": {
            "text/plain": [
              "true\n"
            ]
          },
          "metadata": {
            "tags": []
          },
          "execution_count": 74
        }
      ]
    },
    {
      "metadata": {
        "id": "6cZJ4EiYq33D",
        "colab_type": "text"
      },
      "cell_type": "markdown",
      "source": [
        "Writing `<T: Equatable>` is the same as writing `<T> ... where T: Equatable`."
      ]
    }
  ]
}
