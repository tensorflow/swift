{
 "cells": [
  {
   "cell_type": "markdown",
   "metadata": {
    "id": "QdsgF9Mxj0gr"
   },
   "source": [
    "##### Adapted from the original [*A Swift Tour*](https://docs.swift.org/swift-book/GuidedTour/GuidedTour.html) on [Swift.org](https://swift.org) with modifications. The original content was authored by Apple Inc. Licensed under the [Creative Commons Attribution 4.0 International (CC BY 4.0) License](https://creativecommons.org/licenses/by/4.0/)."
   ]
  },
  {
   "cell_type": "markdown",
   "metadata": {
    "id": "pJNp_GAv9LAh"
   },
   "source": [
    "<table class=\"tfo-notebook-buttons\" align=\"left\">\n",
    "  <td>\n",
    "    <a target=\"_blank\" href=\"https://www.tensorflow.org/swift/tutorials/a_swift_tour\"><img src=\"https://www.tensorflow.org/images/tf_logo_32px.png\" />View on TensorFlow.org</a>\n",
    "  </td>\n",
    "  <td>\n",
    "    <a target=\"_blank\" href=\"https://colab.research.google.com/github/tensorflow/swift/blob/main/docs/site/tutorials/a_swift_tour.ipynb\"><img src=\"https://www.tensorflow.org/images/colab_logo_32px.png\" />Run in Google Colab</a>\n",
    "  </td>\n",
    "  <td>\n",
    "    <a target=\"_blank\" href=\"https://github.com/tensorflow/swift/blob/main/docs/site/tutorials/a_swift_tour.ipynb\"><img src=\"https://www.tensorflow.org/images/GitHub-Mark-32px.png\" />View source on GitHub</a>\n",
    "  </td>\n",
    "</table>"
   ]
  },
  {
   "cell_type": "markdown",
   "metadata": {
    "id": "673eaebJdE12"
   },
   "source": [
    "# A Swift Tour\n",
    "\n",
    "Tradition suggests that the first program in a new language should print the words \"Hello, world!\" on the screen. In Swift, this can be done in a single line:"
   ]
  },
  {
   "cell_type": "code",
   "execution_count": null,
   "metadata": {
    "id": "iNHY9-pzdE13"
   },
   "outputs": [],
   "source": [
    "print(\"Hello, world!\")"
   ]
  },
  {
   "cell_type": "markdown",
   "metadata": {
    "id": "jdHsgXTYdE17"
   },
   "source": [
    "If you have written code in C or Objective-C, this syntax looks familiar to you—in Swift, this line of code is a complete program. You don’t need to import a separate library for functionality like input/output or string handling. Code written at global scope is used as the entry point for the program, so you don’t need a `main()` function. You also don’t need to write semicolons at the end of every statement.\n",
    "\n",
    "This tour gives you enough information to start writing code in Swift by showing you how to accomplish a variety of programming tasks. Don’t worry if you don’t understand something—everything introduced in this tour is explained in detail in the rest of this book."
   ]
  },
  {
   "cell_type": "markdown",
   "metadata": {
    "id": "OihtZA6QhEZS"
   },
   "source": [
    "## Simple Values\n",
    "\n",
    "Use `let` to make a constant and `var` to make a variable. The value of a constant doesn’t need to be known at compile time, but you must assign it a value exactly once. This means you can use constants to name a value that you determine once but use in many places."
   ]
  },
  {
   "cell_type": "code",
   "execution_count": null,
   "metadata": {
    "id": "p_pjyevTdE18"
   },
   "outputs": [],
   "source": [
    "var myVariable = 42\n",
    "myVariable = 50\n",
    "let myConstant = 42"
   ]
  },
  {
   "cell_type": "markdown",
   "metadata": {
    "id": "A7S47TpWdE1-"
   },
   "source": [
    "A constant or variable must have the same type as the value you want to assign to it. However, you don’t always have to write the type explicitly. Providing a value when you create a constant or variable lets the compiler infer its type. In the example above, the compiler infers that `myVariable` is an integer because its initial value is an integer.\n",
    "\n",
    "If the initial value doesn’t provide enough information (or if there is no initial value), specify the type by writing it after the variable, separated by a colon. Note: using `Double` instead of `Float` for floating point numbers gives you more precision, and is the default floating point type in Swift."
   ]
  },
  {
   "cell_type": "code",
   "execution_count": null,
   "metadata": {
    "id": "RDo7IwtmdE1_"
   },
   "outputs": [],
   "source": [
    "let implicitInteger = 70\n",
    "let implicitDouble = 70.0\n",
    "let explicitDouble: Double = 70"
   ]
  },
  {
   "cell_type": "code",
   "execution_count": null,
   "metadata": {
    "id": "9jZ0Hccqhlil"
   },
   "outputs": [],
   "source": [
    "// Experiment:\n",
    "// Create a constant with an explicit type of `Float` and a value of 4."
   ]
  },
  {
   "cell_type": "markdown",
   "metadata": {
    "id": "N1PqnuLFXR4L"
   },
   "source": [
    "Values are never implicitly converted to another type. If you need to convert a value to a different type, explicitly make an instance of the desired type."
   ]
  },
  {
   "cell_type": "code",
   "execution_count": null,
   "metadata": {
    "id": "rPuJLYsHdE2C"
   },
   "outputs": [],
   "source": [
    "let label = \"The width is \"\n",
    "let width = 94\n",
    "print(label + String(width))"
   ]
  },
  {
   "cell_type": "code",
   "execution_count": null,
   "metadata": {
    "id": "QuQ7-JoOhNY9"
   },
   "outputs": [],
   "source": [
    "// Experiment:\n",
    "// Try removing the conversion to `String` from the last line. What error do you get?"
   ]
  },
  {
   "cell_type": "markdown",
   "metadata": {
    "id": "7cwpu6_3YYKX"
   },
   "source": [
    "There’s an even simpler way to include values in strings: Write the value in parentheses, and write a backslash (`\\`) before the parentheses. For example:"
   ]
  },
  {
   "cell_type": "code",
   "execution_count": null,
   "metadata": {
    "id": "j-W3HyT9ZBOF"
   },
   "outputs": [],
   "source": [
    "let apples = 3\n",
    "print(\"I have \\(apples) apples.\")"
   ]
  },
  {
   "cell_type": "code",
   "execution_count": null,
   "metadata": {
    "id": "kd1WEYjwZCXx"
   },
   "outputs": [],
   "source": [
    "let oranges = 5\n",
    "print(\"I have \\(apples + oranges) pieces of fruit.\")"
   ]
  },
  {
   "cell_type": "code",
   "execution_count": null,
   "metadata": {
    "id": "3avZRAzlguOQ"
   },
   "outputs": [],
   "source": [
    "// Experiment:\n",
    "// Use `\\()` to include a floating-point calculation in a string and to include someone's name in a\n",
    "// greeting."
   ]
  },
  {
   "cell_type": "markdown",
   "metadata": {
    "id": "4T6rPJ6tWaKu"
   },
   "source": [
    "Use three double quotation marks (`\"\"\"`) for strings that take up multiple lines. Indentation at the start of each quoted line is removed, as long as it matches the indentation of the closing quotation marks. For example:"
   ]
  },
  {
   "cell_type": "code",
   "execution_count": null,
   "metadata": {
    "id": "_5RJZBV1Webt"
   },
   "outputs": [],
   "source": [
    "let quotation = \"\"\"\n",
    "    Even though there's whitespace to the left,\n",
    "    the actual lines aren't indented.\n",
    "        Except for this line.\n",
    "    Double quotes (\") can appear without being escaped.\n",
    "\n",
    "    I still have \\(apples + oranges) pieces of fruit.\n",
    "    \"\"\"\n",
    "print(quotation)"
   ]
  },
  {
   "cell_type": "markdown",
   "metadata": {
    "id": "AuhL5LMzVr-T"
   },
   "source": [
    "Create arrays and dictionaries using brackets (`[]`), and access their elements by writing the index or key in brackets. A comma is allowed after the last element."
   ]
  },
  {
   "cell_type": "code",
   "execution_count": null,
   "metadata": {
    "id": "BI46PGfQdE2I"
   },
   "outputs": [],
   "source": [
    "var shoppingList = [\"catfish\", \"water\", \"tulips\", \"blue paint\"]\n",
    "shoppingList[1] = \"bottle of water\"\n",
    " \n",
    "var occupations = [\n",
    "    \"Malcolm\": \"Captain\",\n",
    "    \"Kaylee\": \"Mechanic\",\n",
    "]\n",
    "occupations[\"Jayne\"] = \"Public Relations\"\n",
    "print(occupations)"
   ]
  },
  {
   "cell_type": "markdown",
   "metadata": {
    "id": "HpaZFmGhYmW-"
   },
   "source": [
    "Arrays automatically grow as you add elements."
   ]
  },
  {
   "cell_type": "code",
   "execution_count": null,
   "metadata": {
    "id": "vVgbHKpaYpPX"
   },
   "outputs": [],
   "source": [
    "shoppingList.append(\"blue paint\")\n",
    "print(shoppingList)"
   ]
  },
  {
   "cell_type": "markdown",
   "metadata": {
    "id": "P_F6ODC6dE2L"
   },
   "source": [
    "To create an empty array or dictionary, use the initializer syntax."
   ]
  },
  {
   "cell_type": "code",
   "execution_count": null,
   "metadata": {
    "id": "pZ0hFNzXdE2M"
   },
   "outputs": [],
   "source": [
    "let emptyArray = [String]()\n",
    "let emptyDictionary = [String: Float]()"
   ]
  },
  {
   "cell_type": "markdown",
   "metadata": {
    "id": "r88SNR3mdE2Q"
   },
   "source": [
    "If type information can be inferred, you can write an empty array as `[]` and an empty dictionary as `[:]` — for example, when you set a new value for a variable or pass an argument to a function."
   ]
  },
  {
   "cell_type": "code",
   "execution_count": null,
   "metadata": {
    "id": "LrmOoh8HdE2R"
   },
   "outputs": [],
   "source": [
    "shoppingList = []\n",
    "occupations = [:]"
   ]
  },
  {
   "cell_type": "markdown",
   "metadata": {
    "id": "IcyJIWOqdE2T"
   },
   "source": [
    "## Control Flow\n",
    "\n",
    "Use `if` and `switch` to make conditionals, and use `for`-`in`, `for`, `while`, and `repeat`-`while` to make loops. Parentheses around the condition or loop variable are optional. Braces around the body are required."
   ]
  },
  {
   "cell_type": "code",
   "execution_count": null,
   "metadata": {
    "id": "QhcmCbQydE2U"
   },
   "outputs": [],
   "source": [
    "let individualScores = [75, 43, 103, 87, 12]\n",
    "var teamScore = 0\n",
    "for score in individualScores {\n",
    "    if score > 50 {\n",
    "        teamScore += 3\n",
    "    } else {\n",
    "        teamScore += 1\n",
    "    }\n",
    "}\n",
    "print(teamScore)"
   ]
  },
  {
   "cell_type": "markdown",
   "metadata": {
    "id": "VfEX-a-JdE2W"
   },
   "source": [
    "In an `if` statement, the conditional must be a Boolean expression—this means that code such as `if score { ... }` is an error, not an implicit comparison to zero.\n",
    "\n",
    "You can use `if` and `let` together to work with values that might be missing. These values are represented as optionals. An optional value either contains a value or contains `nil` to indicate that a value is missing. Write a question mark (`?`) after the type of a value to mark the value as optional."
   ]
  },
  {
   "cell_type": "code",
   "execution_count": null,
   "metadata": {
    "id": "fCqYihmIdE2X"
   },
   "outputs": [],
   "source": [
    "var optionalString: String? = \"Hello\"\n",
    "print(optionalString == nil)"
   ]
  },
  {
   "cell_type": "code",
   "execution_count": null,
   "metadata": {
    "id": "3GcY1w13hv82"
   },
   "outputs": [],
   "source": [
    "var optionalName: String? = \"John Appleseed\"\n",
    "var greeting = \"Hello!\"\n",
    "if let name = optionalName {\n",
    "    greeting = \"Hello, \\(name)\"\n",
    "}\n",
    "print(greeting)"
   ]
  },
  {
   "cell_type": "code",
   "execution_count": null,
   "metadata": {
    "id": "0dJr-IC8giJL"
   },
   "outputs": [],
   "source": [
    "// Experiment:\n",
    "// Change `optionalName` to `nil`. What greeting do you get?\n",
    "// Add an `else` clause that sets a different greeting if `optionalName` is `nil`."
   ]
  },
  {
   "cell_type": "markdown",
   "metadata": {
    "id": "ZZWOeB3ve-jm"
   },
   "source": [
    "If the optional value is `nil`, the conditional is `false` and the code in braces is skipped. Otherwise, the optional value is unwrapped and assigned to the constant after `let`, which makes the unwrapped value available inside the block of code.\n",
    "\n",
    "Another way to handle optional values is to provide a default value using the `??` operator. If the optional value is missing, the default value is used instead."
   ]
  },
  {
   "cell_type": "code",
   "execution_count": null,
   "metadata": {
    "id": "UqstABf4dE2b"
   },
   "outputs": [],
   "source": [
    "let nickName: String? = nil\n",
    "let fullName: String = \"John Appleseed\"\n",
    "print(\"Hi \\(nickName ?? fullName)\")"
   ]
  },
  {
   "cell_type": "markdown",
   "metadata": {
    "id": "l_3enGZldE2d"
   },
   "source": [
    "Switches support any kind of data and a wide variety of comparison operations—they aren’t limited to integers and tests for equality."
   ]
  },
  {
   "cell_type": "code",
   "execution_count": null,
   "metadata": {
    "id": "AXTHsCcedE2e"
   },
   "outputs": [],
   "source": [
    "let vegetable = \"red pepper\"\n",
    "switch vegetable {\n",
    "case \"celery\":\n",
    "    print(\"Add some raisins and make ants on a log.\")\n",
    "case \"cucumber\", \"watercress\":\n",
    "    print(\"That would make a good tea sandwich.\")\n",
    "case let x where x.hasSuffix(\"pepper\"):\n",
    "    print(\"Is it a spicy \\(x)?\")\n",
    "default:\n",
    "    print(\"Everything tastes good in soup.\")\n",
    "}"
   ]
  },
  {
   "cell_type": "code",
   "execution_count": null,
   "metadata": {
    "id": "e-FK9XcGga0O"
   },
   "outputs": [],
   "source": [
    "// Experiment:\n",
    "// Try removing the default case. What error do you get?"
   ]
  },
  {
   "cell_type": "markdown",
   "metadata": {
    "id": "AXaHBPiidE2g"
   },
   "source": [
    "Notice how `let` can be used in a pattern to assign the value that matched that part of a pattern to a constant.\n",
    "\n",
    "After executing the code inside the switch case that matched, the program exits from the switch statement. Execution doesn’t continue to the next case, so there is no need to explicitly break out of the switch at the end of each case’s code.\n",
    "\n",
    "You use `for`-`in` to iterate over items in a dictionary by providing a pair of names to use for each key-value pair. Dictionaries are an unordered collection, so their keys and values are iterated over in an arbitrary order."
   ]
  },
  {
   "cell_type": "code",
   "execution_count": null,
   "metadata": {
    "id": "nJHpFEDPdE2h"
   },
   "outputs": [],
   "source": [
    "let interestingNumbers = [\n",
    "    \"Prime\": [2, 3, 5, 7, 11, 13],\n",
    "    \"Fibonacci\": [1, 1, 2, 3, 5, 8],\n",
    "    \"Square\": [1, 4, 9, 16, 25],\n",
    "]\n",
    "var largest = 0\n",
    "for (kind, numbers) in interestingNumbers {\n",
    "    for number in numbers {\n",
    "        if number > largest {\n",
    "            largest = number\n",
    "        }\n",
    "    }\n",
    "}\n",
    "print(largest)"
   ]
  },
  {
   "cell_type": "code",
   "execution_count": null,
   "metadata": {
    "id": "UKKf8zkRgWUq"
   },
   "outputs": [],
   "source": [
    "// Experiment:\n",
    "// Add another variable to keep track of which kind of number was the largest, as well as what that\n",
    "// largest number was."
   ]
  },
  {
   "cell_type": "markdown",
   "metadata": {
    "id": "or2W6kbyfuXu"
   },
   "source": [
    "Use `while` to repeat a block of code until a condition changes. The condition of a loop can be at the end instead, ensuring that the loop is run at least once."
   ]
  },
  {
   "cell_type": "code",
   "execution_count": null,
   "metadata": {
    "id": "tt54-NuJdE2m"
   },
   "outputs": [],
   "source": [
    "var n = 2\n",
    "while n < 100 {\n",
    "    n = n * 2\n",
    "}\n",
    "\n",
    "print(n)"
   ]
  },
  {
   "cell_type": "code",
   "execution_count": null,
   "metadata": {
    "id": "adAijrWkiAGF"
   },
   "outputs": [],
   "source": [
    "var m = 2\n",
    "repeat {\n",
    "    m = m * 2\n",
    "} while m < 100\n",
    "\n",
    "print(m)"
   ]
  },
  {
   "cell_type": "markdown",
   "metadata": {
    "id": "DqEff6OfdE2q"
   },
   "source": [
    "You can keep an index in a loop—either by using `..<` to make a range of indexes or by writing an explicit initialization, condition, and increment. These two loops do the same thing:"
   ]
  },
  {
   "cell_type": "code",
   "execution_count": null,
   "metadata": {
    "id": "LKkJ4co_dE2r"
   },
   "outputs": [],
   "source": [
    "var total = 0\n",
    "for i in 0..<4 {\n",
    "    total += i\n",
    "}\n",
    "\n",
    "print(total)"
   ]
  },
  {
   "cell_type": "markdown",
   "metadata": {
    "id": "HKgeaTprdE2t"
   },
   "source": [
    "Use `..<` to make a range that omits its upper value, and use `...` to make a range that includes both values."
   ]
  },
  {
   "cell_type": "markdown",
   "metadata": {
    "id": "W7H3ptGaiEcB"
   },
   "source": [
    "## Functions and Closures\n",
    "\n",
    "Use `func` to declare a function. Call a function by following its name with a list of arguments in parentheses. Use `->` to separate the parameter names and types from the function’s return type."
   ]
  },
  {
   "cell_type": "code",
   "execution_count": null,
   "metadata": {
    "id": "6u_fX5SwdE2t"
   },
   "outputs": [],
   "source": [
    "func greet(name: String, day: String) -> String {\n",
    "    return \"Hello \\(name), today is \\(day).\"\n",
    "}\n",
    "print(greet(name: \"Bob\", day: \"Tuesday\"))"
   ]
  },
  {
   "cell_type": "code",
   "execution_count": null,
   "metadata": {
    "id": "sgYex6gigH87"
   },
   "outputs": [],
   "source": [
    "// Experiment:\n",
    "// Remove the `day` parameter. Add a parameter to include today’s lunch special in the greeting."
   ]
  },
  {
   "cell_type": "markdown",
   "metadata": {
    "id": "Mo9D_hc0jfkF"
   },
   "source": [
    "By default, functions use their parameter names as labels for their arguments. Write a custom argument label before the parameter name, or write `_` to use no argument label."
   ]
  },
  {
   "cell_type": "code",
   "execution_count": null,
   "metadata": {
    "id": "8Dkx71QUjisV"
   },
   "outputs": [],
   "source": [
    "func greet(_ person: String, on day: String) -> String {\n",
    "    return \"Hello \\(person), today is \\(day).\"\n",
    "}\n",
    "print(greet(\"John\", on: \"Wednesday\"))"
   ]
  },
  {
   "cell_type": "markdown",
   "metadata": {
    "id": "71qFe0AWjd9F"
   },
   "source": [
    "Use a tuple to make a compound value—for example, to return multiple values from a function. The elements of a tuple can be referred to either by name or by number."
   ]
  },
  {
   "cell_type": "code",
   "execution_count": null,
   "metadata": {
    "id": "5cDR7-TydE2w"
   },
   "outputs": [],
   "source": [
    "func calculateStatistics(scores: [Int]) -> (min: Int, max: Int, sum: Int) {\n",
    "    var min = scores[0]\n",
    "    var max = scores[0]\n",
    "    var sum = 0\n",
    "    \n",
    "    for score in scores {\n",
    "        if score > max {\n",
    "            max = score\n",
    "        } else if score < min {\n",
    "            min = score\n",
    "        }\n",
    "        sum += score\n",
    "    }\n",
    "    \n",
    "    return (min, max, sum)\n",
    "}\n",
    "let statistics = calculateStatistics(scores: [5, 3, 100, 3, 9])\n",
    "print(statistics.sum)\n",
    "print(statistics.2)"
   ]
  },
  {
   "cell_type": "markdown",
   "metadata": {
    "id": "hHUWHaH-jwmx"
   },
   "source": [
    "Functions can be nested. Nested functions have access to variables that were declared in the outer function. You can use nested functions to organize the code in a function that is long or complex."
   ]
  },
  {
   "cell_type": "code",
   "execution_count": null,
   "metadata": {
    "id": "K094099VdE21"
   },
   "outputs": [],
   "source": [
    "func returnFifteen() -> Int {\n",
    "    var y = 10\n",
    "    func add() {\n",
    "        y += 5\n",
    "    }\n",
    "    add()\n",
    "    return y\n",
    "}\n",
    "print(returnFifteen())"
   ]
  },
  {
   "cell_type": "markdown",
   "metadata": {
    "id": "s8hfkf4HdE24"
   },
   "source": [
    "Functions are a first-class type. This means that a function can return another function as its value."
   ]
  },
  {
   "cell_type": "code",
   "execution_count": null,
   "metadata": {
    "id": "sV33PIdsdE26"
   },
   "outputs": [],
   "source": [
    "func makeIncrementer() -> ((Int) -> Int) {\n",
    "    func addOne(number: Int) -> Int {\n",
    "        return 1 + number\n",
    "    }\n",
    "    return addOne\n",
    "}\n",
    "var increment = makeIncrementer()\n",
    "print(increment(7))"
   ]
  },
  {
   "cell_type": "markdown",
   "metadata": {
    "id": "J6-9e3godE29"
   },
   "source": [
    "A function can take another function as one of its arguments."
   ]
  },
  {
   "cell_type": "code",
   "execution_count": null,
   "metadata": {
    "id": "nOwBtGWLdE2-"
   },
   "outputs": [],
   "source": [
    "func hasAnyMatches(list: [Int], condition: (Int) -> Bool) -> Bool {\n",
    "    for item in list {\n",
    "        if condition(item) {\n",
    "            return true\n",
    "        }\n",
    "    }\n",
    "    return false\n",
    "}\n",
    "func lessThanTen(number: Int) -> Bool {\n",
    "    return number < 10\n",
    "}\n",
    "var numbers = [20, 19, 7, 12]\n",
    "print(hasAnyMatches(list: numbers, condition: lessThanTen))"
   ]
  },
  {
   "cell_type": "markdown",
   "metadata": {
    "id": "u9uVmoK6dE3B"
   },
   "source": [
    "Functions are actually a special case of closures: blocks of code that can be called later. The code in a closure has access to things like variables and functions that were available in the scope where the closure was created, even if the closure is in a different scope when it is executed—you saw an example of this already with nested functions. You can write a closure without a name by surrounding code with braces (`{}`). Use `in` to separate the arguments and return type from the body."
   ]
  },
  {
   "cell_type": "code",
   "execution_count": null,
   "metadata": {
    "id": "qWTL5QMKdE3C"
   },
   "outputs": [],
   "source": [
    "print(numbers.map({ (number: Int) -> Int in\n",
    "    let result = 3 * number\n",
    "    return result\n",
    "}))"
   ]
  },
  {
   "cell_type": "code",
   "execution_count": null,
   "metadata": {
    "id": "aTZoZCybf2uG"
   },
   "outputs": [],
   "source": [
    "// Experiment:\n",
    "// Rewrite the closure to return zero for all odd numbers."
   ]
  },
  {
   "cell_type": "markdown",
   "metadata": {
    "id": "NapuA70Qj8QF"
   },
   "source": [
    "You have several options for writing closures more concisely. When a closure’s type is already known, such as the callback for a delegate, you can omit the type of its parameters, its return type, or both. Single statement closures implicitly return the value of their only statement."
   ]
  },
  {
   "cell_type": "code",
   "execution_count": null,
   "metadata": {
    "id": "wNcmSyFodE3F"
   },
   "outputs": [],
   "source": [
    "let mappedNumbers = numbers.map({ number in 3 * number })\n",
    "print(mappedNumbers)"
   ]
  },
  {
   "cell_type": "markdown",
   "metadata": {
    "id": "6MxBFQjRdE3I"
   },
   "source": [
    "You can refer to parameters by number instead of by name—this approach is especially useful in very short closures. A closure passed as the last argument to a function can appear immediately after the parentheses. When a closure is the only argument to a function, you can omit the parentheses entirely."
   ]
  },
  {
   "cell_type": "code",
   "execution_count": null,
   "metadata": {
    "id": "6Ecv1ethdE3I"
   },
   "outputs": [],
   "source": [
    "let sortedNumbers = numbers.sorted { $0 > $1 }\n",
    "print(sortedNumbers)"
   ]
  },
  {
   "cell_type": "markdown",
   "metadata": {
    "id": "BfV1d5HpdE3K"
   },
   "source": [
    "## Objects and Classes\n",
    "\n",
    "Use `class` followed by the class’s name to create a class. A property declaration in a class is written the same way as a constant or variable declaration, except that it is in the context of a class. Likewise, method and function declarations are written the same way."
   ]
  },
  {
   "cell_type": "code",
   "execution_count": null,
   "metadata": {
    "id": "SycTCbxadE3L"
   },
   "outputs": [],
   "source": [
    "class Shape {\n",
    "    var numberOfSides = 0\n",
    "    func simpleDescription() -> String {\n",
    "        return \"A shape with \\(numberOfSides) sides.\"\n",
    "    }\n",
    "}"
   ]
  },
  {
   "cell_type": "code",
   "execution_count": null,
   "metadata": {
    "id": "i-oNcgg4h-wm"
   },
   "outputs": [],
   "source": [
    "// Experiment:\n",
    "// Add a constant property with `let`, and add another method that takes an argument."
   ]
  },
  {
   "cell_type": "markdown",
   "metadata": {
    "id": "NDuIuzgUkAEY"
   },
   "source": [
    "Create an instance of a class by putting parentheses after the class name. Use dot syntax to access the properties and methods of the instance."
   ]
  },
  {
   "cell_type": "code",
   "execution_count": null,
   "metadata": {
    "id": "y1_AYUbidE3O"
   },
   "outputs": [],
   "source": [
    "var shape = Shape()\n",
    "shape.numberOfSides = 7\n",
    "var shapeDescription = shape.simpleDescription()"
   ]
  },
  {
   "cell_type": "markdown",
   "metadata": {
    "id": "id0q1vIfdE3Q"
   },
   "source": [
    "This version of the `Shape` class is missing something important: an initializer to set up the class when an instance is created. Use `init` to create one."
   ]
  },
  {
   "cell_type": "code",
   "execution_count": null,
   "metadata": {
    "id": "lboFcMVtdE3Q"
   },
   "outputs": [],
   "source": [
    "class NamedShape {\n",
    "    var numberOfSides: Int = 0\n",
    "    var name: String\n",
    "    \n",
    "    init(name: String) {\n",
    "        self.name = name\n",
    "    }\n",
    "    \n",
    "    func simpleDescription() -> String {\n",
    "        return \"A shape with \\(numberOfSides) sides.\"\n",
    "    }\n",
    "}"
   ]
  },
  {
   "cell_type": "markdown",
   "metadata": {
    "id": "h06b-4fKdE3S"
   },
   "source": [
    "Notice how `self` is used to distinguish the `name` property from the `name` argument to the initializer. The arguments to the initializer are passed like a function call when you create an instance of the class. Every property needs a value assigned—either in its declaration (as with `numberOfSides`) or in the initializer (as with `name`).\n",
    "\n",
    "Use `deinit` to create a deinitializer if you need to perform some cleanup before the object is deallocated.\n",
    "\n",
    "Subclasses include their superclass name after their class name, separated by a colon. There is no requirement for classes to subclass any standard root class, so you can include or omit a superclass as needed.\n",
    "\n",
    "Methods on a subclass that override the superclass’s implementation are marked with `override`—overriding a method by accident, without `override`, is detected by the compiler as an error. The compiler also detects methods with `override` that don’t actually override any method in the superclass."
   ]
  },
  {
   "cell_type": "code",
   "execution_count": null,
   "metadata": {
    "id": "VHT1Lpz8dE3S"
   },
   "outputs": [],
   "source": [
    "class Square: NamedShape {\n",
    "    var sideLength: Double\n",
    "    \n",
    "    init(sideLength: Double, name: String) {\n",
    "        self.sideLength = sideLength\n",
    "        super.init(name: name)\n",
    "        numberOfSides = 4\n",
    "    }\n",
    "    \n",
    "    func area() -> Double {\n",
    "        return sideLength * sideLength\n",
    "    }\n",
    "    \n",
    "    override func simpleDescription() -> String {\n",
    "        return \"A square with sides of length \\(sideLength).\"\n",
    "    }\n",
    "}\n",
    "let test = Square(sideLength: 5.2, name: \"my test square\")\n",
    "print(test.area())\n",
    "print(test.simpleDescription())"
   ]
  },
  {
   "cell_type": "code",
   "execution_count": null,
   "metadata": {
    "id": "SIoEXii5iDA3"
   },
   "outputs": [],
   "source": [
    "// Experiment:\n",
    "// - Make another subclass of `NamedShape` called `Circle` that takes a radius and a name as\n",
    "//   arguments to its initializer.\n",
    "// - Implement an `area()` and a `simpleDescription()` method on the `Circle` class."
   ]
  },
  {
   "cell_type": "markdown",
   "metadata": {
    "id": "-jWyfN7KkDqR"
   },
   "source": [
    "In addition to simple properties that are stored, properties can have a getter and a setter."
   ]
  },
  {
   "cell_type": "code",
   "execution_count": null,
   "metadata": {
    "id": "QaqZC56MdE3V"
   },
   "outputs": [],
   "source": [
    "class EquilateralTriangle: NamedShape {\n",
    "    var sideLength: Double = 0.0\n",
    "    \n",
    "    init(sideLength: Double, name: String) {\n",
    "        self.sideLength = sideLength\n",
    "        super.init(name: name)\n",
    "        numberOfSides = 3\n",
    "    }\n",
    "    \n",
    "    var perimeter: Double {\n",
    "        get {\n",
    "            return 3.0 * sideLength\n",
    "        }\n",
    "        set {\n",
    "            sideLength = newValue / 3.0\n",
    "        }\n",
    "    }\n",
    "    \n",
    "    override func simpleDescription() -> String {\n",
    "        return \"An equilateral triangle with sides of length \\(sideLength).\"\n",
    "    }\n",
    "}\n",
    "var triangle = EquilateralTriangle(sideLength: 3.1, name: \"a triangle\")\n",
    "print(triangle.perimeter)\n",
    "triangle.perimeter = 9.9\n",
    "print(triangle.sideLength)"
   ]
  },
  {
   "cell_type": "markdown",
   "metadata": {
    "id": "CK3s64WhdE3W"
   },
   "source": [
    "In the setter for `perimeter`, the new value has the implicit name `newValue`. You can provide an explicit name in parentheses after `set`.\n",
    "\n",
    "Notice that the initializer for the `EquilateralTriangle` class has three different steps:\n",
    "\n",
    "1.  Setting the value of properties that the subclass declares.\n",
    "\n",
    "2.  Calling the superclass’s initializer.\n",
    "\n",
    "3.  Changing the value of properties defined by the superclass. Any additional setup work that uses methods, getters, or setters can also be done at this point.\n",
    "\n",
    "If you don’t need to compute the property but still need to provide code that is run before and after setting a new value, use `willSet` and `didSet`. The code you provide is run any time the value changes outside of an initializer. For example, the class below ensures that the side length of its triangle is always the same as the side length of its square."
   ]
  },
  {
   "cell_type": "code",
   "execution_count": null,
   "metadata": {
    "id": "VSPCTz5mdE3a"
   },
   "outputs": [],
   "source": [
    "class TriangleAndSquare {\n",
    "    var triangle: EquilateralTriangle {\n",
    "        willSet {\n",
    "            square.sideLength = newValue.sideLength\n",
    "        }\n",
    "    }\n",
    "    var square: Square {\n",
    "        willSet {\n",
    "            triangle.sideLength = newValue.sideLength\n",
    "        }\n",
    "    }\n",
    "    init(size: Double, name: String) {\n",
    "        square = Square(sideLength: size, name: name)\n",
    "        triangle = EquilateralTriangle(sideLength: size, name: name)\n",
    "    }\n",
    "}\n",
    "var triangleAndSquare = TriangleAndSquare(size: 10, name: \"another test shape\")\n",
    "print(triangleAndSquare.square.sideLength)\n",
    "print(triangleAndSquare.triangle.sideLength)\n",
    "triangleAndSquare.square = Square(sideLength: 50, name: \"larger square\")\n",
    "print(triangleAndSquare.triangle.sideLength)"
   ]
  },
  {
   "cell_type": "markdown",
   "metadata": {
    "id": "ygWAN55xdE3b"
   },
   "source": [
    "When working with optional values, you can write `?` before operations like methods, properties, and subscripting. If the value before the `?` is `nil`, everything after the `?` is ignored and the value of the whole expression is `nil`. Otherwise, the optional value is unwrapped, and everything after the `?` acts on the unwrapped value. In both cases, the value of the whole expression is an optional value."
   ]
  },
  {
   "cell_type": "code",
   "execution_count": null,
   "metadata": {
    "id": "pmXsLt_gdE3c"
   },
   "outputs": [],
   "source": [
    "let optionalSquare: Square? = Square(sideLength: 2.5, name: \"optional square\")\n",
    "print(optionalSquare?.sideLength)"
   ]
  },
  {
   "cell_type": "markdown",
   "metadata": {
    "id": "0yaZFHMRdE3d"
   },
   "source": [
    "## Enumerations and Structures\n",
    "\n",
    "Use `enum` to create an enumeration. Like classes and all other named types, enumerations can have methods associated with them."
   ]
  },
  {
   "cell_type": "code",
   "execution_count": null,
   "metadata": {
    "id": "Btg1_6rXdE3e"
   },
   "outputs": [],
   "source": [
    "enum Rank: Int {\n",
    "    case ace = 1\n",
    "    case two, three, four, five, six, seven, eight, nine, ten\n",
    "    case jack, queen, king\n",
    "\n",
    "    func simpleDescription() -> String {\n",
    "        switch self {\n",
    "        case .ace:\n",
    "            return \"ace\"\n",
    "        case .jack:\n",
    "            return \"jack\"\n",
    "        case .queen:\n",
    "            return \"queen\"\n",
    "        case .king:\n",
    "            return \"king\"\n",
    "        default:\n",
    "            return String(self.rawValue)\n",
    "        }\n",
    "    }\n",
    "}\n",
    "let ace = Rank.ace\n",
    "print(ace)\n",
    "let aceRawValue = ace.rawValue\n",
    "print(aceRawValue)"
   ]
  },
  {
   "cell_type": "code",
   "execution_count": null,
   "metadata": {
    "id": "34Ba8HGwin9n"
   },
   "outputs": [],
   "source": [
    "// Experiment:\n",
    "// Write a function that compares two `Rank` values by comparing their raw values."
   ]
  },
  {
   "cell_type": "markdown",
   "metadata": {
    "id": "0R1w6q3KkIH1"
   },
   "source": [
    "By default, Swift assigns the raw values starting at zero and incrementing by one each time, but you can change this behavior by explicitly specifying values. In the example above, Ace is explicitly given a raw value of `1`, and the rest of the raw values are assigned in order. You can also use strings or floating-point numbers as the raw type of an enumeration. Use the `rawValue` property to access the raw value of an enumeration case."
   ]
  },
  {
   "cell_type": "markdown",
   "metadata": {
    "id": "zgtd86KUp5qa"
   },
   "source": [
    "Use the `init?(rawValue:)` initializer to make an instance of an enumeration from a raw value. It returns either the enumeration case matching the raw value or `nil` if there is no matching `Rank`."
   ]
  },
  {
   "cell_type": "code",
   "execution_count": null,
   "metadata": {
    "id": "BjzxKC67dE3h"
   },
   "outputs": [],
   "source": [
    "if let convertedRank = Rank(rawValue: 3) {\n",
    "    let threeDescription = convertedRank.simpleDescription()\n",
    "}"
   ]
  },
  {
   "cell_type": "markdown",
   "metadata": {
    "id": "aViNXJOWdE3k"
   },
   "source": [
    "The case values of an enumeration are actual values, not just another way of writing their raw values. In fact, in cases where there isn’t a meaningful raw value, you don’t have to provide one."
   ]
  },
  {
   "cell_type": "code",
   "execution_count": null,
   "metadata": {
    "id": "i9fKzaQzdE3k"
   },
   "outputs": [],
   "source": [
    "enum Suit {\n",
    "    case spades, hearts, diamonds, clubs\n",
    "\n",
    "    func simpleDescription() -> String {\n",
    "        switch self {\n",
    "        case .spades:\n",
    "            return \"spades\"\n",
    "        case .hearts:\n",
    "            return \"hearts\"\n",
    "        case .diamonds:\n",
    "            return \"diamonds\"\n",
    "        case .clubs:\n",
    "            return \"clubs\"\n",
    "        }\n",
    "    }\n",
    "}\n",
    "let hearts = Suit.hearts\n",
    "let heartsDescription = hearts.simpleDescription()"
   ]
  },
  {
   "cell_type": "code",
   "execution_count": null,
   "metadata": {
    "id": "H-38gQ27isHk"
   },
   "outputs": [],
   "source": [
    "// Experiment:\n",
    "// Add a `color()` method to `Suit` that returns \"black\" for spades and clubs, and returns \"red\" for\n",
    "// hearts and diamonds."
   ]
  },
  {
   "cell_type": "markdown",
   "metadata": {
    "id": "H1B0m_prdE3m"
   },
   "source": [
    "Notice the two ways that the `Hearts` case of the enumeration is referred to above: When assigning a value to the `hearts` constant, the enumeration case `Suit.Hearts` is referred to by its full name because the constant doesn’t have an explicit type specified. Inside the switch, the enumeration case is referred to by the abbreviated form `.Hearts` because the value of `self` is already known to be a suit. You can use the abbreviated form anytime the value’s type is already known."
   ]
  },
  {
   "cell_type": "markdown",
   "metadata": {
    "id": "fCDHUHBHdE3o"
   },
   "source": [
    "If an enumeration has raw values, those values are determined as part of the declaration, which means every instance of a particular enumeration case always has the same raw value. Another choice for enumeration cases is to have values associated with the case—these values are determined when you make the instance, and they can be different for each instance of an enumeration case. You can think of the associated values as behaving like stored properties of the enumeration case instance.\n",
    "\n",
    "For example, consider the case of requesting the sunrise and sunset times from a server. The server either responds with the requested information, or it responds with a description of what went wrong."
   ]
  },
  {
   "cell_type": "code",
   "execution_count": null,
   "metadata": {
    "id": "v7CDdsdydE3o"
   },
   "outputs": [],
   "source": [
    "enum ServerResponse {\n",
    "    case result(String, String)\n",
    "    case failure(String)\n",
    "}\n",
    "\n",
    "let success = ServerResponse.result(\"6:00 am\", \"8:09 pm\")\n",
    "let failure = ServerResponse.failure(\"Out of cheese.\")\n",
    "\n",
    "switch success {\n",
    "case let .result(sunrise, sunset):\n",
    "    print(\"Sunrise is at \\(sunrise) and sunset is at \\(sunset).\")\n",
    "case let .failure(message):\n",
    "    print(\"Failure...  \\(message)\")\n",
    "}"
   ]
  },
  {
   "cell_type": "code",
   "execution_count": null,
   "metadata": {
    "id": "6KxPZi0ii4Jj"
   },
   "outputs": [],
   "source": [
    "// Experiment:\n",
    "// Add a third case to `ServerResponse` and to the switch."
   ]
  },
  {
   "cell_type": "markdown",
   "metadata": {
    "id": "BCjUxgx0iKDh"
   },
   "source": [
    "Notice how the sunrise and sunset times are extracted from the `ServerResponse` value as part of matching the value against the switch cases."
   ]
  },
  {
   "cell_type": "markdown",
   "metadata": {
    "id": "FonxodFmpPXv"
   },
   "source": [
    "Use `struct` to create a structure. Structures support many of the same behaviors as classes, including methods and initializers. One of the most important differences between structures and classes is that structures are always copied when they are passed around in your code, but classes are passed by reference."
   ]
  },
  {
   "cell_type": "code",
   "execution_count": null,
   "metadata": {
    "id": "tsTnhpukpTF1"
   },
   "outputs": [],
   "source": [
    "struct Card {\n",
    "    var rank: Rank\n",
    "    var suit: Suit\n",
    "    func simpleDescription() -> String {\n",
    "        return \"The \\(rank.simpleDescription()) of \\(suit.simpleDescription())\"\n",
    "    }\n",
    "}\n",
    "let threeOfSpades = Card(rank: .three, suit: .spades)\n",
    "let threeOfSpadesDescription = threeOfSpades.simpleDescription()"
   ]
  },
  {
   "cell_type": "code",
   "execution_count": null,
   "metadata": {
    "id": "FM1U4SqwpUp6"
   },
   "outputs": [],
   "source": [
    "// Experiment:\n",
    "// Write a function that returns an array containing a full deck of cards, with one card of each\n",
    "// combination of rank and suit."
   ]
  },
  {
   "cell_type": "markdown",
   "metadata": {
    "id": "jUBjQqUhdE3p"
   },
   "source": [
    "## Protocols and Extensions\n",
    "\n",
    "Use `protocol` to declare a protocol."
   ]
  },
  {
   "cell_type": "code",
   "execution_count": null,
   "metadata": {
    "id": "vVEIH7WhdE3q"
   },
   "outputs": [],
   "source": [
    "protocol ExampleProtocol {\n",
    "    var simpleDescription: String { get }\n",
    "    mutating func adjust()\n",
    "}"
   ]
  },
  {
   "cell_type": "markdown",
   "metadata": {
    "id": "GSV2yv6SdE3r"
   },
   "source": [
    "Classes, enumerations, and structs can all adopt protocols."
   ]
  },
  {
   "cell_type": "code",
   "execution_count": null,
   "metadata": {
    "id": "Lgf8If-0dE3r"
   },
   "outputs": [],
   "source": [
    "class SimpleClass: ExampleProtocol {\n",
    "    var simpleDescription: String = \"A very simple class.\"\n",
    "    var anotherProperty: Int = 69105\n",
    "    func adjust() {\n",
    "        simpleDescription += \"  Now 100% adjusted.\"\n",
    "    }\n",
    "}\n",
    "var a = SimpleClass()\n",
    "a.adjust()\n",
    "let aDescription = a.simpleDescription\n",
    " \n",
    "struct SimpleStructure: ExampleProtocol {\n",
    "    var simpleDescription: String = \"A simple structure\"\n",
    "    mutating func adjust() {\n",
    "        simpleDescription += \" (adjusted)\"\n",
    "    }\n",
    "}\n",
    "var b = SimpleStructure()\n",
    "print(b.adjust())\n",
    "print(b.simpleDescription)"
   ]
  },
  {
   "cell_type": "code",
   "execution_count": null,
   "metadata": {
    "id": "OvDuEwsYi-ZN"
   },
   "outputs": [],
   "source": [
    "// Experiment:\n",
    "// Add another requirement to `ExampleProtocol`.\n",
    "// What changes do you need to make to `SimpleClass` and `SimpleStructure` so that they still\n",
    "// conform to the protocol?"
   ]
  },
  {
   "cell_type": "markdown",
   "metadata": {
    "id": "Is_xfbNXdE3t"
   },
   "source": [
    "Notice the use of the `mutating` keyword in the declaration of `SimpleStructure` to mark a method that modifies the structure. The declaration of `SimpleClass` doesn’t need any of its methods marked as mutating because methods on a class can always modify the class.\n",
    "\n",
    "Use `extension` to add functionality to an existing type, such as new methods and computed properties. You can use an extension to add protocol conformance to a type that is declared elsewhere, or even to a type that you imported from a library or framework."
   ]
  },
  {
   "cell_type": "code",
   "execution_count": null,
   "metadata": {
    "id": "w5Hde1HwdE3u"
   },
   "outputs": [],
   "source": [
    "extension Int: ExampleProtocol {\n",
    "    public var simpleDescription: String {\n",
    "        return \"The number \\(self)\"\n",
    "    }\n",
    "    public mutating func adjust() {\n",
    "        self += 42\n",
    "    }\n",
    "}\n",
    "print(7.simpleDescription)"
   ]
  },
  {
   "cell_type": "code",
   "execution_count": null,
   "metadata": {
    "id": "fdY5CdWjjCRI"
   },
   "outputs": [],
   "source": [
    "// Experiment:\n",
    "// Write an extension for the `Double` type that adds an `absoluteValue` property."
   ]
  },
  {
   "cell_type": "markdown",
   "metadata": {
    "id": "EoOPuRjZntCx"
   },
   "source": [
    "You can use a protocol name just like any other named type—for example, to create a collection of objects that have different types but that all conform to a single protocol. When you work with values whose type is a protocol type, methods outside the protocol definition are not available."
   ]
  },
  {
   "cell_type": "code",
   "execution_count": null,
   "metadata": {
    "id": "OghTVgiRnvgA"
   },
   "outputs": [],
   "source": [
    "let protocolValue: ExampleProtocol = a\n",
    "print(protocolValue.simpleDescription)"
   ]
  },
  {
   "cell_type": "code",
   "execution_count": null,
   "metadata": {
    "id": "Xad6Z5Nrn34O"
   },
   "outputs": [],
   "source": [
    "// Uncomment to see the error.\n",
    "// protocolValue.anotherProperty"
   ]
  },
  {
   "cell_type": "markdown",
   "metadata": {
    "id": "92wBiymPn3HE"
   },
   "source": [
    "Even though the variable `protocolValue` has a runtime type of `SimpleClass`, the compiler treats it as the given type of `ExampleProtocol`. This means that you can't accidentally access methods or properties that the class implements in addition to its protocol conformance."
   ]
  },
  {
   "cell_type": "markdown",
   "metadata": {
    "id": "6Z9Y-fWGjxsn"
   },
   "source": [
    "## Error Handling\n",
    "\n",
    "You represent errors using any type that adopts the `Error` protocol."
   ]
  },
  {
   "cell_type": "code",
   "execution_count": null,
   "metadata": {
    "id": "PiENY4W2kA2t"
   },
   "outputs": [],
   "source": [
    "enum PrinterError: Error {\n",
    "    case outOfPaper\n",
    "    case noToner\n",
    "    case onFire\n",
    "}"
   ]
  },
  {
   "cell_type": "markdown",
   "metadata": {
    "id": "Tu7q13kSkCad"
   },
   "source": [
    "Use `throw` to throw an error and `throws` to mark a function that can throw an error. If you throw an error in a function, the function returns immediately and the code that called the function handles the error."
   ]
  },
  {
   "cell_type": "code",
   "execution_count": null,
   "metadata": {
    "id": "rY7yWs_nkFbM"
   },
   "outputs": [],
   "source": [
    "func send(job: Int, toPrinter printerName: String) throws -> String {\n",
    "    if printerName == \"Never Has Toner\" {\n",
    "        throw PrinterError.noToner\n",
    "    }\n",
    "    return \"Job sent\"\n",
    "}"
   ]
  },
  {
   "cell_type": "markdown",
   "metadata": {
    "id": "uVh7tkr-kPKV"
   },
   "source": [
    "There are several ways to handle errors. One way is to use `do-catch`. Inside the `do` block, you mark code that can throw an error by writing try in front of it. Inside the `catch` block, the error is automatically given the name `error` unless you give it a different name."
   ]
  },
  {
   "cell_type": "code",
   "execution_count": null,
   "metadata": {
    "id": "YejV2PLLkIPA"
   },
   "outputs": [],
   "source": [
    "do {\n",
    "    let printerResponse = try send(job: 1040, toPrinter: \"Bi Sheng\")\n",
    "    print(printerResponse)\n",
    "} catch {\n",
    "    print(error)\n",
    "}"
   ]
  },
  {
   "cell_type": "code",
   "execution_count": null,
   "metadata": {
    "id": "UJBF1XzdkWjL"
   },
   "outputs": [],
   "source": [
    "// Experiment:\n",
    "// Change the printer name to `\"Never Has Toner\"`, so that the `send(job:toPrinter:)` function\n",
    "// throws an error."
   ]
  },
  {
   "cell_type": "markdown",
   "metadata": {
    "id": "occBM2Cekddc"
   },
   "source": [
    "You can provide multiple `catch` blocks that handle specific errors. You write a pattern after `catch` just as you do after `case` in a switch."
   ]
  },
  {
   "cell_type": "code",
   "execution_count": null,
   "metadata": {
    "id": "eUhzxcUEkjV-"
   },
   "outputs": [],
   "source": [
    "do {\n",
    "    let printerResponse = try send(job: 1440, toPrinter: \"Gutenberg\")\n",
    "    print(printerResponse)\n",
    "} catch PrinterError.onFire {\n",
    "    print(\"I'll just put this over here, with the rest of the fire.\")\n",
    "} catch let printerError as PrinterError {\n",
    "    print(\"Printer error: \\(printerError).\")\n",
    "} catch {\n",
    "    print(error)\n",
    "}"
   ]
  },
  {
   "cell_type": "code",
   "execution_count": null,
   "metadata": {
    "id": "-qpkCM8NnXie"
   },
   "outputs": [],
   "source": [
    "// Experiment:\n",
    "// Add code to throw an error inside the `do` block.\n",
    "// What kind of error do you need to throw so that the error is handled by the first `catch` block?\n",
    "// What about the second and third blocks?"
   ]
  },
  {
   "cell_type": "markdown",
   "metadata": {
    "id": "JOwTXVWbnAup"
   },
   "source": [
    "Another way to handle errors is to use `try?` to convert the result to an optional. If the function throws an error, the specific error is discarded and the result is `nil`. Otherwise, the result is an optional containing the value that the function returned."
   ]
  },
  {
   "cell_type": "code",
   "execution_count": null,
   "metadata": {
    "id": "2ifK6Lyom-9Q"
   },
   "outputs": [],
   "source": [
    "let printerSuccess = try? send(job: 1884, toPrinter: \"Mergenthaler\")\n",
    "let printerFailure = try? send(job: 1885, toPrinter: \"Never Has Toner\")"
   ]
  },
  {
   "cell_type": "markdown",
   "metadata": {
    "id": "SmSiz49knFZY"
   },
   "source": [
    "Use `defer` to write a block of code that is executed after all other code in the function, just before the function returns. The code is executed regardless of whether the function throws an error. You can use `defer` to write setup and cleanup code next to each other, even though they need to be executed at different times."
   ]
  },
  {
   "cell_type": "code",
   "execution_count": null,
   "metadata": {
    "id": "tMdhw71anJbP"
   },
   "outputs": [],
   "source": [
    "var fridgeIsOpen = false\n",
    "let fridgeContent = [\"milk\", \"eggs\", \"leftovers\"]\n",
    "\n",
    "func fridgeContains(_ food: String) -> Bool {\n",
    "    fridgeIsOpen = true\n",
    "    defer {\n",
    "        fridgeIsOpen = false\n",
    "    }\n",
    "\n",
    "    let result = fridgeContent.contains(food)\n",
    "    return result\n",
    "}\n",
    "print(fridgeContains(\"banana\"))\n",
    "print(fridgeIsOpen)"
   ]
  },
  {
   "cell_type": "markdown",
   "metadata": {
    "id": "g0wCWqNMiOv-"
   },
   "source": [
    "## Generics\n",
    "\n",
    "Write a name inside angle brackets to make a generic function or type."
   ]
  },
  {
   "cell_type": "code",
   "execution_count": null,
   "metadata": {
    "id": "sMyq1uQsdE3y"
   },
   "outputs": [],
   "source": [
    "func makeArray<Item>(repeating item: Item, numberOfTimes: Int) -> [Item] {\n",
    "    var result = [Item]()\n",
    "    for _ in 0..<numberOfTimes {\n",
    "        result.append(item)\n",
    "    }\n",
    "    return result\n",
    "}\n",
    "print(makeArray(repeating: \"knock\", numberOfTimes: 4))"
   ]
  },
  {
   "cell_type": "markdown",
   "metadata": {
    "id": "If8pw1_7dE3z"
   },
   "source": [
    "You can make generic forms of functions and methods, as well as classes, enumerations, and structures."
   ]
  },
  {
   "cell_type": "code",
   "execution_count": null,
   "metadata": {
    "id": "PrhmI6iNdE30"
   },
   "outputs": [],
   "source": [
    "// Reimplement the Swift standard library's optional type\n",
    "enum OptionalValue<Wrapped> {\n",
    "    case none\n",
    "    case some(Wrapped)\n",
    "}\n",
    "var possibleInteger: OptionalValue<Int> = .none\n",
    "possibleInteger = .some(100)\n",
    "print(possibleInteger)"
   ]
  },
  {
   "cell_type": "markdown",
   "metadata": {
    "id": "NXhFj_GCdE31"
   },
   "source": [
    "Use `where` after the type name to specify a list of requirements — for example, to require the type to implement a protocol, to require two types to be the same, or to require a class to have a particular superclass."
   ]
  },
  {
   "cell_type": "code",
   "execution_count": null,
   "metadata": {
    "id": "EkXn4tmhdE32"
   },
   "outputs": [],
   "source": [
    "func anyCommonElements<T: Sequence, U: Sequence>(_ lhs: T, _ rhs: U) -> Bool\n",
    "    where T.Element: Equatable, T.Element == U.Element\n",
    "{\n",
    "    for lhsItem in lhs {\n",
    "        for rhsItem in rhs {\n",
    "            if lhsItem == rhsItem {\n",
    "                return true\n",
    "            }\n",
    "        }\n",
    "    }\n",
    "    return false\n",
    "}\n",
    "print(anyCommonElements([1, 2, 3], [3]))"
   ]
  },
  {
   "cell_type": "markdown",
   "metadata": {
    "id": "6cZJ4EiYq33D"
   },
   "source": [
    "Writing `<T: Equatable>` is the same as writing `<T> ... where T: Equatable`."
   ]
  }
 ],
 "metadata": {
  "colab": {
   "collapsed_sections": [],
   "name": "a_swift_tour.ipynb",
   "toc_visible": true
  },
  "kernelspec": {
   "display_name": "Swift",
   "name": "swift"
  }
 },
 "nbformat": 4,
 "nbformat_minor": 0
}
