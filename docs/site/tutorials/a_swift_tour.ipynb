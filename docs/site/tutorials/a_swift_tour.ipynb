{
 "cells": [
  {
   "cell_type": "markdown",
   "metadata": {
    "colab_type": "text",
    "id": "QdsgF9Mxj0gr"
   },
   "source": [
    "##### Adapted from the original [*A Swift Tour*](https://docs.swift.org/swift-book/GuidedTour/GuidedTour.html) on [Swift.org](https://swift.org) with modifications. The original content was authored by Apple Inc. Licensed under the [Creative Commons Attribution 4.0 International (CC BY 4.0) License](https://creativecommons.org/licenses/by/4.0/)."
   ]
  },
  {
   "cell_type": "markdown",
   "metadata": {
    "colab_type": "text",
    "id": "pJNp_GAv9LAh"
   },
   "source": [
    "<table class=\"tfo-notebook-buttons\" align=\"left\">\n",
    "  <td>\n",
    "    <a target=\"_blank\" href=\"https://www.tensorflow.org/swift/tutorials/a_swift_tour\"><img src=\"https://www.tensorflow.org/images/tf_logo_32px.png\" />View on TensorFlow.org</a>\n",
    "  </td>\n",
    "  <td>\n",
    "    <a target=\"_blank\" href=\"https://colab.research.google.com/github/tensorflow/swift/blob/master/docs/site/tutorials/a_swift_tour.ipynb\"><img src=\"https://www.tensorflow.org/images/colab_logo_32px.png\" />Run in Google Colab</a>\n",
    "  </td>\n",
    "  <td>\n",
    "    <a target=\"_blank\" href=\"https://github.com/tensorflow/swift/blob/master/docs/site/tutorials/a_swift_tour.ipynb\"><img src=\"https://www.tensorflow.org/images/GitHub-Mark-32px.png\" />View source on GitHub</a>\n",
    "  </td>\n",
    "</table>"
   ]
  },
  {
   "cell_type": "markdown",
   "metadata": {
    "colab_type": "text",
    "id": "673eaebJdE12"
   },
   "source": [
    "# A Swift Tour\n",
    "\n",
    "Tradition suggests that the first program in a new language should print the words \"Hello, world!\" on the screen. In Swift, this can be done in a single line:"
   ]
  },
  {
   "cell_type": "code",
   "execution_count": null,
   "metadata": {
    "colab": {
     "base_uri": "https://localhost:8080/",
     "height": 34
    },
    "colab_type": "code",
    "id": "iNHY9-pzdE13",
    "outputId": "8319f4a0-0f0c-440a-d547-89c4c30e205d"
   },
   "outputs": [],
   "source": [
    "print(\"Hello, world!\")"
   ]
  },
  {
   "cell_type": "markdown",
   "metadata": {
    "colab_type": "text",
    "id": "jdHsgXTYdE17"
   },
   "source": [
    "If you have written code in C or Objective-C, this syntax looks familiar to you—in Swift, this line of code is a complete program. You don’t need to import a separate library for functionality like input/output or string handling. Code written at global scope is used as the entry point for the program, so you don’t need a `main()` function. You also don’t need to write semicolons at the end of every statement.\n",
    "\n",
    "This tour gives you enough information to start writing code in Swift by showing you how to accomplish a variety of programming tasks. Don’t worry if you don’t understand something—everything introduced in this tour is explained in detail in the rest of this book."
   ]
  },
  {
   "cell_type": "markdown",
   "metadata": {
    "colab_type": "text",
    "id": "OihtZA6QhEZS"
   },
   "source": [
    "## Simple Values\n",
    "\n",
    "Use `let` to make a constant and `var` to make a variable. The value of a constant doesn’t need to be known at compile time, but you must assign it a value exactly once. This means you can use constants to name a value that you determine once but use in many places."
   ]
  },
  {
   "cell_type": "code",
   "execution_count": null,
   "metadata": {
    "colab": {},
    "colab_type": "code",
    "id": "p_pjyevTdE18"
   },
   "outputs": [],
   "source": [
    "var myVariable = 42\n",
    "myVariable = 50\n",
    "let myConstant = 42"
   ]
  },
  {
   "cell_type": "markdown",
   "metadata": {
    "colab_type": "text",
    "id": "A7S47TpWdE1-"
   },
   "source": [
    "A constant or variable must have the same type as the value you want to assign to it. However, you don’t always have to write the type explicitly. Providing a value when you create a constant or variable lets the compiler infer its type. In the example above, the compiler infers that `myVariable` is an integer because its initial value is an integer.\n",
    "\n",
    "If the initial value doesn’t provide enough information (or if there is no initial value), specify the type by writing it after the variable, separated by a colon. Note: using `Double` instead of `Float` for floating point numbers gives you more precision, and is the default floating point type in Swift."
   ]
  },
  {
   "cell_type": "code",
   "execution_count": null,
   "metadata": {
    "colab": {},
    "colab_type": "code",
    "id": "RDo7IwtmdE1_"
   },
   "outputs": [],
   "source": [
    "let implicitInteger = 70\n",
    "let implicitDouble = 70.0\n",
    "let explicitDouble: Double = 70"
   ]
  },
  {
   "cell_type": "code",
   "execution_count": null,
   "metadata": {
    "colab": {},
    "colab_type": "code",
    "id": "9jZ0Hccqhlil"
   },
   "outputs": [],
   "source": [
    "// Experiment:\n",
    "// Create a constant with an explicit type of `Float` and a value of 4."
   ]
  },
  {
   "cell_type": "markdown",
   "metadata": {
    "colab_type": "text",
    "id": "N1PqnuLFXR4L"
   },
   "source": [
    "Values are never implicitly converted to another type. If you need to convert a value to a different type, explicitly make an instance of the desired type."
   ]
  },
  {
   "cell_type": "code",
   "execution_count": null,
   "metadata": {
    "colab": {
     "base_uri": "https://localhost:8080/",
     "height": 34
    },
    "colab_type": "code",
    "id": "rPuJLYsHdE2C",
    "outputId": "b71227f4-2f81-4fdc-ec72-bb53da731e8c"
   },
   "outputs": [],
   "source": [
    "let label = \"The width is \"\n",
    "let width = 94\n",
    "label + String(width)"
   ]
  },
  {
   "cell_type": "code",
   "execution_count": null,
   "metadata": {
    "colab": {},
    "colab_type": "code",
    "id": "QuQ7-JoOhNY9"
   },
   "outputs": [],
   "source": [
    "// Experiment:\n",
    "// Try removing the conversion to `String` from the last line. What error do you get?"
   ]
  },
  {
   "cell_type": "markdown",
   "metadata": {
    "colab_type": "text",
    "id": "7cwpu6_3YYKX"
   },
   "source": [
    "There’s an even simpler way to include values in strings: Write the value in parentheses, and write a backslash (`\\`) before the parentheses. For example:"
   ]
  },
  {
   "cell_type": "code",
   "execution_count": null,
   "metadata": {
    "colab": {
     "base_uri": "https://localhost:8080/",
     "height": 34
    },
    "colab_type": "code",
    "id": "j-W3HyT9ZBOF",
    "outputId": "fc70e6e3-7ab3-4ec4-94a7-1d3d0ae45e47"
   },
   "outputs": [],
   "source": [
    "let apples = 3\n",
    "\"I have \\(apples) apples.\""
   ]
  },
  {
   "cell_type": "code",
   "execution_count": null,
   "metadata": {
    "colab": {
     "base_uri": "https://localhost:8080/",
     "height": 34
    },
    "colab_type": "code",
    "id": "kd1WEYjwZCXx",
    "outputId": "ae89a8c0-3e31-4723-e65e-bff549454047"
   },
   "outputs": [],
   "source": [
    "let oranges = 5\n",
    "\"I have \\(apples + oranges) pieces of fruit.\""
   ]
  },
  {
   "cell_type": "code",
   "execution_count": null,
   "metadata": {
    "colab": {},
    "colab_type": "code",
    "id": "3avZRAzlguOQ"
   },
   "outputs": [],
   "source": [
    "// Experiment:\n",
    "// Use `\\()` to include a floating-point calculation in a string and to include someone's name in a\n",
    "// greeting."
   ]
  },
  {
   "cell_type": "markdown",
   "metadata": {
    "colab_type": "text",
    "id": "4T6rPJ6tWaKu"
   },
   "source": [
    "Use three double quotation marks (`\"\"\"`) for strings that take up multiple lines. Indentation at the start of each quoted line is removed, as long as it matches the indentation of the closing quotation marks. For example:"
   ]
  },
  {
   "cell_type": "code",
   "execution_count": null,
   "metadata": {
    "colab": {
     "base_uri": "https://localhost:8080/",
     "height": 54
    },
    "colab_type": "code",
    "id": "_5RJZBV1Webt",
    "outputId": "8723eb4b-431b-4dcb-bc8c-002c7edc8555"
   },
   "outputs": [],
   "source": [
    "let quotation = \"\"\"\n",
    "    Even though there's whitespace to the left,\n",
    "    the actual lines aren't indented.\n",
    "        Except for this line.\n",
    "    Double quotes (\") can appear without being escaped.\n",
    "\n",
    "    I still have \\(apples + oranges) pieces of fruit.\n",
    "    \"\"\"\n",
    "print(quotation)"
   ]
  },
  {
   "cell_type": "markdown",
   "metadata": {
    "colab_type": "text",
    "id": "AuhL5LMzVr-T"
   },
   "source": [
    "Create arrays and dictionaries using brackets (`[]`), and access their elements by writing the index or key in brackets. A comma is allowed after the last element."
   ]
  },
  {
   "cell_type": "code",
   "execution_count": null,
   "metadata": {
    "colab": {
     "base_uri": "https://localhost:8080/",
     "height": 187
    },
    "colab_type": "code",
    "id": "BI46PGfQdE2I",
    "outputId": "c6df9fda-7777-43bc-b807-df9f374c1da5"
   },
   "outputs": [],
   "source": [
    "var shoppingList = [\"catfish\", \"water\", \"tulips\", \"blue paint\"]\n",
    "shoppingList[1] = \"bottle of water\"\n",
    " \n",
    "var occupations = [\n",
    "    \"Malcolm\": \"Captain\",\n",
    "    \"Kaylee\": \"Mechanic\",\n",
    "]\n",
    "occupations[\"Jayne\"] = \"Public Relations\"\n",
    "occupations"
   ]
  },
  {
   "cell_type": "markdown",
   "metadata": {
    "colab_type": "text",
    "id": "HpaZFmGhYmW-"
   },
   "source": [
    "Arrays automatically grow as you add elements."
   ]
  },
  {
   "cell_type": "code",
   "execution_count": null,
   "metadata": {
    "colab": {
     "base_uri": "https://localhost:8080/",
     "height": 119
    },
    "colab_type": "code",
    "id": "vVgbHKpaYpPX",
    "outputId": "7bc9b6b1-4d05-41f1-cf2a-e9d3f9047876"
   },
   "outputs": [],
   "source": [
    "shoppingList.append(\"blue paint\")\n",
    "shoppingList"
   ]
  },
  {
   "cell_type": "markdown",
   "metadata": {
    "colab_type": "text",
    "id": "P_F6ODC6dE2L"
   },
   "source": [
    "To create an empty array or dictionary, use the initializer syntax."
   ]
  },
  {
   "cell_type": "code",
   "execution_count": null,
   "metadata": {
    "colab": {},
    "colab_type": "code",
    "id": "pZ0hFNzXdE2M"
   },
   "outputs": [],
   "source": [
    "let emptyArray = [String]()\n",
    "let emptyDictionary = [String: Float]()"
   ]
  },
  {
   "cell_type": "markdown",
   "metadata": {
    "colab_type": "text",
    "id": "r88SNR3mdE2Q"
   },
   "source": [
    "If type information can be inferred, you can write an empty array as `[]` and an empty dictionary as `[:]` — for example, when you set a new value for a variable or pass an argument to a function."
   ]
  },
  {
   "cell_type": "code",
   "execution_count": null,
   "metadata": {
    "colab": {},
    "colab_type": "code",
    "id": "LrmOoh8HdE2R"
   },
   "outputs": [],
   "source": [
    "shoppingList = []\n",
    "occupations = [:]"
   ]
  },
  {
   "cell_type": "markdown",
   "metadata": {
    "colab_type": "text",
    "id": "IcyJIWOqdE2T"
   },
   "source": [
    "## Control Flow\n",
    "\n",
    "Use `if` and `switch` to make conditionals, and use `for`-`in`, `for`, `while`, and `repeat`-`while` to make loops. Parentheses around the condition or loop variable are optional. Braces around the body are required."
   ]
  },
  {
   "cell_type": "code",
   "execution_count": null,
   "metadata": {
    "colab": {
     "base_uri": "https://localhost:8080/",
     "height": 34
    },
    "colab_type": "code",
    "id": "QhcmCbQydE2U",
    "outputId": "7c50964f-0283-4959-a9aa-da02d694031c"
   },
   "outputs": [],
   "source": [
    "let individualScores = [75, 43, 103, 87, 12]\n",
    "var teamScore = 0\n",
    "for score in individualScores {\n",
    "    if score > 50 {\n",
    "        teamScore += 3\n",
    "    } else {\n",
    "        teamScore += 1\n",
    "    }\n",
    "}\n",
    "teamScore"
   ]
  },
  {
   "cell_type": "markdown",
   "metadata": {
    "colab_type": "text",
    "id": "VfEX-a-JdE2W"
   },
   "source": [
    "In an `if` statement, the conditional must be a Boolean expression—this means that code such as `if score { ... }` is an error, not an implicit comparison to zero.\n",
    "\n",
    "You can use `if` and `let` together to work with values that might be missing. These values are represented as optionals. An optional value either contains a value or contains `nil` to indicate that a value is missing. Write a question mark (`?`) after the type of a value to mark the value as optional."
   ]
  },
  {
   "cell_type": "code",
   "execution_count": null,
   "metadata": {
    "colab": {
     "base_uri": "https://localhost:8080/",
     "height": 34
    },
    "colab_type": "code",
    "id": "fCqYihmIdE2X",
    "outputId": "8c3a7e14-f483-44ad-fe67-8172c4318732"
   },
   "outputs": [],
   "source": [
    "var optionalString: String? = \"Hello\"\n",
    "optionalString == nil"
   ]
  },
  {
   "cell_type": "code",
   "execution_count": null,
   "metadata": {
    "colab": {
     "base_uri": "https://localhost:8080/",
     "height": 34
    },
    "colab_type": "code",
    "id": "3GcY1w13hv82",
    "outputId": "a71724c0-3c5d-42ce-9f07-6f3ccde153f0"
   },
   "outputs": [],
   "source": [
    "var optionalName: String? = \"John Appleseed\"\n",
    "var greeting = \"Hello!\"\n",
    "if let name = optionalName {\n",
    "    greeting = \"Hello, \\(name)\"\n",
    "}\n",
    "greeting"
   ]
  },
  {
   "cell_type": "code",
   "execution_count": null,
   "metadata": {
    "colab": {},
    "colab_type": "code",
    "id": "0dJr-IC8giJL"
   },
   "outputs": [],
   "source": [
    "// Experiment:\n",
    "// Change `optionalName` to `nil`. What greeting do you get?\n",
    "// Add an `else` clause that sets a different greeting if `optionalName` is `nil`."
   ]
  },
  {
   "cell_type": "markdown",
   "metadata": {
    "colab_type": "text",
    "id": "ZZWOeB3ve-jm"
   },
   "source": [
    "If the optional value is `nil`, the conditional is `false` and the code in braces is skipped. Otherwise, the optional value is unwrapped and assigned to the constant after `let`, which makes the unwrapped value available inside the block of code.\n",
    "\n",
    "Another way to handle optional values is to provide a default value using the `??` operator. If the optional value is missing, the default value is used instead."
   ]
  },
  {
   "cell_type": "code",
   "execution_count": null,
   "metadata": {
    "colab": {
     "base_uri": "https://localhost:8080/",
     "height": 34
    },
    "colab_type": "code",
    "id": "UqstABf4dE2b",
    "outputId": "8e3df8c1-50fd-4443-a70f-9adb53cc41c3"
   },
   "outputs": [],
   "source": [
    "let nickName: String? = nil\n",
    "let fullName: String = \"John Appleseed\"\n",
    "\"Hi \\(nickName ?? fullName)\""
   ]
  },
  {
   "cell_type": "markdown",
   "metadata": {
    "colab_type": "text",
    "id": "l_3enGZldE2d"
   },
   "source": [
    "Switches support any kind of data and a wide variety of comparison operations—they aren’t limited to integers and tests for equality."
   ]
  },
  {
   "cell_type": "code",
   "execution_count": null,
   "metadata": {
    "colab": {
     "base_uri": "https://localhost:8080/",
     "height": 34
    },
    "colab_type": "code",
    "id": "AXTHsCcedE2e",
    "outputId": "b340fbfb-98c0-49ca-eeec-b6c178cc3957"
   },
   "outputs": [],
   "source": [
    "let vegetable = \"red pepper\"\n",
    "switch vegetable {\n",
    "case \"celery\":\n",
    "    print(\"Add some raisins and make ants on a log.\")\n",
    "case \"cucumber\", \"watercress\":\n",
    "    print(\"That would make a good tea sandwich.\")\n",
    "case let x where x.hasSuffix(\"pepper\"):\n",
    "    print(\"Is it a spicy \\(x)?\")\n",
    "default:\n",
    "    print(\"Everything tastes good in soup.\")\n",
    "}"
   ]
  },
  {
   "cell_type": "code",
   "execution_count": null,
   "metadata": {
    "colab": {},
    "colab_type": "code",
    "id": "e-FK9XcGga0O"
   },
   "outputs": [],
   "source": [
    "// Experiment:\n",
    "// Try removing the default case. What error do you get?"
   ]
  },
  {
   "cell_type": "markdown",
   "metadata": {
    "colab_type": "text",
    "id": "AXaHBPiidE2g"
   },
   "source": [
    "Notice how `let` can be used in a pattern to assign the value that matched that part of a pattern to a constant.\n",
    "\n",
    "After executing the code inside the switch case that matched, the program exits from the switch statement. Execution doesn’t continue to the next case, so there is no need to explicitly break out of the switch at the end of each case’s code.\n",
    "\n",
    "You use `for`-`in` to iterate over items in a dictionary by providing a pair of names to use for each key-value pair. Dictionaries are an unordered collection, so their keys and values are iterated over in an arbitrary order."
   ]
  },
  {
   "cell_type": "code",
   "execution_count": null,
   "metadata": {
    "colab": {
     "base_uri": "https://localhost:8080/",
     "height": 34
    },
    "colab_type": "code",
    "id": "nJHpFEDPdE2h",
    "outputId": "9abf7ff9-8830-4ef9-cd41-203a30bdbc23"
   },
   "outputs": [],
   "source": [
    "let interestingNumbers = [\n",
    "    \"Prime\": [2, 3, 5, 7, 11, 13],\n",
    "    \"Fibonacci\": [1, 1, 2, 3, 5, 8],\n",
    "    \"Square\": [1, 4, 9, 16, 25],\n",
    "]\n",
    "var largest = 0\n",
    "for (kind, numbers) in interestingNumbers {\n",
    "    for number in numbers {\n",
    "        if number > largest {\n",
    "            largest = number\n",
    "        }\n",
    "    }\n",
    "}\n",
    "largest"
   ]
  },
  {
   "cell_type": "code",
   "execution_count": null,
   "metadata": {
    "colab": {},
    "colab_type": "code",
    "id": "UKKf8zkRgWUq"
   },
   "outputs": [],
   "source": [
    "// Experiment:\n",
    "// Add another variable to keep track of which kind of number was the largest, as well as what that\n",
    "// largest number was."
   ]
  },
  {
   "cell_type": "markdown",
   "metadata": {
    "colab_type": "text",
    "id": "or2W6kbyfuXu"
   },
   "source": [
    "Use `while` to repeat a block of code until a condition changes. The condition of a loop can be at the end instead, ensuring that the loop is run at least once."
   ]
  },
  {
   "cell_type": "code",
   "execution_count": null,
   "metadata": {
    "colab": {
     "base_uri": "https://localhost:8080/",
     "height": 34
    },
    "colab_type": "code",
    "id": "tt54-NuJdE2m",
    "outputId": "9cf8b5a5-dc0e-4198-d582-0b49f663bae8"
   },
   "outputs": [],
   "source": [
    "var n = 2\n",
    "while n < 100 {\n",
    "    n = n * 2\n",
    "}\n",
    "\n",
    "n"
   ]
  },
  {
   "cell_type": "code",
   "execution_count": null,
   "metadata": {
    "colab": {
     "base_uri": "https://localhost:8080/",
     "height": 34
    },
    "colab_type": "code",
    "id": "adAijrWkiAGF",
    "outputId": "1a8e59eb-29e3-4b2a-9095-85e7eebf4a65"
   },
   "outputs": [],
   "source": [
    "var m = 2\n",
    "repeat {\n",
    "    m = m * 2\n",
    "} while m < 100\n",
    "\n",
    "m"
   ]
  },
  {
   "cell_type": "markdown",
   "metadata": {
    "colab_type": "text",
    "id": "DqEff6OfdE2q"
   },
   "source": [
    "You can keep an index in a loop—either by using `..<` to make a range of indexes or by writing an explicit initialization, condition, and increment. These two loops do the same thing:"
   ]
  },
  {
   "cell_type": "code",
   "execution_count": null,
   "metadata": {
    "colab": {
     "base_uri": "https://localhost:8080/",
     "height": 34
    },
    "colab_type": "code",
    "id": "LKkJ4co_dE2r",
    "outputId": "b2deec61-5688-4029-c72e-d04fe08c13e3"
   },
   "outputs": [],
   "source": [
    "var total = 0\n",
    "for i in 0..<4 {\n",
    "    total += i\n",
    "}\n",
    "\n",
    "total"
   ]
  },
  {
   "cell_type": "markdown",
   "metadata": {
    "colab_type": "text",
    "id": "HKgeaTprdE2t"
   },
   "source": [
    "Use `..<` to make a range that omits its upper value, and use `...` to make a range that includes both values."
   ]
  },
  {
   "cell_type": "markdown",
   "metadata": {
    "colab_type": "text",
    "id": "W7H3ptGaiEcB"
   },
   "source": [
    "## Functions and Closures\n",
    "\n",
    "Use `func` to declare a function. Call a function by following its name with a list of arguments in parentheses. Use `->` to separate the parameter names and types from the function’s return type."
   ]
  },
  {
   "cell_type": "code",
   "execution_count": null,
   "metadata": {
    "colab": {
     "base_uri": "https://localhost:8080/",
     "height": 34
    },
    "colab_type": "code",
    "id": "6u_fX5SwdE2t",
    "outputId": "55a45bef-60de-4419-cd6d-385a0e2dfd4d"
   },
   "outputs": [],
   "source": [
    "func greet(name: String, day: String) -> String {\n",
    "    return \"Hello \\(name), today is \\(day).\"\n",
    "}\n",
    "greet(name: \"Bob\", day: \"Tuesday\")"
   ]
  },
  {
   "cell_type": "code",
   "execution_count": null,
   "metadata": {
    "colab": {},
    "colab_type": "code",
    "id": "sgYex6gigH87"
   },
   "outputs": [],
   "source": [
    "// Experiment:\n",
    "// Remove the `day` parameter. Add a parameter to include today’s lunch special in the greeting."
   ]
  },
  {
   "cell_type": "markdown",
   "metadata": {
    "colab_type": "text",
    "id": "Mo9D_hc0jfkF"
   },
   "source": [
    "By default, functions use their parameter names as labels for their arguments. Write a custom argument label before the parameter name, or write `_` to use no argument label."
   ]
  },
  {
   "cell_type": "code",
   "execution_count": null,
   "metadata": {
    "colab": {
     "base_uri": "https://localhost:8080/",
     "height": 34
    },
    "colab_type": "code",
    "id": "8Dkx71QUjisV",
    "outputId": "61839711-9d43-496a-c5bb-229f7060b8d4"
   },
   "outputs": [],
   "source": [
    "func greet(_ person: String, on day: String) -> String {\n",
    "    return \"Hello \\(person), today is \\(day).\"\n",
    "}\n",
    "greet(\"John\", on: \"Wednesday\")"
   ]
  },
  {
   "cell_type": "markdown",
   "metadata": {
    "colab_type": "text",
    "id": "71qFe0AWjd9F"
   },
   "source": [
    "Use a tuple to make a compound value—for example, to return multiple values from a function. The elements of a tuple can be referred to either by name or by number."
   ]
  },
  {
   "cell_type": "code",
   "execution_count": null,
   "metadata": {
    "colab": {
     "base_uri": "https://localhost:8080/",
     "height": 51
    },
    "colab_type": "code",
    "id": "5cDR7-TydE2w",
    "outputId": "54c6fb9b-7645-4247-9256-7da826f3e8d1"
   },
   "outputs": [],
   "source": [
    "func calculateStatistics(scores: [Int]) -> (min: Int, max: Int, sum: Int) {\n",
    "    var min = scores[0]\n",
    "    var max = scores[0]\n",
    "    var sum = 0\n",
    "    \n",
    "    for score in scores {\n",
    "        if score > max {\n",
    "            max = score\n",
    "        } else if score < min {\n",
    "            min = score\n",
    "        }\n",
    "        sum += score\n",
    "    }\n",
    "    \n",
    "    return (min, max, sum)\n",
    "}\n",
    "let statistics = calculateStatistics(scores: [5, 3, 100, 3, 9])\n",
    "print(statistics.sum)\n",
    "print(statistics.2)"
   ]
  },
  {
   "cell_type": "markdown",
   "metadata": {
    "colab_type": "text",
    "id": "hHUWHaH-jwmx"
   },
   "source": [
    "Functions can be nested. Nested functions have access to variables that were declared in the outer function. You can use nested functions to organize the code in a function that is long or complex."
   ]
  },
  {
   "cell_type": "code",
   "execution_count": null,
   "metadata": {
    "colab": {
     "base_uri": "https://localhost:8080/",
     "height": 34
    },
    "colab_type": "code",
    "id": "K094099VdE21",
    "outputId": "53918e22-3008-4532-b77f-38857f8f6729"
   },
   "outputs": [],
   "source": [
    "func returnFifteen() -> Int {\n",
    "    var y = 10\n",
    "    func add() {\n",
    "        y += 5\n",
    "    }\n",
    "    add()\n",
    "    return y\n",
    "}\n",
    "returnFifteen()"
   ]
  },
  {
   "cell_type": "markdown",
   "metadata": {
    "colab_type": "text",
    "id": "s8hfkf4HdE24"
   },
   "source": [
    "Functions are a first-class type. This means that a function can return another function as its value."
   ]
  },
  {
   "cell_type": "code",
   "execution_count": null,
   "metadata": {
    "colab": {
     "base_uri": "https://localhost:8080/",
     "height": 34
    },
    "colab_type": "code",
    "id": "sV33PIdsdE26",
    "outputId": "27ff3fcd-dfcd-4e45-cbfe-1801f06781ce"
   },
   "outputs": [],
   "source": [
    "func makeIncrementer() -> ((Int) -> Int) {\n",
    "    func addOne(number: Int) -> Int {\n",
    "        return 1 + number\n",
    "    }\n",
    "    return addOne\n",
    "}\n",
    "var increment = makeIncrementer()\n",
    "increment(7)"
   ]
  },
  {
   "cell_type": "markdown",
   "metadata": {
    "colab_type": "text",
    "id": "J6-9e3godE29"
   },
   "source": [
    "A function can take another function as one of its arguments."
   ]
  },
  {
   "cell_type": "code",
   "execution_count": null,
   "metadata": {
    "colab": {
     "base_uri": "https://localhost:8080/",
     "height": 34
    },
    "colab_type": "code",
    "id": "nOwBtGWLdE2-",
    "outputId": "f06ff19a-a10b-48ab-9a64-771fda2306dd"
   },
   "outputs": [],
   "source": [
    "func hasAnyMatches(list: [Int], condition: (Int) -> Bool) -> Bool {\n",
    "    for item in list {\n",
    "        if condition(item) {\n",
    "            return true\n",
    "        }\n",
    "    }\n",
    "    return false\n",
    "}\n",
    "func lessThanTen(number: Int) -> Bool {\n",
    "    return number < 10\n",
    "}\n",
    "var numbers = [20, 19, 7, 12]\n",
    "hasAnyMatches(list: numbers, condition: lessThanTen)"
   ]
  },
  {
   "cell_type": "markdown",
   "metadata": {
    "colab_type": "text",
    "id": "u9uVmoK6dE3B"
   },
   "source": [
    "Functions are actually a special case of closures: blocks of code that can be called later. The code in a closure has access to things like variables and functions that were available in the scope where the closure was created, even if the closure is in a different scope when it is executed—you saw an example of this already with nested functions. You can write a closure without a name by surrounding code with braces (`{}`). Use `in` to separate the arguments and return type from the body."
   ]
  },
  {
   "cell_type": "code",
   "execution_count": null,
   "metadata": {
    "colab": {
     "base_uri": "https://localhost:8080/",
     "height": 102
    },
    "colab_type": "code",
    "id": "qWTL5QMKdE3C",
    "outputId": "9bb61550-ce76-4b0a-e0b9-dbd1e4a5957f"
   },
   "outputs": [],
   "source": [
    "numbers.map({ (number: Int) -> Int in\n",
    "    let result = 3 * number\n",
    "    return result\n",
    "})"
   ]
  },
  {
   "cell_type": "code",
   "execution_count": null,
   "metadata": {
    "colab": {},
    "colab_type": "code",
    "id": "aTZoZCybf2uG"
   },
   "outputs": [],
   "source": [
    "// Experiment:\n",
    "// Rewrite the closure to return zero for all odd numbers."
   ]
  },
  {
   "cell_type": "markdown",
   "metadata": {
    "colab_type": "text",
    "id": "NapuA70Qj8QF"
   },
   "source": [
    "You have several options for writing closures more concisely. When a closure’s type is already known, such as the callback for a delegate, you can omit the type of its parameters, its return type, or both. Single statement closures implicitly return the value of their only statement."
   ]
  },
  {
   "cell_type": "code",
   "execution_count": null,
   "metadata": {
    "colab": {
     "base_uri": "https://localhost:8080/",
     "height": 34
    },
    "colab_type": "code",
    "id": "wNcmSyFodE3F",
    "outputId": "06a606e2-564c-46d5-c243-f8ce6fed8da5"
   },
   "outputs": [],
   "source": [
    "let mappedNumbers = numbers.map({ number in 3 * number })\n",
    "print(mappedNumbers)"
   ]
  },
  {
   "cell_type": "markdown",
   "metadata": {
    "colab_type": "text",
    "id": "6MxBFQjRdE3I"
   },
   "source": [
    "You can refer to parameters by number instead of by name—this approach is especially useful in very short closures. A closure passed as the last argument to a function can appear immediately after the parentheses. When a closure is the only argument to a function, you can omit the parentheses entirely."
   ]
  },
  {
   "cell_type": "code",
   "execution_count": null,
   "metadata": {
    "colab": {
     "base_uri": "https://localhost:8080/",
     "height": 34
    },
    "colab_type": "code",
    "id": "6Ecv1ethdE3I",
    "outputId": "7b28c295-c236-435e-9805-f877e828cf62"
   },
   "outputs": [],
   "source": [
    "let sortedNumbers = numbers.sorted { $0 > $1 }\n",
    "print(sortedNumbers)"
   ]
  },
  {
   "cell_type": "markdown",
   "metadata": {
    "colab_type": "text",
    "id": "BfV1d5HpdE3K"
   },
   "source": [
    "## Objects and Classes\n",
    "\n",
    "Use `class` followed by the class’s name to create a class. A property declaration in a class is written the same way as a constant or variable declaration, except that it is in the context of a class. Likewise, method and function declarations are written the same way."
   ]
  },
  {
   "cell_type": "code",
   "execution_count": null,
   "metadata": {
    "colab": {},
    "colab_type": "code",
    "id": "SycTCbxadE3L"
   },
   "outputs": [],
   "source": [
    "class Shape {\n",
    "    var numberOfSides = 0\n",
    "    func simpleDescription() -> String {\n",
    "        return \"A shape with \\(numberOfSides) sides.\"\n",
    "    }\n",
    "}"
   ]
  },
  {
   "cell_type": "code",
   "execution_count": null,
   "metadata": {
    "colab": {},
    "colab_type": "code",
    "id": "i-oNcgg4h-wm"
   },
   "outputs": [],
   "source": [
    "// Experiment:\n",
    "// Add a constant property with `let`, and add another method that takes an argument."
   ]
  },
  {
   "cell_type": "markdown",
   "metadata": {
    "colab_type": "text",
    "id": "NDuIuzgUkAEY"
   },
   "source": [
    "Create an instance of a class by putting parentheses after the class name. Use dot syntax to access the properties and methods of the instance."
   ]
  },
  {
   "cell_type": "code",
   "execution_count": null,
   "metadata": {
    "colab": {},
    "colab_type": "code",
    "id": "y1_AYUbidE3O"
   },
   "outputs": [],
   "source": [
    "var shape = Shape()\n",
    "shape.numberOfSides = 7\n",
    "var shapeDescription = shape.simpleDescription()"
   ]
  },
  {
   "cell_type": "markdown",
   "metadata": {
    "colab_type": "text",
    "id": "id0q1vIfdE3Q"
   },
   "source": [
    "This version of the `Shape` class is missing something important: an initializer to set up the class when an instance is created. Use `init` to create one."
   ]
  },
  {
   "cell_type": "code",
   "execution_count": null,
   "metadata": {
    "colab": {},
    "colab_type": "code",
    "id": "lboFcMVtdE3Q"
   },
   "outputs": [],
   "source": [
    "class NamedShape {\n",
    "    var numberOfSides: Int = 0\n",
    "    var name: String\n",
    "    \n",
    "    init(name: String) {\n",
    "        self.name = name\n",
    "    }\n",
    "    \n",
    "    func simpleDescription() -> String {\n",
    "        return \"A shape with \\(numberOfSides) sides.\"\n",
    "    }\n",
    "}"
   ]
  },
  {
   "cell_type": "markdown",
   "metadata": {
    "colab_type": "text",
    "id": "h06b-4fKdE3S"
   },
   "source": [
    "Notice how `self` is used to distinguish the `name` property from the `name` argument to the initializer. The arguments to the initializer are passed like a function call when you create an instance of the class. Every property needs a value assigned—either in its declaration (as with `numberOfSides`) or in the initializer (as with `name`).\n",
    "\n",
    "Use `deinit` to create a deinitializer if you need to perform some cleanup before the object is deallocated.\n",
    "\n",
    "Subclasses include their superclass name after their class name, separated by a colon. There is no requirement for classes to subclass any standard root class, so you can include or omit a superclass as needed.\n",
    "\n",
    "Methods on a subclass that override the superclass’s implementation are marked with `override`—overriding a method by accident, without `override`, is detected by the compiler as an error. The compiler also detects methods with `override` that don’t actually override any method in the superclass."
   ]
  },
  {
   "cell_type": "code",
   "execution_count": null,
   "metadata": {
    "colab": {
     "base_uri": "https://localhost:8080/",
     "height": 34
    },
    "colab_type": "code",
    "id": "VHT1Lpz8dE3S",
    "outputId": "daa4415a-6cda-4efd-e462-2c52834a19a1"
   },
   "outputs": [],
   "source": [
    "class Square: NamedShape {\n",
    "    var sideLength: Double\n",
    "    \n",
    "    init(sideLength: Double, name: String) {\n",
    "        self.sideLength = sideLength\n",
    "        super.init(name: name)\n",
    "        numberOfSides = 4\n",
    "    }\n",
    "    \n",
    "    func area() -> Double {\n",
    "        return sideLength * sideLength\n",
    "    }\n",
    "    \n",
    "    override func simpleDescription() -> String {\n",
    "        return \"A square with sides of length \\(sideLength).\"\n",
    "    }\n",
    "}\n",
    "let test = Square(sideLength: 5.2, name: \"my test square\")\n",
    "test.area()\n",
    "test.simpleDescription()"
   ]
  },
  {
   "cell_type": "code",
   "execution_count": null,
   "metadata": {
    "colab": {},
    "colab_type": "code",
    "id": "SIoEXii5iDA3"
   },
   "outputs": [],
   "source": [
    "// Experiment:\n",
    "// - Make another subclass of `NamedShape` called `Circle` that takes a radius and a name as\n",
    "//   arguments to its initializer.\n",
    "// - Implement an `area()` and a `simpleDescription()` method on the `Circle` class."
   ]
  },
  {
   "cell_type": "markdown",
   "metadata": {
    "colab_type": "text",
    "id": "-jWyfN7KkDqR"
   },
   "source": [
    "In addition to simple properties that are stored, properties can have a getter and a setter."
   ]
  },
  {
   "cell_type": "code",
   "execution_count": null,
   "metadata": {
    "colab": {
     "base_uri": "https://localhost:8080/",
     "height": 51
    },
    "colab_type": "code",
    "id": "QaqZC56MdE3V",
    "outputId": "9b3443c9-c6f6-48ea-e328-3390c80738ae"
   },
   "outputs": [],
   "source": [
    "class EquilateralTriangle: NamedShape {\n",
    "    var sideLength: Double = 0.0\n",
    "    \n",
    "    init(sideLength: Double, name: String) {\n",
    "        self.sideLength = sideLength\n",
    "        super.init(name: name)\n",
    "        numberOfSides = 3\n",
    "    }\n",
    "    \n",
    "    var perimeter: Double {\n",
    "        get {\n",
    "            return 3.0 * sideLength\n",
    "        }\n",
    "        set {\n",
    "            sideLength = newValue / 3.0\n",
    "        }\n",
    "    }\n",
    "    \n",
    "    override func simpleDescription() -> String {\n",
    "        return \"An equilateral triangle with sides of length \\(sideLength).\"\n",
    "    }\n",
    "}\n",
    "var triangle = EquilateralTriangle(sideLength: 3.1, name: \"a triangle\")\n",
    "print(triangle.perimeter)\n",
    "triangle.perimeter = 9.9\n",
    "print(triangle.sideLength)"
   ]
  },
  {
   "cell_type": "markdown",
   "metadata": {
    "colab_type": "text",
    "id": "CK3s64WhdE3W"
   },
   "source": [
    "In the setter for `perimeter`, the new value has the implicit name `newValue`. You can provide an explicit name in parentheses after `set`.\n",
    "\n",
    "Notice that the initializer for the `EquilateralTriangle` class has three different steps:\n",
    "\n",
    "1.  Setting the value of properties that the subclass declares.\n",
    "\n",
    "2.  Calling the superclass’s initializer.\n",
    "\n",
    "3.  Changing the value of properties defined by the superclass. Any additional setup work that uses methods, getters, or setters can also be done at this point.\n",
    "\n",
    "If you don’t need to compute the property but still need to provide code that is run before and after setting a new value, use `willSet` and `didSet`. The code you provide is run any time the value changes outside of an initializer. For example, the class below ensures that the side length of its triangle is always the same as the side length of its square."
   ]
  },
  {
   "cell_type": "code",
   "execution_count": null,
   "metadata": {
    "colab": {
     "base_uri": "https://localhost:8080/",
     "height": 68
    },
    "colab_type": "code",
    "id": "VSPCTz5mdE3a",
    "outputId": "b1a47683-042e-44b2-e9c0-d220d601d29d"
   },
   "outputs": [],
   "source": [
    "class TriangleAndSquare {\n",
    "    var triangle: EquilateralTriangle {\n",
    "        willSet {\n",
    "            square.sideLength = newValue.sideLength\n",
    "        }\n",
    "    }\n",
    "    var square: Square {\n",
    "        willSet {\n",
    "            triangle.sideLength = newValue.sideLength\n",
    "        }\n",
    "    }\n",
    "    init(size: Double, name: String) {\n",
    "        square = Square(sideLength: size, name: name)\n",
    "        triangle = EquilateralTriangle(sideLength: size, name: name)\n",
    "    }\n",
    "}\n",
    "var triangleAndSquare = TriangleAndSquare(size: 10, name: \"another test shape\")\n",
    "print(triangleAndSquare.square.sideLength)\n",
    "print(triangleAndSquare.triangle.sideLength)\n",
    "triangleAndSquare.square = Square(sideLength: 50, name: \"larger square\")\n",
    "print(triangleAndSquare.triangle.sideLength)"
   ]
  },
  {
   "cell_type": "markdown",
   "metadata": {
    "colab_type": "text",
    "id": "ygWAN55xdE3b"
   },
   "source": [
    "When working with optional values, you can write `?` before operations like methods, properties, and subscripting. If the value before the `?` is `nil`, everything after the `?` is ignored and the value of the whole expression is `nil`. Otherwise, the optional value is unwrapped, and everything after the `?` acts on the unwrapped value. In both cases, the value of the whole expression is an optional value."
   ]
  },
  {
   "cell_type": "code",
   "execution_count": null,
   "metadata": {
    "colab": {
     "base_uri": "https://localhost:8080/",
     "height": 51
    },
    "colab_type": "code",
    "id": "pmXsLt_gdE3c",
    "outputId": "a0b7304a-a5ca-415a-dc40-dd2aab51db9f"
   },
   "outputs": [],
   "source": [
    "let optionalSquare: Square? = Square(sideLength: 2.5, name: \"optional square\")\n",
    "optionalSquare?.sideLength"
   ]
  },
  {
   "cell_type": "markdown",
   "metadata": {
    "colab_type": "text",
    "id": "0yaZFHMRdE3d"
   },
   "source": [
    "## Enumerations and Structures\n",
    "\n",
    "Use `enum` to create an enumeration. Like classes and all other named types, enumerations can have methods associated with them."
   ]
  },
  {
   "cell_type": "code",
   "execution_count": null,
   "metadata": {
    "colab": {
     "base_uri": "https://localhost:8080/",
     "height": 51
    },
    "colab_type": "code",
    "id": "Btg1_6rXdE3e",
    "outputId": "d6b41207-e8fd-4ec0-b969-5e1505cf4ab6"
   },
   "outputs": [],
   "source": [
    "enum Rank: Int {\n",
    "    case ace = 1\n",
    "    case two, three, four, five, six, seven, eight, nine, ten\n",
    "    case jack, queen, king\n",
    "\n",
    "    func simpleDescription() -> String {\n",
    "        switch self {\n",
    "        case .ace:\n",
    "            return \"ace\"\n",
    "        case .jack:\n",
    "            return \"jack\"\n",
    "        case .queen:\n",
    "            return \"queen\"\n",
    "        case .king:\n",
    "            return \"king\"\n",
    "        default:\n",
    "            return String(self.rawValue)\n",
    "        }\n",
    "    }\n",
    "}\n",
    "let ace = Rank.ace\n",
    "print(ace)\n",
    "let aceRawValue = ace.rawValue\n",
    "print(aceRawValue)"
   ]
  },
  {
   "cell_type": "code",
   "execution_count": null,
   "metadata": {
    "colab": {},
    "colab_type": "code",
    "id": "34Ba8HGwin9n"
   },
   "outputs": [],
   "source": [
    "// Experiment:\n",
    "// Write a function that compares two `Rank` values by comparing their raw values."
   ]
  },
  {
   "cell_type": "markdown",
   "metadata": {
    "colab_type": "text",
    "id": "0R1w6q3KkIH1"
   },
   "source": [
    "By default, Swift assigns the raw values starting at zero and incrementing by one each time, but you can change this behavior by explicitly specifying values. In the example above, Ace is explicitly given a raw value of `1`, and the rest of the raw values are assigned in order. You can also use strings or floating-point numbers as the raw type of an enumeration. Use the `rawValue` property to access the raw value of an enumeration case."
   ]
  },
  {
   "cell_type": "markdown",
   "metadata": {
    "colab_type": "text",
    "id": "zgtd86KUp5qa"
   },
   "source": [
    "Use the `init?(rawValue:)` initializer to make an instance of an enumeration from a raw value. It returns either the enumeration case matching the raw value or `nil` if there is no matching `Rank`."
   ]
  },
  {
   "cell_type": "code",
   "execution_count": null,
   "metadata": {
    "colab": {},
    "colab_type": "code",
    "id": "7SUCN4Nip-FK"
   },
   "outputs": [],
   "source": []
  },
  {
   "cell_type": "code",
   "execution_count": null,
   "metadata": {
    "colab": {},
    "colab_type": "code",
    "id": "BjzxKC67dE3h"
   },
   "outputs": [],
   "source": [
    "if let convertedRank = Rank(rawValue: 3) {\n",
    "    let threeDescription = convertedRank.simpleDescription()\n",
    "}"
   ]
  },
  {
   "cell_type": "markdown",
   "metadata": {
    "colab_type": "text",
    "id": "aViNXJOWdE3k"
   },
   "source": [
    "The case values of an enumeration are actual values, not just another way of writing their raw values. In fact, in cases where there isn’t a meaningful raw value, you don’t have to provide one."
   ]
  },
  {
   "cell_type": "code",
   "execution_count": null,
   "metadata": {
    "colab": {},
    "colab_type": "code",
    "id": "i9fKzaQzdE3k"
   },
   "outputs": [],
   "source": [
    "enum Suit {\n",
    "    case spades, hearts, diamonds, clubs\n",
    "\n",
    "    func simpleDescription() -> String {\n",
    "        switch self {\n",
    "        case .spades:\n",
    "            return \"spades\"\n",
    "        case .hearts:\n",
    "            return \"hearts\"\n",
    "        case .diamonds:\n",
    "            return \"diamonds\"\n",
    "        case .clubs:\n",
    "            return \"clubs\"\n",
    "        }\n",
    "    }\n",
    "}\n",
    "let hearts = Suit.hearts\n",
    "let heartsDescription = hearts.simpleDescription()"
   ]
  },
  {
   "cell_type": "code",
   "execution_count": null,
   "metadata": {
    "colab": {},
    "colab_type": "code",
    "id": "H-38gQ27isHk"
   },
   "outputs": [],
   "source": [
    "// Experiment:\n",
    "// Add a `color()` method to `Suit` that returns \"black\" for spades and clubs, and returns \"red\" for\n",
    "// hearts and diamonds."
   ]
  },
  {
   "cell_type": "markdown",
   "metadata": {
    "colab_type": "text",
    "id": "H1B0m_prdE3m"
   },
   "source": [
    "Notice the two ways that the `Hearts` case of the enumeration is referred to above: When assigning a value to the `hearts` constant, the enumeration case `Suit.Hearts` is referred to by its full name because the constant doesn’t have an explicit type specified. Inside the switch, the enumeration case is referred to by the abbreviated form `.Hearts` because the value of `self` is already known to be a suit. You can use the abbreviated form anytime the value’s type is already known."
   ]
  },
  {
   "cell_type": "markdown",
   "metadata": {
    "colab_type": "text",
    "id": "fCDHUHBHdE3o"
   },
   "source": [
    "If an enumeration has raw values, those values are determined as part of the declaration, which means every instance of a particular enumeration case always has the same raw value. Another choice for enumeration cases is to have values associated with the case—these values are determined when you make the instance, and they can be different for each instance of an enumeration case. You can think of the associated values as behaving like stored properties of the enumeration case instance.\n",
    "\n",
    "For example, consider the case of requesting the sunrise and sunset times from a server. The server either responds with the requested information, or it responds with a description of what went wrong."
   ]
  },
  {
   "cell_type": "code",
   "execution_count": null,
   "metadata": {
    "colab": {
     "base_uri": "https://localhost:8080/",
     "height": 34
    },
    "colab_type": "code",
    "id": "v7CDdsdydE3o",
    "outputId": "0b1589dc-64c6-43a5-ea3e-eb822e5cf0c0"
   },
   "outputs": [],
   "source": [
    "enum ServerResponse {\n",
    "    case result(String, String)\n",
    "    case failure(String)\n",
    "}\n",
    "\n",
    "let success = ServerResponse.result(\"6:00 am\", \"8:09 pm\")\n",
    "let failure = ServerResponse.failure(\"Out of cheese.\")\n",
    "\n",
    "switch success {\n",
    "case let .result(sunrise, sunset):\n",
    "    print(\"Sunrise is at \\(sunrise) and sunset is at \\(sunset).\")\n",
    "case let .failure(message):\n",
    "    print(\"Failure...  \\(message)\")\n",
    "}"
   ]
  },
  {
   "cell_type": "code",
   "execution_count": null,
   "metadata": {
    "colab": {},
    "colab_type": "code",
    "id": "6KxPZi0ii4Jj"
   },
   "outputs": [],
   "source": [
    "// Experiment:\n",
    "// Add a third case to `ServerResponse` and to the switch."
   ]
  },
  {
   "cell_type": "markdown",
   "metadata": {
    "colab_type": "text",
    "id": "BCjUxgx0iKDh"
   },
   "source": [
    "Notice how the sunrise and sunset times are extracted from the `ServerResponse` value as part of matching the value against the switch cases."
   ]
  },
  {
   "cell_type": "markdown",
   "metadata": {
    "colab_type": "text",
    "id": "FonxodFmpPXv"
   },
   "source": [
    "Use `struct` to create a structure. Structures support many of the same behaviors as classes, including methods and initializers. One of the most important differences between structures and classes is that structures are always copied when they are passed around in your code, but classes are passed by reference."
   ]
  },
  {
   "cell_type": "code",
   "execution_count": null,
   "metadata": {
    "colab": {},
    "colab_type": "code",
    "id": "tsTnhpukpTF1"
   },
   "outputs": [],
   "source": [
    "struct Card {\n",
    "    var rank: Rank\n",
    "    var suit: Suit\n",
    "    func simpleDescription() -> String {\n",
    "        return \"The \\(rank.simpleDescription()) of \\(suit.simpleDescription())\"\n",
    "    }\n",
    "}\n",
    "let threeOfSpades = Card(rank: .three, suit: .spades)\n",
    "let threeOfSpadesDescription = threeOfSpades.simpleDescription()"
   ]
  },
  {
   "cell_type": "code",
   "execution_count": null,
   "metadata": {
    "colab": {},
    "colab_type": "code",
    "id": "FM1U4SqwpUp6"
   },
   "outputs": [],
   "source": [
    "// Experiment:\n",
    "// Write a function that returns an array containing a full deck of cards, with one card of each\n",
    "// combination of rank and suit."
   ]
  },
  {
   "cell_type": "markdown",
   "metadata": {
    "colab_type": "text",
    "id": "jUBjQqUhdE3p"
   },
   "source": [
    "## Protocols and Extensions\n",
    "\n",
    "Use `protocol` to declare a protocol."
   ]
  },
  {
   "cell_type": "code",
   "execution_count": null,
   "metadata": {
    "colab": {},
    "colab_type": "code",
    "id": "vVEIH7WhdE3q"
   },
   "outputs": [],
   "source": [
    "protocol ExampleProtocol {\n",
    "    var simpleDescription: String { get }\n",
    "    mutating func adjust()\n",
    "}"
   ]
  },
  {
   "cell_type": "markdown",
   "metadata": {
    "colab_type": "text",
    "id": "GSV2yv6SdE3r"
   },
   "source": [
    "Classes, enumerations, and structs can all adopt protocols."
   ]
  },
  {
   "cell_type": "code",
   "execution_count": null,
   "metadata": {
    "colab": {
     "base_uri": "https://localhost:8080/",
     "height": 34
    },
    "colab_type": "code",
    "id": "Lgf8If-0dE3r",
    "outputId": "11282413-31fb-4c49-c493-98d73e93a2df"
   },
   "outputs": [],
   "source": [
    "class SimpleClass: ExampleProtocol {\n",
    "    var simpleDescription: String = \"A very simple class.\"\n",
    "    var anotherProperty: Int = 69105\n",
    "    func adjust() {\n",
    "        simpleDescription += \"  Now 100% adjusted.\"\n",
    "    }\n",
    "}\n",
    "var a = SimpleClass()\n",
    "a.adjust()\n",
    "let aDescription = a.simpleDescription\n",
    " \n",
    "struct SimpleStructure: ExampleProtocol {\n",
    "    var simpleDescription: String = \"A simple structure\"\n",
    "    mutating func adjust() {\n",
    "        simpleDescription += \" (adjusted)\"\n",
    "    }\n",
    "}\n",
    "var b = SimpleStructure()\n",
    "b.adjust()\n",
    "b.simpleDescription"
   ]
  },
  {
   "cell_type": "code",
   "execution_count": null,
   "metadata": {
    "colab": {},
    "colab_type": "code",
    "id": "OvDuEwsYi-ZN"
   },
   "outputs": [],
   "source": [
    "// Experiment:\n",
    "// Add another requirement to `ExampleProtocol`.\n",
    "// What changes do you need to make to `SimpleClass` and `SimpleStructure` so that they still\n",
    "// conform to the protocol?"
   ]
  },
  {
   "cell_type": "markdown",
   "metadata": {
    "colab_type": "text",
    "id": "Is_xfbNXdE3t"
   },
   "source": [
    "Notice the use of the `mutating` keyword in the declaration of `SimpleStructure` to mark a method that modifies the structure. The declaration of `SimpleClass` doesn’t need any of its methods marked as mutating because methods on a class can always modify the class.\n",
    "\n",
    "Use `extension` to add functionality to an existing type, such as new methods and computed properties. You can use an extension to add protocol conformance to a type that is declared elsewhere, or even to a type that you imported from a library or framework."
   ]
  },
  {
   "cell_type": "code",
   "execution_count": null,
   "metadata": {
    "colab": {
     "base_uri": "https://localhost:8080/",
     "height": 34
    },
    "colab_type": "code",
    "id": "w5Hde1HwdE3u",
    "outputId": "94273e93-905b-42da-e001-fe9799f66fae"
   },
   "outputs": [],
   "source": [
    "extension Int: ExampleProtocol {\n",
    "    public var simpleDescription: String {\n",
    "        return \"The number \\(self)\"\n",
    "    }\n",
    "    public mutating func adjust() {\n",
    "        self += 42\n",
    "    }\n",
    "}\n",
    "7.simpleDescription"
   ]
  },
  {
   "cell_type": "code",
   "execution_count": null,
   "metadata": {
    "colab": {},
    "colab_type": "code",
    "id": "fdY5CdWjjCRI"
   },
   "outputs": [],
   "source": [
    "// Experiment:\n",
    "// Write an extension for the `Double` type that adds an `absoluteValue` property."
   ]
  },
  {
   "cell_type": "markdown",
   "metadata": {
    "colab_type": "text",
    "id": "EoOPuRjZntCx"
   },
   "source": [
    "You can use a protocol name just like any other named type—for example, to create a collection of objects that have different types but that all conform to a single protocol. When you work with values whose type is a protocol type, methods outside the protocol definition are not available."
   ]
  },
  {
   "cell_type": "code",
   "execution_count": null,
   "metadata": {
    "colab": {
     "base_uri": "https://localhost:8080/",
     "height": 34
    },
    "colab_type": "code",
    "id": "OghTVgiRnvgA",
    "outputId": "b6f05af2-da76-4211-a929-70a8a53987d2"
   },
   "outputs": [],
   "source": [
    "let protocolValue: ExampleProtocol = a\n",
    "protocolValue.simpleDescription"
   ]
  },
  {
   "cell_type": "code",
   "execution_count": null,
   "metadata": {
    "colab": {},
    "colab_type": "code",
    "id": "Xad6Z5Nrn34O"
   },
   "outputs": [],
   "source": [
    "// Uncomment to see the error.\n",
    "// protocolValue.anotherProperty"
   ]
  },
  {
   "cell_type": "markdown",
   "metadata": {
    "colab_type": "text",
    "id": "92wBiymPn3HE"
   },
   "source": [
    "Even though the variable `protocolValue` has a runtime type of `SimpleClass`, the compiler treats it as the given type of `ExampleProtocol`. This means that you can't accidentally access methods or properties that the class implements in addition to its protocol conformance."
   ]
  },
  {
   "cell_type": "markdown",
   "metadata": {
    "colab_type": "text",
    "id": "6Z9Y-fWGjxsn"
   },
   "source": [
    "## Error Handling\n",
    "\n",
    "You represent errors using any type that adopts the `Error` protocol."
   ]
  },
  {
   "cell_type": "code",
   "execution_count": null,
   "metadata": {
    "colab": {},
    "colab_type": "code",
    "id": "PiENY4W2kA2t"
   },
   "outputs": [],
   "source": [
    "enum PrinterError: Error {\n",
    "    case outOfPaper\n",
    "    case noToner\n",
    "    case onFire\n",
    "}"
   ]
  },
  {
   "cell_type": "markdown",
   "metadata": {
    "colab_type": "text",
    "id": "Tu7q13kSkCad"
   },
   "source": [
    "Use `throw` to throw an error and `throws` to mark a function that can throw an error. If you throw an error in a function, the function returns immediately and the code that called the function handles the error."
   ]
  },
  {
   "cell_type": "code",
   "execution_count": null,
   "metadata": {
    "colab": {},
    "colab_type": "code",
    "id": "rY7yWs_nkFbM"
   },
   "outputs": [],
   "source": [
    "func send(job: Int, toPrinter printerName: String) throws -> String {\n",
    "    if printerName == \"Never Has Toner\" {\n",
    "        throw PrinterError.noToner\n",
    "    }\n",
    "    return \"Job sent\"\n",
    "}"
   ]
  },
  {
   "cell_type": "markdown",
   "metadata": {
    "colab_type": "text",
    "id": "uVh7tkr-kPKV"
   },
   "source": [
    "There are several ways to handle errors. One way is to use `do-catch`. Inside the `do` block, you mark code that can throw an error by writing try in front of it. Inside the `catch` block, the error is automatically given the name `error` unless you give it a different name."
   ]
  },
  {
   "cell_type": "code",
   "execution_count": null,
   "metadata": {
    "colab": {
     "base_uri": "https://localhost:8080/",
     "height": 34
    },
    "colab_type": "code",
    "id": "YejV2PLLkIPA",
    "outputId": "8dee4ce7-83ae-4a0c-8d5a-09d9bf1f1fb1"
   },
   "outputs": [],
   "source": [
    "do {\n",
    "    let printerResponse = try send(job: 1040, toPrinter: \"Bi Sheng\")\n",
    "    print(printerResponse)\n",
    "} catch {\n",
    "    print(error)\n",
    "}"
   ]
  },
  {
   "cell_type": "code",
   "execution_count": null,
   "metadata": {
    "colab": {},
    "colab_type": "code",
    "id": "UJBF1XzdkWjL"
   },
   "outputs": [],
   "source": [
    "// Experiment:\n",
    "// Change the printer name to `\"Never Has Toner\"`, so that the `send(job:toPrinter:)` function\n",
    "// throws an error."
   ]
  },
  {
   "cell_type": "markdown",
   "metadata": {
    "colab_type": "text",
    "id": "occBM2Cekddc"
   },
   "source": [
    "You can provide multiple `catch` blocks that handle specific errors. You write a pattern after `catch` just as you do after `case` in a switch."
   ]
  },
  {
   "cell_type": "code",
   "execution_count": null,
   "metadata": {
    "colab": {
     "base_uri": "https://localhost:8080/",
     "height": 34
    },
    "colab_type": "code",
    "id": "eUhzxcUEkjV-",
    "outputId": "5ca5bd3b-ca0d-4a4c-a1aa-7748a3f894cb"
   },
   "outputs": [],
   "source": [
    "do {\n",
    "    let printerResponse = try send(job: 1440, toPrinter: \"Gutenberg\")\n",
    "    print(printerResponse)\n",
    "} catch PrinterError.onFire {\n",
    "    print(\"I'll just put this over here, with the rest of the fire.\")\n",
    "} catch let printerError as PrinterError {\n",
    "    print(\"Printer error: \\(printerError).\")\n",
    "} catch {\n",
    "    print(error)\n",
    "}"
   ]
  },
  {
   "cell_type": "code",
   "execution_count": null,
   "metadata": {
    "colab": {},
    "colab_type": "code",
    "id": "-qpkCM8NnXie"
   },
   "outputs": [],
   "source": [
    "// Experiment:\n",
    "// Add code to throw an error inside the `do` block.\n",
    "// What kind of error do you need to throw so that the error is handled by the first `catch` block?\n",
    "// What about the second and third blocks?"
   ]
  },
  {
   "cell_type": "markdown",
   "metadata": {
    "colab_type": "text",
    "id": "JOwTXVWbnAup"
   },
   "source": [
    "Another way to handle errors is to use `try?` to convert the result to an optional. If the function throws an error, the specific error is discarded and the result is `nil`. Otherwise, the result is an optional containing the value that the function returned."
   ]
  },
  {
   "cell_type": "code",
   "execution_count": null,
   "metadata": {
    "colab": {},
    "colab_type": "code",
    "id": "2ifK6Lyom-9Q"
   },
   "outputs": [],
   "source": [
    "let printerSuccess = try? send(job: 1884, toPrinter: \"Mergenthaler\")\n",
    "let printerFailure = try? send(job: 1885, toPrinter: \"Never Has Toner\")"
   ]
  },
  {
   "cell_type": "markdown",
   "metadata": {
    "colab_type": "text",
    "id": "SmSiz49knFZY"
   },
   "source": [
    "Use `defer` to write a block of code that is executed after all other code in the function, just before the function returns. The code is executed regardless of whether the function throws an error. You can use `defer` to write setup and cleanup code next to each other, even though they need to be executed at different times."
   ]
  },
  {
   "cell_type": "code",
   "execution_count": null,
   "metadata": {
    "colab": {
     "base_uri": "https://localhost:8080/",
     "height": 34
    },
    "colab_type": "code",
    "id": "tMdhw71anJbP",
    "outputId": "c4cf15bf-b819-48a5-8cf5-01fe9599a762"
   },
   "outputs": [],
   "source": [
    "var fridgeIsOpen = false\n",
    "let fridgeContent = [\"milk\", \"eggs\", \"leftovers\"]\n",
    "\n",
    "func fridgeContains(_ food: String) -> Bool {\n",
    "    fridgeIsOpen = true\n",
    "    defer {\n",
    "        fridgeIsOpen = false\n",
    "    }\n",
    "\n",
    "    let result = fridgeContent.contains(food)\n",
    "    return result\n",
    "}\n",
    "fridgeContains(\"banana\")\n",
    "fridgeIsOpen"
   ]
  },
  {
   "cell_type": "markdown",
   "metadata": {
    "colab_type": "text",
    "id": "g0wCWqNMiOv-"
   },
   "source": [
    "## Generics\n",
    "\n",
    "Write a name inside angle brackets to make a generic function or type."
   ]
  },
  {
   "cell_type": "code",
   "execution_count": null,
   "metadata": {
    "colab": {
     "base_uri": "https://localhost:8080/",
     "height": 102
    },
    "colab_type": "code",
    "id": "sMyq1uQsdE3y",
    "outputId": "1c328bc0-d437-4717-da44-6831206040b8"
   },
   "outputs": [],
   "source": [
    "func makeArray<Item>(repeating item: Item, numberOfTimes: Int) -> [Item] {\n",
    "    var result = [Item]()\n",
    "    for _ in 0..<numberOfTimes {\n",
    "        result.append(item)\n",
    "    }\n",
    "    return result\n",
    "}\n",
    "makeArray(repeating: \"knock\", numberOfTimes: 4)"
   ]
  },
  {
   "cell_type": "markdown",
   "metadata": {
    "colab_type": "text",
    "id": "If8pw1_7dE3z"
   },
   "source": [
    "You can make generic forms of functions and methods, as well as classes, enumerations, and structures."
   ]
  },
  {
   "cell_type": "code",
   "execution_count": null,
   "metadata": {
    "colab": {
     "base_uri": "https://localhost:8080/",
     "height": 34
    },
    "colab_type": "code",
    "id": "PrhmI6iNdE30",
    "outputId": "a221fca0-3a7b-4201-dc80-5b793a0261af"
   },
   "outputs": [],
   "source": [
    "// Reimplement the Swift standard library's optional type\n",
    "enum OptionalValue<Wrapped> {\n",
    "    case none\n",
    "    case some(Wrapped)\n",
    "}\n",
    "var possibleInteger: OptionalValue<Int> = .none\n",
    "possibleInteger = .some(100)\n",
    "print(possibleInteger)"
   ]
  },
  {
   "cell_type": "markdown",
   "metadata": {
    "colab_type": "text",
    "id": "NXhFj_GCdE31"
   },
   "source": [
    "Use `where` after the type name to specify a list of requirements — for example, to require the type to implement a protocol, to require two types to be the same, or to require a class to have a particular superclass."
   ]
  },
  {
   "cell_type": "code",
   "execution_count": null,
   "metadata": {
    "colab": {
     "base_uri": "https://localhost:8080/",
     "height": 34
    },
    "colab_type": "code",
    "id": "EkXn4tmhdE32",
    "outputId": "45f50fc3-9683-4c54-e8fd-f677bb6b5565"
   },
   "outputs": [],
   "source": [
    "func anyCommonElements<T: Sequence, U: Sequence>(_ lhs: T, _ rhs: U) -> Bool\n",
    "    where T.Element: Equatable, T.Element == U.Element\n",
    "{\n",
    "    for lhsItem in lhs {\n",
    "        for rhsItem in rhs {\n",
    "            if lhsItem == rhsItem {\n",
    "                return true\n",
    "            }\n",
    "        }\n",
    "    }\n",
    "    return false\n",
    "}\n",
    "anyCommonElements([1, 2, 3], [3])"
   ]
  },
  {
   "cell_type": "markdown",
   "metadata": {
    "colab_type": "text",
    "id": "6cZJ4EiYq33D"
   },
   "source": [
    "Writing `<T: Equatable>` is the same as writing `<T> ... where T: Equatable`."
   ]
  }
 ],
 "metadata": {
  "colab": {
   "collapsed_sections": [],
   "name": "A Swift Tour.ipynb",
   "provenance": [],
   "version": "0.3.2"
  },
  "kernelspec": {
   "display_name": "Swift",
   "language": "swift",
   "name": "swift"
  }
 },
 "nbformat": 4,
 "nbformat_minor": 1
}
