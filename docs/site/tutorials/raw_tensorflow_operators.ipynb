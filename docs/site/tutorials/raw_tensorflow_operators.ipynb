{
  "nbformat": 4,
  "nbformat_minor": 0,
  "metadata": {
    "colab": {
      "name": "Raw TensorFlow operators.ipynb",
      "version": "0.3.2",
      "provenance": [],
      "collapsed_sections": [],
      "toc_visible": true
    },
    "kernelspec": {
      "name": "swift",
      "display_name": "Swift"
    }
  },
  "cells": [
    {
      "metadata": {
        "id": "XNWJ6JVGkOlf",
        "colab_type": "text"
      },
      "cell_type": "markdown",
      "source": [
        "##### Copyright 2018 The TensorFlow Authors. [Licensed under the Apache License, Version 2.0](#scrollTo=bPJq2qP2KE3u)."
      ]
    },
    {
      "metadata": {
        "id": "fSlQ2vFzKGOY",
        "colab_type": "code",
        "colab": {}
      },
      "cell_type": "code",
      "source": [
        "#@title Licensed under the Apache License, Version 2.0 (the \"License\"); { display-mode: \"form\" }\n",
        "// Licensed under the Apache License, Version 2.0 (the \"License\");\n",
        "// you may not use this file except in compliance with the License.\n",
        "// You may obtain a copy of the License at\n",
        "//\n",
        "// https://www.apache.org/licenses/LICENSE-2.0\n",
        "//\n",
        "// Unless required by applicable law or agreed to in writing, software\n",
        "// distributed under the License is distributed on an \"AS IS\" BASIS,\n",
        "// WITHOUT WARRANTIES OR CONDITIONS OF ANY KIND, either express or implied.\n",
        "// See the License for the specific language governing permissions and\n",
        "// limitations under the License."
      ],
      "execution_count": 0,
      "outputs": []
    },
    {
      "metadata": {
        "id": "yfNdITLmJtX8",
        "colab_type": "text"
      },
      "cell_type": "markdown",
      "source": [
        "<table class=\"tfo-notebook-buttons\" align=\"left\">\n",
        "  <td>\n",
        "    <a target=\"_blank\" href=\"https://www.tensorflow.org/swift/tutorials/raw_tensorflow_operators\"><img src=\"https://www.tensorflow.org/images/tf_logo_32px.png\" />View on TensorFlow.org</a>\n",
        "  </td>\n",
        "  <td>\n",
        "    <a target=\"_blank\" href=\"https://colab.research.google.com/github/tensorflow/swift/blob/master/docs/site/tutorials/raw_tensorflow_operators.ipynb\"><img src=\"https://www.tensorflow.org/images/colab_logo_32px.png\" />Run in Google Colab</a>\n",
        "  </td>\n",
        "  <td>\n",
        "    <a target=\"_blank\" href=\"https://github.com/tensorflow/swift/blob/master/docs/site/tutorials/raw_tensorflow_operators.ipynb\"><img src=\"https://www.tensorflow.org/images/GitHub-Mark-32px.png\" />View source on GitHub</a>\n",
        "  </td>\n",
        "</table>"
      ]
    },
    {
      "metadata": {
        "id": "lONNcRalVUO9",
        "colab_type": "text"
      },
      "cell_type": "markdown",
      "source": [
        "# Raw TensorFlow operators\n",
        "\n",
        "Building on TensorFlow, Swift for TensorFlow takes a fresh approach to API design. APIs are carefully curated from established libraries and combined with new language idioms. This means that not all TensorFlow APIs will be directly available as Swift APIs, and our API curation needs time and dedicated effort to evolve. However, do not worry if your favorite TensorFlow operator is not available in Swift -- the TensorFlow Swift library gives you transparent access to most TensorFlow operators, under the `Raw` namespace.\n"
      ]
    },
    {
      "metadata": {
        "id": "CYqNvcHxqg0Y",
        "colab_type": "text"
      },
      "cell_type": "markdown",
      "source": [
        "Import `TensorFlow` to get started."
      ]
    },
    {
      "metadata": {
        "id": "cVRrzjzFqee9",
        "colab_type": "code",
        "colab": {}
      },
      "cell_type": "code",
      "source": [
        "import TensorFlow"
      ],
      "execution_count": 0,
      "outputs": []
    },
    {
      "metadata": {
        "id": "5vza91sR09r-",
        "colab_type": "text"
      },
      "cell_type": "markdown",
      "source": [
        "## Calling raw operators\n",
        "\n",
        "Simply find the function you need under the `Raw` namespace via code completion."
      ]
    },
    {
      "metadata": {
        "id": "kZRlD4utdPuX",
        "colab_type": "code",
        "outputId": "6145cbb9-3b0b-42ee-c005-4040bf58eea6",
        "colab": {
          "base_uri": "https://localhost:8080/",
          "height": 34
        }
      },
      "cell_type": "code",
      "source": [
        "Raw.mul(Tensor([2.0, 3.0]), Tensor([5.0, 6.0]))"
      ],
      "execution_count": 0,
      "outputs": [
        {
          "output_type": "execute_result",
          "data": {
            "text/plain": [
              "[10.0, 18.0]\n"
            ]
          },
          "metadata": {
            "tags": []
          },
          "execution_count": 8
        }
      ]
    },
    {
      "metadata": {
        "id": "iIgKg-ueVCy_",
        "colab_type": "text"
      },
      "cell_type": "markdown",
      "source": [
        "## Defining a new multiply operator\n",
        "\n",
        "Multiply is already available as operator `*` on `Tensor`, but let us pretend that we wanted to make it available under a new name as `.*`. Swift allows you to retroactively add methods or computed properties to existing types using `extension` declarations.\n",
        "\n",
        "Now, let us add `.*` to `Tensor` by declaring an extension and make it available when the tensor's `Scalar` type conforms to [`Numeric`](https://developer.apple.com/documentation/swift/numeric)."
      ]
    },
    {
      "metadata": {
        "id": "BdH-yZBjTZNx",
        "colab_type": "code",
        "outputId": "f3eaa279-a58a-4399-cbdd-a419e71bc88a",
        "colab": {
          "base_uri": "https://localhost:8080/",
          "height": 34
        }
      },
      "cell_type": "code",
      "source": [
        "infix operator .* : MultiplicationPrecedence\n",
        "\n",
        "extension Tensor where Scalar: Numeric {\n",
        "    static func .* (_ lhs: Tensor, _ rhs: Tensor) -> Tensor {\n",
        "        return Raw.mul(lhs, rhs)\n",
        "    }\n",
        "}\n",
        "\n",
        "let x: Tensor<Double> = [[1.0, 2.0], [3.0, 4.0]]\n",
        "let y: Tensor<Double> = [[8.0, 7.0], [6.0, 5.0]]\n",
        "x .* y"
      ],
      "execution_count": 0,
      "outputs": [
        {
          "output_type": "execute_result",
          "data": {
            "text/plain": [
              "[[8.0, 14.0], [18.0, 20.0]]\n"
            ]
          },
          "metadata": {
            "tags": []
          },
          "execution_count": 3
        }
      ]
    },
    {
      "metadata": {
        "id": "ucD5XZYYyzNe",
        "colab_type": "text"
      },
      "cell_type": "markdown",
      "source": [
        "## Defining a derivative of a wrapped function\n",
        "\n",
        "Not only can you easily define a Swift API for a raw TensorFlow operator, you can also make it differentiable to work with Swift's first-class automatic differentiation.\n",
        "\n",
        "To make `.*` differentiable, use the `@differentiable` attribute and specify the derivative function as an attribute argument under the `vjp:` label. Since the `.*` operator is defined when the generic type `Scalar` conforms to `Numeric`, it is not enough for making `Tensor<Scalar>` conform to the `Differentiable` protocol. Born with type safety, Swift will remind us to add a generic constraint on the `@differentiable` attribute to require `Scalar` to conform to `TensorFlowFloatingPoint` protocol, which would make `Tensor<Scalar>` conform to `Differentiable`.\n",
        "\n",
        "```swift\n",
        "@differentiable(vjp: multiplyDerivative where Scalar: TensorFlowFloatingPoint)\n",
        "```"
      ]
    },
    {
      "metadata": {
        "id": "fDXS0h_YumcL",
        "colab_type": "code",
        "outputId": "4f3bf631-492d-4e0b-d93e-d9cb3f95bc45",
        "colab": {
          "base_uri": "https://localhost:8080/",
          "height": 68
        }
      },
      "cell_type": "code",
      "source": [
        "infix operator .* : MultiplicationPrecedence\n",
        "\n",
        "extension Tensor where Scalar: Numeric {\n",
        "    @differentiable(vjp: multiplyDerivative where Scalar: TensorFlowFloatingPoint)\n",
        "    static func .* (_ lhs: Tensor,  _ rhs: Tensor) -> Tensor {\n",
        "        return Raw.mul(lhs, rhs)\n",
        "    }\n",
        "}\n",
        "\n",
        "extension Tensor where Scalar : TensorFlowFloatingPoint { \n",
        "    static func multiplyDerivative(\n",
        "        _ lhs: Tensor, _ rhs: Tensor\n",
        "    ) -> (Tensor, (Tensor) -> (Tensor, Tensor)) {\n",
        "        return (lhs * rhs, { v in\n",
        "            ((rhs * v).unbroadcast(to: lhs.shape),\n",
        "            (lhs * v).unbroadcast(to: rhs.shape))\n",
        "        })\n",
        "    }\n",
        "}\n",
        "\n",
        "// Now, we can take the derivative of a function that calls `.*` that we just defined.\n",
        "gradient(at: x, y) { x, y in\n",
        "    (x .* y).sum()\n",
        "}"
      ],
      "execution_count": 0,
      "outputs": [
        {
          "output_type": "execute_result",
          "data": {
            "text/plain": [
              "▿ 2 elements\n",
              "  - .0 : [[8.0, 7.0], [6.0, 5.0]]\n",
              "  - .1 : [[1.0, 2.0], [3.0, 4.0]]\n"
            ]
          },
          "metadata": {
            "tags": []
          },
          "execution_count": 17
        }
      ]
    },
    {
      "metadata": {
        "id": "l7kae5o1VKnu",
        "colab_type": "text"
      },
      "cell_type": "markdown",
      "source": [
        "## More examples"
      ]
    },
    {
      "metadata": {
        "id": "v92FrXpCSuLT",
        "colab_type": "code",
        "outputId": "67cadc53-c983-421a-baa1-c855e08deb85",
        "colab": {
          "base_uri": "https://localhost:8080/",
          "height": 85
        }
      },
      "cell_type": "code",
      "source": [
        "let matrix = Tensor<Float>([[1, 2], [3, 4]])\n",
        "\n",
        "print(Raw.matMul(matrix, matrix, transposeA: true, transposeB: true))\n",
        "print(Raw.matMul(matrix, matrix, transposeA: true, transposeB: false))\n",
        "print(Raw.matMul(matrix, matrix, transposeA: false, transposeB: true))\n",
        "print(Raw.matMul(matrix, matrix, transposeA: false, transposeB: false))"
      ],
      "execution_count": 0,
      "outputs": [
        {
          "output_type": "stream",
          "text": [
            "[[7.0, 15.0], [10.0, 22.0]]\r\n",
            "[[10.0, 14.0], [14.0, 20.0]]\r\n",
            "[[5.0, 11.0], [11.0, 25.0]]\r\n",
            "[[7.0, 10.0], [15.0, 22.0]]\r\n"
          ],
          "name": "stdout"
        }
      ]
    }
  ]
}