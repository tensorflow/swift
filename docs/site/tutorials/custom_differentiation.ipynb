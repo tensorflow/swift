{
 "cells": [
  {
   "cell_type": "markdown",
   "metadata": {
    "colab_type": "text",
    "id": "ZloPIuRHn97X"
   },
   "source": [
    "##### Copyright 2018 The TensorFlow Authors. [Licensed under the Apache License, Version 2.0](#scrollTo=Afd8bu4xJOgh)."
   ]
  },
  {
   "cell_type": "code",
   "execution_count": 0,
   "metadata": {
    "colab": {},
    "colab_type": "code",
    "id": "tNgCmfUvJNoF"
   },
   "outputs": [],
   "source": [
    "#@title Licensed under the Apache License, Version 2.0 (the \"License\"); { display-mode: \"form\" }\n",
    "// Licensed under the Apache License, Version 2.0 (the \"License\");\n",
    "// you may not use this file except in compliance with the License.\n",
    "// You may obtain a copy of the License at\n",
    "//\n",
    "// https://www.apache.org/licenses/LICENSE-2.0\n",
    "//\n",
    "// Unless required by applicable law or agreed to in writing, software\n",
    "// distributed under the License is distributed on an \"AS IS\" BASIS,\n",
    "// WITHOUT WARRANTIES OR CONDITIONS OF ANY KIND, either express or implied.\n",
    "// See the License for the specific language governing permissions and\n",
    "// limitations under the License."
   ]
  },
  {
   "cell_type": "markdown",
   "metadata": {
    "colab_type": "text",
    "id": "AlvdCHw5JGyx"
   },
   "source": [
    "<table class=\"tfo-notebook-buttons\" align=\"left\">\n",
    "  <td>\n",
    "    <a target=\"_blank\" href=\"https://www.tensorflow.org/swift/tutorials/custom_differentiation\"><img src=\"https://www.tensorflow.org/images/tf_logo_32px.png\" />View on TensorFlow.org</a>\n",
    "  </td>\n",
    "  <td>\n",
    "    <a target=\"_blank\" href=\"https://colab.research.google.com/github/tensorflow/swift/blob/master/docs/site/tutorials/custom_differentiation.ipynb\"><img src=\"https://www.tensorflow.org/images/colab_logo_32px.png\" />Run in Google Colab</a>\n",
    "  </td>\n",
    "  <td>\n",
    "    <a target=\"_blank\" href=\"https://github.com/tensorflow/swift/blob/master/docs/site/tutorials/custom_differentiation.ipynb\"><img src=\"https://www.tensorflow.org/images/GitHub-Mark-32px.png\" />View source on GitHub</a>\n",
    "  </td>\n",
    "</table>"
   ]
  },
  {
   "cell_type": "markdown",
   "metadata": {
    "colab_type": "text",
    "id": "c_1u7JSBMx3x"
   },
   "source": [
    "# Custom differentiation\n",
    "\n",
    "This tutorial will show you how to define your own custom derivatives, perform derivative surgery, and implement your own gradient checkpointing API in just 5 lines of Swift."
   ]
  },
  {
   "cell_type": "markdown",
   "metadata": {
    "colab_type": "text",
    "id": "gHuQo_kCTjFr"
   },
   "source": [
    "## Declaring custom derivatives"
   ]
  },
  {
   "cell_type": "markdown",
   "metadata": {
    "colab_type": "text",
    "id": "LP0gMw56TlvH"
   },
   "source": [
    "You can define custom derivatives for any Swift function that has differentiable parameters and results. By doing that, you can even import a C function and make it differentiable."
   ]
  },
  {
   "cell_type": "code",
   "execution_count": 1,
   "metadata": {
    "colab": {
     "base_uri": "https://localhost:8080/",
     "height": 85
    },
    "colab_type": "code",
    "id": "j0a8prgZTlEO",
    "outputId": "f0f65b8a-30ce-46bb-a6c5-efe3e8956e44"
   },
   "outputs": [
    {
     "name": "stdout",
     "output_type": "stream",
     "text": [
      "Taking 𝑒(2.7182817) to the power of 3.0!\r\n",
      "exp(3) = 20.085535\r\n",
      "Taking 𝑒(2.7182817) to the power of 3.0!\r\n",
      "𝛁exp(3) = 20.085535\r\n"
     ]
    }
   ],
   "source": [
    "import Glibc\n",
    "\n",
    "func sillyExp(_ x: Float) -> Float {\n",
    "    let 𝑒 = Float(M_E)\n",
    "    print(\"Taking 𝑒(\\(𝑒)) to the power of \\(x)!\")\n",
    "    return pow(𝑒, x)\n",
    "}\n",
    "\n",
    "@differentiating(sillyExp)\n",
    "func sillyDerivative(_ x: Float) -> (value: Float, pullback: (Float) -> Float) {\n",
    "    let y = sillyExp(x)\n",
    "    return (value: y, pullback: { v in v * y })\n",
    "}\n",
    "\n",
    "print(\"exp(3) =\", sillyExp(3))\n",
    "print(\"𝛁exp(3) =\", gradient(of: sillyExp)(3))"
   ]
  },
  {
   "cell_type": "markdown",
   "metadata": {
    "colab_type": "text",
    "id": "eQPX9r3R5OP-"
   },
   "source": [
    "## Stop derivatives from propagating\n",
    "\n",
    "Commonly known as \"stop gradient\" in machine learning use cases, method `withoutDerivative(at:)` stops derivatives from propagating.\n",
    "\n",
    "Plus, `withoutDerivative(at:)` can sometimes help the Swift compiler with identifying what not to differentiate and producing more efficient derivaitves. When it is detectable that the derivative of a function will always be zero, the Swift compiler will produce a warning. Explicitly using `withoutDerivative(at:)` silences that warning."
   ]
  },
  {
   "cell_type": "code",
   "execution_count": 2,
   "metadata": {
    "colab": {
     "base_uri": "https://localhost:8080/",
     "height": 68
    },
    "colab_type": "code",
    "id": "ctRt6vBO5Wle",
    "outputId": "49580e7d-0bde-4e78-b825-12444bf39767"
   },
   "outputs": [
    {
     "data": {
      "text/plain": [
       "▿ 2 elements\n",
       "  - .0 : -0.18009877\n",
       "  - .1 : 0.0\n"
      ]
     },
     "execution_count": 2,
     "metadata": {},
     "output_type": "execute_result"
    }
   ],
   "source": [
    "let x: Float = 2.0\n",
    "let y: Float = 3.0\n",
    "gradient(at: x, y) { x, y in\n",
    "    sin(sin(sin(x))) + withoutDerivative(at: cos(cos(cos(y))))\n",
    "}"
   ]
  },
  {
   "cell_type": "markdown",
   "metadata": {
    "colab_type": "text",
    "id": "EeV3wXQ79WS2"
   },
   "source": [
    "## Derivative surgery\n",
    "\n",
    "Method [`withDerivative(_:)`](https://www.tensorflow.org/swift/api_docs/Protocols/Differentiable#/s:10TensorFlow14DifferentiablePAAE12withGradientyxy15CotangentVectorQzzcF) makes arbitrary operations (including mutation) run on the gradient at a value during the enclosing function’s backpropagation. \n",
    "\n",
    "Use this to debug or make experimental tweaks to backpropagation."
   ]
  },
  {
   "cell_type": "markdown",
   "metadata": {
    "colab_type": "text",
    "id": "AHV0ryTiD6j8"
   },
   "source": [
    "### It works anywhere"
   ]
  },
  {
   "cell_type": "markdown",
   "metadata": {
    "colab_type": "text",
    "id": "9zKSeUjTmbxq"
   },
   "source": [
    "All differentiation APIs provided by the standard library are defined generically over all types that conform to the `Differentiable` protocol: `Float`, `Double`, `Float80`, SIMD vectors, and even your own types!\n",
    "\n",
    "Read technical document [Differentiable Types](https://github.com/tensorflow/swift/blob/master/docs/DifferentiableTypes.md) for more insights on the `Differentiable` protocol."
   ]
  },
  {
   "cell_type": "code",
   "execution_count": 3,
   "metadata": {
    "colab": {
     "base_uri": "https://localhost:8080/",
     "height": 68
    },
    "colab_type": "code",
    "id": "eKne7szjD8lr",
    "outputId": "31bba009-3758-4179-92dc-f080dcba8421"
   },
   "outputs": [
    {
     "name": "stdout",
     "output_type": "stream",
     "text": [
      "∂log/∂x = 0.033333335, but rewritten to 0.5\r\n",
      "∂+/∂sin = 1.0\r\n"
     ]
    },
    {
     "data": {
      "text/plain": [
       "0.65425146\n"
      ]
     },
     "execution_count": 3,
     "metadata": {},
     "output_type": "execute_result"
    }
   ],
   "source": [
    "var x: Float = 30\n",
    "x.gradient { x -> Float in\n",
    "    // Print the partial derivative with respect to the result of `sin(x)`.\n",
    "    let a = sin(x).withDerivative { print(\"∂+/∂sin = \\($0)\") } \n",
    "    // Force the partial derivative with respect to `x` to be `0.5`.\n",
    "    let b = log(x.withDerivative { (dx: inout Float) in\n",
    "        print(\"∂log/∂x = \\(dx), but rewritten to 0.5\");\n",
    "        dx = 0.5\n",
    "    })\n",
    "    return a + b\n",
    "}"
   ]
  },
  {
   "cell_type": "markdown",
   "metadata": {
    "colab_type": "text",
    "id": "vmw0gkqlD9xf"
   },
   "source": [
    "### Use it in a neural network module"
   ]
  },
  {
   "cell_type": "markdown",
   "metadata": {
    "colab_type": "text",
    "id": "JCf_OplsWzhW"
   },
   "source": [
    "Just like how we used it in a simple `Float` function, we can use it in any numerical application, like the following neural network built using the [Swift for TensorFlow Deep Learning Library](https://github.com/tensorflow/swift-apis)."
   ]
  },
  {
   "cell_type": "code",
   "execution_count": 4,
   "metadata": {
    "colab": {
     "base_uri": "https://localhost:8080/",
     "height": 547
    },
    "colab_type": "code",
    "id": "fnSeAbs9-hf3",
    "outputId": "80ea60b8-e17c-47d5-9364-c8768c3e377e"
   },
   "outputs": [
    {
     "name": "stdout",
     "output_type": "stream",
     "text": [
      "Loss: 0.39526063\r\n",
      "∂L/∂ŷ = [[      -0.25],\r\n",
      " [ -0.2057307],\r\n",
      " [-0.17267174],\r\n",
      " [ -0.1030533]]\r\n",
      "∂L/∂layer1 = [[         0.0,          0.0,          0.0,          0.0,          0.0,          0.0,\r\n",
      "           0.0,          0.0,          0.0,          0.0],\r\n",
      " [-0.046407297,   0.14275569,   0.09792667, -0.012077985,  0.009335363,  -0.07316765,\r\n",
      "  -0.029599447, -0.121282704,  -0.05436347, -0.017483316],\r\n",
      " [-0.038950086,   0.11981621,   0.08219079, -0.010137168,   0.00783526, -0.061410304,\r\n",
      "  -0.024843097,  -0.10179373, -0.045627777, -0.014673914],\r\n",
      " [-0.023246044,   0.07150826,  0.049052797, -0.006050027,   0.00467621,  -0.03665067,\r\n",
      "  -0.014826765, -0.060752153, -0.027231399,  -0.00875763]]\r\n",
      "Loss: 0.38422382\r\n",
      "∂L/∂ŷ = [[-0.24402866],\r\n",
      " [-0.19946408],\r\n",
      " [-0.16131848],\r\n",
      " [-0.09415024]]\r\n",
      "∂L/∂layer1 = [[ -0.055174377,    0.16911626,    0.11615628,  -0.014916619,   0.010953629,   -0.08678823,\r\n",
      "    -0.03610194,   -0.14397182,   -0.06537168,  -0.020906208],\r\n",
      " [  -0.04509842,     0.1382322,    0.09494379,  -0.012192543,   0.008953275,   -0.07093894,\r\n",
      "   -0.029508995,   -0.11767964,   -0.05343348,   -0.01708831],\r\n",
      " [ -0.036473777,    0.11179662,     0.0767867,  -0.009860835,  0.0072410465,  -0.057372544,\r\n",
      "   -0.023865681,  -0.095174536,   -0.04321484,  -0.013820335],\r\n",
      " [ -0.021287175,    0.06524781,    0.04481499, -0.0057550753,   0.004226089,  -0.033484314,\r\n",
      "   -0.013928718,  -0.055546675,   -0.02522146,  -0.008065957]]\r\n",
      "Loss: 0.36997867\r\n",
      "∂L/∂ŷ = [[-0.23469406],\r\n",
      " [-0.19081244],\r\n",
      " [-0.14695379],\r\n",
      " [-0.08302153]]\r\n",
      "∂L/∂layer1 = [[ -0.05318101,   0.16245836,   0.11171307, -0.014873781,  0.010427437,   -0.0834684,\r\n",
      "   -0.03561623,  -0.13857032, -0.063682444, -0.020264463],\r\n",
      " [ -0.04323756,   0.13208292,   0.09082566, -0.012092775,   0.00847778, -0.067862004,\r\n",
      "  -0.028956931,  -0.11266131,   -0.0517755, -0.016475542],\r\n",
      " [-0.033299316,   0.10172338,   0.06994919, -0.009313225,  0.006529144, -0.052263774,\r\n",
      "  -0.022301117,  -0.08676587,  -0.03987479, -0.012688603],\r\n",
      " [-0.018812444,   0.05746861,  0.039517786, -0.005261505, 0.0036886393, -0.029526414,\r\n",
      "  -0.012599014, -0.049018368, -0.022527259, -0.007168425]]\r\n",
      "Loss: 0.3575021\r\n",
      "∂L/∂ŷ = [[-0.22589779],\r\n",
      " [ -0.1826635],\r\n",
      " [-0.13355309],\r\n",
      " [-0.07259428]]\r\n",
      "∂L/∂layer1 = [[ -0.051294222,    0.15620685,    0.10752609,  -0.014776002,   0.009942822,   -0.08034003,\r\n",
      "   -0.035070408,   -0.13347906,   -0.06202278,   -0.01965216],\r\n",
      " [ -0.041477084,    0.12631062,    0.08694681,  -0.011948042,   0.008039879,   -0.06496385,\r\n",
      "    -0.02835833,   -0.10793267,   -0.05015232,  -0.015890958],\r\n",
      " [  -0.03032567,    0.09235109,    0.06357053,  -0.008735724,  0.0058782985,  -0.047497846,\r\n",
      "   -0.020733986,   -0.07891419,    -0.0366685,  -0.011618558],\r\n",
      " [ -0.016483858,    0.05019847,   0.034554474, -0.0047484008,   0.003195215,  -0.025817987,\r\n",
      "    -0.01127019,   -0.04289469,  -0.019931575, -0.0063153976]]\r\n",
      "Loss: 0.34658125\r\n",
      "∂L/∂ŷ = [[-0.21761039],\r\n",
      " [-0.17499235],\r\n",
      " [-0.12106318],\r\n",
      " [ -0.0628359]]\r\n",
      "∂L/∂layer1 = [[  -0.04950882,    0.15033616,    0.10358133,  -0.014633071,   0.009496091,   -0.07739263,\r\n",
      "   -0.034477632,    -0.1286802,  -0.060397636,  -0.019068511],\r\n",
      " [ -0.039812736,    0.12089348,    0.08329539,  -0.011767249,   0.007636323,  -0.062235624,\r\n",
      "   -0.027725339,  -0.103478745,  -0.048569024,  -0.015334028],\r\n",
      " [  -0.02754324,    0.08363651,     0.0576254,  -0.008140815,    0.00528296,   -0.04305584,\r\n",
      "   -0.019180939,   -0.07158865,  -0.033601016,  -0.010608384],\r\n",
      " [ -0.014295877,    0.04341019,    0.02990954, -0.0042253598,  0.0027420355,  -0.022347443,\r\n",
      "   -0.009955559,   -0.03715694,  -0.017440068,  -0.005506112]]\r\n",
      "Loss: 0.3370267\r\n",
      "∂L/∂ŷ = [[ -0.20980361],\r\n",
      " [ -0.16777459],\r\n",
      " [-0.109432936],\r\n",
      " [-0.053714268]]\r\n",
      "∂L/∂layer1 = [[ -0.047819804,    0.14482236,   0.099865355,  -0.014453448,   0.009083904,   -0.07461617,\r\n",
      "   -0.033849243,   -0.12415691,  -0.058811102,  -0.018512676],\r\n",
      " [ -0.038240276,   0.115810744,    0.07985977,  -0.011558053,   0.007264166,  -0.059668645,\r\n",
      "   -0.027068375,    -0.0992851,  -0.047029737,  -0.014804115],\r\n",
      " [ -0.024942666,    0.07553891,   0.052089468, -0.0075388756,  0.0047381376,   -0.03891957,\r\n",
      "   -0.017655663,   -0.06475987,  -0.030675694,  -0.009656156],\r\n",
      " [ -0.012242906,    0.03707766,   0.025567694, -0.0037003958,  0.0023256764,  -0.019103356,\r\n",
      "   -0.008666139,  -0.031786855,  -0.015056916,  -0.004739646]]\r\n",
      "Loss: 0.32867023\r\n",
      "∂L/∂ŷ = [[ -0.20245036],\r\n",
      " [ -0.16098654],\r\n",
      " [ -0.09861321],\r\n",
      " [-0.045197725]]\r\n",
      "∂L/∂layer1 = [[ -0.046222344,    0.13964298,    0.09636525, -0.0142444195,   0.008703245,     -0.072001,\r\n",
      "   -0.033194974,  -0.119893275,   -0.05726646,   -0.01798376],\r\n",
      " [ -0.036755554,    0.11104274,     0.0766287,  -0.011327023,  0.0069207354,   -0.05725449,\r\n",
      "   -0.026396317,   -0.09533796,  -0.045537725,   -0.01430051],\r\n",
      " [ -0.022514822,    0.06801985,    0.04693934,  -0.006938431,   0.004239335,   -0.03507156,\r\n",
      "   -0.016169213,    -0.0583998,  -0.027894389,  -0.008759858],\r\n",
      " [ -0.010319294,   0.031175768,   0.021513866, -0.0031801146,  0.0019430288,  -0.016074466,\r\n",
      "  -0.0074108895,  -0.026766578,  -0.012784929, -0.0040149353]]\r\n",
      "Loss: 0.3213629\r\n",
      "∂L/∂ŷ = [[-0.19552469],\r\n",
      " [-0.15460524],\r\n",
      " [-0.08855683],\r\n",
      " [-0.03725528]]\r\n",
      "∂L/∂layer1 = [[  -0.04471177,     0.1347769,    0.09306867,   -0.01401223,   0.008351381,    -0.0695379,\r\n",
      "    -0.03252312,  -0.115874246,   -0.05576624,  -0.017480832],\r\n",
      " [  -0.03535448,   0.106570765,    0.07359123,  -0.011079747,   0.006603602,  -0.054984994,\r\n",
      "   -0.025716675,   -0.09162406,  -0.044095468,  -0.013822439],\r\n",
      " [ -0.020250807,   0.061043013,    0.04215256,  -0.006346404,  0.0037824984,   -0.03149503,\r\n",
      "   -0.014730337,   -0.05248164,  -0.025257586, -0.0079173995],\r\n",
      " [ -0.008519381,   0.025680395,   0.017733306, -0.0026698906,  0.0015912723,  -0.013249754,\r\n",
      "   -0.006196956,  -0.022078682,  -0.010625701, -0.0033307981]]\r\n",
      "Loss: 0.3149731\r\n",
      "∂L/∂ŷ = [[ -0.18900171],\r\n",
      " [ -0.14860842],\r\n",
      " [  -0.0792185],\r\n",
      " [-0.029856391]]\r\n",
      "∂L/∂layer1 = [[ -0.043283544,    0.13020422,   0.089963764, -0.0137622105,  0.0080258325,   -0.06721802,\r\n",
      "   -0.031840708,   -0.11208551,  -0.054312315,  -0.017002916],\r\n",
      " [  -0.03403302,    0.10237707,    0.07073678,  -0.010820962,   0.006310558,   -0.05285224,\r\n",
      "   -0.025035739,   -0.08813068,   -0.04270473,  -0.013369067],\r\n",
      " [ -0.018141938,   0.054574016,   0.037707563, -0.0057683163,  0.0033639611,  -0.028173875,\r\n",
      "   -0.013345769,   -0.04697971,  -0.022764558, -0.0071266317],\r\n",
      " [-0.0068374537,   0.020568216,   0.014211476, -0.0021740012,  0.0012678319,  -0.010618356,\r\n",
      "   -0.005029842,  -0.017706024, -0.0085796565,  -0.002685932]]\r\n",
      "Loss: 0.30938435\r\n",
      "∂L/∂ŷ = [[ -0.18285766],\r\n",
      " [ -0.14297456],\r\n",
      " [ -0.07055488],\r\n",
      " [-0.022971518]]\r\n",
      "∂L/∂layer1 = [[   -0.0419333,    0.12590617,    0.08703923,  -0.013498892,  0.0077243536,   -0.06503291,\r\n",
      "    -0.03115364,   -0.10851347,  -0.052905943,  -0.016549027],\r\n",
      " [ -0.032787222,    0.09844476,    0.06805509,  -0.010554647,   0.006039594,   -0.05084857,\r\n",
      "   -0.024358716,   -0.08484559,   -0.04136662,  -0.012939516],\r\n",
      " [ -0.016179793,   0.048580382,    0.03358373, -0.0052084923,  0.0029804101,   -0.02509268,\r\n",
      "   -0.012020504,   -0.04186948,  -0.020413542, -0.0063853743],\r\n",
      " [-0.0052678767,    0.01581698,   0.010934315, -0.0016958001, 0.00097037293,  -0.008169767,\r\n",
      "    -0.00391368,  -0.013632019,  -0.006646316, -0.0020789737]]\r\n"
     ]
    }
   ],
   "source": [
    "import TensorFlow\n",
    "\n",
    "struct MLP: Layer {\n",
    "    var layer1 = Dense<Float>(inputSize: 2, outputSize: 10, activation: relu)\n",
    "    var layer2 = Dense<Float>(inputSize: 10, outputSize: 1, activation: relu)\n",
    "    \n",
    "    @differentiable\n",
    "    func callAsFunction(_ input: Tensor<Float>) -> Tensor<Float> {\n",
    "        let h0 = layer1(input).withDerivative { print(\"∂L/∂layer1 =\", $0) }\n",
    "        return layer2(h0)\n",
    "    }\n",
    "}\n",
    "\n",
    "var classifier = MLP()\n",
    "let optimizer = SGD(for: classifier, learningRate: 0.02)\n",
    "\n",
    "let x: Tensor<Float> = [[0, 0], [0, 1], [1, 0], [1, 1]]\n",
    "let y: Tensor<Float> = [0, 1, 1, 0]\n",
    "\n",
    "for _ in 0..<10 {\n",
    "    let 𝛁model = classifier.gradient { classifier -> Tensor<Float> in\n",
    "        let ŷ = classifier(x).withDerivative { print(\"∂L/∂ŷ =\", $0) }\n",
    "        let loss = (ŷ - y).squared().mean()\n",
    "        print(\"Loss: \\(loss)\")\n",
    "        return loss\n",
    "    }\n",
    "    optimizer.update(&classifier, along: 𝛁model)\n",
    "}"
   ]
  },
  {
   "cell_type": "markdown",
   "metadata": {
    "colab_type": "text",
    "id": "TzLfTj28gEUD"
   },
   "source": [
    "## Recomputing activations during backpropagation to save memory (checkpointing)\n",
    "\n",
    "Checkpointing is a traditional technique in reverse-mode automatic differentiation for saving memory. Rather than saving large intermediate values in the original computation for computing derivatives, the intermediate values are instead recomputed as needed during backpropagation.\n",
    "\n",
    "This technique has been realized in modern deep learning libraries as well. In Swift, API [`withRecomputationInPullbacks(_:)`](https://www.tensorflow.org/swift/api_docs/Protocols/Differentiable#/s:10TensorFlow14DifferentiablePAAE28withRecomputationInPullbacksyqd__qd__xcAaBRd__lF) enables you to control what to recompute during backpropagation, and it is available on all `Differentiable` types.\n",
    "\n",
    "But today, let us learn how to define our own gradient checkpointing APIs from scratch, in just a few lines of code."
   ]
  },
  {
   "cell_type": "markdown",
   "metadata": {
    "colab_type": "text",
    "id": "5cZe-JbjwMfZ"
   },
   "source": [
    "### Our gradient checkpointing API"
   ]
  },
  {
   "cell_type": "markdown",
   "metadata": {
    "colab_type": "text",
    "id": "606ob1dn2v77"
   },
   "source": [
    "We can define our own gradient checkpointing API, `makeRecomputedInGradient(_:)`, in terms of standard library function [`differentiableFunction(from:)`](https://www.tensorflow.org/swift/api_docs/Functions#/s:10TensorFlow22differentiableFunction4fromq0_x_q_tcq0_5value_15CotangentVectorQz_AEQy_tAEQy0_c8pullbacktx_q_tc_tAA14DifferentiableRzAaJR_AaJR0_r1_lF), which is a shorthand for creating a differentiable function directly from a derivative function (also called a \"vector-Jacobian products (VJP) function\").\n",
    "\n",
    "As we have seen before, the derivative function returns a tuple of the original function's result and a pullback closure. We return `original(x)` in `value:`, and call `pullback(at:in:)` on `original` to evaluate the original function again and get a pullback."
   ]
  },
  {
   "cell_type": "code",
   "execution_count": 5,
   "metadata": {
    "colab": {},
    "colab_type": "code",
    "id": "b1uU3tcVwl_1"
   },
   "outputs": [],
   "source": [
    "/// Given a differentiable function, returns the same differentiable function except when\n",
    "/// derivatives of this function are being computed. In that case, values in the original function needed\n",
    "/// for computing the derivatives will be recomputed, instead of being captured by the differential or pullback.\n",
    "///\n",
    "/// - Parameter body: The body of the differentiable function.\n",
    "/// - Returns: The same differentiable function whose derivatives, when computed, will recompute\n",
    "///   some values from the original function.\n",
    "func makeRecomputedInGradient<T: Differentiable, U: Differentiable>(\n",
    "    _ original: @escaping @differentiable (T) -> U\n",
    ") -> @differentiable (T) -> U {\n",
    "    return differentiableFunction { x in\n",
    "        (value: original(x), pullback: { v in pullback(at: x, in: original)(v) })\n",
    "    }\n",
    "}"
   ]
  },
  {
   "cell_type": "markdown",
   "metadata": {
    "colab_type": "text",
    "id": "UbeKj7NEF7zz"
   },
   "source": [
    "### Verify it works"
   ]
  },
  {
   "cell_type": "code",
   "execution_count": 6,
   "metadata": {
    "colab": {
     "base_uri": "https://localhost:8080/",
     "height": 102
    },
    "colab_type": "code",
    "id": "oee8SXital45",
    "outputId": "f4e7bd68-606a-46d6-96f4-c5294d8e302a"
   },
   "outputs": [
    {
     "name": "stdout",
     "output_type": "stream",
     "text": [
      "Running original computation...\r\n",
      "  Computing square...\r\n",
      "Running backpropagation...\r\n",
      "  Computing square...\r\n",
      "Gradient = -0.9129453\r\n"
     ]
    }
   ],
   "source": [
    "let input: Float = 10.0\n",
    "print(\"Running original computation...\")\n",
    "\n",
    "// Differentiable multiplication with checkpointing.\n",
    "let square = makeRecomputedInGradient { (x: Float) -> Float in\n",
    "    print(\"  Computing square...\")\n",
    "    return x * x\n",
    "}\n",
    "\n",
    "// Differentiate `f(x) = (cos(x))^2`.\n",
    "let (output, backprop) = input.valueWithPullback { input -> Float in\n",
    "    return square(cos(input))\n",
    "}\n",
    "print(\"Running backpropagation...\")\n",
    "let grad = backprop(1)\n",
    "print(\"Gradient = \\(grad)\")"
   ]
  },
  {
   "cell_type": "markdown",
   "metadata": {
    "colab_type": "text",
    "id": "7SxWsSUqF9Bh"
   },
   "source": [
    "### Extend it to neural network modules\n",
    "\n",
    "In this example, we define a simple convolutional neural network.\n",
    "\n",
    "```swift\n",
    "struct Model: Layer {\n",
    "    var conv = Conv2D<Float>(filterShape: (5, 5, 3, 6))\n",
    "    var maxPool = MaxPool2D<Float>(poolSize: (2, 2), strides: (2, 2))\n",
    "    var flatten = Flatten<Float>()\n",
    "    var dense = Dense<Float>(inputSize: 36 * 6, outputSize: 10)\n",
    "\n",
    "    @differentiable\n",
    "    func call(_ input: Tensor<Float>) -> Tensor<Float> {\n",
    "        return input.sequenced(through: conv, maxPool, flatten, dense)\n",
    "    }\n",
    "}\n",
    "```\n",
    "\n",
    "We want to make activations in the convolution layer (`conv`) be recomputed during backpropagation. However, using `makeRecomputedInGradient(_:)` could make the resulting code look cumbersome, especially when we want to apply layers sequentially using [`sequenced(in:through:_:_:_:_:)`](https://www.tensorflow.org/swift/api_docs/Protocols/Differentiable#/s:10TensorFlow14DifferentiablePAAE9sequenced2in7through____6OutputQyd_3_AA7ContextC_qd__qd_0_qd_1_qd_2_qd_3_t5InputQyd__RszAA5LayerRd__AaMRd_0_AaMRd_1_AaMRd_2_AaMRd_3_AKQyd_0_AGRtd__AKQyd_1_AGRtd_0_AKQyd_2_AGRtd_1_AKQyd_3_AGRtd_2_r3_lF).\n",
    "\n",
    "```swift\n",
    "input.sequenced(in: context, through: conv, maxPool, flatten, dense)\n",
    "```\n",
    "\n",
    "So, why don't we define a **special layer type** that wraps a layer and makes its activations be recomputed during backpropagation? Let's do it."
   ]
  },
  {
   "cell_type": "markdown",
   "metadata": {
    "colab_type": "text",
    "id": "ZP86M5RjP3OG"
   },
   "source": [
    "First, we define a `makeRecomputedInGradient(_:)` function that takes a binary function."
   ]
  },
  {
   "cell_type": "code",
   "execution_count": 7,
   "metadata": {
    "colab": {},
    "colab_type": "code",
    "id": "bEm-n5H0QB8s"
   },
   "outputs": [],
   "source": [
    "// Same as the previous `makeRecomputedInGradient(_:)`, except it's for binary functions.\n",
    "func makeRecomputedInGradient<T: Differentiable, U: Differentiable, V: Differentiable>(\n",
    "    _ original: @escaping @differentiable (T, U) -> V\n",
    ") -> @differentiable (T, U) -> V {\n",
    "    return differentiableFunction { x, y in\n",
    "        (value: original(x, y), pullback: { v in pullback(at: x, y, in: original)(v) })\n",
    "    }\n",
    "}"
   ]
  },
  {
   "cell_type": "markdown",
   "metadata": {
    "colab_type": "text",
    "id": "YU6DgqXxP5Nl"
   },
   "source": [
    "Then, we define a generic layer `ActivationDiscarding<Wrapped>`."
   ]
  },
  {
   "cell_type": "code",
   "execution_count": 8,
   "metadata": {
    "colab": {},
    "colab_type": "code",
    "id": "ao1r_lIPGeOl"
   },
   "outputs": [],
   "source": [
    "import TensorFlow\n",
    "\n",
    "/// A layer wrapper that makes the underlying layer's activations be discarded during application\n",
    "/// and recomputed during backpropagation.\n",
    "struct ActivationDiscarding<Wrapped: Layer>: Layer {\n",
    "    /// The wrapped layer.\n",
    "    var wrapped: Wrapped\n",
    "\n",
    "    @differentiable\n",
    "    func callAsFunction(_ input: Wrapped.Input) -> Wrapped.Output {\n",
    "        let apply = makeRecomputedInGradient { (layer: Wrapped, input: Input) -> Wrapped.Output in\n",
    "            print(\"    Applying \\(Wrapped.self) layer...\")\n",
    "            return layer(input)\n",
    "        }\n",
    "        return apply(wrapped, input)\n",
    "    }\n",
    "}"
   ]
  },
  {
   "cell_type": "markdown",
   "metadata": {
    "colab_type": "text",
    "id": "HqPXwwuTRjmz"
   },
   "source": [
    "Finally, we can add a method on all layers that returns the same layer except its activations are discarded during application and recomputed during backpropagation."
   ]
  },
  {
   "cell_type": "code",
   "execution_count": 9,
   "metadata": {
    "colab": {},
    "colab_type": "code",
    "id": "PGgkNnNNR1th"
   },
   "outputs": [],
   "source": [
    "extension Layer {\n",
    "    func discardingActivations() -> ActivationDiscarding<Self> {\n",
    "        return ActivationDiscarding(wrapped: self)\n",
    "    }\n",
    "}"
   ]
  },
  {
   "cell_type": "markdown",
   "metadata": {
    "colab_type": "text",
    "id": "8PP-NZ9XU5_n"
   },
   "source": [
    "Back in the model, all we have to change is to wrap the convolution layer into the activation-recomputing layer.\n",
    "\n",
    "```swift\n",
    "var conv = Conv2D<Float>(filterShape: (5, 5, 3, 6)).discardingActivations()\n",
    "```"
   ]
  },
  {
   "cell_type": "markdown",
   "metadata": {
    "colab_type": "text",
    "id": "bCwNPtCfSbGi"
   },
   "source": [
    "Now, simply use it in the model!"
   ]
  },
  {
   "cell_type": "code",
   "execution_count": 10,
   "metadata": {
    "colab": {},
    "colab_type": "code",
    "id": "gsWGwFjOJ3Md"
   },
   "outputs": [],
   "source": [
    "struct Model: Layer {\n",
    "    var conv = Conv2D<Float>(filterShape: (5, 5, 3, 6)).discardingActivations()\n",
    "    var maxPool = MaxPool2D<Float>(poolSize: (2, 2), strides: (2, 2))\n",
    "    var flatten = Flatten<Float>()\n",
    "    var dense = Dense<Float>(inputSize: 36 * 6, outputSize: 10)\n",
    "\n",
    "    @differentiable\n",
    "    func callAsFunction(_ input: Tensor<Float>) -> Tensor<Float> {\n",
    "        return input.sequenced(through: conv, maxPool, flatten, dense)\n",
    "    }\n",
    "}"
   ]
  },
  {
   "cell_type": "markdown",
   "metadata": {
    "colab_type": "text",
    "id": "dmFxciU6VYdF"
   },
   "source": [
    "When we run a training loop, we can see that the convolution layer's activations are computed twice: once during layer application, and once during backpropagation."
   ]
  },
  {
   "cell_type": "code",
   "execution_count": 11,
   "metadata": {
    "colab": {
     "base_uri": "https://localhost:8080/",
     "height": 527
    },
    "colab_type": "code",
    "id": "-x1nYu0uVSPn",
    "outputId": "fcdc6e19-2ffa-49f3-908f-e5823a485f9d"
   },
   "outputs": [
    {
     "name": "stdout",
     "output_type": "stream",
     "text": [
      "Starting training step 1\r\n",
      "  Running original computation...\r\n",
      "    Applying Conv2D<Float> layer...\r\n",
      "  Loss: 3.1055076\r\n",
      "  Running backpropagation...\r\n",
      "    Applying Conv2D<Float> layer...\r\n",
      "Starting training step 2\r\n",
      "  Running original computation...\r\n",
      "    Applying Conv2D<Float> layer...\r\n",
      "  Loss: 2.7334185\r\n",
      "  Running backpropagation...\r\n",
      "    Applying Conv2D<Float> layer...\r\n",
      "Starting training step 3\r\n",
      "  Running original computation...\r\n",
      "    Applying Conv2D<Float> layer...\r\n",
      "  Loss: 2.4279656\r\n",
      "  Running backpropagation...\r\n",
      "    Applying Conv2D<Float> layer...\r\n",
      "Starting training step 4\r\n",
      "  Running original computation...\r\n",
      "    Applying Conv2D<Float> layer...\r\n",
      "  Loss: 2.1714873\r\n",
      "  Running backpropagation...\r\n",
      "    Applying Conv2D<Float> layer...\r\n",
      "Starting training step 5\r\n",
      "  Running original computation...\r\n",
      "    Applying Conv2D<Float> layer...\r\n",
      "  Loss: 1.9546503\r\n",
      "  Running backpropagation...\r\n",
      "    Applying Conv2D<Float> layer...\r\n"
     ]
    }
   ],
   "source": [
    "// Use random training data.\n",
    "let x = Tensor<Float>(randomNormal: [10, 16, 16, 3])\n",
    "let y = Tensor<Int32>(rangeFrom: 0, to: 10, stride: 1)\n",
    "\n",
    "var model = Model()\n",
    "let opt = SGD(for: model)\n",
    "\n",
    "for i in 1...5 {\n",
    "    print(\"Starting training step \\(i)\")\n",
    "    print(\"  Running original computation...\")\n",
    "    let (logits, backprop) = model.appliedForBackpropagation(to: x)\n",
    "    let (loss, dL_dŷ) = logits.valueWithGradient { logits in\n",
    "        softmaxCrossEntropy(logits: logits, labels: y)\n",
    "    }\n",
    "    print(\"  Loss: \\(loss)\")\n",
    "    print(\"  Running backpropagation...\")\n",
    "    let (dL_dθ, _) = backprop(dL_dŷ)\n",
    "    \n",
    "    opt.update(&model, along: dL_dθ)\n",
    "}"
   ]
  },
  {
   "cell_type": "markdown",
   "metadata": {
    "colab_type": "text",
    "id": "gzRaZLa_WX0u"
   },
   "source": [
    "Just like that, it is super easy to define generic differentiable programming libraries for different domains."
   ]
  }
 ],
 "metadata": {
  "colab": {
   "collapsed_sections": [],
   "name": "Custom differentiation.ipynb",
   "provenance": [],
   "toc_visible": true,
   "version": "0.3.2"
  },
  "kernelspec": {
   "display_name": "Swift",
   "language": "swift",
   "name": "swift"
  },
  "language_info": {
   "file_extension": ".swift",
   "mimetype": "text/x-swift",
   "name": "swift",
   "version": ""
  }
 },
 "nbformat": 4,
 "nbformat_minor": 1
}
