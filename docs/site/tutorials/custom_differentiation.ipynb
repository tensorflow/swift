{
  "nbformat": 4,
  "nbformat_minor": 0,
  "metadata": {
    "colab": {
      "name": "Custom differentiation.ipynb",
      "version": "0.3.2",
      "provenance": [],
      "collapsed_sections": [],
      "toc_visible": true
    },
    "kernelspec": {
      "name": "swift",
      "display_name": "Swift"
    }
  },
  "cells": [
    {
      "metadata": {
        "id": "ZloPIuRHn97X",
        "colab_type": "text"
      },
      "cell_type": "markdown",
      "source": [
        "##### Copyright 2018 The TensorFlow Authors. [Licensed under the Apache License, Version 2.0](#scrollTo=Afd8bu4xJOgh)."
      ]
    },
    {
      "metadata": {
        "id": "tNgCmfUvJNoF",
        "colab_type": "code",
        "colab": {}
      },
      "cell_type": "code",
      "source": [
        "#@title Licensed under the Apache License, Version 2.0 (the \"License\"); { display-mode: \"form\" }\n",
        "// Licensed under the Apache License, Version 2.0 (the \"License\");\n",
        "// you may not use this file except in compliance with the License.\n",
        "// You may obtain a copy of the License at\n",
        "//\n",
        "// https://www.apache.org/licenses/LICENSE-2.0\n",
        "//\n",
        "// Unless required by applicable law or agreed to in writing, software\n",
        "// distributed under the License is distributed on an \"AS IS\" BASIS,\n",
        "// WITHOUT WARRANTIES OR CONDITIONS OF ANY KIND, either express or implied.\n",
        "// See the License for the specific language governing permissions and\n",
        "// limitations under the License."
      ],
      "execution_count": 0,
      "outputs": []
    },
    {
      "metadata": {
        "id": "AlvdCHw5JGyx",
        "colab_type": "text"
      },
      "cell_type": "markdown",
      "source": [
        "<table class=\"tfo-notebook-buttons\" align=\"left\">\n",
        "  <td>\n",
        "    <a target=\"_blank\" href=\"https://www.tensorflow.org/swift/tutorials/custom_differentiation\"><img src=\"https://www.tensorflow.org/images/tf_logo_32px.png\" />View on TensorFlow.org</a>\n",
        "  </td>\n",
        "  <td>\n",
        "    <a target=\"_blank\" href=\"https://colab.research.google.com/github/tensorflow/swift/blob/master/docs/site/tutorials/custom_differentiation.ipynb\"><img src=\"https://www.tensorflow.org/images/colab_logo_32px.png\" />Run in Google Colab</a>\n",
        "  </td>\n",
        "  <td>\n",
        "    <a target=\"_blank\" href=\"https://github.com/tensorflow/swift/blob/master/docs/site/tutorials/custom_differentiation.ipynb\"><img src=\"https://www.tensorflow.org/images/GitHub-Mark-32px.png\" />View source on GitHub</a>\n",
        "  </td>\n",
        "</table>"
      ]
    },
    {
      "metadata": {
        "id": "c_1u7JSBMx3x",
        "colab_type": "text"
      },
      "cell_type": "markdown",
      "source": [
        "# Custom differentiation\n",
        "\n",
        "This tutorial will show you how to define your own custom derivatives, perform derivative surgery, and implement your own gradient checkpointing API in just 5 lines of Swift."
      ]
    },
    {
      "metadata": {
        "id": "gHuQo_kCTjFr",
        "colab_type": "text"
      },
      "cell_type": "markdown",
      "source": [
        "## Declaring custom derivatives"
      ]
    },
    {
      "metadata": {
        "id": "LP0gMw56TlvH",
        "colab_type": "text"
      },
      "cell_type": "markdown",
      "source": [
        "You can define custom derivatives for any Swift function that has differentiable parameters and results. By doing that, you can even import a C function and make it differentiable."
      ]
    },
    {
      "metadata": {
        "id": "j0a8prgZTlEO",
        "colab_type": "code",
        "outputId": "f0f65b8a-30ce-46bb-a6c5-efe3e8956e44",
        "colab": {
          "base_uri": "https://localhost:8080/",
          "height": 85
        }
      },
      "cell_type": "code",
      "source": [
        "import Glibc\n",
        "\n",
        "func sillyExp(_ x: Float) -> Float {\n",
        "    let 𝑒 = Float(M_E)\n",
        "    print(\"Taking 𝑒(\\(𝑒)) to the power of \\(x)!\")\n",
        "    return pow(𝑒, x)\n",
        "}\n",
        "\n",
        "@differentiating(sillyExp)\n",
        "func sillyDerivative(_ x: Float) -> (value: Float, pullback: (Float) -> Float) {\n",
        "    let y = sillyExp(x)\n",
        "    return (value: y, pullback: { v in v * y })\n",
        "}\n",
        "\n",
        "print(\"exp(3) =\", sillyExp(3))\n",
        "print(\"𝛁exp(3) =\", gradient(of: sillyExp)(3))"
      ],
      "execution_count": 0,
      "outputs": [
        {
          "output_type": "stream",
          "text": [
            "Taking 𝑒(2.7182817) to the power of 3.0!\r\n",
            "exp(3) = 20.085535\r\n",
            "Taking 𝑒(2.7182817) to the power of 3.0!\r\n",
            "𝛁exp(3) = 20.085535\r\n"
          ],
          "name": "stdout"
        }
      ]
    },
    {
      "metadata": {
        "id": "eQPX9r3R5OP-",
        "colab_type": "text"
      },
      "cell_type": "markdown",
      "source": [
        "## Stop derivatives from propagating\n",
        "\n",
        "Commonly known as \"stop gradient\" in machine learning use cases, method [`withoutDerivative()`](https://www.tensorflow.org/swift/api_docs/Protocols/Differentiable#/s:10TensorFlow14DifferentiablePAAE17withoutDerivativexyF) stops derivatives from propagating.\n",
        "\n",
        "Plus, `withoutDerivative()` can sometimes help the Swift compiler with identifying what not to differentiate and producing more efficient derivaitves. When it is detectable that the derivative of a function will always be zero, the Swift compiler will produce a warning. Explicitly using `.withoutDerivative()` silences that warning."
      ]
    },
    {
      "metadata": {
        "id": "ctRt6vBO5Wle",
        "colab_type": "code",
        "outputId": "49580e7d-0bde-4e78-b825-12444bf39767",
        "colab": {
          "base_uri": "https://localhost:8080/",
          "height": 68
        }
      },
      "cell_type": "code",
      "source": [
        "let x: Float = 2.0\n",
        "let y: Float = 3.0\n",
        "gradient(at: x, y) { x, y in\n",
        "    sin(sin(sin(x))) + cos(cos(cos(y))).withoutDerivative()\n",
        "}"
      ],
      "execution_count": 0,
      "outputs": [
        {
          "output_type": "execute_result",
          "data": {
            "text/plain": [
              "▿ 2 elements\n",
              "  - .0 : -0.18009877\n",
              "  - .1 : 0.0\n"
            ]
          },
          "metadata": {
            "tags": []
          },
          "execution_count": 3
        }
      ]
    },
    {
      "metadata": {
        "id": "EeV3wXQ79WS2",
        "colab_type": "text"
      },
      "cell_type": "markdown",
      "source": [
        "## Derivative surgery\n",
        "\n",
        "Method [`withGradient(_:)`](https://www.tensorflow.org/swift/api_docs/Protocols/Differentiable#/s:10TensorFlow14DifferentiablePAAE12withGradientyxy15CotangentVectorQzzcF) makes arbitrary operations (including mutation) run on the gradient at a value during the enclosing function’s backpropagation. \n",
        "\n",
        "Use this to debug or make experimental tweaks to backpropagation."
      ]
    },
    {
      "metadata": {
        "id": "AHV0ryTiD6j8",
        "colab_type": "text"
      },
      "cell_type": "markdown",
      "source": [
        "### It works anywhere"
      ]
    },
    {
      "metadata": {
        "id": "9zKSeUjTmbxq",
        "colab_type": "text"
      },
      "cell_type": "markdown",
      "source": [
        "All differentiation APIs provided by the standard library are defined generically over all types that conform to the `Differentiable` protocol: `Float`, `Double`, `Float80`, SIMD vectors, and even your own types!\n",
        "\n",
        "Read technical document [Differentiable Types](https://github.com/tensorflow/swift/blob/master/docs/DifferentiableTypes.md) for more insights on the `Differentiable` protocol."
      ]
    },
    {
      "metadata": {
        "id": "eKne7szjD8lr",
        "colab_type": "code",
        "outputId": "31bba009-3758-4179-92dc-f080dcba8421",
        "colab": {
          "base_uri": "https://localhost:8080/",
          "height": 68
        }
      },
      "cell_type": "code",
      "source": [
        "var x: Float = 30\n",
        "x.gradient { x -> Float in\n",
        "    // Print the partial derivative with respect to the result of `sin(x)`.\n",
        "    let a = sin(x).withGradient { print(\"∂+/∂sin = \\($0)\") } \n",
        "    // Force the partial derivative with respect to `x` to be `0.5`.\n",
        "    let b = log(x.withGradient { (dx: inout Float) in\n",
        "        print(\"∂log/∂x = \\(dx), but rewritten to 0.5\");\n",
        "        dx = 0.5\n",
        "    })\n",
        "    return a + b\n",
        "}"
      ],
      "execution_count": 0,
      "outputs": [
        {
          "output_type": "stream",
          "text": [
            "∂log/∂x = 0.033333335, but rewritten to 0.5\r\n",
            "∂+/∂sin = 1.0\r\n"
          ],
          "name": "stdout"
        },
        {
          "output_type": "execute_result",
          "data": {
            "text/plain": [
              "0.65425146\n"
            ]
          },
          "metadata": {
            "tags": []
          },
          "execution_count": 4
        }
      ]
    },
    {
      "metadata": {
        "id": "vmw0gkqlD9xf",
        "colab_type": "text"
      },
      "cell_type": "markdown",
      "source": [
        "### Use it in a neural network module"
      ]
    },
    {
      "metadata": {
        "id": "JCf_OplsWzhW",
        "colab_type": "text"
      },
      "cell_type": "markdown",
      "source": [
        "Just like how we used it in a simple `Float` function, we can use it in any numerical application, like the following neural network built using the [Swift for TensorFlow Deep Learning Library](https://github.com/tensorflow/swift-apis)."
      ]
    },
    {
      "metadata": {
        "id": "fnSeAbs9-hf3",
        "colab_type": "code",
        "outputId": "80ea60b8-e17c-47d5-9364-c8768c3e377e",
        "colab": {
          "base_uri": "https://localhost:8080/",
          "height": 547
        }
      },
      "cell_type": "code",
      "source": [
        "import TensorFlow\n",
        "\n",
        "struct MLP: Layer {\n",
        "    var layer1 = Dense<Float>(inputSize: 2, outputSize: 10, activation: relu)\n",
        "    var layer2 = Dense<Float>(inputSize: 10, outputSize: 1, activation: relu)\n",
        "    \n",
        "    @differentiable\n",
        "    func applied(to input: Tensor<Float>, in context: Context) -> Tensor<Float> {\n",
        "        let h0 = layer1.applied(to: input, in: context).withGradient { print(\"∂L/∂layer1 =\", $0) }\n",
        "        return layer2.applied(to: h0, in: context)\n",
        "    }\n",
        "}\n",
        "\n",
        "let optimizer = SGD<MLP, Float>(learningRate: 0.02)\n",
        "var classifier = MLP()\n",
        "let context = Context(learningPhase: .training)\n",
        "\n",
        "let x: Tensor<Float> = [[0, 0], [0, 1], [1, 0], [1, 1]]\n",
        "let y: Tensor<Float> = [0, 1, 1, 0]\n",
        "\n",
        "for _ in 0..<10 {\n",
        "    let 𝛁model = classifier.gradient { classifier -> Tensor<Float> in\n",
        "        let ŷ = classifier.applied(to: x, in: context).withGradient { print(\"∂L/∂ŷ =\", $0) }\n",
        "        let loss = (ŷ - y).squared().mean()\n",
        "        print(\"Loss: \\(loss)\")\n",
        "        return loss\n",
        "    }\n",
        "    optimizer.update(&classifier.allDifferentiableVariables, along: 𝛁model)\n",
        "}"
      ],
      "execution_count": 0,
      "outputs": [
        {
          "output_type": "stream",
          "text": [
            "Loss: 0.33426732\n",
            "∂L/∂ŷ = [[-0.25], [-0.078446716], [-0.12092987], [0.031454742]]\n",
            "∂L/∂layer1 = [[0.0, 0.0, 0.0, 0.0, 0.0, 0.0, 0.0, 0.0, 0.0, 0.0], [-0.03357383, -0.027463656, 0.037523113, -0.002631738, -0.030937709, -0.014981618, -0.02623924, -0.026290288, 0.027446445, 0.01046889], [-0.051755875, -0.042336714, 0.057843916, -0.004056967, -0.047692157, -0.023094976, -0.040449213, -0.040527906, 0.042310182, 0.016138362], [0.013462082, 0.0110120885, -0.015045625, 0.0010552468, 0.012405078, 0.006007172, 0.010521135, 0.010541604, -0.011005187, -0.0041977055]]\n",
            "Loss: 0.33176333\n",
            "∂L/∂ŷ = [[-0.24746439], [-0.07523262], [-0.11674469], [0.03514868]]\n",
            "∂L/∂layer1 = [[-0.10602461, -0.08665162, 0.11829134, -0.008301959, -0.09804342, -0.04726032, -0.08280819, -0.082981184, 0.08658129, 0.032860693], [-0.032232955, -0.0263433, 0.035962217, -0.0025239112, -0.029806564, -0.014367796, -0.025174841, -0.025227433, 0.026321916, 0.009990108], [-0.050018553, -0.040879082, 0.05580555, -0.003916562, -0.046253316, -0.022295699, -0.039065886, -0.0391475, 0.0408459, 0.015502479], [0.015059238, 0.01230759, -0.016801547, 0.0011791714, 0.013925628, 0.006712634, 0.011761686, 0.011786258, -0.0122976, -0.0046673785]]\n",
            "Loss: 0.3263967\n",
            "∂L/∂ŷ = [[-0.24090183], [-0.068522125], [-0.10922298], [0.04169026]]\n",
            "∂L/∂layer1 = [[-0.10332261, -0.08436972, 0.115082964, -0.008081798, -0.09583634, -0.046007015, -0.08064418, -0.08082552, 0.08428522, 0.031835504], [-0.029389087, -0.023998126, 0.032734204, -0.002298787, -0.027259693, -0.013086237, -0.022938434, -0.022990014, 0.02397409, 0.009055292], [-0.046845652, -0.038252562, 0.052177705, -0.0036642232, -0.043451436, -0.020859215, -0.036563434, -0.03664565, 0.03821425, 0.014433966], [0.01788092, 0.01460095, -0.019916158, 0.0013986289, 0.016585354, 0.0079619335, 0.013956212, 0.013987594, -0.014586327, -0.005509425]]\n",
            "Loss: 0.32171223\n",
            "∂L/∂ŷ = [[-0.23473385], [-0.062339008], [-0.102276154], [0.047599167]]\n",
            "∂L/∂layer1 = [[-0.10078285, -0.08222727, 0.11207248, -0.007874874, -0.09368697, -0.044829067, -0.078606784, -0.07879931, 0.082127206, 0.030880556], [-0.026765218, -0.021837354, 0.029763442, -0.0020913552, -0.024880743, -0.011905396, -0.02087585, -0.02092698, 0.021810781, 0.008201047], [-0.04391221, -0.035827335, 0.04883123, -0.0034311705, -0.040820457, -0.019532524, -0.03424985, -0.034333736, 0.035783738, 0.013455003], [0.020436676, 0.016673988, -0.02272598, 0.0015968615, 0.018997777, 0.009090407, 0.015939828, 0.015978869, -0.016653698, -0.006261938]]\n",
            "Loss: 0.31760892\n",
            "∂L/∂ŷ = [[-0.22893232], [-0.056644887], [-0.0958622], [0.0529218]]\n",
            "∂L/∂layer1 = [[-0.09839373, -0.080213994, 0.109245166, -0.007680244, -0.0915977, -0.0437211, -0.0766867, -0.076893255, 0.0800974, 0.02998989], [-0.024345629, -0.019847406, 0.02703061, -0.0019003282, -0.022664083, -0.010817943, -0.018974645, -0.019025752, 0.019818557, 0.00742042], [-0.041200995, -0.033588488, 0.045744885, -0.0032159945, -0.038355254, -0.018307598, -0.03211148, -0.03219797, 0.033539664, 0.0125578465], [0.02274547, 0.0185429, -0.025253974, 0.0017754257, 0.021174446, 0.010106915, 0.017727504, 0.01777525, -0.018515948, -0.0069327]]\n",
            "Loss: 0.3140006\n",
            "∂L/∂ŷ = [[-0.22347087], [-0.051403634], [-0.08994151], [0.057702184]]\n",
            "∂L/∂layer1 = [[-0.09614439, -0.07832037, 0.106587306, -0.0074970224, -0.08956989, -0.04267808, -0.07487536, -0.07509866, 0.07818659, 0.029158076], [-0.022115506, -0.018015554, 0.024517624, -0.0017244942, -0.020603213, -0.009816977, -0.017223122, -0.017274486, 0.017984781, 0.0067070536], [-0.038695745, -0.031522017, 0.04289876, -0.0030173666, -0.03604967, -0.017176874, -0.030135486, -0.030225359, 0.03146817, 0.011735407], [0.024825346, 0.020223022, -0.027521798, 0.0019357986, 0.02312775, 0.011019863, 0.019333491, 0.01939115, -0.020188477, -0.0075288774]]\n",
            "Loss: 0.3108136\n",
            "∂L/∂ŷ = [[-0.21832475], [-0.046581082], [-0.084476836], [0.061981946]]\n",
            "∂L/∂layer1 = [[-0.094024695, -0.07653748, 0.10408614, -0.0073243803, -0.08760406, -0.041695286, -0.07316483, -0.07340741, 0.076386094, 0.02838015], [-0.020060813, -0.016329797, 0.022207491, -0.0015627067, -0.018690927, -0.008895975, -0.015610217, -0.015661974, 0.016297497, 0.0060551], [-0.036381166, -0.029614802, 0.04027426, -0.0028340372, -0.033896815, -0.01613324, -0.028309815, -0.028403677, 0.029556224, 0.010981189], [0.026693417, 0.021728832, -0.02954984, 0.0020793765, 0.024870614, 0.011837205, 0.020771343, 0.020840213, -0.021685854, -0.008057066]]\n",
            "Loss: 0.30798542\n",
            "∂L/∂ŷ = [[-0.2134709], [-0.042145163], [-0.07943327], [0.06580055]]\n",
            "∂L/∂layer1 = [[-0.092025176, -0.07485708, 0.10172984, -0.007161543, -0.08570006, -0.040768307, -0.07154774, -0.07181193, 0.07468786, 0.02765159], [-0.018168358, -0.0147788925, 0.020084333, -0.00141389, -0.016919604, -0.00804881, -0.014125537, -0.014177696, 0.014745485, 0.0054592015], [-0.034242887, -0.027854579, 0.03785403, -0.0026648352, -0.031889293, -0.015170028, -0.026623163, -0.02672147, 0.027791614, 0.010289253], [0.028365958, 0.023074042, -0.031357337, 0.0022074832, 0.026416298, 0.012566475, 0.022053968, 0.022135403, -0.023021882, -0.008523362]]\n",
            "Loss: 0.30546278\n",
            "∂L/∂ŷ = [[-0.20888776], [-0.03806588], [-0.07477814], [0.069194704]]\n",
            "∂L/∂layer1 = [[-0.09013698, -0.07327145, 0.099507414, -0.007007787, -0.08385716, -0.039893024, -0.07001727, -0.070305154, 0.07308434, 0.026968256], [-0.016425777, -0.013352349, 0.018133363, -0.0012770379, -0.015281396, -0.007269756, -0.012759335, -0.012811797, 0.013318251, 0.0049144593], [-0.03226745, -0.02622989, 0.035621904, -0.0025086643, -0.030019386, -0.014281, -0.025064949, -0.025168007, 0.026162906, 0.009654161], [0.02985815, 0.024271391, -0.032962132, 0.0023213506, 0.027777938, 0.013214685, 0.023193432, 0.023288796, -0.024209408, -0.008933316]]\n",
            "Loss: 0.30320063\n",
            "∂L/∂ŷ = [[-0.20455518], [-0.0343152], [-0.07048094], [0.07219905]]\n",
            "∂L/∂layer1 = [[-0.08835188, -0.07177346, 0.09740865, -0.0068624374, -0.082074195, -0.039065596, -0.068567075, -0.06888049, 0.07156848, 0.02632637], [-0.014821488, -0.012040373, 0.016340809, -0.0011512097, -0.013768374, -0.0065534576, -0.011502485, -0.011555062, 0.012005987, 0.0044163857], [-0.03044227, -0.024730057, 0.033562843, -0.0023645016, -0.028279249, -0.013460329, -0.023625273, -0.023733262, 0.02465943, 0.0090709375], [0.031184357, 0.025332898, -0.034381, 0.0024221407, 0.028968606, 0.01378845, 0.024201185, 0.024311805, -0.025260549, -0.009292059]]\n"
          ],
          "name": "stdout"
        }
      ]
    },
    {
      "metadata": {
        "id": "TzLfTj28gEUD",
        "colab_type": "text"
      },
      "cell_type": "markdown",
      "source": [
        "## Recomputing activations during backpropagation to save memory (checkpointing)\n",
        "\n",
        "Checkpointing is a traditional technique in reverse-mode automatic differentiation to save memory when computing derivatives by making large intermediate values in the original computation not be saved in memory for backpropagation, but instead recomputed as needed during backpropagation. This technique has been realized in modern deep learning libraries as well. In Swift, API [`withRecomputationInPullbacks(_:)`](https://www.tensorflow.org/swift/api_docs/Protocols/Differentiable#/s:10TensorFlow14DifferentiablePAAE28withRecomputationInPullbacksyqd__qd__xcAaBRd__lF) makes you able to control what to recompute during backpropagation, and it is available on all `Differentiable` types.\n",
        "\n",
        "But today, let us learn how to define our own gradient checkpointing APIs from scratch, in just a few lines of code."
      ]
    },
    {
      "metadata": {
        "id": "5cZe-JbjwMfZ",
        "colab_type": "text"
      },
      "cell_type": "markdown",
      "source": [
        "### My gradient checkpointing API"
      ]
    },
    {
      "metadata": {
        "id": "606ob1dn2v77",
        "colab_type": "text"
      },
      "cell_type": "markdown",
      "source": [
        "We can define our own gradient checkpointing API, `makeRecomputedInGradient(_:)`, in terms of standard library function [`differentiableFunction(from:)`](https://www.tensorflow.org/swift/api_docs/Functions#/s:10TensorFlow22differentiableFunction4fromq0_x_q_tcq0_5value_15CotangentVectorQz_AEQy_tAEQy0_c8pullbacktx_q_tc_tAA14DifferentiableRzAaJR_AaJR0_r1_lF), which is a shorthand for creating a differentiable function directly from a derivative function (also called a \"vector-Jacobian products (VJP) function\").\n",
        "\n",
        "As we have seen before, the derivative function returns a tuple of the original function's result and a pullback closure. We return `original(x)` in `value:`, and call `pullback(at:in:)` on `original` to evaluate the original function again and get a pullback."
      ]
    },
    {
      "metadata": {
        "id": "b1uU3tcVwl_1",
        "colab_type": "code",
        "colab": {}
      },
      "cell_type": "code",
      "source": [
        "/// Given a differentiable function, returns the same differentiable function except when\n",
        "/// derivatives of this function is being computed, values in the original function that are needed\n",
        "/// for computing the derivatives will be recomputed, instead of being captured by the differential\n",
        "/// or pullback.\n",
        "///\n",
        "/// - Parameter body: The body of the differentiable function.\n",
        "/// - Returns: The same differentiable function whose derivatives, when computed, will recompute\n",
        "///   some values from the original function.\n",
        "func makeRecomputedInGradient<T: Differentiable, U: Differentiable>(\n",
        "    _ original: @escaping @differentiable (T) -> U\n",
        ") -> @differentiable (T) -> U {\n",
        "    return differentiableFunction { x in\n",
        "        (value: original(x), pullback: { v in pullback(at: x, in: original)(v) })\n",
        "    }\n",
        "}"
      ],
      "execution_count": 0,
      "outputs": []
    },
    {
      "metadata": {
        "id": "UbeKj7NEF7zz",
        "colab_type": "text"
      },
      "cell_type": "markdown",
      "source": [
        "### Verify it works"
      ]
    },
    {
      "metadata": {
        "id": "oee8SXital45",
        "colab_type": "code",
        "outputId": "f4e7bd68-606a-46d6-96f4-c5294d8e302a",
        "colab": {
          "base_uri": "https://localhost:8080/",
          "height": 102
        }
      },
      "cell_type": "code",
      "source": [
        "let input: Float = 10.0\n",
        "print(\"Running original computation...\")\n",
        "\n",
        "// Differentiable multiplication with checkpointing.\n",
        "let square = makeRecomputedInGradient { (x: Float) -> Float in\n",
        "    print(\"  Computing square...\")\n",
        "    return x * x\n",
        "}\n",
        "\n",
        "// Differentiate `f(x) = (cos(x))^2`.\n",
        "let (output, backprop) = input.valueWithPullback { input -> Float in\n",
        "    return square(cos(input))\n",
        "}\n",
        "print(\"Running backpropagation...\")\n",
        "let grad = backprop(1)\n",
        "print(\"Gradient = \\(grad)\")"
      ],
      "execution_count": 0,
      "outputs": [
        {
          "output_type": "stream",
          "text": [
            "Running original computation...\r\n",
            "  Computing square...\r\n",
            "Running backpropagation...\r\n",
            "  Computing square...\r\n",
            "Gradient = -0.9129453\r\n"
          ],
          "name": "stdout"
        }
      ]
    },
    {
      "metadata": {
        "id": "7SxWsSUqF9Bh",
        "colab_type": "text"
      },
      "cell_type": "markdown",
      "source": [
        "### Extend it to neural network modules\n",
        "\n",
        "In this example, we define a simple convolutional neural network.\n",
        "\n",
        "```swift\n",
        "struct Model: Layer {\n",
        "    var conv = Conv2D<Float>(filterShape: (5, 5, 3, 6))\n",
        "    var maxPool = MaxPool2D<Float>(poolSize: (2, 2), strides: (2, 2))\n",
        "    var flatten = Flatten<Float>()\n",
        "    var dense = Dense<Float>(inputSize: 36 * 6, outputSize: 10)\n",
        "\n",
        "    @differentiable\n",
        "    func applied(to input: Tensor<Float>, in context: Context) -> Tensor<Float> {\n",
        "        return input.sequenced(in: context, through: conv, maxPool, flatten, dense)\n",
        "    }\n",
        "}\n",
        "```\n",
        "\n",
        "We want to make activations in the convolution layer (`conv`) be recomputed during backpropagation. However, using `makeRecomputedInGradient(_:)` could make the resulting code look cumbersome, especially when we want to apply layers sequentially using [`sequenced(in:through:_:_:_:_:)`](https://www.tensorflow.org/swift/api_docs/Protocols/Differentiable#/s:10TensorFlow14DifferentiablePAAE9sequenced2in7through____6OutputQyd_3_AA7ContextC_qd__qd_0_qd_1_qd_2_qd_3_t5InputQyd__RszAA5LayerRd__AaMRd_0_AaMRd_1_AaMRd_2_AaMRd_3_AKQyd_0_AGRtd__AKQyd_1_AGRtd_0_AKQyd_2_AGRtd_1_AKQyd_3_AGRtd_2_r3_lF).\n",
        "\n",
        "```swift\n",
        "input.sequenced(in: context, through: conv, maxPool, flatten, dense)\n",
        "```\n",
        "\n",
        "So, why don't we define a **special layer type** that wraps a layer and makes its activations be recomputed during backpropagation? Let's do it."
      ]
    },
    {
      "metadata": {
        "id": "ZP86M5RjP3OG",
        "colab_type": "text"
      },
      "cell_type": "markdown",
      "source": [
        "First, we define a `makeRecomputedInGradient(_:)` function that takes a binary function."
      ]
    },
    {
      "metadata": {
        "id": "bEm-n5H0QB8s",
        "colab_type": "code",
        "colab": {}
      },
      "cell_type": "code",
      "source": [
        "// Same as the previous `makeRecomputedInGradient(_:)`, except it's for binary functions.\n",
        "func makeRecomputedInGradient<T: Differentiable, U: Differentiable, V: Differentiable>(\n",
        "    _ original: @escaping @differentiable (T, U) -> V\n",
        ") -> @differentiable (T, U) -> V {\n",
        "    return differentiableFunction { x, y in\n",
        "        (value: original(x, y), pullback: { v in pullback(at: x, y, in: original)(v) })\n",
        "    }\n",
        "}"
      ],
      "execution_count": 0,
      "outputs": []
    },
    {
      "metadata": {
        "id": "YU6DgqXxP5Nl",
        "colab_type": "text"
      },
      "cell_type": "markdown",
      "source": [
        "Then, we define a generic layer `ActivationDiscarding<Wrapped>`."
      ]
    },
    {
      "metadata": {
        "id": "ao1r_lIPGeOl",
        "colab_type": "code",
        "colab": {}
      },
      "cell_type": "code",
      "source": [
        "/// A layer wrapper that makes the underlying layer's activations be discarded during application\n",
        "/// and recomputed during backpropagation.\n",
        "struct ActivationDiscarding<Wrapped: Layer>: Layer \n",
        "    where Wrapped.AllDifferentiableVariables == Wrapped.CotangentVector {\n",
        "    /// The wrapped layer.\n",
        "    var wrapped: Wrapped\n",
        "\n",
        "    @differentiable\n",
        "    func applied(to input: Wrapped.Input, in context: Context) -> Wrapped.Output {\n",
        "        let apply = makeRecomputedInGradient { (layer: Wrapped, input: Input) -> Wrapped.Output in\n",
        "            print(\"    Applying \\(Wrapped.self) layer...\")\n",
        "            return layer.applied(to: input, in: context)\n",
        "        }\n",
        "        return apply(wrapped, input)\n",
        "    }\n",
        "}"
      ],
      "execution_count": 0,
      "outputs": []
    },
    {
      "metadata": {
        "id": "HqPXwwuTRjmz",
        "colab_type": "text"
      },
      "cell_type": "markdown",
      "source": [
        "Finally, we can add a method on all layers that returns the same layer except its activations are discarded during application and recomputeed during backpropagation."
      ]
    },
    {
      "metadata": {
        "id": "PGgkNnNNR1th",
        "colab_type": "code",
        "colab": {}
      },
      "cell_type": "code",
      "source": [
        "extension Layer where AllDifferentiableVariables == CotangentVector {\n",
        "    func discardingActivations() -> ActivationDiscarding<Self> {\n",
        "        return ActivationDiscarding(wrapped: self)\n",
        "    }\n",
        "}"
      ],
      "execution_count": 0,
      "outputs": []
    },
    {
      "metadata": {
        "id": "8PP-NZ9XU5_n",
        "colab_type": "text"
      },
      "cell_type": "markdown",
      "source": [
        "Back in the model, all we have to change is to wrap the convolution layer into the activation-recomputing layer.\n",
        "\n",
        "```swift\n",
        "var conv = Conv2D<Float>(filterShape: (5, 5, 3, 6)).discardingActivations()\n",
        "```"
      ]
    },
    {
      "metadata": {
        "id": "bCwNPtCfSbGi",
        "colab_type": "text"
      },
      "cell_type": "markdown",
      "source": [
        "Now, simply use it in the model!"
      ]
    },
    {
      "metadata": {
        "id": "gsWGwFjOJ3Md",
        "colab_type": "code",
        "colab": {}
      },
      "cell_type": "code",
      "source": [
        "struct Model: Layer {\n",
        "    var conv = Conv2D<Float>(filterShape: (5, 5, 3, 6)).discardingActivations()\n",
        "    var maxPool = MaxPool2D<Float>(poolSize: (2, 2), strides: (2, 2))\n",
        "    var flatten = Flatten<Float>()\n",
        "    var dense = Dense<Float>(inputSize: 36 * 6, outputSize: 10)\n",
        "\n",
        "    @differentiable\n",
        "    func applied(to input: Tensor<Float>, in context: Context) -> Tensor<Float> {\n",
        "        return input.sequenced(in: context, through: conv, maxPool, flatten, dense)\n",
        "    }\n",
        "}"
      ],
      "execution_count": 0,
      "outputs": []
    },
    {
      "metadata": {
        "id": "dmFxciU6VYdF",
        "colab_type": "text"
      },
      "cell_type": "markdown",
      "source": [
        "When we run a training loop, we can see that the convolution layer's activations are computed twice: once during layer application, and once during backpropagation."
      ]
    },
    {
      "metadata": {
        "id": "-x1nYu0uVSPn",
        "colab_type": "code",
        "outputId": "fcdc6e19-2ffa-49f3-908f-e5823a485f9d",
        "colab": {
          "base_uri": "https://localhost:8080/",
          "height": 527
        }
      },
      "cell_type": "code",
      "source": [
        "// Use random training data.\n",
        "let x = Tensor<Float>(randomNormal: [10, 16, 16, 3])\n",
        "let y = Tensor<Int32>(rangeFrom: 0, to: 10, stride: 1)\n",
        "\n",
        "var model = Model()\n",
        "let opt = SGD<Model, Float>()\n",
        "let context = Context(learningPhase: .training)\n",
        "\n",
        "for i in 1...5 {\n",
        "    print(\"Starting training step \\(i)\")\n",
        "    print(\"  Running original computation...\")\n",
        "    let (logits, backprop) = model.appliedForBackpropagation(to: x, in: context)\n",
        "    let (loss, dL_dŷ) = logits.valueWithGradient { logits in\n",
        "        softmaxCrossEntropy(logits: logits, labels: y)\n",
        "    }\n",
        "    print(\"  Loss: \\(loss)\")\n",
        "    print(\"  Running backpropagation...\")\n",
        "    let (dL_dθ, _) = backprop(dL_dŷ)\n",
        "    \n",
        "    opt.update(&model.allDifferentiableVariables, along: dL_dθ)\n",
        "}"
      ],
      "execution_count": 0,
      "outputs": [
        {
          "output_type": "stream",
          "text": [
            "Starting training step 1\r\n",
            "  Running original computation...\r\n",
            "    Applying Conv2D<Float> layer...\n",
            "  Loss: 3.6660562\n",
            "  Running backpropagation...\n",
            "    Applying Conv2D<Float> layer...\n",
            "Starting training step 2\n",
            "  Running original computation...\n",
            "    Applying Conv2D<Float> layer...\n",
            "  Loss: 3.1203392\n",
            "  Running backpropagation...\n",
            "    Applying Conv2D<Float> layer...\n",
            "Starting training step 3\n",
            "  Running original computation...\n",
            "    Applying Conv2D<Float> layer...\n",
            "  Loss: 2.7324893\n",
            "  Running backpropagation...\n",
            "    Applying Conv2D<Float> layer...\n",
            "Starting training step 4\n",
            "  Running original computation...\n",
            "    Applying Conv2D<Float> layer...\n",
            "  Loss: 2.4246051\n",
            "  Running backpropagation...\n",
            "    Applying Conv2D<Float> layer...\n",
            "Starting training step 5\n",
            "  Running original computation...\n",
            "    Applying Conv2D<Float> layer...\n",
            "  Loss: 2.1656146\n",
            "  Running backpropagation...\n",
            "    Applying Conv2D<Float> layer...\n"
          ],
          "name": "stdout"
        }
      ]
    },
    {
      "metadata": {
        "id": "gzRaZLa_WX0u",
        "colab_type": "text"
      },
      "cell_type": "markdown",
      "source": [
        "Just like that, it is super easy to define generic differentiable programming libraries for different domains."
      ]
    }
  ]
}
