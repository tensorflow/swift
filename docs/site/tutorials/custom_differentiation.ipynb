{
 "cells": [
  {
   "cell_type": "markdown",
   "metadata": {
    "colab_type": "text",
    "id": "ZloPIuRHn97X"
   },
   "source": [
    "##### Copyright 2018 The TensorFlow Authors. [Licensed under the Apache License, Version 2.0](#scrollTo=Afd8bu4xJOgh)."
   ]
  },
  {
   "cell_type": "code",
   "execution_count": 0,
   "metadata": {
    "colab": {},
    "colab_type": "code",
    "id": "tNgCmfUvJNoF"
   },
   "outputs": [],
   "source": [
    "#@title Licensed under the Apache License, Version 2.0 (the \"License\"); { display-mode: \"form\" }\n",
    "// Licensed under the Apache License, Version 2.0 (the \"License\");\n",
    "// you may not use this file except in compliance with the License.\n",
    "// You may obtain a copy of the License at\n",
    "//\n",
    "// https://www.apache.org/licenses/LICENSE-2.0\n",
    "//\n",
    "// Unless required by applicable law or agreed to in writing, software\n",
    "// distributed under the License is distributed on an \"AS IS\" BASIS,\n",
    "// WITHOUT WARRANTIES OR CONDITIONS OF ANY KIND, either express or implied.\n",
    "// See the License for the specific language governing permissions and\n",
    "// limitations under the License."
   ]
  },
  {
   "cell_type": "markdown",
   "metadata": {
    "colab_type": "text",
    "id": "AlvdCHw5JGyx"
   },
   "source": [
    "<table class=\"tfo-notebook-buttons\" align=\"left\">\n",
    "  <td>\n",
    "    <a target=\"_blank\" href=\"https://www.tensorflow.org/swift/tutorials/custom_differentiation\"><img src=\"https://www.tensorflow.org/images/tf_logo_32px.png\" />View on TensorFlow.org</a>\n",
    "  </td>\n",
    "  <td>\n",
    "    <a target=\"_blank\" href=\"https://colab.research.google.com/github/tensorflow/swift/blob/master/docs/site/tutorials/custom_differentiation.ipynb\"><img src=\"https://www.tensorflow.org/images/colab_logo_32px.png\" />Run in Google Colab</a>\n",
    "  </td>\n",
    "  <td>\n",
    "    <a target=\"_blank\" href=\"https://github.com/tensorflow/swift/blob/master/docs/site/tutorials/custom_differentiation.ipynb\"><img src=\"https://www.tensorflow.org/images/GitHub-Mark-32px.png\" />View source on GitHub</a>\n",
    "  </td>\n",
    "</table>"
   ]
  },
  {
   "cell_type": "markdown",
   "metadata": {
    "colab_type": "text",
    "id": "c_1u7JSBMx3x"
   },
   "source": [
    "# Custom differentiation\n",
    "\n",
    "This tutorial will show you how to define your own custom derivatives, perform derivative surgery, and implement your own gradient checkpointing API in just 5 lines of Swift."
   ]
  },
  {
   "cell_type": "markdown",
   "metadata": {
    "colab_type": "text",
    "id": "gHuQo_kCTjFr"
   },
   "source": [
    "## Declaring custom derivatives"
   ]
  },
  {
   "cell_type": "markdown",
   "metadata": {
    "colab_type": "text",
    "id": "LP0gMw56TlvH"
   },
   "source": [
    "You can define custom derivatives for any Swift function that has differentiable parameters and results. By doing that, you can even import a C function and make it differentiable."
   ]
  },
  {
   "cell_type": "code",
   "execution_count": 1,
   "metadata": {
    "colab": {
     "base_uri": "https://localhost:8080/",
     "height": 85
    },
    "colab_type": "code",
    "id": "j0a8prgZTlEO",
    "outputId": "f0f65b8a-30ce-46bb-a6c5-efe3e8956e44"
   },
   "outputs": [
    {
     "name": "stdout",
     "output_type": "stream",
     "text": [
      "Taking 𝑒(2.7182817) to the power of 3.0!\r\n",
      "exp(3) = 20.085535\r\n",
      "Taking 𝑒(2.7182817) to the power of 3.0!\r\n",
      "𝛁exp(3) = 20.085535\r\n"
     ]
    }
   ],
   "source": [
    "import Glibc\n",
    "\n",
    "func sillyExp(_ x: Float) -> Float {\n",
    "    let 𝑒 = Float(M_E)\n",
    "    print(\"Taking 𝑒(\\(𝑒)) to the power of \\(x)!\")\n",
    "    return pow(𝑒, x)\n",
    "}\n",
    "\n",
    "@differentiating(sillyExp)\n",
    "func sillyDerivative(_ x: Float) -> (value: Float, pullback: (Float) -> Float) {\n",
    "    let y = sillyExp(x)\n",
    "    return (value: y, pullback: { v in v * y })\n",
    "}\n",
    "\n",
    "print(\"exp(3) =\", sillyExp(3))\n",
    "print(\"𝛁exp(3) =\", gradient(of: sillyExp)(3))"
   ]
  },
  {
   "cell_type": "markdown",
   "metadata": {
    "colab_type": "text",
    "id": "eQPX9r3R5OP-"
   },
   "source": [
    "## Stop derivatives from propagating\n",
    "\n",
    "Commonly known as \"stop gradient\" in machine learning use cases, method [`withoutDerivative()`](https://www.tensorflow.org/swift/api_docs/Protocols/Differentiable#/s:10TensorFlow14DifferentiablePAAE17withoutDerivativexyF) stops derivatives from propagating.\n",
    "\n",
    "Plus, `withoutDerivative()` can sometimes help the Swift compiler with identifying what not to differentiate and producing more efficient derivaitves. When it is detectable that the derivative of a function will always be zero, the Swift compiler will produce a warning. Explicitly using `.withoutDerivative()` silences that warning."
   ]
  },
  {
   "cell_type": "code",
   "execution_count": 2,
   "metadata": {
    "colab": {
     "base_uri": "https://localhost:8080/",
     "height": 68
    },
    "colab_type": "code",
    "id": "ctRt6vBO5Wle",
    "outputId": "49580e7d-0bde-4e78-b825-12444bf39767"
   },
   "outputs": [
    {
     "data": {
      "text/plain": [
       "▿ 2 elements\n",
       "  - .0 : -0.18009877\n",
       "  - .1 : 0.0\n"
      ]
     },
     "execution_count": 2,
     "metadata": {},
     "output_type": "execute_result"
    }
   ],
   "source": [
    "let x: Float = 2.0\n",
    "let y: Float = 3.0\n",
    "gradient(at: x, y) { x, y in\n",
    "    sin(sin(sin(x))) + cos(cos(cos(y))).withoutDerivative()\n",
    "}"
   ]
  },
  {
   "cell_type": "markdown",
   "metadata": {
    "colab_type": "text",
    "id": "EeV3wXQ79WS2"
   },
   "source": [
    "## Derivative surgery\n",
    "\n",
    "Method [`withGradient(_:)`](https://www.tensorflow.org/swift/api_docs/Protocols/Differentiable#/s:10TensorFlow14DifferentiablePAAE12withGradientyxy15CotangentVectorQzzcF) makes arbitrary operations (including mutation) run on the gradient at a value during the enclosing function’s backpropagation. \n",
    "\n",
    "Use this to debug or make experimental tweaks to backpropagation."
   ]
  },
  {
   "cell_type": "markdown",
   "metadata": {
    "colab_type": "text",
    "id": "AHV0ryTiD6j8"
   },
   "source": [
    "### It works anywhere"
   ]
  },
  {
   "cell_type": "markdown",
   "metadata": {
    "colab_type": "text",
    "id": "9zKSeUjTmbxq"
   },
   "source": [
    "All differentiation APIs provided by the standard library are defined generically over all types that conform to the `Differentiable` protocol: `Float`, `Double`, `Float80`, SIMD vectors, and even your own types!\n",
    "\n",
    "Read technical document [Differentiable Types](https://github.com/tensorflow/swift/blob/master/docs/DifferentiableTypes.md) for more insights on the `Differentiable` protocol."
   ]
  },
  {
   "cell_type": "code",
   "execution_count": 3,
   "metadata": {
    "colab": {
     "base_uri": "https://localhost:8080/",
     "height": 68
    },
    "colab_type": "code",
    "id": "eKne7szjD8lr",
    "outputId": "31bba009-3758-4179-92dc-f080dcba8421"
   },
   "outputs": [
    {
     "name": "stdout",
     "output_type": "stream",
     "text": [
      "∂log/∂x = 0.033333335, but rewritten to 0.5\r\n",
      "∂+/∂sin = 1.0\r\n"
     ]
    },
    {
     "data": {
      "text/plain": [
       "0.65425146\n"
      ]
     },
     "execution_count": 3,
     "metadata": {},
     "output_type": "execute_result"
    }
   ],
   "source": [
    "var x: Float = 30\n",
    "x.gradient { x -> Float in\n",
    "    // Print the partial derivative with respect to the result of `sin(x)`.\n",
    "    let a = sin(x).withGradient { print(\"∂+/∂sin = \\($0)\") } \n",
    "    // Force the partial derivative with respect to `x` to be `0.5`.\n",
    "    let b = log(x.withGradient { (dx: inout Float) in\n",
    "        print(\"∂log/∂x = \\(dx), but rewritten to 0.5\");\n",
    "        dx = 0.5\n",
    "    })\n",
    "    return a + b\n",
    "}"
   ]
  },
  {
   "cell_type": "markdown",
   "metadata": {
    "colab_type": "text",
    "id": "vmw0gkqlD9xf"
   },
   "source": [
    "### Use it in a neural network module"
   ]
  },
  {
   "cell_type": "markdown",
   "metadata": {
    "colab_type": "text",
    "id": "JCf_OplsWzhW"
   },
   "source": [
    "Just like how we used it in a simple `Float` function, we can use it in any numerical application, like the following neural network built using the [Swift for TensorFlow Deep Learning Library](https://github.com/tensorflow/swift-apis)."
   ]
  },
  {
   "cell_type": "code",
   "execution_count": 4,
   "metadata": {
    "colab": {
     "base_uri": "https://localhost:8080/",
     "height": 547
    },
    "colab_type": "code",
    "id": "fnSeAbs9-hf3",
    "outputId": "80ea60b8-e17c-47d5-9364-c8768c3e377e"
   },
   "outputs": [
    {
     "name": "stdout",
     "output_type": "stream",
     "text": [
      "Loss: 0.43899095\n",
      "∂L/∂ŷ = [[      -0.25],\n",
      " [0.022323728],\n",
      " [0.005967945],\n",
      " [ 0.35490417]]\n",
      "∂L/∂layer1 = [[           0.0,            0.0,            0.0,            0.0,            0.0,\n",
      "             0.0,            0.0,            0.0,            0.0,            0.0],\n",
      " [   -0.01176582,    0.010285646,  -0.0025242816,    0.010488224,   -0.013511203,\n",
      "    -0.005700527,  -0.0023006615,    0.009095081,    0.012110463,    0.014418229],\n",
      " [ -0.0031454319,   0.0027497276,  -0.0006748323,    0.002803884,  -0.0036120364,\n",
      "   -0.0015239584, -0.00061505055,    0.002431446,   0.0032375676,   0.0038545174],\n",
      " [   -0.18705381,     0.16352192,   -0.040131204,     0.16674252,    -0.21480206,\n",
      "     -0.09062738,   -0.036576077,     0.14459422,     0.19253299,     0.22922201]]\n",
      "Loss: 0.4195859\n",
      "∂L/∂ŷ = [[       -0.25],\n",
      " [0.0091306865],\n",
      " [-0.010673255],\n",
      " [  0.32693827]]\n",
      "∂L/∂layer1 = [[          0.0,           0.0,           0.0,           0.0,           0.0,           0.0,\n",
      "            0.0,           0.0,           0.0,           0.0],\n",
      " [ -0.004839284,   0.004165591,  -0.001032463,  0.0042490102,  -0.005527681, -0.0023318606,\n",
      "  -0.0009473449,  0.0036869892,   0.004906226,  0.0058667012],\n",
      " [  0.005656848,   -0.00486934,  0.0012068907,  -0.004966852,  0.0064615463,  0.0027258128,\n",
      "   0.0011073925, -0.0043098815,    -0.0057351,  -0.006857841],\n",
      " [  -0.17327799,     0.1491554,  -0.036968928,    0.15214235,   -0.19792713,  -0.083495855,\n",
      "    -0.03392114,    0.13201833,    0.17567496,    0.21006626]]\n",
      "Loss: 0.40471047\n",
      "∂L/∂ŷ = [[        -0.25],\n",
      " [-0.0020948946],\n",
      " [ -0.024919815],\n",
      " [    0.3026303]]\n",
      "∂L/∂layer1 = [[           0.0,            0.0,            0.0,            0.0,            0.0,\n",
      "             0.0,            0.0,            0.0,            0.0,            0.0],\n",
      " [  0.0011157553, -0.00094746775,  0.00023688265,  -0.0009668079,   0.0012683751,\n",
      "   0.00053489726,  0.00021845518,  -0.0008393659,  -0.0011162506,  -0.0013402184],\n",
      " [   0.013272465,     -0.0112706,    0.002817837,   -0.011500661,    0.015087954,\n",
      "    0.0063628694,   0.0025986333,   -0.009984675,   -0.013278358,   -0.015942564],\n",
      " [   -0.16118298,     0.13687201,   -0.034220275,     0.13966592,    -0.18323058,\n",
      "     -0.07727172,   -0.031558227,    0.121255524,     0.16125454,      0.1936091]]\n",
      "Loss: 0.39320627\n",
      "∂L/∂ŷ = [[       -0.25],\n",
      " [-0.011661351],\n",
      " [ -0.03713423],\n",
      " [  0.28140956]]\n",
      "∂L/∂layer1 = [[          0.0,           0.0,           0.0,           0.0,           0.0,           0.0,\n",
      "            0.0,           0.0,           0.0,           0.0],\n",
      " [  0.006237697,  -0.005233917,  0.0013186209, -0.0053430367,   0.007060311,  0.0029760806,\n",
      "   0.0012204672,  -0.004640658, -0.0061678262,  -0.007433673],\n",
      " [   0.01986323,  -0.016666807,  0.0041989964,  -0.017014286,    0.02248275,   0.009476987,\n",
      "   0.0038864375,  -0.014777641,  -0.019640734,  -0.023671677],\n",
      " [  -0.15052696,    0.12630391,  -0.031820714,    0.12893717,   -0.17037812,  -0.071818225,\n",
      "    -0.02945209,   0.111987494,    0.14884084,    0.17938803]]\n",
      "Loss: 0.38423005\n",
      "∂L/∂ŷ = [[       -0.25],\n",
      " [-0.019820623],\n",
      " [-0.047614276],\n",
      " [  0.26281184]]\n",
      "∂L/∂layer1 = [[          0.0,           0.0,           0.0,           0.0,           0.0,           0.0,\n",
      "            0.0,           0.0,           0.0,           0.0],\n",
      " [  0.010642163,  -0.008836001,    0.00224124,  -0.009024456,   0.011998681,  0.0050547165,\n",
      "    0.002079413,  -0.007840632, -0.0104147615,  -0.012597458],\n",
      " [  0.025565237,  -0.021226365,  0.0053840396,  -0.021679085,   0.028823944,    0.01214274,\n",
      "   0.0049952893,  -0.018835232,  -0.025018958,   -0.03026236],\n",
      " [  -0.14110993,    0.11716108,  -0.029717755,    0.11965991,   -0.15909669,   -0.06702309,\n",
      "   -0.027572008,    0.10396298,    0.13809468,    0.16703618]]\n",
      "Loss: 0.37716162\n",
      "∂L/∂ŷ = [[       -0.25],\n",
      " [-0.026780754],\n",
      " [-0.056607097],\n",
      " [  0.24645498]]\n",
      "∂L/∂layer1 = [[         0.0,          0.0,          0.0,          0.0,          0.0,          0.0,\n",
      "           0.0,          0.0,          0.0,          0.0],\n",
      " [ 0.014426714, -0.011867363,  0.003028265, -0.012126618,  0.016208367,   0.00682334,\n",
      "  0.0028134242, -0.010538318, -0.013989949, -0.016979665],\n",
      " [ 0.030494077, -0.025084319, 0.0064009135,  -0.02563231,  0.034259997,  0.014422651,\n",
      "  0.0059467996, -0.022275085, -0.029570878, -0.035890307],\n",
      " [ -0.13276458,   0.10921167, -0.027868185,   0.11159751,  -0.14916058,  -0.06279308,\n",
      "  -0.025891073,   0.09698088,   0.12874517,   0.15625858]]\n",
      "Loss: 0.37154138\n",
      "∂L/∂ŷ = [[       -0.25],\n",
      " [-0.032714732],\n",
      " [ -0.06431961],\n",
      " [  0.23202184]]\n",
      "∂L/∂layer1 = [[          0.0,           0.0,           0.0,           0.0,           0.0,           0.0,\n",
      "            0.0,           0.0,           0.0,           0.0],\n",
      " [  0.017674128, -0.0144196935,  0.0036992563,  -0.014742663,   0.019793617,   0.008325996,\n",
      "   0.0034383489,   -0.01281374,  -0.017000701,  -0.020700766],\n",
      " [   0.03474866,  -0.028350197,   0.007273015,  -0.028985178,    0.03891573,    0.01636953,\n",
      "   0.0067600515,  -0.025192773,   -0.03342465,  -0.040699255],\n",
      " [  -0.12534976,    0.10226842,   -0.02623614,   0.104559004,   -0.14038175,  -0.059050243,\n",
      "   -0.024385713,    0.09087855,    0.12057363,    0.14681551]]\n",
      "Loss: 0.36702597\n",
      "∂L/∂ŷ = [[      -0.25],\n",
      " [-0.03776756],\n",
      " [-0.07092628],\n",
      " [  0.2192466]]\n",
      "∂L/∂layer1 = [[         0.0,          0.0,          0.0,          0.0,          0.0,          0.0,\n",
      "           0.0,          0.0,          0.0,          0.0],\n",
      " [ 0.020455139, -0.016567742,  0.004270611, -0.016948462,   0.02284212,   0.00959987,\n",
      "  0.0039680586, -0.014732249, -0.019534608, -0.023859799],\n",
      " [ 0.038414102, -0.031113697,  0.008020071, -0.031828675,  0.042896777,  0.018028252,\n",
      "   0.007451888, -0.027666697, -0.036685374,  -0.04480795],\n",
      " [ -0.11874529,  0.096178345, -0.024791565,   0.09838848,   -0.1326021,  -0.05572875,\n",
      "  -0.023035202,   0.08552302,   0.11340146,   0.13850987]]\n",
      "Loss: 0.36335772\n",
      "∂L/∂ŷ = [[       -0.25],\n",
      " [-0.042061687],\n",
      " [ -0.07657519],\n",
      " [  0.20790568]]\n",
      "∂L/∂layer1 = [[         0.0,          0.0,          0.0,          0.0,          0.0,          0.0,\n",
      "           0.0,          0.0,          0.0,          0.0],\n",
      " [ 0.022830555, -0.018373044,  0.004756174, -0.018806424,  0.025428157,  0.010676561,\n",
      "   0.004414713, -0.016347725, -0.021663867, -0.026538953],\n",
      " [  0.04156405, -0.033448953,  0.008658829,  -0.03423794,  0.046293102,  0.019437158,\n",
      "   0.008037183, -0.029761769, -0.039440043, -0.048315357],\n",
      " [ -0.11284859,   0.09081567, -0.023509176,   0.09295781,  -0.12568821, -0.052772913,\n",
      "  -0.021821376,   0.08080477,   0.10708179,   0.13117874]]\n",
      "Loss: 0.36034182\n",
      "∂L/∂ŷ = [[      -0.25],\n",
      " [-0.04570084],\n",
      " [ -0.0813925],\n",
      " [ 0.19780925]]\n",
      "∂L/∂layer1 = [[         0.0,          0.0,          0.0,          0.0,          0.0,          0.0,\n",
      "           0.0,          0.0,          0.0,          0.0],\n",
      " [ 0.024852727, -0.019886537, 0.0051676757, -0.020368181,   0.02761481,  0.011582978,\n",
      "  0.0047889464, -0.017704843,  -0.02344833, -0.028806793],\n",
      " [ 0.044262327, -0.035417616,  0.009203551, -0.036275417,  0.049181554,  0.020629106,\n",
      "    0.00852904, -0.031532053, -0.041761115, -0.051304456],\n",
      " [ -0.10757131,    0.0860759, -0.022367511,   0.08816062,  -0.11952657, -0.050135184,\n",
      "  -0.020728238,   0.07663276,  0.101492584,   0.12468589]]\n"
     ]
    }
   ],
   "source": [
    "import TensorFlow\n",
    "\n",
    "struct MLP: Layer {\n",
    "    var layer1 = Dense<Float>(inputSize: 2, outputSize: 10, activation: relu)\n",
    "    var layer2 = Dense<Float>(inputSize: 10, outputSize: 1, activation: relu)\n",
    "    \n",
    "    @differentiable\n",
    "    func call(_ input: Tensor<Float>) -> Tensor<Float> {\n",
    "        let h0 = layer1(input).withGradient { print(\"∂L/∂layer1 =\", $0) }\n",
    "        return layer2(h0)\n",
    "    }\n",
    "}\n",
    "\n",
    "var classifier = MLP()\n",
    "let optimizer = SGD(for: classifier, learningRate: 0.02)\n",
    "\n",
    "let x: Tensor<Float> = [[0, 0], [0, 1], [1, 0], [1, 1]]\n",
    "let y: Tensor<Float> = [0, 1, 1, 0]\n",
    "\n",
    "for _ in 0..<10 {\n",
    "    let 𝛁model = classifier.gradient { classifier -> Tensor<Float> in\n",
    "        let ŷ = classifier(x).withGradient { print(\"∂L/∂ŷ =\", $0) }\n",
    "        let loss = (ŷ - y).squared().mean()\n",
    "        print(\"Loss: \\(loss)\")\n",
    "        return loss\n",
    "    }\n",
    "    optimizer.update(&classifier.allDifferentiableVariables, along: 𝛁model)\n",
    "}"
   ]
  },
  {
   "cell_type": "markdown",
   "metadata": {
    "colab_type": "text",
    "id": "TzLfTj28gEUD"
   },
   "source": [
    "## Recomputing activations during backpropagation to save memory (checkpointing)\n",
    "\n",
    "Checkpointing is a traditional technique in reverse-mode automatic differentiation to save memory when computing derivatives by making large intermediate values in the original computation not be saved in memory for backpropagation, but instead recomputed as needed during backpropagation. This technique has been realized in modern deep learning libraries as well. In Swift, API [`withRecomputationInPullbacks(_:)`](https://www.tensorflow.org/swift/api_docs/Protocols/Differentiable#/s:10TensorFlow14DifferentiablePAAE28withRecomputationInPullbacksyqd__qd__xcAaBRd__lF) makes you able to control what to recompute during backpropagation, and it is available on all `Differentiable` types.\n",
    "\n",
    "But today, let us learn how to define our own gradient checkpointing APIs from scratch, in just a few lines of code."
   ]
  },
  {
   "cell_type": "markdown",
   "metadata": {
    "colab_type": "text",
    "id": "5cZe-JbjwMfZ"
   },
   "source": [
    "### My gradient checkpointing API"
   ]
  },
  {
   "cell_type": "markdown",
   "metadata": {
    "colab_type": "text",
    "id": "606ob1dn2v77"
   },
   "source": [
    "We can define our own gradient checkpointing API, `makeRecomputedInGradient(_:)`, in terms of standard library function [`differentiableFunction(from:)`](https://www.tensorflow.org/swift/api_docs/Functions#/s:10TensorFlow22differentiableFunction4fromq0_x_q_tcq0_5value_15CotangentVectorQz_AEQy_tAEQy0_c8pullbacktx_q_tc_tAA14DifferentiableRzAaJR_AaJR0_r1_lF), which is a shorthand for creating a differentiable function directly from a derivative function (also called a \"vector-Jacobian products (VJP) function\").\n",
    "\n",
    "As we have seen before, the derivative function returns a tuple of the original function's result and a pullback closure. We return `original(x)` in `value:`, and call `pullback(at:in:)` on `original` to evaluate the original function again and get a pullback."
   ]
  },
  {
   "cell_type": "code",
   "execution_count": 5,
   "metadata": {
    "colab": {},
    "colab_type": "code",
    "id": "b1uU3tcVwl_1"
   },
   "outputs": [],
   "source": [
    "/// Given a differentiable function, returns the same differentiable function except when\n",
    "/// derivatives of this function is being computed, values in the original function that are needed\n",
    "/// for computing the derivatives will be recomputed, instead of being captured by the differential\n",
    "/// or pullback.\n",
    "///\n",
    "/// - Parameter body: The body of the differentiable function.\n",
    "/// - Returns: The same differentiable function whose derivatives, when computed, will recompute\n",
    "///   some values from the original function.\n",
    "func makeRecomputedInGradient<T: Differentiable, U: Differentiable>(\n",
    "    _ original: @escaping @differentiable (T) -> U\n",
    ") -> @differentiable (T) -> U {\n",
    "    return differentiableFunction { x in\n",
    "        (value: original(x), pullback: { v in pullback(at: x, in: original)(v) })\n",
    "    }\n",
    "}"
   ]
  },
  {
   "cell_type": "markdown",
   "metadata": {
    "colab_type": "text",
    "id": "UbeKj7NEF7zz"
   },
   "source": [
    "### Verify it works"
   ]
  },
  {
   "cell_type": "code",
   "execution_count": 6,
   "metadata": {
    "colab": {
     "base_uri": "https://localhost:8080/",
     "height": 102
    },
    "colab_type": "code",
    "id": "oee8SXital45",
    "outputId": "f4e7bd68-606a-46d6-96f4-c5294d8e302a"
   },
   "outputs": [
    {
     "name": "stdout",
     "output_type": "stream",
     "text": [
      "Running original computation...\r\n",
      "  Computing square...\r\n",
      "Running backpropagation...\r\n",
      "  Computing square...\r\n",
      "Gradient = -0.9129453\r\n"
     ]
    }
   ],
   "source": [
    "let input: Float = 10.0\n",
    "print(\"Running original computation...\")\n",
    "\n",
    "// Differentiable multiplication with checkpointing.\n",
    "let square = makeRecomputedInGradient { (x: Float) -> Float in\n",
    "    print(\"  Computing square...\")\n",
    "    return x * x\n",
    "}\n",
    "\n",
    "// Differentiate `f(x) = (cos(x))^2`.\n",
    "let (output, backprop) = input.valueWithPullback { input -> Float in\n",
    "    return square(cos(input))\n",
    "}\n",
    "print(\"Running backpropagation...\")\n",
    "let grad = backprop(1)\n",
    "print(\"Gradient = \\(grad)\")"
   ]
  },
  {
   "cell_type": "markdown",
   "metadata": {
    "colab_type": "text",
    "id": "7SxWsSUqF9Bh"
   },
   "source": [
    "### Extend it to neural network modules\n",
    "\n",
    "In this example, we define a simple convolutional neural network.\n",
    "\n",
    "```swift\n",
    "struct Model: Layer {\n",
    "    var conv = Conv2D<Float>(filterShape: (5, 5, 3, 6))\n",
    "    var maxPool = MaxPool2D<Float>(poolSize: (2, 2), strides: (2, 2))\n",
    "    var flatten = Flatten<Float>()\n",
    "    var dense = Dense<Float>(inputSize: 36 * 6, outputSize: 10)\n",
    "\n",
    "    @differentiable\n",
    "    func applied(to input: Tensor<Float>, in context: Context) -> Tensor<Float> {\n",
    "        return input.sequenced(in: context, through: conv, maxPool, flatten, dense)\n",
    "    }\n",
    "}\n",
    "```\n",
    "\n",
    "We want to make activations in the convolution layer (`conv`) be recomputed during backpropagation. However, using `makeRecomputedInGradient(_:)` could make the resulting code look cumbersome, especially when we want to apply layers sequentially using [`sequenced(in:through:_:_:_:_:)`](https://www.tensorflow.org/swift/api_docs/Protocols/Differentiable#/s:10TensorFlow14DifferentiablePAAE9sequenced2in7through____6OutputQyd_3_AA7ContextC_qd__qd_0_qd_1_qd_2_qd_3_t5InputQyd__RszAA5LayerRd__AaMRd_0_AaMRd_1_AaMRd_2_AaMRd_3_AKQyd_0_AGRtd__AKQyd_1_AGRtd_0_AKQyd_2_AGRtd_1_AKQyd_3_AGRtd_2_r3_lF).\n",
    "\n",
    "```swift\n",
    "input.sequenced(in: context, through: conv, maxPool, flatten, dense)\n",
    "```\n",
    "\n",
    "So, why don't we define a **special layer type** that wraps a layer and makes its activations be recomputed during backpropagation? Let's do it."
   ]
  },
  {
   "cell_type": "markdown",
   "metadata": {
    "colab_type": "text",
    "id": "ZP86M5RjP3OG"
   },
   "source": [
    "First, we define a `makeRecomputedInGradient(_:)` function that takes a binary function."
   ]
  },
  {
   "cell_type": "code",
   "execution_count": 7,
   "metadata": {
    "colab": {},
    "colab_type": "code",
    "id": "bEm-n5H0QB8s"
   },
   "outputs": [],
   "source": [
    "// Same as the previous `makeRecomputedInGradient(_:)`, except it's for binary functions.\n",
    "func makeRecomputedInGradient<T: Differentiable, U: Differentiable, V: Differentiable>(\n",
    "    _ original: @escaping @differentiable (T, U) -> V\n",
    ") -> @differentiable (T, U) -> V {\n",
    "    return differentiableFunction { x, y in\n",
    "        (value: original(x, y), pullback: { v in pullback(at: x, y, in: original)(v) })\n",
    "    }\n",
    "}"
   ]
  },
  {
   "cell_type": "markdown",
   "metadata": {
    "colab_type": "text",
    "id": "YU6DgqXxP5Nl"
   },
   "source": [
    "Then, we define a generic layer `ActivationDiscarding<Wrapped>`."
   ]
  },
  {
   "cell_type": "code",
   "execution_count": 9,
   "metadata": {
    "colab": {},
    "colab_type": "code",
    "id": "ao1r_lIPGeOl"
   },
   "outputs": [],
   "source": [
    "/// A layer wrapper that makes the underlying layer's activations be discarded during application\n",
    "/// and recomputed during backpropagation.\n",
    "struct ActivationDiscarding<Wrapped: Layer>: Layer \n",
    "    where Wrapped.AllDifferentiableVariables == Wrapped.CotangentVector {\n",
    "    /// The wrapped layer.\n",
    "    var wrapped: Wrapped\n",
    "\n",
    "    @differentiable\n",
    "    func call(_ input: Wrapped.Input) -> Wrapped.Output {\n",
    "        let apply = makeRecomputedInGradient { (layer: Wrapped, input: Input) -> Wrapped.Output in\n",
    "            print(\"    Applying \\(Wrapped.self) layer...\")\n",
    "            return layer(input)\n",
    "        }\n",
    "        return apply(wrapped, input)\n",
    "    }\n",
    "}"
   ]
  },
  {
   "cell_type": "markdown",
   "metadata": {
    "colab_type": "text",
    "id": "HqPXwwuTRjmz"
   },
   "source": [
    "Finally, we can add a method on all layers that returns the same layer except its activations are discarded during application and recomputeed during backpropagation."
   ]
  },
  {
   "cell_type": "code",
   "execution_count": 10,
   "metadata": {
    "colab": {},
    "colab_type": "code",
    "id": "PGgkNnNNR1th"
   },
   "outputs": [],
   "source": [
    "extension Layer where AllDifferentiableVariables == CotangentVector {\n",
    "    func discardingActivations() -> ActivationDiscarding<Self> {\n",
    "        return ActivationDiscarding(wrapped: self)\n",
    "    }\n",
    "}"
   ]
  },
  {
   "cell_type": "markdown",
   "metadata": {
    "colab_type": "text",
    "id": "8PP-NZ9XU5_n"
   },
   "source": [
    "Back in the model, all we have to change is to wrap the convolution layer into the activation-recomputing layer.\n",
    "\n",
    "```swift\n",
    "var conv = Conv2D<Float>(filterShape: (5, 5, 3, 6)).discardingActivations()\n",
    "```"
   ]
  },
  {
   "cell_type": "markdown",
   "metadata": {
    "colab_type": "text",
    "id": "bCwNPtCfSbGi"
   },
   "source": [
    "Now, simply use it in the model!"
   ]
  },
  {
   "cell_type": "code",
   "execution_count": 11,
   "metadata": {
    "colab": {},
    "colab_type": "code",
    "id": "gsWGwFjOJ3Md"
   },
   "outputs": [],
   "source": [
    "struct Model: Layer {\n",
    "    var conv = Conv2D<Float>(filterShape: (5, 5, 3, 6)).discardingActivations()\n",
    "    var maxPool = MaxPool2D<Float>(poolSize: (2, 2), strides: (2, 2))\n",
    "    var flatten = Flatten<Float>()\n",
    "    var dense = Dense<Float>(inputSize: 36 * 6, outputSize: 10)\n",
    "\n",
    "    @differentiable\n",
    "    func call(_ input: Tensor<Float>) -> Tensor<Float> {\n",
    "        return input.sequenced(through: conv, maxPool, flatten, dense)\n",
    "    }\n",
    "}"
   ]
  },
  {
   "cell_type": "markdown",
   "metadata": {
    "colab_type": "text",
    "id": "dmFxciU6VYdF"
   },
   "source": [
    "When we run a training loop, we can see that the convolution layer's activations are computed twice: once during layer application, and once during backpropagation."
   ]
  },
  {
   "cell_type": "code",
   "execution_count": 12,
   "metadata": {
    "colab": {
     "base_uri": "https://localhost:8080/",
     "height": 527
    },
    "colab_type": "code",
    "id": "-x1nYu0uVSPn",
    "outputId": "fcdc6e19-2ffa-49f3-908f-e5823a485f9d"
   },
   "outputs": [
    {
     "name": "stdout",
     "output_type": "stream",
     "text": [
      "Starting training step 1\r\n",
      "  Running original computation...\r\n",
      "    Applying Conv2D<Float> layer...\r\n",
      "  Loss: 3.4174492\r\n",
      "  Running backpropagation...\r\n",
      "    Applying Conv2D<Float> layer...\r\n",
      "Starting training step 2\r\n",
      "  Running original computation...\r\n",
      "    Applying Conv2D<Float> layer...\r\n",
      "  Loss: 2.9509213\r\n",
      "  Running backpropagation...\r\n",
      "    Applying Conv2D<Float> layer...\r\n",
      "Starting training step 3\r\n",
      "  Running original computation...\r\n",
      "    Applying Conv2D<Float> layer...\r\n",
      "  Loss: 2.5904481\r\n",
      "  Running backpropagation...\r\n",
      "    Applying Conv2D<Float> layer...\r\n",
      "Starting training step 4\r\n",
      "  Running original computation...\r\n",
      "    Applying Conv2D<Float> layer...\r\n",
      "  Loss: 2.2963502\r\n",
      "  Running backpropagation...\r\n",
      "    Applying Conv2D<Float> layer...\r\n",
      "Starting training step 5\r\n",
      "  Running original computation...\r\n",
      "    Applying Conv2D<Float> layer...\r\n",
      "  Loss: 2.0466228\r\n",
      "  Running backpropagation...\r\n",
      "    Applying Conv2D<Float> layer...\r\n"
     ]
    }
   ],
   "source": [
    "// Use random training data.\n",
    "let x = Tensor<Float>(randomNormal: [10, 16, 16, 3])\n",
    "let y = Tensor<Int32>(rangeFrom: 0, to: 10, stride: 1)\n",
    "\n",
    "var model = Model()\n",
    "let opt = SGD(for: model)\n",
    "\n",
    "for i in 1...5 {\n",
    "    print(\"Starting training step \\(i)\")\n",
    "    print(\"  Running original computation...\")\n",
    "    let (logits, backprop) = model.appliedForBackpropagation(to: x)\n",
    "    let (loss, dL_dŷ) = logits.valueWithGradient { logits in\n",
    "        softmaxCrossEntropy(logits: logits, labels: y)\n",
    "    }\n",
    "    print(\"  Loss: \\(loss)\")\n",
    "    print(\"  Running backpropagation...\")\n",
    "    let (dL_dθ, _) = backprop(dL_dŷ)\n",
    "    \n",
    "    opt.update(&model.allDifferentiableVariables, along: dL_dθ)\n",
    "}"
   ]
  },
  {
   "cell_type": "markdown",
   "metadata": {
    "colab_type": "text",
    "id": "gzRaZLa_WX0u"
   },
   "source": [
    "Just like that, it is super easy to define generic differentiable programming libraries for different domains."
   ]
  }
 ],
 "metadata": {
  "colab": {
   "collapsed_sections": [],
   "name": "Custom differentiation.ipynb",
   "provenance": [],
   "toc_visible": true,
   "version": "0.3.2"
  },
  "kernelspec": {
   "display_name": "Swift",
   "language": "swift",
   "name": "swift"
  },
  "language_info": {
   "file_extension": ".swift",
   "mimetype": "text/x-swift",
   "name": "swift",
   "version": ""
  }
 },
 "nbformat": 4,
 "nbformat_minor": 1
}
