{
  "nbformat": 4,
  "nbformat_minor": 0,
  "metadata": {
    "colab": {
      "name": "Swift for TensorFlow: walkthrough",
      "version": "0.3.2",
      "provenance": [],
      "collapsed_sections": [],
      "toc_visible": true
    },
    "kernelspec": {
      "display_name": "Swift",
      "language": "swift",
      "name": "swift"
    }
  },
  "cells": [
    {
      "metadata": {
        "id": "zBH72IXMJ3JJ",
        "colab_type": "text"
      },
      "cell_type": "markdown",
      "source": [
        "<table class=\"tfo-notebook-buttons\" align=\"left\">\n",
        "  <td>\n",
        "    <a target=\"_blank\" href=\"https://www.tensorflow.org/swift/tutorials/walkthrough\"><img src=\"https://www.tensorflow.org/images/tf_logo_32px.png\" />View on TensorFlow.org</a>\n",
        "  </td>\n",
        "  <td>\n",
        "    <a target=\"_blank\" href=\"https://colab.research.google.com/github/tensorflow/swift/blob/master/docs/site/tutorials/walkthrough.ipynb\"><img src=\"https://www.tensorflow.org/images/colab_logo_32px.png\" />Run in Google Colab</a>\n",
        "  </td>\n",
        "  <td>\n",
        "    <a target=\"_blank\" href=\"https://github.com/tensorflow/swift/blob/master/docs/site/tutorials/walkthrough.ipynb\"><img src=\"https://www.tensorflow.org/images/GitHub-Mark-32px.png\" />View source on GitHub</a>\n",
        "  </td>\n",
        "</table>"
      ]
    },
    {
      "metadata": {
        "colab_type": "text",
        "id": "LrO3-gmDO0mH"
      },
      "cell_type": "markdown",
      "source": [
        "## Swift for TensorFlow is a work-in-progress\n",
        "\n",
        "Swift for TensorFlow is still a work-in-progress. If you modify the code in this tutorial, you will frequently get unexpected error messages and kernel crashes. Restarting the kernel might occasionally help (Kernel > Restart in the Jupyter toolbar).\n",
        "\n",
        "We are working on stabilizing the compiler. You can help us by filing bugs on https://bugs.swift.org (set the \"Component\" field to \"Swift for TensorFlow\") or by emailing the swift@tensorflow.org mailing list when you encounter unexpected error messages and kernel crashes."
      ]
    },
    {
      "metadata": {
        "colab_type": "text",
        "id": "JtEZ1pCPn--z"
      },
      "cell_type": "markdown",
      "source": [
        "# Swift for TensorFlow: walkthrough"
      ]
    },
    {
      "metadata": {
        "colab_type": "text",
        "id": "LDrzLFXE8T1l"
      },
      "cell_type": "markdown",
      "source": [
        "This guide introduces Swift for TensorFlow by using Swift for TensorFlow to build a machine learning model that categorizes iris flowers by species. It uses Swift for TensorFlow to:\n",
        "1. Build a model,\n",
        "2. Train this model on example data, and\n",
        "3. Use the model to make predictions about unknown data.\n",
        "\n",
        "This guide is a Swift port of the [TensorFlow custom training walkthrough](https://www.tensorflow.org/tutorials/eager/custom_training_walkthrough).\n",
        "\n",
        "## TensorFlow programming\n",
        "\n",
        "This guide uses these high-level Swift for TensorFlow concepts:\n",
        "\n",
        "* Import data with the Datasets API.\n",
        "* Build models and layers using Swift abstractions.\n",
        "* Use Python libraries using Swift's Python interoperability when pure Swift libraries are not available.\n",
        "\n",
        "This tutorial is structured like many TensorFlow programs:\n",
        "\n",
        "1. Import and parse the data sets.\n",
        "2. Select the type of model.\n",
        "3. Train the model.\n",
        "4. Evaluate the model's effectiveness.\n",
        "5. Use the trained model to make predictions."
      ]
    },
    {
      "metadata": {
        "colab_type": "text",
        "id": "yNr7H-AIoLOR"
      },
      "cell_type": "markdown",
      "source": [
        "## Setup program"
      ]
    },
    {
      "metadata": {
        "colab_type": "text",
        "id": "1J3AuPBT9gyR"
      },
      "cell_type": "markdown",
      "source": [
        "### Configure imports\n",
        "\n",
        "Import TensorFlow and some useful Python modules."
      ]
    },
    {
      "metadata": {
        "colab_type": "code",
        "id": "g4Wzg69bnwK2",
        "outputId": "b147c0b3-efa5-4d44-ff55-711dc49fdb4b",
        "scrolled": true,
        "colab": {
          "base_uri": "https://localhost:8080/",
          "height": 51
        }
      },
      "cell_type": "code",
      "source": [
        "import TensorFlow\n",
        "\n",
        "import Python\n",
        "%include \"EnableIPythonDisplay.swift\"\n",
        "IPythonDisplay.shell.enable_matplotlib(\"inline\")\n",
        "let plt = Python.import(\"matplotlib.pyplot\")\n",
        "\n",
        "// Download some helper files that we will include later.\n",
        "let path = Python.import(\"os.path\")\n",
        "let urllib = Python.import(\"urllib.request\")\n",
        "let helperFiles = [\"TutorialDatasetCSVAPI.swift\", \"TutorialModelHelpers.swift\"]\n",
        "for helperFile in helperFiles {\n",
        "  if !Bool(path.isfile(helperFile))! {\n",
        "    print(\"Downloading \\(helperFile)\")\n",
        "    urllib.urlretrieve(\n",
        "        \"https://raw.githubusercontent.com/tensorflow/swift-tutorials/master/iris/\" + helperFile,\n",
        "        filename: helperFile)\n",
        "  } else {\n",
        "    print(\"Not downloading \\(helperFile): already exists\")\n",
        "  }\n",
        "}"
      ],
      "execution_count": 2,
      "outputs": [
        {
          "output_type": "stream",
          "text": [
            "Not downloading TutorialDatasetCSVAPI.swift: already exists\r\n",
            "Not downloading TutorialModelHelpers.swift: already exists\r\n"
          ],
          "name": "stdout"
        }
      ]
    },
    {
      "metadata": {
        "colab_type": "text",
        "id": "Zx7wc0LuuxaJ"
      },
      "cell_type": "markdown",
      "source": [
        "## The iris classification problem\n",
        "\n",
        "Imagine you are a botanist seeking an automated way to categorize each iris flower you find. Machine learning provides many algorithms to classify flowers statistically. For instance, a sophisticated machine learning program could classify flowers based on photographs. Our ambitions are more modest—we're going to classify iris flowers based on the length and width measurements of their [sepals](https://en.wikipedia.org/wiki/Sepal) and [petals](https://en.wikipedia.org/wiki/Petal).\n",
        "\n",
        "The Iris genus entails about 300 species, but our program will only classify the following three:\n",
        "\n",
        "* Iris setosa\n",
        "* Iris virginica\n",
        "* Iris versicolor\n",
        "\n",
        "<table>\n",
        "  <tr><td>\n",
        "    <img src=\"https://www.tensorflow.org/images/iris_three_species.jpg\"\n",
        "         alt=\"Petal geometry compared for three iris species: Iris setosa, Iris virginica, and Iris versicolor\">\n",
        "  </td></tr>\n",
        "  <tr><td align=\"center\">\n",
        "    <b>Figure 1.</b> <a href=\"https://commons.wikimedia.org/w/index.php?curid=170298\">Iris setosa</a> (by <a href=\"https://commons.wikimedia.org/wiki/User:Radomil\">Radomil</a>, CC BY-SA 3.0), <a href=\"https://commons.wikimedia.org/w/index.php?curid=248095\">Iris versicolor</a>, (by <a href=\"https://commons.wikimedia.org/wiki/User:Dlanglois\">Dlanglois</a>, CC BY-SA 3.0), and <a href=\"https://www.flickr.com/photos/33397993@N05/3352169862\">Iris virginica</a> (by <a href=\"https://www.flickr.com/photos/33397993@N05\">Frank Mayfield</a>, CC BY-SA 2.0).<br/>&nbsp;\n",
        "  </td></tr>\n",
        "</table>\n",
        "\n",
        "Fortunately, someone has already created a [data set of 120 iris flowers](https://en.wikipedia.org/wiki/Iris_flower_data_set) with the sepal and petal measurements. This is a classic dataset that is popular for beginner machine learning classification problems."
      ]
    },
    {
      "metadata": {
        "colab_type": "text",
        "id": "3Px6KAg0Jowz"
      },
      "cell_type": "markdown",
      "source": [
        "## Import and parse the training dataset\n",
        "\n",
        "Download the dataset file and convert it into a structure that can be used by this Swift program.\n",
        "\n",
        "### Download the dataset\n",
        "\n",
        "Download the training dataset file from http://download.tensorflow.org/data/iris_training.csv. We use a Python library to demonstrate Swift's Python interoperability. Swift's Python interoperability makes it easy and natural to import and use Python libraries from Swift code."
      ]
    },
    {
      "metadata": {
        "colab_type": "code",
        "id": "DKkgac4WO0mP",
        "outputId": "3b49299f-ee97-4cbe-ab6c-28dd4de4b60b",
        "scrolled": true,
        "colab": {
          "base_uri": "https://localhost:8080/",
          "height": 34
        }
      },
      "cell_type": "code",
      "source": [
        "let urllib = Python.import(\"urllib.request\")\n",
        "let downloadResult = urllib.urlretrieve(\"http://download.tensorflow.org/data/iris_training.csv\",\n",
        "                                        \"iris_training.csv\")\n",
        "let trainDataFilename = String(downloadResult[0])!\n",
        "trainDataFilename"
      ],
      "execution_count": 3,
      "outputs": [
        {
          "output_type": "execute_result",
          "data": {
            "text/plain": [
              "\"iris_training.csv\"\n"
            ]
          },
          "metadata": {
            "tags": []
          },
          "execution_count": 3
        }
      ]
    },
    {
      "metadata": {
        "colab_type": "text",
        "id": "qnX1-aLors4S"
      },
      "cell_type": "markdown",
      "source": [
        "### Inspect the data\n",
        "\n",
        "This dataset, `iris_training.csv`, is a plain text file that stores tabular data formatted as comma-separated values (CSV). Let's look a the first 5 entries."
      ]
    },
    {
      "metadata": {
        "colab_type": "code",
        "id": "FQvb_JYdrpPm",
        "outputId": "4ca91888-7474-4a5c-bcc9-f80c693c0d5a",
        "scrolled": true,
        "colab": {
          "base_uri": "https://localhost:8080/",
          "height": 119
        }
      },
      "cell_type": "code",
      "source": [
        "let f = Python.open(trainDataFilename)\n",
        "for _ in 0..<5 {\n",
        "    print(Python.next(f).strip())\n",
        "}\n",
        "f.close()"
      ],
      "execution_count": 4,
      "outputs": [
        {
          "output_type": "stream",
          "text": [
            "120,4,setosa,versicolor,virginica\r\n",
            "6.4,2.8,5.6,2.2,2\r\n",
            "5.0,2.3,3.3,1.0,1\r\n",
            "4.9,2.5,4.5,1.7,2\r\n",
            "4.9,3.1,1.5,0.1,0\r\n"
          ],
          "name": "stdout"
        },
        {
          "output_type": "execute_result",
          "data": {
            "text/plain": [
              "None\n"
            ]
          },
          "metadata": {
            "tags": []
          },
          "execution_count": 4
        }
      ]
    },
    {
      "metadata": {
        "colab_type": "text",
        "id": "kQhzD6P-uBoq"
      },
      "cell_type": "markdown",
      "source": [
        "From this view of the dataset, notice the following:\n",
        "\n",
        "1. The first line is a header containing information about the dataset:\n",
        "  * There are 120 total examples. Each example has four features and one of three possible label names. \n",
        "2. Subsequent rows are data records, one *[example](https://developers.google.com/machine-learning/glossary/#example)* per line, where:\n",
        "  * The first four fields are *[features](https://developers.google.com/machine-learning/glossary/#feature)*: these are characteristics of an example. Here, the fields hold float numbers representing flower measurements.\n",
        "  * The last column is the *[label](https://developers.google.com/machine-learning/glossary/#label)*: this is the value we want to predict. For this dataset, it's an integer value of 0, 1, or 2 that corresponds to a flower name.\n",
        "\n",
        "Let's write that out in code:"
      ]
    },
    {
      "metadata": {
        "colab_type": "code",
        "id": "9Edhevw7exl6",
        "outputId": "4fd2018f-e0fa-4941-f851-7fab74e0ee8c",
        "scrolled": true,
        "colab": {
          "base_uri": "https://localhost:8080/",
          "height": 51
        }
      },
      "cell_type": "code",
      "source": [
        "let featureNames = [\"sepal_length\", \"sepal_width\", \"petal_length\", \"petal_width\"]\n",
        "let labelName = \"species\"\n",
        "let columnNames = featureNames + [labelName]\n",
        "\n",
        "print(\"Features: \\(featureNames)\")\n",
        "print(\"Label: \\(labelName)\")"
      ],
      "execution_count": 5,
      "outputs": [
        {
          "output_type": "stream",
          "text": [
            "Features: [\"sepal_length\", \"sepal_width\", \"petal_length\", \"petal_width\"]\r\n",
            "Label: species\r\n"
          ],
          "name": "stdout"
        }
      ]
    },
    {
      "metadata": {
        "colab_type": "text",
        "id": "CCtwLoJhhDNc"
      },
      "cell_type": "markdown",
      "source": [
        "Each label is associated with string name (for example, \"setosa\"), but machine learning typically relies on numeric values. The label numbers are mapped to a named representation, such as:\n",
        "\n",
        "* `0`: Iris setosa\n",
        "* `1`: Iris versicolor\n",
        "* `2`: Iris virginica\n",
        "\n",
        "For more information about features and labels, see the [ML Terminology section of the Machine Learning Crash Course](https://developers.google.com/machine-learning/crash-course/framing/ml-terminology)."
      ]
    },
    {
      "metadata": {
        "colab_type": "code",
        "id": "sVNlJlUOhkoX",
        "scrolled": true,
        "colab": {}
      },
      "cell_type": "code",
      "source": [
        "let classNames = [\"Iris setosa\", \"Iris versicolor\", \"Iris virginica\"]"
      ],
      "execution_count": 0,
      "outputs": []
    },
    {
      "metadata": {
        "colab_type": "text",
        "id": "dqPkQExM2Pwt"
      },
      "cell_type": "markdown",
      "source": [
        "### Create a Dataset\n",
        "\n",
        "Swift for TensorFlow's Dataset API handles loading data into a model. This is a high-level API for reading data and transforming it into a form used for training. Currently, Swift's Dataset API supports loading data only from CSV files, but we intend to extend it to handle many more types of data, like [TensorFlow's Dataset API](https://www.tensorflow.org/guide/datasets).\n",
        "\n",
        "Use the `Dataset(contentsOfCSVFile:hasHeader:featureColumns:labelColumns:)` initializer to initialize a `Dataset` with training data. Also batch the data into batches using the `.batched()` function."
      ]
    },
    {
      "metadata": {
        "colab_type": "code",
        "id": "bBx_C6UWO0mc",
        "scrolled": true,
        "colab": {}
      },
      "cell_type": "code",
      "source": [
        "public let batchSize = Int64(32)\n",
        "\n",
        "%include \"TutorialDatasetCSVAPI.swift\"\n",
        "\n",
        "let trainDataset: Dataset<TensorPair<Tensor<Float>, Tensor<Int32>>> = Dataset(\n",
        "    contentsOfCSVFile: trainDataFilename, hasHeader: true,\n",
        "    featureColumns: [0, 1, 2, 3], labelColumns: [4]\n",
        ").batched(batchSize)"
      ],
      "execution_count": 0,
      "outputs": []
    },
    {
      "metadata": {
        "colab_type": "text",
        "id": "gB_RSn62c-3G"
      },
      "cell_type": "markdown",
      "source": [
        "This returns a `Dataset` of `(features, labels)` pairs, where `feature` is a `Tensor<Float>` with shape `(batchSize, featureColumns.count)` and where `labels` is a `Tensor<Int32>` with shape `(batchSize, labelColumns.count)`\n",
        "\n",
        "These `Dataset` values are iterable. Let's look at the first element of the dataset."
      ]
    },
    {
      "metadata": {
        "colab_type": "code",
        "id": "iDuG94H-C122",
        "outputId": "d9c83db7-7071-4128-87d7-55fb9815c853",
        "scrolled": true,
        "colab": {
          "base_uri": "https://localhost:8080/",
          "height": 54
        }
      },
      "cell_type": "code",
      "source": [
        "let firstTrainExamples = trainDataset.first!\n",
        "let firstTrainFeatures = firstTrainExamples.first\n",
        "let firstTrainLabels = firstTrainExamples.second\n",
        "firstTrainFeatures"
      ],
      "execution_count": 8,
      "outputs": [
        {
          "output_type": "execute_result",
          "data": {
            "text/plain": [
              "[[6.4, 2.8, 5.6, 2.2], [5.0, 2.3, 3.3, 1.0], [4.9, 2.5, 4.5, 1.7], [4.9, 3.1, 1.5, 0.1], [5.7, 3.8, 1.7, 0.3], [4.4, 3.2, 1.3, 0.2], [5.4, 3.4, 1.5, 0.4], [6.9, 3.1, 5.1, 2.3], [6.7, 3.1, 4.4, 1.4], [5.1, 3.7, 1.5, 0.4], [5.2, 2.7, 3.9, 1.4], [6.9, 3.1, 4.9, 1.5], [5.8, 4.0, 1.2, 0.2], [5.4, 3.9, 1.7, 0.4], [7.7, 3.8, 6.7, 2.2], [6.3, 3.3, 4.7, 1.6], [6.8, 3.2, 5.9, 2.3], [7.6, 3.0, 6.6, 2.1], [6.4, 3.2, 5.3, 2.3], [5.7, 4.4, 1.5, 0.4], [6.7, 3.3, 5.7, 2.1], [6.4, 2.8, 5.6, 2.1], [5.4, 3.9, 1.3, 0.4], [6.1, 2.6, 5.6, 1.4], [7.2, 3.0, 5.8, 1.6], [5.2, 3.5, 1.5, 0.2], [5.8, 2.6, 4.0, 1.2], [5.9, 3.0, 5.1, 1.8], [5.4, 3.0, 4.5, 1.5], [6.7, 3.0, 5.0, 1.7], [6.3, 2.3, 4.4, 1.3], [5.1, 2.5, 3.0, 1.1]]\n"
            ]
          },
          "metadata": {
            "tags": []
          },
          "execution_count": 8
        }
      ]
    },
    {
      "metadata": {
        "colab_type": "text",
        "id": "E63mArnQaAGz"
      },
      "cell_type": "markdown",
      "source": [
        "Notice that like-features are grouped together, or *batched*. Each example row's fields are appended to the corresponding feature array. Change the `batchSize` to set the number of examples stored in these feature arrays.\n",
        "\n",
        "You can start to see some clusters by plotting a few features from the batch, using Python's matplotlib:"
      ]
    },
    {
      "metadata": {
        "colab_type": "code",
        "id": "me5Wn-9FcyyO",
        "outputId": "884948e1-4e69-439e-9913-37cda4d4e902",
        "scrolled": false,
        "colab": {
          "base_uri": "https://localhost:8080/",
          "height": 300
        }
      },
      "cell_type": "code",
      "source": [
        "let firstTrainFeaturesTransposed = firstTrainFeatures.transposed()\n",
        "let petalLengths = firstTrainFeaturesTransposed[3].scalars\n",
        "let sepalLengths = firstTrainFeaturesTransposed[0].scalars\n",
        "\n",
        "plt.scatter(petalLengths, sepalLengths, c: firstTrainLabels.array.scalars)\n",
        "plt.xlabel(\"Petal length\")\n",
        "plt.ylabel(\"Sepal length\")\n",
        "plt.show()"
      ],
      "execution_count": 9,
      "outputs": [
        {
          "output_type": "display_data",
          "data": {
            "image/png": "[encoded data removed]",
            "text/plain": [
              "<Figure size 432x288 with 1 Axes>"
            ]
          },
          "metadata": {
            "tags": []
          }
        },
        {
          "output_type": "execute_result",
          "data": {
            "text/plain": [
              "None\n"
            ]
          },
          "metadata": {
            "tags": []
          },
          "execution_count": 9
        }
      ]
    },
    {
      "metadata": {
        "colab_type": "text",
        "id": "LsaVrtNM3Tx5"
      },
      "cell_type": "markdown",
      "source": [
        "## Select the type of model\n",
        "\n",
        "### Why model?\n",
        "\n",
        "A *[model](https://developers.google.com/machine-learning/crash-course/glossary#model)* is a relationship between features and the label.  For the iris classification problem, the model defines the relationship between the sepal and petal measurements and the predicted iris species. Some simple models can be described with a few lines of algebra, but complex machine learning models have a large number of parameters that are difficult to summarize.\n",
        "\n",
        "Could you determine the relationship between the four features and the iris species *without* using machine learning?  That is, could you use traditional programming techniques (for example, a lot of conditional statements) to create a model?  Perhaps—if you analyzed the dataset long enough to determine the relationships between petal and sepal measurements to a particular species. And this becomes difficult—maybe impossible—on more complicated datasets. A good machine learning approach *determines the model for you*. If you feed enough representative examples into the right machine learning model type, the program will figure out the relationships for you.\n",
        "\n",
        "### Select the model\n",
        "\n",
        "We need to select the kind of model to train. There are many types of models and picking a good one takes experience. This tutorial uses a neural network to solve the iris classification problem. *[Neural networks](https://developers.google.com/machine-learning/glossary/#neural_network)* can find complex relationships between features and the label. It is a highly-structured graph, organized into one or more *[hidden layers](https://developers.google.com/machine-learning/glossary/#hidden_layer)*. Each hidden layer consists of one or more *[neurons](https://developers.google.com/machine-learning/glossary/#neuron)*. There are several categories of neural networks and this program uses a dense, or *[fully-connected neural network](https://developers.google.com/machine-learning/glossary/#fully_connected_layer)*: the neurons in one layer receive input connections from *every* neuron in the previous layer. For example, Figure 2 illustrates a dense neural network consisting of an input layer, two hidden layers, and an output layer:\n",
        "\n",
        "<table>\n",
        "  <tr><td>\n",
        "    <img src=\"https://www.tensorflow.org/images/custom_estimators/full_network.png\"\n",
        "         alt=\"A diagram of the network architecture: Inputs, 2 hidden layers, and outputs\">\n",
        "  </td></tr>\n",
        "  <tr><td align=\"center\">\n",
        "    <b>Figure 2.</b> A neural network with features, hidden layers, and predictions.<br/>&nbsp;\n",
        "  </td></tr>\n",
        "</table>\n",
        "\n",
        "When the model from Figure 2 is trained and fed an unlabeled example, it yields three predictions: the likelihood that this flower is the given iris species. This prediction is called *[inference](https://developers.google.com/machine-learning/crash-course/glossary#inference)*. For this example, the sum of the output predictions is 1.0. In Figure 2, this prediction breaks down as: `0.02` for *Iris setosa*, `0.95` for *Iris versicolor*, and `0.03` for *Iris virginica*. This means that the model predicts—with 95% probability—that an unlabeled example flower is an *Iris versicolor*."
      ]
    },
    {
      "metadata": {
        "colab_type": "text",
        "id": "W23DIMVPQEBt"
      },
      "cell_type": "markdown",
      "source": [
        "### Create a model using Swift abstractions\n",
        "\n",
        "We will build the model from scratch, starting with low-level TensorFlow APIs.\n",
        "\n",
        "Let's start by defining a dense neural network layer as a Swift `struct`:"
      ]
    },
    {
      "metadata": {
        "colab_type": "code",
        "id": "wr5A5WvthvZ0",
        "scrolled": true,
        "colab": {}
      },
      "cell_type": "code",
      "source": [
        "import TensorFlow\n",
        "\n",
        "// `Layer` is a protocol that makes it possible for an optimizer to update the\n",
        "// struct during training.\n",
        "struct DenseLayer : Layer {\n",
        "    // Trainable parameters.\n",
        "    var w: Tensor<Float>\n",
        "    var b: Tensor<Float>\n",
        "    \n",
        "    init(inputSize: Int32, outputSize: Int32) {\n",
        "        w = Tensor(glorotUniform: [inputSize, outputSize])\n",
        "        b = Tensor(zeros: [outputSize])\n",
        "    }\n",
        "    \n",
        "    // A requirement of the `Layer` protocol that specifies how this layer\n",
        "    // transforms input to output.\n",
        "    @differentiable(wrt: (self, input))\n",
        "    func applied(to input: Tensor<Float>, in context: Context) -> Tensor<Float> {\n",
        "        return input • w + b\n",
        "    }\n",
        "}"
      ],
      "execution_count": 0,
      "outputs": []
    },
    {
      "metadata": {
        "colab_type": "text",
        "id": "br5wwj0Z6C1z"
      },
      "cell_type": "markdown",
      "source": [
        "Next, let's use `DenseLayer` to define a neural network model for the iris classification problem."
      ]
    },
    {
      "metadata": {
        "colab_type": "code",
        "id": "bZd1Ck4Y5xWN",
        "scrolled": true,
        "colab": {}
      },
      "cell_type": "code",
      "source": [
        "let hiddenSize: Int32 = 10\n",
        "struct IrisParameters : Layer {\n",
        "    var layer1 = DenseLayer(inputSize: 4, outputSize: hiddenSize)\n",
        "    var layer2 = DenseLayer(inputSize: hiddenSize, outputSize: hiddenSize)\n",
        "    var layer3 = DenseLayer(inputSize: hiddenSize, outputSize: 3)\n",
        "    \n",
        "    @differentiable(wrt: (self, input))\n",
        "    func applied(to input: Tensor<Float>, in context: Context) -> Tensor<Float> {\n",
        "        let l1 = relu(layer1.applied(to: input, in: context))\n",
        "        let l2 = relu(layer2.applied(to: l1, in: context))\n",
        "        return layer3.applied(to: l2, in: context)\n",
        "    }\n",
        "}"
      ],
      "execution_count": 0,
      "outputs": []
    },
    {
      "metadata": {
        "colab_type": "text",
        "id": "fK0vrIRv_tcc"
      },
      "cell_type": "markdown",
      "source": [
        "Now, let's initialize the model."
      ]
    },
    {
      "metadata": {
        "colab_type": "code",
        "id": "mIEZ5VlI_5WM",
        "scrolled": true,
        "colab": {}
      },
      "cell_type": "code",
      "source": [
        "var model = IrisParameters()"
      ],
      "execution_count": 0,
      "outputs": []
    },
    {
      "metadata": {
        "colab_type": "text",
        "id": "2wFKnhWCpDSS"
      },
      "cell_type": "markdown",
      "source": [
        "### Using the model\n",
        "\n",
        "Let's have a quick look at what this model does to a batch of features:"
      ]
    },
    {
      "metadata": {
        "colab_type": "code",
        "id": "sKjJGIYzO0mr",
        "outputId": "dfc178cb-ae72-4441-a3cf-c452a75f0627",
        "scrolled": true,
        "colab": {
          "base_uri": "https://localhost:8080/",
          "height": 54
        }
      },
      "cell_type": "code",
      "source": [
        "let inferenceContext = Context(learningPhase: .inference)\n",
        "let firstTrainPredictions = model.applied(to: firstTrainFeatures, in: inferenceContext)\n",
        "firstTrainPredictions[0..<5]"
      ],
      "execution_count": 13,
      "outputs": [
        {
          "output_type": "execute_result",
          "data": {
            "text/plain": [
              "[[-1.0850735, 0.58772403, 0.54447114], [-0.82561255, 0.4280503, 0.48014793], [-0.80194116, 0.51608425, 0.5210287], [-0.9769387, 0.28767025, 0.38124347], [-1.1494671, 0.31118792, 0.41913664]]\n"
            ]
          },
          "metadata": {
            "tags": []
          },
          "execution_count": 13
        }
      ]
    },
    {
      "metadata": {
        "colab_type": "text",
        "id": "wxyXOhwVr5S3"
      },
      "cell_type": "markdown",
      "source": [
        "Here, each example returns a [logit](https://developers.google.com/machine-learning/crash-course/glossary#logits) for each class. \n",
        "\n",
        "To convert these logits to a probability for each class, use the [softmax](https://developers.google.com/machine-learning/crash-course/glossary#softmax) function:"
      ]
    },
    {
      "metadata": {
        "colab_type": "code",
        "id": "_tRwHZmTNTX2",
        "outputId": "ac7de5e5-c3e4-4752-d0f3-4d65328a50f3",
        "scrolled": true,
        "colab": {
          "base_uri": "https://localhost:8080/",
          "height": 54
        }
      },
      "cell_type": "code",
      "source": [
        "softmax(firstTrainPredictions[0..<5])"
      ],
      "execution_count": 14,
      "outputs": [
        {
          "output_type": "execute_result",
          "data": {
            "text/plain": [
              "[[0.087499775, 0.4661156, 0.44638455], [0.1220458, 0.4275449, 0.45040938], [0.11777741, 0.44002074, 0.4422018], [0.118612364, 0.42009032, 0.4612974], [0.098924465, 0.42624387, 0.47483167]]\n"
            ]
          },
          "metadata": {
            "tags": []
          },
          "execution_count": 14
        }
      ]
    },
    {
      "metadata": {
        "colab_type": "text",
        "id": "uRZmchElo481"
      },
      "cell_type": "markdown",
      "source": [
        "Taking the `argmax` across classes gives us the predicted class index. But, the model hasn't been trained yet, so these aren't good predictions."
      ]
    },
    {
      "metadata": {
        "colab_type": "code",
        "id": "-Jzm_GoErz8B",
        "outputId": "17851a17-3130-41d0-f3c9-6c9d35c7b88b",
        "scrolled": true,
        "colab": {
          "base_uri": "https://localhost:8080/",
          "height": 51
        }
      },
      "cell_type": "code",
      "source": [
        "print(\"Prediction: \\(firstTrainPredictions.argmax(squeezingAxis: 1))\")\n",
        "print(\"    Labels: \\(firstTrainLabels)\")"
      ],
      "execution_count": 15,
      "outputs": [
        {
          "output_type": "stream",
          "text": [
            "Prediction: [1, 2, 2, 2, 2, 2, 2, 1, 2, 2, 2, 2, 2, 2, 2, 2, 1, 1, 1, 2, 2, 1, 2, 2, 2, 2, 2, 2, 2, 2, 2, 2]\r\n",
            "    Labels: [2, 1, 2, 0, 0, 0, 0, 2, 1, 0, 1, 1, 0, 0, 2, 1, 2, 2, 2, 0, 2, 2, 0, 2, 2, 0, 1, 2, 1, 1, 1, 1]\r\n"
          ],
          "name": "stdout"
        }
      ]
    },
    {
      "metadata": {
        "colab_type": "text",
        "id": "Vzq2E5J2QMtw"
      },
      "cell_type": "markdown",
      "source": [
        "## Train the model\n",
        "\n",
        "*[Training](https://developers.google.com/machine-learning/crash-course/glossary#training)* is the stage of machine learning when the model is gradually optimized, or the model *learns* the dataset. The goal is to learn enough about the structure of the training dataset to make predictions about unseen data. If you learn *too much* about the training dataset, then the predictions only work for the data it has seen and will not be generalizable. This problem is called *[overfitting](https://developers.google.com/machine-learning/crash-course/glossary#overfitting)*—it's like memorizing the answers instead of understanding how to solve a problem.\n",
        "\n",
        "The iris classification problem is an example of *[supervised machine learning](https://developers.google.com/machine-learning/glossary/#supervised_machine_learning)*: the model is trained from examples that contain labels. In *[unsupervised machine learning](https://developers.google.com/machine-learning/glossary/#unsupervised_machine_learning)*, the examples don't contain labels. Instead, the model typically finds patterns among the features."
      ]
    },
    {
      "metadata": {
        "colab_type": "text",
        "id": "RaKp8aEjKX6B"
      },
      "cell_type": "markdown",
      "source": [
        "### Define the loss and gradient function\n",
        "\n",
        "Both training and evaluation stages need to calculate the model's *[loss](https://developers.google.com/machine-learning/crash-course/glossary#loss)*. This measures how off a model's predictions are from the desired label, in other words, how bad the model is performing. We want to minimize, or optimize, this value.\n",
        "\n",
        "Our model will calculate its loss using the `softmaxCrossEntropy` function which takes the model's class probability predictions and the desired label, and returns the average loss across the examples."
      ]
    },
    {
      "metadata": {
        "colab_type": "code",
        "id": "rHgwjCKqAWNz",
        "scrolled": true,
        "colab": {}
      },
      "cell_type": "code",
      "source": [
        "%include \"TutorialModelHelpers.swift\"\n",
        "extension IrisParameters {\n",
        "  // We declare the loss as \"differentiable\" so that we can differentiate it\n",
        "  // later while optimizing the model.\n",
        "  @differentiable(wrt: (self))\n",
        "  func loss(for input: Tensor<Float>, labels: Tensor<Int32>, in context: Context) -> Tensor<Float> {\n",
        "      let logits = applied(to: input, in: context)\n",
        "      return softmaxCrossEntropy(logits: logits, categoricalLabels: labels)\n",
        "  }\n",
        "}"
      ],
      "execution_count": 0,
      "outputs": []
    },
    {
      "metadata": {
        "colab_type": "text",
        "id": "9SIHZjYQATyz"
      },
      "cell_type": "markdown",
      "source": [
        "Let's calculate the loss for the current untrained model:"
      ]
    },
    {
      "metadata": {
        "colab_type": "code",
        "id": "tMAT4DcMPwI-",
        "outputId": "91f913b3-eada-4991-86e1-662a18df4c49",
        "scrolled": true,
        "colab": {
          "base_uri": "https://localhost:8080/",
          "height": 34
        }
      },
      "cell_type": "code",
      "source": [
        "print(\"Loss test: \\(model.loss(for: firstTrainFeatures, labels: firstTrainLabels, in: inferenceContext))\")"
      ],
      "execution_count": 17,
      "outputs": [
        {
          "output_type": "stream",
          "text": [
            "Loss test: 1.2482454\r\n"
          ],
          "name": "stdout"
        }
      ]
    },
    {
      "metadata": {
        "colab_type": "text",
        "id": "lOxFimtlKruu"
      },
      "cell_type": "markdown",
      "source": [
        "### Create an optimizer\n",
        "\n",
        "An *[optimizer](https://developers.google.com/machine-learning/crash-course/glossary#optimizer)* applies the computed gradients to the model's variables to minimize the `loss` function. You can think of the loss function as a curved surface (see Figure 3) and we want to find its lowest point by walking around. The gradients point in the direction of steepest ascent—so we'll travel the opposite way and move down the hill. By iteratively calculating the loss and gradient for each batch, we'll adjust the model during training. Gradually, the model will find the best combination of weights and bias to minimize loss. And the lower the loss, the better the model's predictions.\n",
        "\n",
        "<table>\n",
        "  <tr><td>\n",
        "    <img src=\"https://cs231n.github.io/assets/nn3/opt1.gif\" width=\"70%\"\n",
        "         alt=\"Optimization algorithms visualized over time in 3D space.\">\n",
        "  </td></tr>\n",
        "  <tr><td align=\"center\">\n",
        "    <b>Figure 3.</b> Optimization algorithms visualized over time in 3D space.<br/>(Source: <a href=\"http://cs231n.github.io/neural-networks-3/\">Stanford class CS231n</a>, MIT License, Image credit: <a href=\"https://twitter.com/alecrad\">Alec Radford</a>)\n",
        "  </td></tr>\n",
        "</table>\n",
        "\n",
        "Swift for TensorFlow has many [optimization algorithms](https://github.com/rxwei/DeepLearning/blob/master/Sources/DeepLearning/Optimizer.swift) available for training. This model uses the SGD optimizer that implements the *[stochastic gradient descent](https://developers.google.com/machine-learning/crash-course/glossary#gradient_descent)* (SGD) algorithm. The `learning_rate` sets the step size to take for each iteration down the hill. This is a *hyperparameter* that you'll commonly adjust to achieve better results."
      ]
    },
    {
      "metadata": {
        "colab_type": "code",
        "id": "8xxi2NNGKwG_",
        "scrolled": true,
        "colab": {}
      },
      "cell_type": "code",
      "source": [
        "let optimizer: SGD<IrisParameters, Float> = SGD(learningRate: 0.001)"
      ],
      "execution_count": 0,
      "outputs": []
    },
    {
      "metadata": {
        "colab_type": "text",
        "id": "pJVRZ0hP52ZB"
      },
      "cell_type": "markdown",
      "source": [
        "We'll use this to calculate a single gradient descent step:"
      ]
    },
    {
      "metadata": {
        "colab_type": "code",
        "id": "rxRNTFVe56RG",
        "outputId": "d6133e50-c11d-4d6e-934e-dd66afe38def",
        "scrolled": true,
        "colab": {
          "base_uri": "https://localhost:8080/",
          "height": 34
        }
      },
      "cell_type": "code",
      "source": [
        "let trainingContext = Context(learningPhase: .training)\n",
        "let (loss, grads) = valueWithGradient(at: model) { model in\n",
        "  model.loss(for: firstTrainFeatures,labels: firstTrainLabels, in: trainingContext)\n",
        "}\n",
        "print(\"Initial Loss: \\(loss)\")"
      ],
      "execution_count": 19,
      "outputs": [
        {
          "output_type": "stream",
          "text": [
            "Initial Loss: 1.2482454\r\n"
          ],
          "name": "stdout"
        }
      ]
    },
    {
      "metadata": {
        "colab_type": "text",
        "id": "5B27cIT0O0nE"
      },
      "cell_type": "markdown",
      "source": [
        "We call the `model.update(withGradients:)` method to iterate over all the model parameters and apply gradient descent to them, where `param` is the parameter and where `grad` is the gradient along that parameter."
      ]
    },
    {
      "metadata": {
        "colab_type": "code",
        "id": "icyvh-o6O0nF",
        "outputId": "8ad55a83-2c38-4f56-b79e-be70c0fe26c1",
        "scrolled": true,
        "colab": {
          "base_uri": "https://localhost:8080/",
          "height": 34
        }
      },
      "cell_type": "code",
      "source": [
        "optimizer.update(&model.allDifferentiableVariables, along: grads)\n",
        "print(\"Next Loss: \\(model.loss(for: firstTrainFeatures, labels: firstTrainLabels, in: trainingContext))\")"
      ],
      "execution_count": 20,
      "outputs": [
        {
          "output_type": "stream",
          "text": [
            "Next Loss: 1.2105298\r\n"
          ],
          "name": "stdout"
        }
      ]
    },
    {
      "metadata": {
        "colab_type": "text",
        "id": "nhpgM7UpO0nG"
      },
      "cell_type": "markdown",
      "source": [
        "If you run the above two steps repeatedly, you should expect the loss to go down gradually."
      ]
    },
    {
      "metadata": {
        "colab_type": "text",
        "id": "7Y2VSELvwAvW"
      },
      "cell_type": "markdown",
      "source": [
        "### Training loop\n",
        "\n",
        "With all the pieces in place, the model is ready for training! A training loop feeds the dataset examples into the model to help it make better predictions. The following code block sets up these training steps:\n",
        "\n",
        "1. Iterate each *epoch*. An epoch is one pass through the dataset.\n",
        "2. Within an epoch, iterate over each example in the training `Dataset` grabbing its *features* (`x`) and *label* (`y`).\n",
        "3. Using the example's features, make a prediction and compare it with the label. Measure the inaccuracy of the prediction and use that to calculate the model's loss and gradients.\n",
        "4. Use gradient descent to update the model's variables.\n",
        "5. Keep track of some stats for visualization.\n",
        "6. Repeat for each epoch.\n",
        "\n",
        "The `numEpochs` variable is the number of times to loop over the dataset collection. Counter-intuitively, training a model longer does not guarantee a better model. `numEpochs` is a *[hyperparameter](https://developers.google.com/machine-learning/glossary/#hyperparameter)* that you can tune. Choosing the right number usually requires both experience and experimentation."
      ]
    },
    {
      "metadata": {
        "colab_type": "code",
        "id": "AIgulGRUhpto",
        "scrolled": true,
        "colab": {}
      },
      "cell_type": "code",
      "source": [
        "let numEpochs = 501\n",
        "var trainAccuracyResults: [Float] = []\n",
        "var trainLossResults: [Float] = []"
      ],
      "execution_count": 0,
      "outputs": []
    },
    {
      "metadata": {
        "colab_type": "code",
        "id": "066kVZQFO0nL",
        "outputId": "5e11beeb-f6e5-4455-e2d6-d2de3482f244",
        "scrolled": true,
        "colab": {
          "base_uri": "https://localhost:8080/",
          "height": 204
        }
      },
      "cell_type": "code",
      "source": [
        "func accuracy(predictions: Tensor<Int32>, truths: Tensor<Int32>) -> Float {\n",
        "    return Tensor<Float>(predictions .== truths).mean().scalar!\n",
        "}\n",
        "\n",
        "for epoch in 0..<numEpochs {\n",
        "    var epochLoss: Float = 0\n",
        "    var epochAccuracy: Float = 0\n",
        "    var batchCount: Int = 0\n",
        "    for examples in trainDataset {\n",
        "        let x = examples.first\n",
        "        let y = examples.second\n",
        "        let (loss, grad) = valueWithGradient(at: model) { model in\n",
        "            model.loss(for: firstTrainFeatures, labels: firstTrainLabels, in: trainingContext)\n",
        "        }\n",
        "        optimizer.update(&model.allDifferentiableVariables, along: grad)\n",
        "        \n",
        "        let logits = model.applied(to: x, in: trainingContext)\n",
        "        epochAccuracy += accuracy(predictions: logits.argmax(squeezingAxis: 1), truths: y)\n",
        "        epochLoss += loss.scalar!\n",
        "        batchCount += 1\n",
        "    }\n",
        "    epochAccuracy /= Float(batchCount)\n",
        "    epochLoss /= Float(batchCount)\n",
        "    trainAccuracyResults.append(epochAccuracy)\n",
        "    trainLossResults.append(epochLoss)\n",
        "    if epoch % 50 == 0 {\n",
        "        print(\"Epoch \\(epoch): Loss: \\(epochLoss), Accuracy: \\(epochAccuracy)\")\n",
        "    }\n",
        "}"
      ],
      "execution_count": 22,
      "outputs": [
        {
          "output_type": "stream",
          "text": [
            "Epoch 0: Loss: 1.1748748, Accuracy: 0.328125\n",
            "Epoch 50: Loss: 0.3127958, Accuracy: 0.7942708\n",
            "Epoch 100: Loss: 0.109036565, Accuracy: 0.9505208\n",
            "Epoch 150: Loss: 0.057829764, Accuracy: 0.9817708\n",
            "Epoch 200: Loss: 0.040497053, Accuracy: 0.9921875\n",
            "Epoch 250: Loss: 0.025295708, Accuracy: 0.984375\n",
            "Epoch 300: Loss: 0.016933823, Accuracy: 0.984375\n",
            "Epoch 350: Loss: 0.012143221, Accuracy: 0.984375\n",
            "Epoch 400: Loss: 0.00922173, Accuracy: 0.984375\n",
            "Epoch 450: Loss: 0.007300851, Accuracy: 0.984375\n",
            "Epoch 500: Loss: 0.0059675537, Accuracy: 0.984375\n"
          ],
          "name": "stdout"
        }
      ]
    },
    {
      "metadata": {
        "colab_type": "text",
        "id": "2FQHVUnm_rjw"
      },
      "cell_type": "markdown",
      "source": [
        "### Visualize the loss function over time"
      ]
    },
    {
      "metadata": {
        "colab_type": "text",
        "id": "j3wdbmtLVTyr"
      },
      "cell_type": "markdown",
      "source": [
        "While it's helpful to print out the model's training progress, it's often *more* helpful to see this progress. We can create basic charts using Python's `matplotlib` module.\n",
        "\n",
        "Interpreting these charts takes some experience, but you really want to see the *loss* go down and the *accuracy* go up."
      ]
    },
    {
      "metadata": {
        "colab_type": "code",
        "id": "agjvNd2iUGFn",
        "outputId": "e28f9ce9-30e7-46d6-9bb2-71eede5fcbd6",
        "scrolled": true,
        "colab": {
          "base_uri": "https://localhost:8080/",
          "height": 517
        }
      },
      "cell_type": "code",
      "source": [
        "plt.figure(figsize: [12, 8])\n",
        "\n",
        "let accuracyAxes = plt.subplot(2, 1, 1)\n",
        "accuracyAxes.set_ylabel(\"Accuracy\")\n",
        "accuracyAxes.plot(trainAccuracyResults)\n",
        "\n",
        "let lossAxes = plt.subplot(2, 1, 2)\n",
        "lossAxes.set_ylabel(\"Loss\")\n",
        "lossAxes.set_xlabel(\"Epoch\")\n",
        "lossAxes.plot(trainLossResults)\n",
        "\n",
        "plt.show()"
      ],
      "execution_count": 23,
      "outputs": [
        {
          "output_type": "display_data",
          "data": {
            "image/png": "[encoded data removed]",
            "text/plain": [
              "<Figure size 864x576 with 2 Axes>"
            ]
          },
          "metadata": {
            "tags": []
          }
        },
        {
          "output_type": "execute_result",
          "data": {
            "text/plain": [
              "None\n"
            ]
          },
          "metadata": {
            "tags": []
          },
          "execution_count": 23
        }
      ]
    },
    {
      "metadata": {
        "colab_type": "text",
        "id": "axA6WuGVO0nR"
      },
      "cell_type": "markdown",
      "source": [
        "Note that the y-axes of the graphs are not zero-based."
      ]
    },
    {
      "metadata": {
        "colab_type": "text",
        "id": "Zg8GoMZhLpGH"
      },
      "cell_type": "markdown",
      "source": [
        "## Evaluate the model's effectiveness\n",
        "\n",
        "Now that the model is trained, we can get some statistics on its performance.\n",
        "\n",
        "*Evaluating* means determining how effectively the model makes predictions. To determine the model's effectiveness at iris classification, pass some sepal and petal measurements to the model and ask the model to predict what iris species they represent. Then compare the model's prediction against the actual label.  For example, a model that picked the correct species on half the input examples has an *[accuracy](https://developers.google.com/machine-learning/glossary/#accuracy)* of `0.5`. Figure 4 shows a slightly more effective model, getting 4 out of 5 predictions correct at 80% accuracy:\n",
        "\n",
        "<table cellpadding=\"8\" border=\"0\">\n",
        "  <colgroup>\n",
        "    <col span=\"4\" >\n",
        "    <col span=\"1\" bgcolor=\"lightblue\">\n",
        "    <col span=\"1\" bgcolor=\"lightgreen\">\n",
        "  </colgroup>\n",
        "  <tr bgcolor=\"lightgray\">\n",
        "    <th colspan=\"4\">Example features</th>\n",
        "    <th colspan=\"1\">Label</th>\n",
        "    <th colspan=\"1\" >Model prediction</th>\n",
        "  </tr>\n",
        "  <tr>\n",
        "    <td>5.9</td><td>3.0</td><td>4.3</td><td>1.5</td><td align=\"center\">1</td><td align=\"center\">1</td>\n",
        "  </tr>\n",
        "  <tr>\n",
        "    <td>6.9</td><td>3.1</td><td>5.4</td><td>2.1</td><td align=\"center\">2</td><td align=\"center\">2</td>\n",
        "  </tr>\n",
        "  <tr>\n",
        "    <td>5.1</td><td>3.3</td><td>1.7</td><td>0.5</td><td align=\"center\">0</td><td align=\"center\">0</td>\n",
        "  </tr>\n",
        "  <tr>\n",
        "    <td>6.0</td> <td>3.4</td> <td>4.5</td> <td>1.6</td> <td align=\"center\">1</td><td align=\"center\" bgcolor=\"red\">2</td>\n",
        "  </tr>\n",
        "  <tr>\n",
        "    <td>5.5</td><td>2.5</td><td>4.0</td><td>1.3</td><td align=\"center\">1</td><td align=\"center\">1</td>\n",
        "  </tr>\n",
        "  <tr><td align=\"center\" colspan=\"6\">\n",
        "    <b>Figure 4.</b> An iris classifier that is 80% accurate.<br/>&nbsp;\n",
        "  </td></tr>\n",
        "</table>"
      ]
    },
    {
      "metadata": {
        "colab_type": "text",
        "id": "z-EvK7hGL0d8"
      },
      "cell_type": "markdown",
      "source": [
        "### Setup the test dataset\n",
        "\n",
        "Evaluating the model is similar to training the model. The biggest difference is the examples come from a separate *[test set](https://developers.google.com/machine-learning/crash-course/glossary#test_set)* rather than the training set. To fairly assess a model's effectiveness, the examples used to evaluate a model must be different from the examples used to train the model.\n",
        "\n",
        "The setup for the test `Dataset` is similar to the setup for training `Dataset`. Download the test set from http://download.tensorflow.org/data/iris_training.csv:"
      ]
    },
    {
      "metadata": {
        "colab_type": "code",
        "id": "SRMWCu30bnxH",
        "outputId": "7bcae900-80e7-42ed-cfba-63f84913f815",
        "scrolled": true,
        "colab": {
          "base_uri": "https://localhost:8080/",
          "height": 34
        }
      },
      "cell_type": "code",
      "source": [
        "let urllib = Python.import(\"urllib.request\")\n",
        "let downloadResult = urllib.urlretrieve(\"http://download.tensorflow.org/data/iris_test.csv\",\n",
        "                                        \"iris_test.csv\")\n",
        "let testDataFilename = String(downloadResult[0])!\n",
        "testDataFilename"
      ],
      "execution_count": 24,
      "outputs": [
        {
          "output_type": "execute_result",
          "data": {
            "text/plain": [
              "\"iris_test.csv\"\n"
            ]
          },
          "metadata": {
            "tags": []
          },
          "execution_count": 24
        }
      ]
    },
    {
      "metadata": {
        "colab_type": "text",
        "id": "jEPPL6FUO0nV"
      },
      "cell_type": "markdown",
      "source": [
        " Now load it into a `Dataset`:"
      ]
    },
    {
      "metadata": {
        "colab_type": "code",
        "id": "w6SCt95HO0nW",
        "scrolled": true,
        "colab": {}
      },
      "cell_type": "code",
      "source": [
        "%include \"TutorialDatasetCSVAPI.swift\"\n",
        "let testDataset: Dataset<TensorPair<Tensor<Float>, Tensor<Int32>>> = Dataset(\n",
        "    contentsOfCSVFile: testDataFilename, hasHeader: true,\n",
        "    featureColumns: [0, 1, 2, 3], labelColumns: [4]\n",
        ").batched(batchSize)"
      ],
      "execution_count": 0,
      "outputs": []
    },
    {
      "metadata": {
        "colab_type": "text",
        "id": "HFuOKXJdMAdm"
      },
      "cell_type": "markdown",
      "source": [
        "### Evaluate the model on the test dataset\n",
        "\n",
        "Unlike the training stage, the model only evaluates a single [epoch](https://developers.google.com/machine-learning/glossary/#epoch) of the test data. In the following code cell, we iterate over each example in the test set and compare the model's prediction against the actual label. This is used to measure the model's accuracy across the entire test set."
      ]
    },
    {
      "metadata": {
        "colab_type": "code",
        "id": "Tj4Rs8gwO0nY",
        "outputId": "5dbb9327-30bc-4fa9-b59e-24d4b391d9f7",
        "scrolled": true,
        "colab": {
          "base_uri": "https://localhost:8080/",
          "height": 34
        }
      },
      "cell_type": "code",
      "source": [
        "// NOTE: With `batchSize = 32` and 30 examples in the test dataset, only one batch will run in the loop.\n",
        "for testBatch in testDataset {\n",
        "    let testFeatures = testBatch.first\n",
        "    let testLabels = testBatch.second\n",
        "    let logits = model.applied(to: testFeatures, in: inferenceContext)\n",
        "    let predictions = logits.argmax(squeezingAxis: 1)\n",
        "    print(\"Test batch accuracy: \\(accuracy(predictions: predictions, truths: testLabels))\")\n",
        "}"
      ],
      "execution_count": 26,
      "outputs": [
        {
          "output_type": "stream",
          "text": [
            "Test batch accuracy: 0.96666664\r\n"
          ],
          "name": "stdout"
        }
      ]
    },
    {
      "metadata": {
        "colab_type": "text",
        "id": "HcKEZMtCOeK-"
      },
      "cell_type": "markdown",
      "source": [
        "We can see on the first batch, for example, the model is usually correct:"
      ]
    },
    {
      "metadata": {
        "colab_type": "code",
        "id": "uNwt2eMeOane",
        "outputId": "1b8d67e7-fc23-4cbe-d8e7-6b168411992c",
        "scrolled": true,
        "colab": {
          "base_uri": "https://localhost:8080/",
          "height": 51
        }
      },
      "cell_type": "code",
      "source": [
        "let firstTestBatch = testDataset.first!\n",
        "let firstTestBatchFeatures = firstTestBatch.first\n",
        "let firstTestBatchLabels = firstTestBatch.second\n",
        "let firstTestBatchLogits = model.applied(to: firstTestBatchFeatures, in: inferenceContext)\n",
        "let firstTestBatchPredictions = firstTestBatchLogits.argmax(squeezingAxis: 1)\n",
        "\n",
        "print(firstTestBatchPredictions)\n",
        "print(firstTestBatchLabels)"
      ],
      "execution_count": 27,
      "outputs": [
        {
          "output_type": "stream",
          "text": [
            "[1, 2, 0, 1, 1, 1, 0, 2, 1, 2, 2, 0, 2, 1, 1, 0, 1, 0, 0, 2, 0, 1, 2, 2, 1, 1, 0, 1, 2, 1]\r\n",
            "[1, 2, 0, 1, 1, 1, 0, 2, 1, 2, 2, 0, 2, 1, 1, 0, 1, 0, 0, 2, 0, 1, 2, 1, 1, 1, 0, 1, 2, 1]\r\n"
          ],
          "name": "stdout"
        }
      ]
    },
    {
      "metadata": {
        "colab_type": "text",
        "id": "7Li2r1tYvW7S"
      },
      "cell_type": "markdown",
      "source": [
        "## Use the trained model to make predictions\n",
        "\n",
        "We've trained a model and demonstrated that it's good—but not perfect—at classifying iris species. Now let's use the trained model to make some predictions on [unlabeled examples](https://developers.google.com/machine-learning/glossary/#unlabeled_example); that is, on examples that contain features but not a label.\n",
        "\n",
        "In real-life, the unlabeled examples could come from lots of different sources including apps, CSV files, and data feeds. For now, we're going to manually provide three unlabeled examples to predict their labels. Recall, the label numbers are mapped to a named representation as:\n",
        "\n",
        "* `0`: Iris setosa\n",
        "* `1`: Iris versicolor\n",
        "* `2`: Iris virginica"
      ]
    },
    {
      "metadata": {
        "colab_type": "code",
        "id": "MTYOZr27O0ne",
        "outputId": "ea09c04f-676e-46e4-bda0-482137515ccf",
        "scrolled": true,
        "colab": {
          "base_uri": "https://localhost:8080/",
          "height": 68
        }
      },
      "cell_type": "code",
      "source": [
        "let unlabeledDataset: Tensor<Float> =\n",
        "    [[5.1, 3.3, 1.7, 0.5],\n",
        "     [5.9, 3.0, 4.2, 1.5],\n",
        "     [6.9, 3.1, 5.4, 2.1]]\n",
        "\n",
        "let unlabeledDatasetPredictions = model.applied(to: unlabeledDataset, in: inferenceContext)\n",
        "\n",
        "for i in 0..<unlabeledDatasetPredictions.shape[0] {\n",
        "    let logits = unlabeledDatasetPredictions[i]\n",
        "    let classIdx = logits.argmax().scalar!\n",
        "    print(\"Example \\(i) prediction: \\(classNames[Int(classIdx)]) (\\(softmax(logits)))\")\n",
        "}"
      ],
      "execution_count": 28,
      "outputs": [
        {
          "output_type": "stream",
          "text": [
            "Example 0 prediction: Iris setosa ([0.9952336, 0.0047664195, 2.17275e-11])\r\n",
            "Example 1 prediction: Iris versicolor ([3.0507525e-05, 0.99973875, 0.00023078383])\r\n",
            "Example 2 prediction: Iris virginica ([2.31475e-08, 0.007963826, 0.99203616])\r\n"
          ],
          "name": "stdout"
        }
      ]
    },
    {
      "metadata": {
        "colab_type": "text",
        "id": "rwxGnsA92emp"
      },
      "cell_type": "markdown",
      "source": [
        "##### Copyright 2019 The TensorFlow Authors."
      ]
    },
    {
      "metadata": {
        "cellView": "form",
        "colab_type": "code",
        "id": "CPII1rGR2rF9",
        "scrolled": true,
        "colab": {}
      },
      "cell_type": "code",
      "source": [
        "// Licensed under the Apache License, Version 2.0 (the \"License\");\n",
        "// you may not use this file except in compliance with the License.\n",
        "// You may obtain a copy of the License at\n",
        "//\n",
        "// https://www.apache.org/licenses/LICENSE-2.0\n",
        "//\n",
        "// Unless required by applicable law or agreed to in writing, software\n",
        "// distributed under the License is distributed on an \"AS IS\" BASIS,\n",
        "// WITHOUT WARRANTIES OR CONDITIONS OF ANY KIND, either express or implied.\n",
        "// See the License for the specific language governing permissions and\n",
        "// limitations under the License."
      ],
      "execution_count": 0,
      "outputs": []
    }
  ]
}