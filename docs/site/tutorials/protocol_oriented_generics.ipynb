{
  "nbformat": 4,
  "nbformat_minor": 0,
  "metadata": {
    "colab": {
      "name": "Protocol Oriented Programming.ipynb",
      "version": "0.3.2",
      "provenance": [],
      "collapsed_sections": [],
      "toc_visible": true
    },
    "language_info": {
      "file_extension": ".swift",
      "mimetype": "text/x-swift",
      "name": "swift",
      "version": ""
    },
    "kernelspec": {
      "display_name": "Swift",
      "language": "swift",
      "name": "swift"
    }
  },
  "cells": [
    {
      "cell_type": "markdown",
      "metadata": {
        "colab_type": "text",
        "id": "ZloPIuRHn97X"
      },
      "source": [
        "##### Copyright 2018 The TensorFlow Authors. [Licensed under the Apache License, Version 2.0](#scrollTo=Afd8bu4xJOgh)."
      ]
    },
    {
      "cell_type": "code",
      "metadata": {
        "colab_type": "code",
        "id": "tNgCmfUvJNoF",
        "colab": {}
      },
      "source": [
        "#@title Licensed under the Apache License, Version 2.0 (the \"License\"); { display-mode: \"form\" }\n",
        "// Licensed under the Apache License, Version 2.0 (the \"License\");\n",
        "// you may not use this file except in compliance with the License.\n",
        "// You may obtain a copy of the License at\n",
        "//\n",
        "// https://www.apache.org/licenses/LICENSE-2.0\n",
        "//\n",
        "// Unless required by applicable law or agreed to in writing, software\n",
        "// distributed under the License is distributed on an \"AS IS\" BASIS,\n",
        "// WITHOUT WARRANTIES OR CONDITIONS OF ANY KIND, either express or implied.\n",
        "// See the License for the specific language governing permissions and\n",
        "// limitations under the License."
      ],
      "execution_count": 0,
      "outputs": []
    },
    {
      "cell_type": "markdown",
      "metadata": {
        "colab_type": "text",
        "id": "AlvdCHw5JGyx"
      },
      "source": [
        "<table class=\"tfo-notebook-buttons\" align=\"left\">\n",
        "  <td>\n",
        "    <a target=\"_blank\" href=\"https://www.tensorflow.org/swift/tutorials/protocol_oriented_generics\"><img src=\"https://www.tensorflow.org/images/tf_logo_32px.png\" />View on TensorFlow.org</a>\n",
        "  </td>\n",
        "  <td>\n",
        "    <a target=\"_blank\" href=\"https://colab.research.google.com/github/tensorflow/swift/blob/master/docs/site/tutorials/protocol_oriented_generics.ipynb\"><img src=\"https://www.tensorflow.org/images/colab_logo_32px.png\" />Run in Google Colab</a>\n",
        "  </td>\n",
        "  <td>\n",
        "    <a target=\"_blank\" href=\"https://github.com/tensorflow/swift/blob/master/docs/site/tutorials/protocol_oriented_generics.ipynb\"><img src=\"https://www.tensorflow.org/images/GitHub-Mark-32px.png\" />View source on GitHub</a>\n",
        "  </td>\n",
        "</table>"
      ]
    },
    {
      "cell_type": "markdown",
      "metadata": {
        "colab_type": "text",
        "id": "c_1u7JSBMx3x"
      },
      "source": [
        "# Protocol Oriented Programming & Generics\n",
        "\n",
        "This tutorial will go over protocol oriented programming, and different examples of how they can be used with generics in day to day examples."
      ]
    },
    {
      "cell_type": "markdown",
      "metadata": {
        "colab_type": "text",
        "id": "LP0gMw56TlvH"
      },
      "source": [
        "## Problem with Object Oriented Programming (OOP)\n",
        "\n",
        "OOP has been taught as the de-facto design pattern that is taught in school and used throughout the development stack - from web frontend, to mobile, to backend, and machine learning with TensorFlow in Python.\n",
        "\n",
        "However, OOP does come with some drawbacks:\n",
        "1. Classes are usually reference types which can cause unexpected behavior when modifying state, especially in a multithreaded environment.\n",
        "2. Multi-class inheritance can introduce complexity, and some languages out there don't support multi-class inheritance (**Swift is one of these languages!**).\n",
        "\n",
        "This is where protocol oriented programing comes in handy. But first, lets discuss value types in Swift.\n"
      ]
    },
    {
      "cell_type": "markdown",
      "metadata": {
        "id": "5AIIH5Q59b41",
        "colab_type": "text"
      },
      "source": [
        "## Swift 💖's Value Types!\n",
        "\n",
        "Swift was built around the idea of embracing value types. For example, `enums` and `structs` in Swift are filled with features like extensions, methods, and properties which can only typically be found in classes in other languages.\n",
        "\n",
        "Firstly let's look at how enums are similar to classes"
      ]
    },
    {
      "cell_type": "code",
      "metadata": {
        "id": "zCN0Uc0w-gng",
        "colab_type": "code",
        "outputId": "d5294d63-4f14-4b44-ff54-869462356036",
        "colab": {
          "base_uri": "https://localhost:8080/",
          "height": 51
        }
      },
      "source": [
        "enum Color: String {\n",
        "  case red = \"red\"\n",
        "  case green = \"green\"\n",
        "  case blue = \"blue\"\n",
        "  \n",
        "  // A computed property. Note that enums cannot contain stored properties.\n",
        "  var giveHint: String {\n",
        "    switch self {\n",
        "      case .red:\n",
        "        return \"Roses are this color.\"\n",
        "      case .green:\n",
        "        return \"Grass is this color.\"\n",
        "      case .blue:\n",
        "        return \"The ocean is this color.\"\n",
        "    }\n",
        "  }\n",
        "  \n",
        "  // An initializer like for classes\n",
        "  init?(color: String) {\n",
        "    switch color {\n",
        "      case \"red\":\n",
        "        self = .red\n",
        "      case \"green\":\n",
        "        self = .green\n",
        "      case \"blue\":\n",
        "        self = .blue\n",
        "      default:\n",
        "        return nil\n",
        "    }\n",
        "  }\n",
        "}\n",
        "\n",
        "// Can extend the enum as well!\n",
        "extension Color {\n",
        "  // A function \n",
        "  func giveHintFunc() -> String {\n",
        "    return self.giveHint\n",
        "  }\n",
        "}\n",
        "\n",
        "let c: Color = .red\n",
        "print(\"Give me a hint for c: \\(c.giveHintFunc())\")\n",
        "\n",
        "let invalidColor = Color(color: \"orange\")\n",
        "print(\"is invalidColor nil: \\(invalidColor == nil)\")"
      ],
      "execution_count": 2,
      "outputs": [
        {
          "output_type": "stream",
          "text": [
            "Give me a hint for c: Roses are this color.\r\n",
            "is invalidColor nil: true\r\n"
          ],
          "name": "stdout"
        }
      ]
    },
    {
      "cell_type": "markdown",
      "metadata": {
        "id": "ueiGy9gCgypk",
        "colab_type": "text"
      },
      "source": [
        "Now let's look at structs. Notice that we cannot inherit structs, but we can use protocols instead."
      ]
    },
    {
      "cell_type": "code",
      "metadata": {
        "id": "ns4qCE1pg3uJ",
        "colab_type": "code",
        "outputId": "a78f7af2-f2e8-46e0-9089-c660a0384310",
        "colab": {
          "base_uri": "https://localhost:8080/",
          "height": 68
        }
      },
      "source": [
        "struct Car {\n",
        "  // Can have variables and constants as stored properties\n",
        "  var color: Color\n",
        "  let horsePower: Int\n",
        "  \n",
        "  // Can have computed properties\n",
        "  var watts: Float {\n",
        "    return Float(horsePower) * 745.7\n",
        "  }\n",
        "  \n",
        "  // Can have lazy variables like in classes!\n",
        "  lazy var titleCaseColorString: String = {\n",
        "    let colorString = color.rawValue\n",
        "    return colorString.prefix(1).uppercased() + colorString.lowercased().dropFirst()\n",
        "  }()\n",
        "  \n",
        "  // A function\n",
        "  func description() -> String {\n",
        "    return \"This is a \\(color) car with \\(horsePower) horse power!\"\n",
        "  }\n",
        "  \n",
        "  // Can create a variety of initializers\n",
        "  init(color: Color, horsePower: Int) {\n",
        "    self.color = color\n",
        "    self.horsePower = horsePower\n",
        "  }\n",
        "  \n",
        "  // Can define extra initializers other than the default one\n",
        "  init?(color: String, horsePower: Int) {\n",
        "    guard let enumColor = Color(color: color) else {\n",
        "      return nil\n",
        "    }\n",
        "    self.color = enumColor\n",
        "    self.horsePower = horsePower\n",
        "  }\n",
        "}\n",
        "\n",
        "var car = Car(color: .red, horsePower: 250)\n",
        "print(car.description())\n",
        "print(\"Horse power in watts: \\(car.watts)\")\n",
        "print(car.titleCaseColorString)"
      ],
      "execution_count": 3,
      "outputs": [
        {
          "output_type": "stream",
          "text": [
            "This is a red car with 250 horse power!\r\n",
            "Horse power in watts: 186425.0\r\n",
            "Red\r\n"
          ],
          "name": "stdout"
        }
      ]
    },
    {
      "cell_type": "markdown",
      "metadata": {
        "id": "1Hw8bpQIlaWT",
        "colab_type": "text"
      },
      "source": [
        "Finally let's see how they are pass by value types unlike classes:"
      ]
    },
    {
      "cell_type": "code",
      "metadata": {
        "id": "C67qzGBVlhdo",
        "colab_type": "code",
        "outputId": "d1771fef-1942-498c-c408-5d203c5a40f0",
        "colab": {
          "base_uri": "https://localhost:8080/",
          "height": 51
        }
      },
      "source": [
        "// Notice we have no problem modifying a constant class with variable properties\n",
        "class A {\n",
        "  var a = \"a\"\n",
        "}\n",
        "\n",
        "func foo(_ a: A) {\n",
        "  a.a = \"foo\"\n",
        "}\n",
        "let a = A()\n",
        "print(a.a)\n",
        "foo(a)\n",
        "print(a.a)\n",
        "\n",
        "/* \n",
        "Uncomment the following code to see how an error is thrown.\n",
        "Structs are implicitly passed by value, so we cannot modify it.\n",
        "> \"error: cannot assign to property: 'car' is a 'let' constant\"\n",
        "*/\n",
        "\n",
        "// func modify(car: Car, toColor color: Color) -> Void {\n",
        "//   car.color = color\n",
        "// }\n",
        "\n",
        "// car = Car(color: .red, horsePower: 250)\n",
        "// print(car.description())\n",
        "// modify(car: &car, toColor: .blue)\n",
        "// print(car.description())\n"
      ],
      "execution_count": 4,
      "outputs": [
        {
          "output_type": "stream",
          "text": [
            "a\r\n",
            "foo\r\n"
          ],
          "name": "stdout"
        }
      ]
    },
    {
      "cell_type": "markdown",
      "metadata": {
        "id": "0BNxC5RyoKM7",
        "colab_type": "text"
      },
      "source": [
        "## So, What are Protocols Exactly?\n",
        "\n",
        "Simply put, you could consider protocols as a way to introduce multiple inheritence, interfaces, and abstract class concepts to not just classes, but structs and enums as well. \n",
        "\n",
        "Let's start by creating protocols for different homes."
      ]
    },
    {
      "cell_type": "code",
      "metadata": {
        "id": "3ZSm1uTWoJ0h",
        "colab_type": "code",
        "colab": {}
      },
      "source": [
        "protocol House {\n",
        "  var color: Color { get set }\n",
        "  var yearBuilt: Int { get }\n",
        "  var price: Int { get }\n",
        "  var doIHaveALawn: Bool { get }\n",
        "}\n",
        "\n",
        "protocol Apartment {\n",
        "  var floorLevel: Int { get }\n",
        "}\n",
        "\n",
        "protocol Lawn {\n",
        "  var lawnSize: Int { get }\n",
        "}"
      ],
      "execution_count": 0,
      "outputs": []
    },
    {
      "cell_type": "markdown",
      "metadata": {
        "id": "aV_F6MyLps3h",
        "colab_type": "text"
      },
      "source": [
        "In a object oriented world (with no multiple inheritence), you may have made `House` a base class then used class inheritence to make `Apartment` inherit from `House`. However, here both are completely separate protocols with **zero** coupling! This makes the entire system more flexible in how you design it. \n",
        "\n",
        "Let's define an apartment in a major city like San Francisco:"
      ]
    },
    {
      "cell_type": "code",
      "metadata": {
        "id": "LkGRtwz3psrP",
        "colab_type": "code",
        "colab": {}
      },
      "source": [
        "struct SFApartment : House, Apartment {\n",
        "  var color: Color // Needs to be a var since House has a getter and setter\n",
        "  let yearBuilt: Int\n",
        "  let floorLevel: Int\n",
        "  let doIHaveALawn = false\n",
        "  \n",
        "  var price: Int {\n",
        "    return yearBuilt * -5 + floorLevel * 10000 + 1250000\n",
        "  }\n",
        "}\n",
        "\n",
        "var apartment = SFApartment(color: .red, yearBuilt: 1970, floorLevel: 10)"
      ],
      "execution_count": 0,
      "outputs": []
    },
    {
      "cell_type": "markdown",
      "metadata": {
        "id": "K5KB0IGLrkcm",
        "colab_type": "text"
      },
      "source": [
        "This specifies a new struct `SFApartment` that conforms to both protocols `House` and `Apartment`.\n",
        "\n",
        "Now, let's define a house that isn't an apartment, like a bungalow in Los Angeles which have fresh green lawns."
      ]
    },
    {
      "cell_type": "code",
      "metadata": {
        "id": "GPLKFUAOrMp-",
        "colab_type": "code",
        "colab": {}
      },
      "source": [
        "struct LABungalow : House, Lawn { \n",
        "  var color: Color\n",
        "  let yearBuilt: Int\n",
        "  let squareFootage: Int\n",
        "  let doIHaveALawn = true\n",
        "  let lawnSize: Int\n",
        "  \n",
        "  var price: Int {\n",
        "    return yearBuilt * -7 + squareFootage * 5000 + 2330000\n",
        "  }\n",
        "}\n",
        "\n",
        "var bungalow = LABungalow(color: .red, yearBuilt: 1970, squareFootage: 2500, lawnSize: 100)"
      ],
      "execution_count": 0,
      "outputs": []
    },
    {
      "cell_type": "markdown",
      "metadata": {
        "id": "jrbCRkglsi_d",
        "colab_type": "text"
      },
      "source": [
        "### Extend Protocols with Default Behaviors\n",
        "\n",
        "Notice that a bungalow is not an apartment, so we don't conform to the `Apartment`  protocol. Additionally, we are free to add any additional functions and properties like `squareFootage` which isn't a part of the `House` protocol.\n",
        "\n",
        "What you can notice from the examples is that we have some redundancy. Every time we create a new home, we need to set `doIHaveALawn` to true or false. But we can argue that only homes that conform to the `Lawn` protocol can have a lawn\n",
        "\n",
        "This is where extensions in Swift can come in handy:"
      ]
    },
    {
      "cell_type": "code",
      "metadata": {
        "id": "NiHUJxXMtzSg",
        "colab_type": "code",
        "colab": {}
      },
      "source": [
        "extension House {\n",
        "  var doIHaveALawn: Bool { return self is Lawn }\n",
        "}"
      ],
      "execution_count": 0,
      "outputs": []
    },
    {
      "cell_type": "markdown",
      "metadata": {
        "id": "v8QbTb9NxWqI",
        "colab_type": "text"
      },
      "source": [
        "So now, any class conforming to `House` will have `doIHaveALawn` property defined without any additional work."
      ]
    },
    {
      "cell_type": "markdown",
      "metadata": {
        "id": "VIXakqxtvkp_",
        "colab_type": "text"
      },
      "source": [
        "![Protocol Comic](https://koenig-media.raywenderlich.com/uploads/2015/06/protocols-extend.png  =350x250)\n",
        "\n",
        "Thanks to [Ray Wenderlich](https://www.raywenderlich.com/814-introducing-protocol-oriented-programming-in-swift-3) for the comic!"
      ]
    },
    {
      "cell_type": "markdown",
      "metadata": {
        "id": "HzB0XC0wwMLD",
        "colab_type": "text"
      },
      "source": [
        "### Overriding Default Behavior\n",
        "\n",
        "Thus, we have just been able to decorate classes, structs, and enums with unique, and default behavior without introducing any additional state unlike OOP with base classes.\n",
        "\n",
        "However, if we want to, we can still override the default behavior. Let's say that all expensive apartments with a price greater than  $12,000,000 have lawns."
      ]
    },
    {
      "cell_type": "code",
      "metadata": {
        "id": "CaIZhcsVyBKz",
        "colab_type": "code",
        "colab": {}
      },
      "source": [
        "struct ExpensiveApartment : House, Apartment {\n",
        "  var color: Color\n",
        "  let yearBuilt: Int\n",
        "  let floorLevel: Int\n",
        "  \n",
        "  var price: Int {\n",
        "    return yearBuilt * -1 + floorLevel * 200000 + 9250000\n",
        "  }\n",
        "}\n",
        "\n",
        "extension ExpensiveApartment {\n",
        "  var doIHaveALawn: Bool {\n",
        "    return price > 12000000\n",
        "  }\n",
        "}"
      ],
      "execution_count": 0,
      "outputs": []
    },
    {
      "cell_type": "markdown",
      "metadata": {
        "id": "c_Xmw5cDy_rZ",
        "colab_type": "text"
      },
      "source": [
        "## Standard Library Uses of Protocols\n",
        "\n",
        "Now that we have an idea how protocols in Swift work, let's go through some typical examples of using the standard library protocols.\n",
        "\n",
        "### Extending the Standard Library\n",
        "Lets see how we can add additional functionality to types that exist in Swift already. Since types in Swift aren't built in, but are part of the standard library as structs, this is easy to do.\n",
        "\n",
        "Let's add the ability to capitalize a sentence which is missing in Swift:"
      ]
    },
    {
      "cell_type": "code",
      "metadata": {
        "id": "4F2ahCZbysQv",
        "colab_type": "code",
        "outputId": "3e2de724-3075-4422-f436-298bb8a5d292",
        "colab": {
          "base_uri": "https://localhost:8080/",
          "height": 51
        }
      },
      "source": [
        "extension String {\n",
        "  func capitalizeSingleSentence() -> String {\n",
        "    return prefix(1).uppercased() + self.dropFirst()\n",
        "  }\n",
        "}\n",
        "\n",
        "let sentence = \"hello world!\"\n",
        "print(\"Before: \\(sentence)\")\n",
        "print(\"After: \\(sentence.capitalizeSingleSentence())\")"
      ],
      "execution_count": 10,
      "outputs": [
        {
          "output_type": "stream",
          "text": [
            "Before: hello world!\r\n",
            "After: Hello world!\r\n"
          ],
          "name": "stdout"
        }
      ]
    },
    {
      "cell_type": "markdown",
      "metadata": {
        "id": "fYgI5J9yGXoW",
        "colab_type": "text"
      },
      "source": [
        "For a more complex example, let's try and do binary search on an array of elements, while also making sure to check that the array is sorted."
      ]
    },
    {
      "cell_type": "code",
      "metadata": {
        "id": "-Jfn3P3P1RDt",
        "colab_type": "code",
        "outputId": "2b5891a1-c47a-4289-d52e-ccdd19999c59",
        "colab": {
          "base_uri": "https://localhost:8080/",
          "height": 68
        }
      },
      "source": [
        "extension Collection where Element: Comparable {\n",
        "  \n",
        "  // Verify that a Collection is sorted\n",
        "  func isSorted(_ order: (Element, Element) -> Bool) -> Bool {\n",
        "    var i = index(startIndex, offsetBy: 1)\n",
        "    \n",
        "    while i < endIndex {\n",
        "      // The longer way of calling a binary function like <, <=, ==, etc.\n",
        "      if !order(self[index(i, offsetBy: -1)], self[i]) {\n",
        "        return false\n",
        "      }\n",
        "      i = index(i, offsetBy: 1)\n",
        "    }\n",
        "    return true\n",
        "  }\n",
        "  \n",
        "  // Perform binary search on a Collection, verifying it is sorted\n",
        "  func binarySearch(_ num: Element) -> Index? {\n",
        "    guard self.isSorted(<=) else {\n",
        "      return nil\n",
        "    }\n",
        "    var low = startIndex\n",
        "    var high = endIndex\n",
        "    \n",
        "    while low <= high {\n",
        "      let mid = index(low, offsetBy: distance(from: low, to: high)/2)\n",
        "\n",
        "      if self[mid] == num {\n",
        "        return mid\n",
        "      } else if self[mid] < num {\n",
        "        low = index(mid, offsetBy: 1)\n",
        "      } else {\n",
        "        high = index(mid, offsetBy: -1)\n",
        "      }\n",
        "    }\n",
        "    \n",
        "    return nil\n",
        "  }\n",
        "}\n",
        "\n",
        "print([2, 2, 5, 7, 11, 13, 17].binarySearch(5)!)\n",
        "print([\"a\", \"b\", \"c\", \"d\"].binarySearch(\"b\")!)\n",
        "print([1.1, 2.2, 3.3, 4.4, 5.5].binarySearch(3.3)!)"
      ],
      "execution_count": 11,
      "outputs": [
        {
          "output_type": "stream",
          "text": [
            "2\r\n",
            "1\r\n",
            "2\r\n"
          ],
          "name": "stdout"
        }
      ]
    },
    {
      "cell_type": "markdown",
      "metadata": {
        "id": "CIh7qyFVqlaH",
        "colab_type": "text"
      },
      "source": [
        "We do this by extending the [`Collection`](https://developer.apple.com/documentation/swift/collection) protocol which defines *\"a sequence whose elements can be traversed multiple times, nondestructively, and accessed by an indexed subscript.\"* Since arrays can be indexed using the square bracket notation, this is the protocol we want to extend.\n",
        "\n",
        "Similarly, we only want to add this utility function to arrays whose elements can be compared. This is the reason why we have `where Element: Comparable`. \n",
        "\n",
        "The `where` clause is a part of Swift's generic type system, which we will cover soon, but in short lets us add additional requirements to the extension we are writing, such as to require the type to implement a protocol, to require two types to be the same, or to require a class to have a particular superclass.\n",
        "\n",
        "[`Element`](https://developer.apple.com/documentation/swift/sequence/2908099-element) is the associated type (type alias) of the element in the `Collection` conforming value type. `Element` is defined within the [`Sequence`](https://developer.apple.com/documentation/swift/sequence) protocol, but since `Collection` conforms to `Sequence`, it inherits the `Element` associated type.\n",
        "\n",
        "[`Comparable`](https://developer.apple.com/documentation/swift/comparable) is a protocol that defines *\"a type that can be compared using the relational operators <, <=, >=, and >.\"*. Since we are performing binary search on a sorted list, this of course has to be true or else we don't know whether to recurse/iterate left or right in the binary search.\n",
        "\n",
        "As a side note about the implementation,  for more info on the `index(_:offsetBy:)` function that was used, refer to the following [documentation](https://developer.apple.com/documentation/swift/string/1786175-index)."
      ]
    },
    {
      "cell_type": "markdown",
      "metadata": {
        "id": "TmqFx2layKs7",
        "colab_type": "text"
      },
      "source": [
        "## Generics + Protocols = 💥\n",
        "Generics and protocols can be a powerful tool if used correctly to avoid duplicate code, but still keeping it very expressive.\n",
        "\n",
        "Firstly, look over our other tutorial, [A Swift Tour](https://colab.research.google.com/github/tensorflow/swift/blob/master/docs/site/tutorials/a_swift_tour.ipynb), which briefly covers generics at the end of the Colab book.\n",
        "\n",
        "Assuming you have a general idea about generics, let's quickly take a look at some advanced uses before moving on to how protocol oriented programming is used in Swift for TensorFlow which really exploits the combined power of protocol oriented programming and generics!\n",
        "\n",
        "When a single type has multiple requirements such as a type adhering to several protocols, you have several options at your disposal:"
      ]
    },
    {
      "cell_type": "code",
      "metadata": {
        "id": "HIjkHLGtz268",
        "colab_type": "code",
        "outputId": "c9233410-eb36-495c-a7b2-310b2e90ea5f",
        "colab": {
          "base_uri": "https://localhost:8080/",
          "height": 102
        }
      },
      "source": [
        "typealias numComp = Comparable & FloatingPoint\n",
        "\n",
        "func foo1<T: numComp>(a: T, b: T) -> Bool {\n",
        "  return a > b\n",
        "}\n",
        "\n",
        "func foo2<T: Comparable & FloatingPoint>(a: T, b: T) -> Bool {\n",
        "  return a > b\n",
        "}\n",
        "\n",
        "func foo3<T>(a: T, b: T) -> Bool \n",
        "  where T: numComp\n",
        "{\n",
        "  return a > b\n",
        "}\n",
        "\n",
        "func foo4<T>(a: T, b: T) -> Bool \n",
        "  where T: Comparable & FloatingPoint\n",
        "{\n",
        "  return a > b\n",
        "}\n",
        "\n",
        "func foo5<T: FloatingPoint>(a: T, b: T) -> Bool \n",
        "  where T: Comparable\n",
        "{\n",
        "  return a > b\n",
        "}\n",
        "\n",
        "print(foo1(a: 1, b: 2))\n",
        "print(foo2(a: 1, b: 2))\n",
        "print(foo3(a: 1, b: 2))\n",
        "print(foo4(a: 1, b: 2))\n",
        "print(foo5(a: 1, b: 2))"
      ],
      "execution_count": 12,
      "outputs": [
        {
          "output_type": "stream",
          "text": [
            "false\r\n",
            "false\r\n",
            "false\r\n",
            "false\r\n",
            "false\r\n"
          ],
          "name": "stdout"
        }
      ]
    },
    {
      "cell_type": "markdown",
      "metadata": {
        "id": "DMCioS9Dz5Fh",
        "colab_type": "text"
      },
      "source": [
        "Notice the use of `typealias` at the top. This adds a named alias of an existing type into your program. After a type alias is declared, the aliased name can be used instead of the existing type everywhere in your program. The existing type can be a named type or a compound type. Type aliases do not create new types; they simply allow a name to refer to an existing type.\n",
        "\n",
        "Now let's see how we can use protocols and generics together.\n",
        "\n",
        "Let's imagine we are a computer store with the following requirements on any laptop we sell for determining how we organize them in the back of the store:"
      ]
    },
    {
      "cell_type": "code",
      "metadata": {
        "id": "oKvieIsw2YJW",
        "colab_type": "code",
        "colab": {}
      },
      "source": [
        "enum Box {\n",
        "  case small\n",
        "  case medium\n",
        "  case large\n",
        "}\n",
        "\n",
        "enum Mass {\n",
        "  case light\n",
        "  case medium\n",
        "  case heavy\n",
        "}\n",
        "\n",
        "// NOTE: CustomStringConvertible protocol lets us pretty print the object\n",
        "// conforming to Laptop\n",
        "struct Laptop : CustomStringConvertible {\n",
        "  var name: String\n",
        "  var box: Box\n",
        "  var mass: Mass\n",
        "  \n",
        "  var description: String {\n",
        "    return \"(\\(self.name) \\(self.box) \\(self.mass))\"\n",
        "  }\n",
        "}"
      ],
      "execution_count": 0,
      "outputs": []
    },
    {
      "cell_type": "markdown",
      "metadata": {
        "id": "ey519vu04FgG",
        "colab_type": "text"
      },
      "source": [
        "However, we got a new requirement of grouping our Laptops by mass since the shelves have weight restrictions."
      ]
    },
    {
      "cell_type": "code",
      "metadata": {
        "id": "tVRuqx_q4jQ9",
        "colab_type": "code",
        "outputId": "e697c23a-8548-49ca-fd97-12ac97c3c9a9",
        "colab": {
          "base_uri": "https://localhost:8080/",
          "height": 34
        }
      },
      "source": [
        "func filterLaptops(_ array: [Laptop], by mass: Mass) -> [Laptop] {\n",
        "  return array.filter{ $0.mass == mass }\n",
        "}\n",
        "\n",
        "let listOfLaptops: [Laptop] = [\n",
        "  Laptop(name: \"a\", box: .small, mass: .light),\n",
        "  Laptop(name: \"b\", box: .large, mass: .medium),\n",
        "  Laptop(name: \"c\", box: .medium, mass: .heavy),\n",
        "  Laptop(name: \"d\", box: .large, mass: .light)\n",
        "]\n",
        "\n",
        "let filteredList = filterLaptops(listOfLaptops, by: .light)\n",
        "print(filteredList)"
      ],
      "execution_count": 14,
      "outputs": [
        {
          "output_type": "stream",
          "text": [
            "[(a small light), (d large light)]\r\n"
          ],
          "name": "stdout"
        }
      ]
    },
    {
      "cell_type": "markdown",
      "metadata": {
        "id": "Lw_W5zW17UMc",
        "colab_type": "text"
      },
      "source": [
        "However, what if we wanted to filter by something other than `Mass`? We can do the following naive approach."
      ]
    },
    {
      "cell_type": "code",
      "metadata": {
        "id": "2qDVD9Yl8POQ",
        "colab_type": "code",
        "outputId": "f1e8a6e6-999d-4091-d327-be5992d47a33",
        "colab": {
          "base_uri": "https://localhost:8080/",
          "height": 51
        }
      },
      "source": [
        "// Define a protocol which will act as our comparator\n",
        "protocol FilterPredicate {\n",
        "  associatedtype Device\n",
        "  func shouldKeep(item: Device) -> Bool\n",
        "}\n",
        "\n",
        "// =============================================================================\n",
        "// Define the structs we will use for passing into our filtering function\n",
        "struct BoxFilter : FilterPredicate {\n",
        "  typealias Device = Laptop\n",
        "  var box: Box \n",
        "  \n",
        "  func shouldKeep(item: Laptop) -> Bool {\n",
        "    return item.box == box\n",
        "  }\n",
        "}\n",
        "\n",
        "struct MassFilter : FilterPredicate {\n",
        "  typealias Device = Laptop  \n",
        "  var mass: Mass\n",
        "  \n",
        "  func shouldKeep(item: Laptop) -> Bool {\n",
        "    return item.mass == mass\n",
        "  }\n",
        "}\n",
        "\n",
        "// =============================================================================\n",
        "// Make sure our filter conforms to FilterPredicate and that we are filtering\n",
        "// Laptops\n",
        "func filterLaptops2<F: FilterPredicate>\n",
        "(\n",
        "  _ array: [Laptop], \n",
        "  by filter: F\n",
        ") -> [Laptop] where Laptop == F.Device {\n",
        "  return array.filter{ filter.shouldKeep(item: $0) }\n",
        "}\n",
        "\n",
        "// =============================================================================\n",
        "\n",
        "print(filterLaptops2(listOfLaptops, by: BoxFilter(box: .large)))\n",
        "print(filterLaptops2(listOfLaptops, by: MassFilter(mass: .heavy)))"
      ],
      "execution_count": 15,
      "outputs": [
        {
          "output_type": "stream",
          "text": [
            "[(b large medium), (d large light)]\r\n",
            "[(c medium heavy)]\r\n"
          ],
          "name": "stdout"
        }
      ]
    },
    {
      "cell_type": "markdown",
      "metadata": {
        "id": "yFx_6y0-CRHc",
        "colab_type": "text"
      },
      "source": [
        "Awesome! Now we are able to filter based on anything. However, we are only able to filter `Laptop`s. What about being able to filter anything that is in a box and has mass? Maybe this warehouse of laptops will also be used for servers which have a different customer base."
      ]
    },
    {
      "cell_type": "code",
      "metadata": {
        "id": "EzhE_K-eCvYt",
        "colab_type": "code",
        "outputId": "47035044-4327-4751-ecd5-74dbad257d8e",
        "colab": {
          "base_uri": "https://localhost:8080/",
          "height": 85
        }
      },
      "source": [
        "// Define 2 new protocols so we can filter anything in a box and which has mass\n",
        "protocol HasMass {\n",
        "  var mass: Mass { get }\n",
        "}\n",
        "\n",
        "protocol HasBox {\n",
        "  var box: Box { get }\n",
        "}\n",
        "\n",
        "// =============================================================================\n",
        "// Define the new Laptop and Server struct which have mass and a box\n",
        "struct Laptop2 : CustomStringConvertible, HasBox, HasMass {\n",
        "  var name: String\n",
        "  var box: Box\n",
        "  var mass: Mass\n",
        "  \n",
        "  var description: String {\n",
        "    return \"(\\(self.name) \\(self.box) \\(self.mass))\"\n",
        "  }\n",
        "}\n",
        "\n",
        "struct Server : CustomStringConvertible, HasBox, HasMass {\n",
        "  var isWorking: Bool\n",
        "  var name: String\n",
        "  let box: Box\n",
        "  let mass: Mass\n",
        "\n",
        "  var description: String {\n",
        "    if isWorking {\n",
        "      return \"(working \\(self.name) \\(self.box) \\(self.mass))\"\n",
        "    } else {\n",
        "      return \"(notWorking \\(self.name) \\(self.box) \\(self.mass))\"\n",
        "    }\n",
        "  }\n",
        "}\n",
        "\n",
        "// =============================================================================\n",
        "// Define the structs we will use for passing into our filtering function\n",
        "struct BoxFilter2<T: HasBox> : FilterPredicate {\n",
        "  var box: Box \n",
        "  \n",
        "  func shouldKeep(item: T) -> Bool {\n",
        "    return item.box == box\n",
        "  }\n",
        "}\n",
        "\n",
        "struct MassFilter2<T: HasMass> : FilterPredicate {\n",
        "  var mass: Mass\n",
        "  \n",
        "  func shouldKeep(item: T) -> Bool {\n",
        "    return item.mass == mass\n",
        "  }\n",
        "}\n",
        "\n",
        "// =============================================================================\n",
        "// Define the new filter function\n",
        "func filterAnything<F: FilterPredicate, T>\n",
        "(\n",
        "  _ array: [T], \n",
        "  by filter: F\n",
        ") -> [T] where T == F.Device {\n",
        "  return array.filter{ filter.shouldKeep(item: $0) }\n",
        "}\n",
        "\n",
        "// =============================================================================\n",
        "// Let's test the function out!\n",
        "let servers: [Server] = [\n",
        "  Server(isWorking: true, name: \"serverA\", box: .small, mass: .heavy),\n",
        "  Server(isWorking: false, name: \"serverB\", box: .medium, mass: .medium),\n",
        "  Server(isWorking: true, name: \"serverC\", box: .large, mass: .light),\n",
        "  Server(isWorking: false, name: \"serverD\", box: .medium, mass: .light),\n",
        "  Server(isWorking: true, name: \"serverE\", box: .small, mass: .heavy)\n",
        "]\n",
        "\n",
        "let products: [Laptop2] = [\n",
        "  Laptop2(name: \"a\", box: .small, mass: .light),\n",
        "  Laptop2(name: \"b\", box: .large, mass: .medium),\n",
        "  Laptop2(name: \"c\", box: .medium, mass: .heavy),\n",
        "  Laptop2(name: \"d\", box: .large, mass: .light)\n",
        "]\n",
        "\n",
        "print(filterAnything(servers, by: BoxFilter2(box: .small)))\n",
        "print(filterAnything(servers, by: MassFilter2(mass: .medium)))\n",
        "\n",
        "print(filterAnything(products, by: BoxFilter2(box: .small)))\n",
        "print(filterAnything(products, by: MassFilter2(mass: .medium)))"
      ],
      "execution_count": 16,
      "outputs": [
        {
          "output_type": "stream",
          "text": [
            "[(working serverA small heavy), (working serverE small heavy)]\r\n",
            "[(notWorking serverB medium medium)]\r\n",
            "[(a small light)]\r\n",
            "[(b large medium)]\r\n"
          ],
          "name": "stdout"
        }
      ]
    },
    {
      "cell_type": "markdown",
      "metadata": {
        "colab_type": "text",
        "id": "-UrRDSaFNCRg"
      },
      "source": [
        "We have now been able to filter an array by not only any property of a specific `struct`, but also be able to filter any struct which has that property!\n",
        "\n",
        "We have been able to use generics in a protocol oriented way to achieve a high level of abstraction."
      ]
    },
    {
      "cell_type": "markdown",
      "metadata": {
        "id": "JUzfsp6hEPR-",
        "colab_type": "text"
      },
      "source": [
        "# Protocols in Swift for TensorFlow\n",
        "\n",
        "Every time you will be creating something with Swift for TensorFlow, you will likely be using a protocol. We will go over a typical protocol you would use when creating a model - the `Layer` protocol. But for the full list of all protocols used in Swift for TensorFlow, refer to the documentation [here](https://www.tensorflow.org/swift/api_docs/Protocols).\n",
        "\n",
        "## Creating a Simple Model Using the `Layer` Protocol\n",
        "This model was taken from our [Model Training Walkthrough](https://colab.research.google.com/github/tensorflow/swift/blob/master/docs/site/tutorials/model_training_walkthrough.ipynb) Colab.\n",
        "\n",
        "As can be seen [here](https://www.tensorflow.org/swift/api_docs/Protocols/Layer), to conform to the `Layer` protocol, we need to define the function `call(_:)` which is the output of our model given some input."
      ]
    },
    {
      "cell_type": "code",
      "metadata": {
        "id": "YEZH8F22IBpO",
        "colab_type": "code",
        "colab": {}
      },
      "source": [
        "import TensorFlow\n",
        "\n",
        "let hiddenSize: Int = 10\n",
        "struct IrisModel: Layer {\n",
        "  var layer1 = Dense<Float>(inputSize: 4, outputSize: hiddenSize, activation: relu)\n",
        "  var layer2 = Dense<Float>(inputSize: hiddenSize, outputSize: hiddenSize, activation: relu)\n",
        "  var layer3 = Dense<Float>(inputSize: hiddenSize, outputSize: 3)\n",
        "\n",
        "  @differentiable\n",
        "  func call(_ input: Tensor<Float>) -> Tensor<Float> {\n",
        "    return input.sequenced(through: layer1, layer2, layer3)\n",
        "  }\n",
        "}"
      ],
      "execution_count": 0,
      "outputs": []
    },
    {
      "cell_type": "markdown",
      "metadata": {
        "id": "vZ1UDltjIZws",
        "colab_type": "text"
      },
      "source": [
        "And just like that we have  model by using the `Layer` protocol!"
      ]
    },
    {
      "cell_type": "markdown",
      "metadata": {
        "id": "UVLumcugImNx",
        "colab_type": "text"
      },
      "source": [
        "# More Protocol Oriented Programming Resources\n",
        "Here's additional resources on the topics discussed:\n",
        "- [WWDC 2015: Protocol-Oriented Programming in Swift](https://developer.apple.com/videos/play/wwdc2015/408/): this was presented using Swift 2, so a lot has changed since then (e.g. name of the protocols they used in the presentation) but is still a good resource for the theory and use behind it.\n",
        "- [Introducing Protocol-Oriented Programming in Swift 3](https://www.raywenderlich.com/814-introducing-protocol-oriented-programming-in-swift-3): again written in Swift 3, so some of the code may need to be modified in order to have it compile successfully, but another great resource.\n",
        "- [Generics](https://docs.swift.org/swift-book/LanguageGuide/Generics.html): Swifts own documentation for Swift 5 all about generics."
      ]
    }
  ]
}